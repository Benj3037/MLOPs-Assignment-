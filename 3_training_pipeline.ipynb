{
 "cells": [
  {
   "cell_type": "markdown",
   "metadata": {},
   "source": [
    "# Training Pipeline"
   ]
  },
  {
   "cell_type": "markdown",
   "metadata": {},
   "source": [
    "## imports"
   ]
  },
  {
   "cell_type": "code",
   "execution_count": 1,
   "metadata": {},
   "outputs": [],
   "source": [
    "!pip install tensorflow --quiet"
   ]
  },
  {
   "cell_type": "code",
   "execution_count": 2,
   "metadata": {},
   "outputs": [
    {
     "name": "stderr",
     "output_type": "stream",
     "text": [
      "2024-04-15 13:15:24.726608: I tensorflow/core/platform/cpu_feature_guard.cc:210] This TensorFlow binary is optimized to use available CPU instructions in performance-critical operations.\n",
      "To enable the following instructions: AVX2 FMA, in other operations, rebuild TensorFlow with the appropriate compiler flags.\n"
     ]
    }
   ],
   "source": [
    "import inspect \n",
    "import datetime\n",
    "\n",
    "import pandas as pd\n",
    "import numpy as np\n",
    "import matplotlib.pyplot as plt\n",
    "import tensorflow as tf\n",
    "\n",
    "#ignore warnings\n",
    "import warnings\n",
    "warnings.filterwarnings('ignore')"
   ]
  },
  {
   "cell_type": "markdown",
   "metadata": {},
   "source": [
    "## Connecting to Hopsworks Feature Store"
   ]
  },
  {
   "cell_type": "code",
   "execution_count": 3,
   "metadata": {},
   "outputs": [
    {
     "name": "stdout",
     "output_type": "stream",
     "text": [
      "Connected. Call `.close()` to terminate connection gracefully.\n"
     ]
    },
    {
     "name": "stderr",
     "output_type": "stream",
     "text": [
      "\n",
      "\n"
     ]
    },
    {
     "name": "stdout",
     "output_type": "stream",
     "text": [
      "\n",
      "Logged in to project, explore it here https://c.app.hopsworks.ai:443/p/550040\n",
      "Connected. Call `.close()` to terminate connection gracefully.\n"
     ]
    }
   ],
   "source": [
    "import hopsworks\n",
    "\n",
    "project = hopsworks.login()\n",
    "\n",
    "fs = project.get_feature_store() "
   ]
  },
  {
   "cell_type": "code",
   "execution_count": 5,
   "metadata": {},
   "outputs": [],
   "source": [
    "# Retrieve feature groups\n",
    "electricity_fg = fs.get_feature_group(\n",
    "    name='electricity_prices',\n",
    "    version=1,\n",
    ")\n",
    "\n",
    "weather_fg = fs.get_feature_group(\n",
    "    name='weather_measurements',\n",
    "    version=1,\n",
    ")\n",
    "\n",
    "danish_holidays_fg = fs.get_feature_group(\n",
    "    name='danish_holidays',\n",
    "    version=1,\n",
    ")"
   ]
  },
  {
   "cell_type": "code",
   "execution_count": 8,
   "metadata": {},
   "outputs": [],
   "source": [
    "# Select features for training data\n",
    "selected_features = electricity_fg.select_all()\\\n",
    "    .join(\n",
    "    weather_fg\\\n",
    "        .select_except([\"timestamp\"])\n",
    "    )\\\n",
    "    .join(\n",
    "        danish_holidays_fg.select_all()\n",
    "    )"
   ]
  },
  {
   "cell_type": "code",
   "execution_count": 19,
   "metadata": {},
   "outputs": [],
   "source": [
    "transformation_functions = {\n",
    "        \"SpotPriceDKK_KWH\": fs.get_transformation_function(name=\"min_max_scaler\"), \n",
    "        \"temperature_2m\": fs.get_transformation_function(name=\"min_max_scaler\"), \n",
    "        \"relative_humidity_2m\": fs.get_transformation_function(name=\"min_max_scaler\"), \n",
    "        \"precipitation\": fs.get_transformation_function(name=\"min_max_scaler\"), \n",
    "        \"rain\": fs.get_transformation_function(name=\"min_max_scaler\"), \n",
    "        \"snowfall\": fs.get_transformation_function(name=\"min_max_scaler\"), \n",
    "        \"weather_code\": fs.get_transformation_function(name=\"min_max_scaler\"), \n",
    "        \"cloud_cover\": fs.get_transformation_function(name=\"min_max_scaler\"), \n",
    "        \"wind_speed_10m\": fs.get_transformation_function(name=\"min_max_scaler\"),\n",
    "        \"wind_gusts_10m\": fs.get_transformation_function(name=\"min_max_scaler\")\n",
    "    }"
   ]
  },
  {
   "cell_type": "code",
   "execution_count": 20,
   "metadata": {},
   "outputs": [
    {
     "ename": "FeatureStoreException",
     "evalue": "Feature name 'SpotPriceDKK_KWH' could not found be found in query.",
     "output_type": "error",
     "traceback": [
      "\u001b[0;31m---------------------------------------------------------------------------\u001b[0m",
      "\u001b[0;31mRestAPIError\u001b[0m                              Traceback (most recent call last)",
      "File \u001b[0;32m/opt/anaconda3/envs/bds-mlops/lib/python3.11/site-packages/hsfs/feature_store.py:1502\u001b[0m, in \u001b[0;36mFeatureStore.get_or_create_feature_view\u001b[0;34m(self, name, query, version, description, labels, transformation_functions)\u001b[0m\n\u001b[1;32m   1501\u001b[0m \u001b[39mtry\u001b[39;00m:\n\u001b[0;32m-> 1502\u001b[0m     \u001b[39mreturn\u001b[39;00m \u001b[39mself\u001b[39;49m\u001b[39m.\u001b[39;49m_feature_view_engine\u001b[39m.\u001b[39;49mget(name, version)\n\u001b[1;32m   1503\u001b[0m \u001b[39mexcept\u001b[39;00m exceptions\u001b[39m.\u001b[39mRestAPIError \u001b[39mas\u001b[39;00m e:\n",
      "File \u001b[0;32m/opt/anaconda3/envs/bds-mlops/lib/python3.11/site-packages/hsfs/core/feature_view_engine.py:96\u001b[0m, in \u001b[0;36mFeatureViewEngine.get\u001b[0;34m(self, name, version)\u001b[0m\n\u001b[1;32m     95\u001b[0m \u001b[39mif\u001b[39;00m version:\n\u001b[0;32m---> 96\u001b[0m     fv \u001b[39m=\u001b[39m \u001b[39mself\u001b[39;49m\u001b[39m.\u001b[39;49m_feature_view_api\u001b[39m.\u001b[39;49mget_by_name_version(name, version)\n\u001b[1;32m     97\u001b[0m     \u001b[39mself\u001b[39m\u001b[39m.\u001b[39mattach_transformation_function(fv)\n",
      "File \u001b[0;32m/opt/anaconda3/envs/bds-mlops/lib/python3.11/site-packages/hsfs/core/feature_view_api.py:113\u001b[0m, in \u001b[0;36mFeatureViewApi.get_by_name_version\u001b[0;34m(self, name, version)\u001b[0m\n\u001b[1;32m    112\u001b[0m \u001b[39melse\u001b[39;00m:\n\u001b[0;32m--> 113\u001b[0m     \u001b[39mraise\u001b[39;00m e\n",
      "File \u001b[0;32m/opt/anaconda3/envs/bds-mlops/lib/python3.11/site-packages/hsfs/core/feature_view_api.py:101\u001b[0m, in \u001b[0;36mFeatureViewApi.get_by_name_version\u001b[0;34m(self, name, version)\u001b[0m\n\u001b[1;32m     99\u001b[0m \u001b[39mtry\u001b[39;00m:\n\u001b[1;32m    100\u001b[0m     \u001b[39mreturn\u001b[39;00m feature_view\u001b[39m.\u001b[39mFeatureView\u001b[39m.\u001b[39mfrom_response_json(\n\u001b[0;32m--> 101\u001b[0m         \u001b[39mself\u001b[39;49m\u001b[39m.\u001b[39;49m_client\u001b[39m.\u001b[39;49m_send_request(\n\u001b[1;32m    102\u001b[0m             \u001b[39mself\u001b[39;49m\u001b[39m.\u001b[39;49m_GET, path, {\u001b[39m\"\u001b[39;49m\u001b[39mexpand\u001b[39;49m\u001b[39m\"\u001b[39;49m: [\u001b[39m\"\u001b[39;49m\u001b[39mquery\u001b[39;49m\u001b[39m\"\u001b[39;49m, \u001b[39m\"\u001b[39;49m\u001b[39mfeatures\u001b[39;49m\u001b[39m\"\u001b[39;49m]}\n\u001b[1;32m    103\u001b[0m         )\n\u001b[1;32m    104\u001b[0m     )\n\u001b[1;32m    105\u001b[0m \u001b[39mexcept\u001b[39;00m RestAPIError \u001b[39mas\u001b[39;00m e:\n",
      "File \u001b[0;32m/opt/anaconda3/envs/bds-mlops/lib/python3.11/site-packages/hsfs/decorators.py:35\u001b[0m, in \u001b[0;36mconnected.<locals>.if_connected\u001b[0;34m(inst, *args, **kwargs)\u001b[0m\n\u001b[1;32m     34\u001b[0m     \u001b[39mraise\u001b[39;00m NoHopsworksConnectionError\n\u001b[0;32m---> 35\u001b[0m \u001b[39mreturn\u001b[39;00m fn(inst, \u001b[39m*\u001b[39;49margs, \u001b[39m*\u001b[39;49m\u001b[39m*\u001b[39;49mkwargs)\n",
      "File \u001b[0;32m/opt/anaconda3/envs/bds-mlops/lib/python3.11/site-packages/hsfs/client/base.py:179\u001b[0m, in \u001b[0;36mClient._send_request\u001b[0;34m(self, method, path_params, query_params, headers, data, stream, files)\u001b[0m\n\u001b[1;32m    178\u001b[0m \u001b[39mif\u001b[39;00m response\u001b[39m.\u001b[39mstatus_code \u001b[39m/\u001b[39m\u001b[39m/\u001b[39m \u001b[39m100\u001b[39m \u001b[39m!=\u001b[39m \u001b[39m2\u001b[39m:\n\u001b[0;32m--> 179\u001b[0m     \u001b[39mraise\u001b[39;00m exceptions\u001b[39m.\u001b[39mRestAPIError(url, response)\n\u001b[1;32m    181\u001b[0m \u001b[39mif\u001b[39;00m stream:\n",
      "\u001b[0;31mRestAPIError\u001b[0m: Metadata operation error: (url: https://c.app.hopsworks.ai/hopsworks-api/api/project/550040/featurestores/545863/featureview/electricity_feature_view/version/1). Server response: \nHTTP code: 404, HTTP reason: Not Found, body: b'{\"errorCode\":270181,\"usrMsg\":\"There exists no feature view with the name electricity_feature_view and version 1.\",\"errorMsg\":\"Feature view wasn\\'t found.\"}', error code: 270181, error msg: Feature view wasn't found., user msg: There exists no feature view with the name electricity_feature_view and version 1.",
      "\nDuring handling of the above exception, another exception occurred:\n",
      "\u001b[0;31mFeatureStoreException\u001b[0m                     Traceback (most recent call last)",
      "\u001b[1;32m/Users/camillahannesbo/Documents/AAU/Master - BDS/2. semester/Data Engineering and Machine learning operations in Business/MLOPs-Assignment-/3_training_pipeline.ipynb Cell 10\u001b[0m line \u001b[0;36m1\n\u001b[0;32m----> <a href='vscode-notebook-cell:/Users/camillahannesbo/Documents/AAU/Master%20-%20BDS/2.%20semester/Data%20Engineering%20and%20Machine%20learning%20operations%20in%20Business/MLOPs-Assignment-/3_training_pipeline.ipynb#X22sZmlsZQ%3D%3D?line=0'>1</a>\u001b[0m feature_view \u001b[39m=\u001b[39m fs\u001b[39m.\u001b[39;49mget_or_create_feature_view(\n\u001b[1;32m      <a href='vscode-notebook-cell:/Users/camillahannesbo/Documents/AAU/Master%20-%20BDS/2.%20semester/Data%20Engineering%20and%20Machine%20learning%20operations%20in%20Business/MLOPs-Assignment-/3_training_pipeline.ipynb#X22sZmlsZQ%3D%3D?line=1'>2</a>\u001b[0m     name\u001b[39m=\u001b[39;49m\u001b[39m'\u001b[39;49m\u001b[39melectricity_feature_view\u001b[39;49m\u001b[39m'\u001b[39;49m,\n\u001b[1;32m      <a href='vscode-notebook-cell:/Users/camillahannesbo/Documents/AAU/Master%20-%20BDS/2.%20semester/Data%20Engineering%20and%20Machine%20learning%20operations%20in%20Business/MLOPs-Assignment-/3_training_pipeline.ipynb#X22sZmlsZQ%3D%3D?line=2'>3</a>\u001b[0m     version\u001b[39m=\u001b[39;49m\u001b[39m1\u001b[39;49m,\n\u001b[1;32m      <a href='vscode-notebook-cell:/Users/camillahannesbo/Documents/AAU/Master%20-%20BDS/2.%20semester/Data%20Engineering%20and%20Machine%20learning%20operations%20in%20Business/MLOPs-Assignment-/3_training_pipeline.ipynb#X22sZmlsZQ%3D%3D?line=3'>4</a>\u001b[0m     labels\u001b[39m=\u001b[39;49m[], \u001b[39m# you will define our 'y' later manualy\u001b[39;49;00m\n\u001b[1;32m      <a href='vscode-notebook-cell:/Users/camillahannesbo/Documents/AAU/Master%20-%20BDS/2.%20semester/Data%20Engineering%20and%20Machine%20learning%20operations%20in%20Business/MLOPs-Assignment-/3_training_pipeline.ipynb#X22sZmlsZQ%3D%3D?line=4'>5</a>\u001b[0m     transformation_functions\u001b[39m=\u001b[39;49mtransformation_functions,\n\u001b[1;32m      <a href='vscode-notebook-cell:/Users/camillahannesbo/Documents/AAU/Master%20-%20BDS/2.%20semester/Data%20Engineering%20and%20Machine%20learning%20operations%20in%20Business/MLOPs-Assignment-/3_training_pipeline.ipynb#X22sZmlsZQ%3D%3D?line=5'>6</a>\u001b[0m     query\u001b[39m=\u001b[39;49mselected_features,\n\u001b[1;32m      <a href='vscode-notebook-cell:/Users/camillahannesbo/Documents/AAU/Master%20-%20BDS/2.%20semester/Data%20Engineering%20and%20Machine%20learning%20operations%20in%20Business/MLOPs-Assignment-/3_training_pipeline.ipynb#X22sZmlsZQ%3D%3D?line=6'>7</a>\u001b[0m )\n",
      "File \u001b[0;32m/opt/anaconda3/envs/bds-mlops/lib/python3.11/site-packages/hsfs/feature_store.py:1508\u001b[0m, in \u001b[0;36mFeatureStore.get_or_create_feature_view\u001b[0;34m(self, name, query, version, description, labels, transformation_functions)\u001b[0m\n\u001b[1;32m   1503\u001b[0m \u001b[39mexcept\u001b[39;00m exceptions\u001b[39m.\u001b[39mRestAPIError \u001b[39mas\u001b[39;00m e:\n\u001b[1;32m   1504\u001b[0m     \u001b[39mif\u001b[39;00m (\n\u001b[1;32m   1505\u001b[0m         e\u001b[39m.\u001b[39mresponse\u001b[39m.\u001b[39mjson()\u001b[39m.\u001b[39mget(\u001b[39m\"\u001b[39m\u001b[39merrorCode\u001b[39m\u001b[39m\"\u001b[39m, \u001b[39m\"\u001b[39m\u001b[39m\"\u001b[39m) \u001b[39m==\u001b[39m \u001b[39m270181\u001b[39m\n\u001b[1;32m   1506\u001b[0m         \u001b[39mand\u001b[39;00m e\u001b[39m.\u001b[39mresponse\u001b[39m.\u001b[39mstatus_code \u001b[39m==\u001b[39m \u001b[39m404\u001b[39m\n\u001b[1;32m   1507\u001b[0m     ):\n\u001b[0;32m-> 1508\u001b[0m         \u001b[39mreturn\u001b[39;00m \u001b[39mself\u001b[39;49m\u001b[39m.\u001b[39;49mcreate_feature_view(\n\u001b[1;32m   1509\u001b[0m             name\u001b[39m=\u001b[39;49mname,\n\u001b[1;32m   1510\u001b[0m             query\u001b[39m=\u001b[39;49mquery,\n\u001b[1;32m   1511\u001b[0m             version\u001b[39m=\u001b[39;49mversion,\n\u001b[1;32m   1512\u001b[0m             description\u001b[39m=\u001b[39;49mdescription,\n\u001b[1;32m   1513\u001b[0m             labels\u001b[39m=\u001b[39;49mlabels,\n\u001b[1;32m   1514\u001b[0m             transformation_functions\u001b[39m=\u001b[39;49mtransformation_functions,\n\u001b[1;32m   1515\u001b[0m         )\n\u001b[1;32m   1516\u001b[0m     \u001b[39melse\u001b[39;00m:\n\u001b[1;32m   1517\u001b[0m         \u001b[39mraise\u001b[39;00m e\n",
      "File \u001b[0;32m/opt/anaconda3/envs/bds-mlops/lib/python3.11/site-packages/hsfs/feature_store.py:1454\u001b[0m, in \u001b[0;36mFeatureStore.create_feature_view\u001b[0;34m(self, name, query, version, description, labels, transformation_functions)\u001b[0m\n\u001b[1;32m   1372\u001b[0m \u001b[39m\u001b[39m\u001b[39m\"\"\"Create a feature view metadata object and saved it to hopsworks.\u001b[39;00m\n\u001b[1;32m   1373\u001b[0m \n\u001b[1;32m   1374\u001b[0m \u001b[39m!!! example\u001b[39;00m\n\u001b[0;32m   (...)\u001b[0m\n\u001b[1;32m   1443\u001b[0m \u001b[39m    `FeatureView`: The feature view metadata object.\u001b[39;00m\n\u001b[1;32m   1444\u001b[0m \u001b[39m\"\"\"\u001b[39;00m\n\u001b[1;32m   1445\u001b[0m feat_view \u001b[39m=\u001b[39m feature_view\u001b[39m.\u001b[39mFeatureView(\n\u001b[1;32m   1446\u001b[0m     name\u001b[39m=\u001b[39mname,\n\u001b[1;32m   1447\u001b[0m     query\u001b[39m=\u001b[39mquery,\n\u001b[0;32m   (...)\u001b[0m\n\u001b[1;32m   1452\u001b[0m     transformation_functions\u001b[39m=\u001b[39mtransformation_functions,\n\u001b[1;32m   1453\u001b[0m )\n\u001b[0;32m-> 1454\u001b[0m \u001b[39mreturn\u001b[39;00m \u001b[39mself\u001b[39;49m\u001b[39m.\u001b[39;49m_feature_view_engine\u001b[39m.\u001b[39;49msave(feat_view)\n",
      "File \u001b[0;32m/opt/anaconda3/envs/bds-mlops/lib/python3.11/site-packages/hsfs/core/feature_view_engine.py:81\u001b[0m, in \u001b[0;36mFeatureViewEngine.save\u001b[0;34m(self, feature_view_obj)\u001b[0m\n\u001b[1;32m     69\u001b[0m         (\n\u001b[1;32m     70\u001b[0m             feature,\n\u001b[1;32m     71\u001b[0m             prefix,\n\u001b[1;32m     72\u001b[0m             featuregroup,\n\u001b[1;32m     73\u001b[0m         ) \u001b[39m=\u001b[39m feature_view_obj\u001b[39m.\u001b[39mquery\u001b[39m.\u001b[39m_get_feature_by_name(label_name)\n\u001b[1;32m     74\u001b[0m         feature_view_obj\u001b[39m.\u001b[39m_features\u001b[39m.\u001b[39mappend(\n\u001b[1;32m     75\u001b[0m             training_dataset_feature\u001b[39m.\u001b[39mTrainingDatasetFeature(\n\u001b[1;32m     76\u001b[0m                 name\u001b[39m=\u001b[39mfeature\u001b[39m.\u001b[39mname,\n\u001b[0;32m   (...)\u001b[0m\n\u001b[1;32m     79\u001b[0m             )\n\u001b[1;32m     80\u001b[0m         )\n\u001b[0;32m---> 81\u001b[0m \u001b[39mself\u001b[39;49m\u001b[39m.\u001b[39;49m_transformation_function_engine\u001b[39m.\u001b[39;49mattach_transformation_fn(feature_view_obj)\n\u001b[1;32m     82\u001b[0m updated_fv \u001b[39m=\u001b[39m \u001b[39mself\u001b[39m\u001b[39m.\u001b[39m_feature_view_api\u001b[39m.\u001b[39mpost(feature_view_obj)\n\u001b[1;32m     83\u001b[0m \u001b[39mself\u001b[39m\u001b[39m.\u001b[39mattach_transformation_function(updated_fv)\n",
      "File \u001b[0;32m/opt/anaconda3/envs/bds-mlops/lib/python3.11/site-packages/hsfs/core/transformation_function_engine.py:113\u001b[0m, in \u001b[0;36mTransformationFunctionEngine.attach_transformation_fn\u001b[0;34m(training_dataset_obj, feature_view_obj)\u001b[0m\n\u001b[1;32m    108\u001b[0m \u001b[39mif\u001b[39;00m feature_name \u001b[39min\u001b[39;00m target_obj\u001b[39m.\u001b[39mlabels:  \u001b[39m# todo td does not have labels\u001b[39;00m\n\u001b[1;32m    109\u001b[0m     \u001b[39mraise\u001b[39;00m \u001b[39mValueError\u001b[39;00m(\n\u001b[1;32m    110\u001b[0m         \u001b[39m\"\u001b[39m\u001b[39mOnline transformations for training dataset labels are not supported.\u001b[39m\u001b[39m\"\u001b[39m\n\u001b[1;32m    111\u001b[0m     )\n\u001b[0;32m--> 113\u001b[0m feature, prefix, featuregroup \u001b[39m=\u001b[39m target_obj\u001b[39m.\u001b[39;49mquery\u001b[39m.\u001b[39;49m_get_feature_by_name(\n\u001b[1;32m    114\u001b[0m     feature_name\n\u001b[1;32m    115\u001b[0m )\n\u001b[1;32m    116\u001b[0m target_obj\u001b[39m.\u001b[39m_features\u001b[39m.\u001b[39mappend(\n\u001b[1;32m    117\u001b[0m     training_dataset_feature\u001b[39m.\u001b[39mTrainingDatasetFeature(\n\u001b[1;32m    118\u001b[0m         name\u001b[39m=\u001b[39mfeature_name,\n\u001b[0;32m   (...)\u001b[0m\n\u001b[1;32m    124\u001b[0m     )\n\u001b[1;32m    125\u001b[0m )\n",
      "File \u001b[0;32m/opt/anaconda3/envs/bds-mlops/lib/python3.11/site-packages/hsfs/constructor/query.py:627\u001b[0m, in \u001b[0;36mQuery._get_feature_by_name\u001b[0;34m(self, feature_name)\u001b[0m\n\u001b[1;32m    622\u001b[0m             query_features[name_with_prefix] \u001b[39m=\u001b[39m query_features\u001b[39m.\u001b[39mget(\n\u001b[1;32m    623\u001b[0m                 name_with_prefix, []\n\u001b[1;32m    624\u001b[0m             ) \u001b[39m+\u001b[39m [feature_entry]\n\u001b[1;32m    626\u001b[0m \u001b[39mif\u001b[39;00m feature_name \u001b[39mnot\u001b[39;00m \u001b[39min\u001b[39;00m query_features:\n\u001b[0;32m--> 627\u001b[0m     \u001b[39mraise\u001b[39;00m FeatureStoreException(\n\u001b[1;32m    628\u001b[0m         Query\u001b[39m.\u001b[39mERROR_MESSAGE_FEATURE_NOT_FOUND\u001b[39m.\u001b[39mformat(feature_name)\n\u001b[1;32m    629\u001b[0m     )\n\u001b[1;32m    631\u001b[0m \u001b[39m# return (feature, prefix, fg) tuple, if only one match was found\u001b[39;00m\n\u001b[1;32m    632\u001b[0m feats \u001b[39m=\u001b[39m query_features[feature_name]\n",
      "\u001b[0;31mFeatureStoreException\u001b[0m: Feature name 'SpotPriceDKK_KWH' could not found be found in query."
     ]
    }
   ],
   "source": [
    "feature_view = fs.get_or_create_feature_view(\n",
    "    name='electricity_feature_view',\n",
    "    version=1,\n",
    "    labels=[], # you will define our 'y' later manualy\n",
    "    transformation_functions=transformation_functions,\n",
    "    query=selected_features,\n",
    ")"
   ]
  },
  {
   "cell_type": "code",
   "execution_count": null,
   "metadata": {},
   "outputs": [],
   "source": []
  }
 ],
 "metadata": {
  "kernelspec": {
   "display_name": "bds-mlops",
   "language": "python",
   "name": "python3"
  },
  "language_info": {
   "codemirror_mode": {
    "name": "ipython",
    "version": 3
   },
   "file_extension": ".py",
   "mimetype": "text/x-python",
   "name": "python",
   "nbconvert_exporter": "python",
   "pygments_lexer": "ipython3",
   "version": "3.11.8"
  },
  "orig_nbformat": 4
 },
 "nbformat": 4,
 "nbformat_minor": 2
}
