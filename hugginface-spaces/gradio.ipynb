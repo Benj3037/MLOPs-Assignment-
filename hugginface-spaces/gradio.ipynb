{
 "cells": [
  {
   "cell_type": "code",
   "execution_count": 3,
   "metadata": {},
   "outputs": [],
   "source": [
    "import gradio as gr\n",
    "import pandas as pd\n",
    "from pandas.tseries.holiday import USFederalHolidayCalendar as calendar\n",
    "\n",
    "import hopsworks\n",
    "import joblib\n",
    "import datetime\n",
    "import os\n",
    "import requests\n",
    "\n"
   ]
  },
  {
   "cell_type": "code",
   "execution_count": 13,
   "metadata": {},
   "outputs": [
    {
     "name": "stdout",
     "output_type": "stream",
     "text": [
      "c:\\Users\\Benj3\\OneDrive\\Dokumenter\\VSCode\n",
      "[WinError 2] Den angivne fil blev ikke fundet: 'notebooks'\n",
      "c:\\Users\\Benj3\\OneDrive\\Dokumenter\\VSCode\n"
     ]
    },
    {
     "name": "stderr",
     "output_type": "stream",
     "text": [
      "UserWarning: This is now an optional IPython functionality, setting dhist requires you to install the `pickleshare` library.\n",
      "UserWarning: This is now an optional IPython functionality, using bookmarks requires you to install the `pickleshare` library.\n"
     ]
    }
   ],
   "source": [
    "%cd ..\n",
    "from features.weather_measures import historical_weather_measures\n",
    "%cd notebooks"
   ]
  },
  {
   "cell_type": "code",
   "execution_count": 2,
   "metadata": {},
   "outputs": [
    {
     "name": "stdout",
     "output_type": "stream",
     "text": [
      "Connected. Call `.close()` to terminate connection gracefully.\n",
      "\n",
      "Logged in to project, explore it here https://c.app.hopsworks.ai:443/p/556180\n",
      "Connected. Call `.close()` to terminate connection gracefully.\n",
      "Connected. Call `.close()` to terminate connection gracefully.\n",
      "Downloading model artifact (0 dirs, 3 files)... DONE\r"
     ]
    }
   ],
   "source": [
    "project = hopsworks.login()\n",
    "fs = project.get_feature_store()\n",
    "\n",
    "mr = project.get_model_registry()\n",
    "model = mr.get_model(\"electricity_price_prediction_model\", version=1)\n",
    "model_dir = model.download()\n",
    "model = joblib.load(model_dir + \"/dk_electricity_model.pkl\")"
   ]
  },
  {
   "cell_type": "code",
   "execution_count": 4,
   "metadata": {},
   "outputs": [],
   "source": [
    "def predict():\n",
    "    today = get_date()\n",
    "    temp = get_temp(today)\n",
    "    df = pd.DataFrame({\"date\": [today], \"temperature_2m\": [temp]})\n",
    "    df['date'] = pd.to_datetime(df['date'], infer_datetime_format=True)\n",
    "    df['day'] = df['date'].dt.dayofweek\n",
    "    df['month'] = df['date'].dt.month\n",
    "    holidays = calendar().holidays(start=df['date'].min(), end=df['date'].max())\n",
    "    df['holiday'] = df['date'].isin(holidays).astype(int)\n",
    "\n",
    "    demand = model.predict(df.drop(columns=['date']))[0]\n",
    "    return [today, temp, demand]\n"
   ]
  },
  {
   "cell_type": "code",
   "execution_count": 5,
   "metadata": {},
   "outputs": [],
   "source": [
    "def get_date():\n",
    "    today = datetime.datetime.today()\n",
    "    return today.date()"
   ]
  },
  {
   "cell_type": "code",
   "execution_count": 16,
   "metadata": {},
   "outputs": [],
   "source": [
    "def get_temp(date):\n",
    "    historical_weather_measures\n",
    "    return historical_weather_measures(date)['temperature_2m'].values[0]"
   ]
  },
  {
   "cell_type": "code",
   "execution_count": 17,
   "metadata": {},
   "outputs": [
    {
     "name": "stderr",
     "output_type": "stream",
     "text": [
      "DeprecationWarning: \n",
      "        on_event is deprecated, use lifespan event handlers instead.\n",
      "\n",
      "        Read more about it in the\n",
      "        [FastAPI docs for Lifespan Events](https://fastapi.tiangolo.com/advanced/events/).\n",
      "        \n",
      "DeprecationWarning: \n",
      "        on_event is deprecated, use lifespan event handlers instead.\n",
      "\n",
      "        Read more about it in the\n",
      "        [FastAPI docs for Lifespan Events](https://fastapi.tiangolo.com/advanced/events/).\n",
      "        \n"
     ]
    }
   ],
   "source": [
    "demo = gr.Interface(\n",
    "    fn = predict,\n",
    "    title = \"DK1 Electricity Price Prediction\",\n",
    "    description =\"Daily DK1 electricity proce prediction, based on current date (day, holiday, ...) and (forecast) temperature average.\",\n",
    "    allow_flagging = \"never\",\n",
    "    inputs = [],\n",
    "    outputs = [\n",
    "        gr.Textbox(label=\"Date\"),\n",
    "        gr.Textbox(label=\"Temperature forecast [℃]\"),\n",
    "        gr.Textbox(label=\"Predicted demand [MWh]\"),\n",
    "    ]\n",
    ")"
   ]
  }
 ],
 "metadata": {
  "kernelspec": {
   "display_name": "energy",
   "language": "python",
   "name": "python3"
  },
  "language_info": {
   "codemirror_mode": {
    "name": "ipython",
    "version": 3
   },
   "file_extension": ".py",
   "mimetype": "text/x-python",
   "name": "python",
   "nbconvert_exporter": "python",
   "pygments_lexer": "ipython3",
   "version": "3.11.9"
  }
 },
 "nbformat": 4,
 "nbformat_minor": 2
}
