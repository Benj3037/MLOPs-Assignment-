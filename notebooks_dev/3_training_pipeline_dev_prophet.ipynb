{
 "cells": [
  {
   "cell_type": "markdown",
   "metadata": {},
   "source": [
    "# <span style=\"font-width:bold; font-size: 3rem; color:#2656a3;\">**Data Engineering and Machine Learning Operations in Business** </span> <span style=\"font-width:bold; font-size: 3rem; color:#333;\">- Part 03: Training Pipeline</span>"
   ]
  },
  {
   "cell_type": "markdown",
   "metadata": {},
   "source": [
    "## 🗒️ This notebook is divided into the following sections:\n",
    "1. Feature selection.\n",
    "2. Feature transformations.\n",
    "3. Training datasets creation.\n",
    "4. Loading the training data.\n",
    "5. Train the model.\n",
    "6. Register model to Hopsworks model registry."
   ]
  },
  {
   "cell_type": "markdown",
   "metadata": {},
   "source": [
    "## <span style='color:#2656a3'> ⚙️ Import of libraries and packages"
   ]
  },
  {
   "cell_type": "code",
   "execution_count": 1,
   "metadata": {},
   "outputs": [],
   "source": [
    "!pip install tensorflow --quiet"
   ]
  },
  {
   "cell_type": "code",
   "execution_count": 2,
   "metadata": {},
   "outputs": [],
   "source": [
    "# Importing the packages for the needed libraries for the Jupyter notebook\n",
    "import inspect \n",
    "import datetime\n",
    "\n",
    "import pandas as pd\n",
    "import numpy as np\n",
    "import matplotlib.pyplot as plt\n",
    "import tensorflow as tf\n",
    "\n",
    "#ignore warnings\n",
    "import warnings\n",
    "warnings.filterwarnings('ignore')"
   ]
  },
  {
   "cell_type": "markdown",
   "metadata": {},
   "source": [
    "## <span style=\"color:#2656a3;\"> 📡 Connecting to Hopsworks Feature Store"
   ]
  },
  {
   "cell_type": "code",
   "execution_count": 3,
   "metadata": {},
   "outputs": [
    {
     "name": "stdout",
     "output_type": "stream",
     "text": [
      "Connected. Call `.close()` to terminate connection gracefully.\n",
      "\n",
      "Logged in to project, explore it here https://c.app.hopsworks.ai:443/p/556180\n",
      "Connected. Call `.close()` to terminate connection gracefully.\n"
     ]
    }
   ],
   "source": [
    "# Importing the hopsworks module\n",
    "import hopsworks\n",
    "\n",
    "# Logging in to the Hopsworks project\n",
    "project = hopsworks.login()\n",
    "\n",
    "# Getting the feature store from the project\n",
    "fs = project.get_feature_store() "
   ]
  },
  {
   "cell_type": "code",
   "execution_count": 4,
   "metadata": {},
   "outputs": [],
   "source": [
    "# Retrieve the feature groups\n",
    "electricity_fg = fs.get_feature_group(\n",
    "    name='electricity_prices',\n",
    "    version=1,\n",
    ")\n",
    "\n",
    "weather_fg = fs.get_feature_group(\n",
    "    name='weather_measurements',\n",
    "    version=1,\n",
    ")\n",
    "\n",
    "danish_holidays_fg = fs.get_feature_group(\n",
    "    name='danish_holidayss',\n",
    "    version=1,\n",
    ")\n",
    "forecast_renewable_energy_fg = fs.get_feature_group(\n",
    "    name='forecast_renewable_energy',\n",
    "    version=1\n",
    ")"
   ]
  },
  {
   "cell_type": "markdown",
   "metadata": {},
   "source": [
    "## <span style=\"color:#2656a3;\"> 🖍 Feature View Creation and Retrieving </span>\n",
    "\n",
    "We first select the features that we want to include for model training.\n",
    "\n",
    "Since we specified `primary_key`as `date` and `event_time` as `timestamp` in part 01 we can now join them together for the `electricity_fg`, `weather_fg` and `forecast_renewable_energy_fg`."
   ]
  },
  {
   "cell_type": "markdown",
   "metadata": {},
   "source": [
    "hmmm skal 'time' egentlig være 'date'???"
   ]
  },
  {
   "cell_type": "code",
   "execution_count": 5,
   "metadata": {},
   "outputs": [],
   "source": [
    "# Select features for training data\n",
    "selected_features = electricity_fg.select_all()\\\n",
    "    .join(weather_fg.select_except([\"timestamp\", \"time\"]))\\\n",
    "    .join(forecast_renewable_energy_fg.select_except([\"timestamp\", \"time\"]))\\\n",
    "    .join(danish_holidays_fg.select_all())"
   ]
  },
  {
   "cell_type": "code",
   "execution_count": 6,
   "metadata": {},
   "outputs": [],
   "source": [
    "# Uncomment this if you would like to view your selected features\n",
    "# selected_features.show(5)"
   ]
  },
  {
   "cell_type": "markdown",
   "metadata": {},
   "source": [
    "### <span style=\"color:#2656a3;\"> 🤖 Transformation Functions</span>\n",
    "\n",
    "We preprocess our data using *min-max scaling* on the numerical features and *label encoding* on the one categorical feature we have.\n",
    "To achieve this, we create a mapping between our features and transformation functions. This ensures that transformation functions like min-max scaling are applied exclusively on the training data, preventing any data leakage into the validation or test sets.\n",
    "\n",
    "To achieve this, we create a mapping between our features and transformation functions - ved ikke om man kan sige det her?"
   ]
  },
  {
   "cell_type": "code",
   "execution_count": 7,
   "metadata": {},
   "outputs": [],
   "source": [
    "# Defining transformation functions for feature scaling and encoding\n",
    "transformation_functions = {\n",
    "        \"dk1_spotpricedkk_kwh\": fs.get_transformation_function(name=\"min_max_scaler\"), \n",
    "        \"dk1_offshore_wind_forecastintraday_kwh\": fs.get_transformation_function(name=\"min_max_scaler\"), \n",
    "        \"dk1_onshore_wind_forecastintraday_kwh\": fs.get_transformation_function(name=\"min_max_scaler\"), \n",
    "        \"dk1_solar_forecastintraday_kwh\": fs.get_transformation_function(name=\"min_max_scaler\"), \n",
    "        \"temperature_2m\": fs.get_transformation_function(name=\"min_max_scaler\"), \n",
    "        \"relative_humidity_2m\": fs.get_transformation_function(name=\"min_max_scaler\"), \n",
    "        \"precipitation\": fs.get_transformation_function(name=\"min_max_scaler\"), \n",
    "        \"rain\": fs.get_transformation_function(name=\"min_max_scaler\"), \n",
    "        \"snowfall\": fs.get_transformation_function(name=\"min_max_scaler\"), \n",
    "        \"weather_code\": fs.get_transformation_function(name=\"min_max_scaler\"), \n",
    "        \"cloud_cover\": fs.get_transformation_function(name=\"min_max_scaler\"), \n",
    "        \"wind_speed_10m\": fs.get_transformation_function(name=\"min_max_scaler\"),\n",
    "        \"wind_gusts_10m\": fs.get_transformation_function(name=\"min_max_scaler\"),\n",
    "        \"type\": fs.get_transformation_function(name=\"label_encoder\"),\n",
    "    }"
   ]
  },
  {
   "cell_type": "markdown",
   "metadata": {},
   "source": [
    "`Feature Views` stands between **Feature Groups** and **Training Dataset**. Сombining **Feature Groups** we can create **Feature Views** which store a metadata of our data. Having **Feature Views** we can create **Training Dataset**.\n",
    "\n",
    "The Feature Views allows schema in form of a query with filters, define a model target feature/label and additional transformation functions.\n",
    "\n",
    "In order to create Feature View we can use `FeatureStore.get_or_create_feature_view()` method.\n",
    "\n",
    "We can specify next parameters:\n",
    "\n",
    "- `name` - name of a feature group.\n",
    "\n",
    "- `version` - version of a feature group.\n",
    "\n",
    "- `labels`- our target variable.\n",
    "\n",
    "- `transformation_functions` - functions to transform our features.\n",
    "\n",
    "- `query` - query object with data."
   ]
  },
  {
   "cell_type": "markdown",
   "metadata": {},
   "source": [
    "ved ikke om den her omformulering af botten går an?"
   ]
  },
  {
   "cell_type": "markdown",
   "metadata": {},
   "source": [
    "`Feature Views` serve as an intermediary between **Feature Groups** and the **Training Dataset**. By combining various **Feature Groups**, we can construct **Feature Views**, which retain metadata about our data. Utilizing **Feature Views**, we can subsequently generate a **Training Dataset**.\n",
    "\n",
    "Feature Views facilitate the definition of schema through queries with filters, identification of the model's target feature or label, and application of additional transformation functions.\n",
    "\n",
    "To create a Feature View, we employ the `FeatureStore.get_or_create_feature_view()` method, where we specify the following parameters:\n",
    "\n",
    "- `name`: The name of the feature group.\n",
    "\n",
    "- `version`: The version of the feature group.\n",
    "\n",
    "- `labels`: Our target variable.\n",
    "\n",
    "- `transformation_functions`: Functions to transform our features.\n",
    "\n",
    "- `query`: A query object containing the relevant data."
   ]
  },
  {
   "cell_type": "code",
   "execution_count": 8,
   "metadata": {},
   "outputs": [],
   "source": [
    "# Getting or creating a feature view named 'electricity_feature_view'\n",
    "version = 1 # Defining the version for the feature view\n",
    "feature_view = fs.get_or_create_feature_view(\n",
    "    name='electricity_feature_view',\n",
    "    version=version,\n",
    "    labels=[], # Labels will be defined manually later for our 'y'\n",
    "    transformation_functions=transformation_functions,\n",
    "    query=selected_features,\n",
    ")"
   ]
  },
  {
   "cell_type": "markdown",
   "metadata": {},
   "source": [
    "## <span style=\"color:#2656a3;\"> 🏋️ Training Dataset Creation</span>\n",
    "\n",
    "In Hopsworks training data is a query where the projection (set of features) is determined by the parent FeatureView with an optional snapshot on disk of the data returned by the query.\n",
    "\n",
    "**Training Dataset  may contain splits such as:** \n",
    "* Training set - the subset of training data used to train a model.\n",
    "* Validation set - the subset of training data used to evaluate hparams when training a model\n",
    "* Test set - the holdout subset of training data used to evaluate a mode\n",
    "\n",
    "Training dataset is created using `fs.create_training_dataset()` method.\n",
    "\n",
    "**From feature view APIs you can also create training datasts based on even time filters specifing `start_time` and `end_time`** "
   ]
  },
  {
   "cell_type": "markdown",
   "metadata": {},
   "source": [
    "### <span style=\"color:#2656a3;\"> ⛳️ Dataset with train, test and validation splits</span>"
   ]
  },
  {
   "cell_type": "code",
   "execution_count": 9,
   "metadata": {},
   "outputs": [
    {
     "name": "stdout",
     "output_type": "stream",
     "text": [
      "Finished: Reading data from Hopsworks, using ArrowFlight (199.29s) \n"
     ]
    },
    {
     "name": "stderr",
     "output_type": "stream",
     "text": [
      "VersionWarning: Incremented version to `19`.\n"
     ]
    }
   ],
   "source": [
    "# Splitting the feature view data into train, validation, and test sets\n",
    "# We didn't specify 'labels' in feature view creation, it will therefore return 'None' for Y\n",
    "X_train, X_val, X_test, _, _, _ = feature_view.train_validation_test_split(\n",
    "    train_start=\"2022-01-01\",\n",
    "    train_end=\"2023-06-30\",\n",
    "    validation_start=\"2023-07-01\",\n",
    "    validation_end=\"2023-09-30\",\n",
    "    test_start=\"2023-10-01\",\n",
    "    test_end=\"2023-12-31\",\n",
    "    description='Electricity price prediction dataset',\n",
    ")"
   ]
  },
  {
   "cell_type": "code",
   "execution_count": 10,
   "metadata": {},
   "outputs": [],
   "source": [
    "# Sorting the training, validation, and test datasets based on the 'timestamp' column\n",
    "X_train.sort_values([\"timestamp\"], inplace=True)\n",
    "X_val.sort_values([\"timestamp\"], inplace=True)\n",
    "X_test.sort_values([\"timestamp\"], inplace=True)"
   ]
  },
  {
   "cell_type": "code",
   "execution_count": 11,
   "metadata": {},
   "outputs": [],
   "source": [
    "# Extracting the target variable 'dk1_spotpricedkk_kwh' and defineing 'y_train', 'y_val' and 'y_test' \n",
    "y_train = X_train[[\"dk1_spotpricedkk_kwh\"]]\n",
    "y_val = X_val[[\"dk1_spotpricedkk_kwh\"]]\n",
    "y_test = X_test[[\"dk1_spotpricedkk_kwh\"]]"
   ]
  },
  {
   "cell_type": "code",
   "execution_count": null,
   "metadata": {},
   "outputs": [],
   "source": [
    "# # Dropping the 'date', 'time' and 'timestamp' columns from the training, validation, and test datasets\n",
    "# X_train.drop([\"date\", \"time\", \"timestamp\"], axis=1, inplace=True)\n",
    "# X_val.drop([\"date\", \"time\", \"timestamp\"], axis=1, inplace=True)\n",
    "# X_test.drop([\"date\", \"time\", \"timestamp\"], axis=1, inplace=True)"
   ]
  },
  {
   "cell_type": "code",
   "execution_count": null,
   "metadata": {},
   "outputs": [],
   "source": [
    "# # Dropping the 'dare', 'time' and 'timestamp' and dependent variable (y) columns from the training, validation, and test datasets\n",
    "# X_train.drop([\"dk1_spotpricedkk_kwh\"], axis=1, inplace=True)\n",
    "# X_val.drop([\"dk1_spotpricedkk_kwh\"], axis=1, inplace=True)\n",
    "# X_test.drop([\"dk1_spotpricedkk_kwh\"], axis=1, inplace=True)"
   ]
  },
  {
   "cell_type": "code",
   "execution_count": 12,
   "metadata": {},
   "outputs": [
    {
     "data": {
      "text/html": [
       "<div>\n",
       "<style scoped>\n",
       "    .dataframe tbody tr th:only-of-type {\n",
       "        vertical-align: middle;\n",
       "    }\n",
       "\n",
       "    .dataframe tbody tr th {\n",
       "        vertical-align: top;\n",
       "    }\n",
       "\n",
       "    .dataframe thead th {\n",
       "        text-align: right;\n",
       "    }\n",
       "</style>\n",
       "<table border=\"1\" class=\"dataframe\">\n",
       "  <thead>\n",
       "    <tr style=\"text-align: right;\">\n",
       "      <th></th>\n",
       "      <th>timestamp</th>\n",
       "      <th>time</th>\n",
       "      <th>date</th>\n",
       "      <th>dk1_spotpricedkk_kwh</th>\n",
       "      <th>temperature_2m</th>\n",
       "      <th>relative_humidity_2m</th>\n",
       "      <th>precipitation</th>\n",
       "      <th>rain</th>\n",
       "      <th>snowfall</th>\n",
       "      <th>weather_code</th>\n",
       "      <th>cloud_cover</th>\n",
       "      <th>wind_speed_10m</th>\n",
       "      <th>wind_gusts_10m</th>\n",
       "      <th>dk1_offshore_wind_forecastintraday_kwh</th>\n",
       "      <th>dk1_onshore_wind_forecastintraday_kwh</th>\n",
       "      <th>dk1_solar_forecastintraday_kwh</th>\n",
       "      <th>type</th>\n",
       "    </tr>\n",
       "  </thead>\n",
       "  <tbody>\n",
       "    <tr>\n",
       "      <th>5905751</th>\n",
       "      <td>1640995200000</td>\n",
       "      <td>2022-01-01 00:00:00+00:00</td>\n",
       "      <td>2022-01-01</td>\n",
       "      <td>0.179988</td>\n",
       "      <td>0.435268</td>\n",
       "      <td>0.986667</td>\n",
       "      <td>0.011364</td>\n",
       "      <td>0.011364</td>\n",
       "      <td>0.0</td>\n",
       "      <td>0.68</td>\n",
       "      <td>1.0</td>\n",
       "      <td>0.315152</td>\n",
       "      <td>0.272633</td>\n",
       "      <td>0.945277</td>\n",
       "      <td>0.481878</td>\n",
       "      <td>0.000000</td>\n",
       "      <td>1</td>\n",
       "    </tr>\n",
       "    <tr>\n",
       "      <th>19398</th>\n",
       "      <td>1640995200000</td>\n",
       "      <td>2022-01-01 00:00:00+00:00</td>\n",
       "      <td>2022-01-01</td>\n",
       "      <td>0.179988</td>\n",
       "      <td>0.435268</td>\n",
       "      <td>0.986667</td>\n",
       "      <td>0.011364</td>\n",
       "      <td>0.011364</td>\n",
       "      <td>0.0</td>\n",
       "      <td>0.68</td>\n",
       "      <td>1.0</td>\n",
       "      <td>0.315152</td>\n",
       "      <td>0.272633</td>\n",
       "      <td>0.934795</td>\n",
       "      <td>0.446702</td>\n",
       "      <td>0.000008</td>\n",
       "      <td>1</td>\n",
       "    </tr>\n",
       "    <tr>\n",
       "      <th>5919627</th>\n",
       "      <td>1640995200000</td>\n",
       "      <td>2022-01-01 00:00:00+00:00</td>\n",
       "      <td>2022-01-01</td>\n",
       "      <td>0.179988</td>\n",
       "      <td>0.417411</td>\n",
       "      <td>0.933333</td>\n",
       "      <td>0.000000</td>\n",
       "      <td>0.000000</td>\n",
       "      <td>0.0</td>\n",
       "      <td>0.04</td>\n",
       "      <td>1.0</td>\n",
       "      <td>0.082828</td>\n",
       "      <td>0.074922</td>\n",
       "      <td>0.773045</td>\n",
       "      <td>0.264375</td>\n",
       "      <td>0.000018</td>\n",
       "      <td>1</td>\n",
       "    </tr>\n",
       "    <tr>\n",
       "      <th>4719247</th>\n",
       "      <td>1640995200000</td>\n",
       "      <td>2022-01-01 00:00:00+00:00</td>\n",
       "      <td>2022-01-01</td>\n",
       "      <td>0.179988</td>\n",
       "      <td>0.426339</td>\n",
       "      <td>0.933333</td>\n",
       "      <td>0.000000</td>\n",
       "      <td>0.000000</td>\n",
       "      <td>0.0</td>\n",
       "      <td>0.04</td>\n",
       "      <td>1.0</td>\n",
       "      <td>0.195960</td>\n",
       "      <td>0.187305</td>\n",
       "      <td>0.913059</td>\n",
       "      <td>0.358547</td>\n",
       "      <td>0.000012</td>\n",
       "      <td>1</td>\n",
       "    </tr>\n",
       "    <tr>\n",
       "      <th>4743896</th>\n",
       "      <td>1640995200000</td>\n",
       "      <td>2022-01-01 00:00:00+00:00</td>\n",
       "      <td>2022-01-01</td>\n",
       "      <td>0.179988</td>\n",
       "      <td>0.417411</td>\n",
       "      <td>0.933333</td>\n",
       "      <td>0.000000</td>\n",
       "      <td>0.000000</td>\n",
       "      <td>0.0</td>\n",
       "      <td>0.04</td>\n",
       "      <td>1.0</td>\n",
       "      <td>0.082828</td>\n",
       "      <td>0.074922</td>\n",
       "      <td>0.493641</td>\n",
       "      <td>0.133456</td>\n",
       "      <td>0.005406</td>\n",
       "      <td>1</td>\n",
       "    </tr>\n",
       "  </tbody>\n",
       "</table>\n",
       "</div>"
      ],
      "text/plain": [
       "             timestamp                       time        date  \\\n",
       "5905751  1640995200000  2022-01-01 00:00:00+00:00  2022-01-01   \n",
       "19398    1640995200000  2022-01-01 00:00:00+00:00  2022-01-01   \n",
       "5919627  1640995200000  2022-01-01 00:00:00+00:00  2022-01-01   \n",
       "4719247  1640995200000  2022-01-01 00:00:00+00:00  2022-01-01   \n",
       "4743896  1640995200000  2022-01-01 00:00:00+00:00  2022-01-01   \n",
       "\n",
       "         dk1_spotpricedkk_kwh  temperature_2m  relative_humidity_2m  \\\n",
       "5905751              0.179988        0.435268              0.986667   \n",
       "19398                0.179988        0.435268              0.986667   \n",
       "5919627              0.179988        0.417411              0.933333   \n",
       "4719247              0.179988        0.426339              0.933333   \n",
       "4743896              0.179988        0.417411              0.933333   \n",
       "\n",
       "         precipitation      rain  snowfall  weather_code  cloud_cover  \\\n",
       "5905751       0.011364  0.011364       0.0          0.68          1.0   \n",
       "19398         0.011364  0.011364       0.0          0.68          1.0   \n",
       "5919627       0.000000  0.000000       0.0          0.04          1.0   \n",
       "4719247       0.000000  0.000000       0.0          0.04          1.0   \n",
       "4743896       0.000000  0.000000       0.0          0.04          1.0   \n",
       "\n",
       "         wind_speed_10m  wind_gusts_10m  \\\n",
       "5905751        0.315152        0.272633   \n",
       "19398          0.315152        0.272633   \n",
       "5919627        0.082828        0.074922   \n",
       "4719247        0.195960        0.187305   \n",
       "4743896        0.082828        0.074922   \n",
       "\n",
       "         dk1_offshore_wind_forecastintraday_kwh  \\\n",
       "5905751                                0.945277   \n",
       "19398                                  0.934795   \n",
       "5919627                                0.773045   \n",
       "4719247                                0.913059   \n",
       "4743896                                0.493641   \n",
       "\n",
       "         dk1_onshore_wind_forecastintraday_kwh  \\\n",
       "5905751                               0.481878   \n",
       "19398                                 0.446702   \n",
       "5919627                               0.264375   \n",
       "4719247                               0.358547   \n",
       "4743896                               0.133456   \n",
       "\n",
       "         dk1_solar_forecastintraday_kwh  type  \n",
       "5905751                        0.000000     1  \n",
       "19398                          0.000008     1  \n",
       "5919627                        0.000018     1  \n",
       "4719247                        0.000012     1  \n",
       "4743896                        0.005406     1  "
      ]
     },
     "execution_count": 12,
     "metadata": {},
     "output_type": "execute_result"
    }
   ],
   "source": [
    "# Displaying the first 5 rows of the train dataset (X_train)\n",
    "X_train.head()"
   ]
  },
  {
   "cell_type": "code",
   "execution_count": 14,
   "metadata": {},
   "outputs": [
    {
     "data": {
      "text/html": [
       "<div>\n",
       "<style scoped>\n",
       "    .dataframe tbody tr th:only-of-type {\n",
       "        vertical-align: middle;\n",
       "    }\n",
       "\n",
       "    .dataframe tbody tr th {\n",
       "        vertical-align: top;\n",
       "    }\n",
       "\n",
       "    .dataframe thead th {\n",
       "        text-align: right;\n",
       "    }\n",
       "</style>\n",
       "<table border=\"1\" class=\"dataframe\">\n",
       "  <thead>\n",
       "    <tr style=\"text-align: right;\">\n",
       "      <th></th>\n",
       "      <th>date</th>\n",
       "      <th>dk1_spotpricedkk_kwh</th>\n",
       "    </tr>\n",
       "  </thead>\n",
       "  <tbody>\n",
       "    <tr>\n",
       "      <th>5905751</th>\n",
       "      <td>2022-01-01</td>\n",
       "      <td>0.179988</td>\n",
       "    </tr>\n",
       "    <tr>\n",
       "      <th>19398</th>\n",
       "      <td>2022-01-01</td>\n",
       "      <td>0.179988</td>\n",
       "    </tr>\n",
       "    <tr>\n",
       "      <th>5919627</th>\n",
       "      <td>2022-01-01</td>\n",
       "      <td>0.179988</td>\n",
       "    </tr>\n",
       "    <tr>\n",
       "      <th>4719247</th>\n",
       "      <td>2022-01-01</td>\n",
       "      <td>0.179988</td>\n",
       "    </tr>\n",
       "    <tr>\n",
       "      <th>4743896</th>\n",
       "      <td>2022-01-01</td>\n",
       "      <td>0.179988</td>\n",
       "    </tr>\n",
       "  </tbody>\n",
       "</table>\n",
       "</div>"
      ],
      "text/plain": [
       "               date  dk1_spotpricedkk_kwh\n",
       "5905751  2022-01-01              0.179988\n",
       "19398    2022-01-01              0.179988\n",
       "5919627  2022-01-01              0.179988\n",
       "4719247  2022-01-01              0.179988\n",
       "4743896  2022-01-01              0.179988"
      ]
     },
     "execution_count": 14,
     "metadata": {},
     "output_type": "execute_result"
    }
   ],
   "source": [
    "df = X_train[[\"date\", \"dk1_spotpricedkk_kwh\"]]"
   ]
  },
  {
   "cell_type": "code",
   "execution_count": 25,
   "metadata": {},
   "outputs": [
    {
     "data": {
      "text/html": [
       "<div>\n",
       "<style scoped>\n",
       "    .dataframe tbody tr th:only-of-type {\n",
       "        vertical-align: middle;\n",
       "    }\n",
       "\n",
       "    .dataframe tbody tr th {\n",
       "        vertical-align: top;\n",
       "    }\n",
       "\n",
       "    .dataframe thead th {\n",
       "        text-align: right;\n",
       "    }\n",
       "</style>\n",
       "<table border=\"1\" class=\"dataframe\">\n",
       "  <thead>\n",
       "    <tr style=\"text-align: right;\">\n",
       "      <th></th>\n",
       "      <th>ds</th>\n",
       "      <th>y</th>\n",
       "    </tr>\n",
       "  </thead>\n",
       "  <tbody>\n",
       "    <tr>\n",
       "      <th>5905751</th>\n",
       "      <td>2022-01-01</td>\n",
       "      <td>0.179988</td>\n",
       "    </tr>\n",
       "    <tr>\n",
       "      <th>19398</th>\n",
       "      <td>2022-01-01</td>\n",
       "      <td>0.179988</td>\n",
       "    </tr>\n",
       "    <tr>\n",
       "      <th>5919627</th>\n",
       "      <td>2022-01-01</td>\n",
       "      <td>0.179988</td>\n",
       "    </tr>\n",
       "    <tr>\n",
       "      <th>4719247</th>\n",
       "      <td>2022-01-01</td>\n",
       "      <td>0.179988</td>\n",
       "    </tr>\n",
       "    <tr>\n",
       "      <th>4743896</th>\n",
       "      <td>2022-01-01</td>\n",
       "      <td>0.179988</td>\n",
       "    </tr>\n",
       "  </tbody>\n",
       "</table>\n",
       "</div>"
      ],
      "text/plain": [
       "                 ds         y\n",
       "5905751  2022-01-01  0.179988\n",
       "19398    2022-01-01  0.179988\n",
       "5919627  2022-01-01  0.179988\n",
       "4719247  2022-01-01  0.179988\n",
       "4743896  2022-01-01  0.179988"
      ]
     },
     "execution_count": 25,
     "metadata": {},
     "output_type": "execute_result"
    }
   ],
   "source": [
    "df.columns = [\"ds\", \"y\"]\n",
    "df.head()"
   ]
  },
  {
   "cell_type": "markdown",
   "metadata": {},
   "source": [
    "## <span style=\"color:#2656a3;\">🗃 Window timeseries dataset </span>"
   ]
  },
  {
   "cell_type": "markdown",
   "metadata": {},
   "source": [
    "## <span style=\"color:#2656a3;\">🧬 Modeling Testing</span>"
   ]
  },
  {
   "cell_type": "code",
   "execution_count": 22,
   "metadata": {},
   "outputs": [],
   "source": [
    "from prophet import Prophet"
   ]
  },
  {
   "cell_type": "code",
   "execution_count": 26,
   "metadata": {},
   "outputs": [
    {
     "name": "stderr",
     "output_type": "stream",
     "text": [
      "14:24:30 - cmdstanpy - INFO - Chain [1] start processing\n"
     ]
    }
   ],
   "source": [
    "m = Prophet(interval_width=0.95, daily_seasonality=True)\n",
    "model = m.fit(df)"
   ]
  },
  {
   "cell_type": "code",
   "execution_count": null,
   "metadata": {},
   "outputs": [],
   "source": [
    "future = m.make_future_dataframe(periods=100,freq='D')\n",
    "forecast = m.predict(future)\n",
    "forecast.head()"
   ]
  },
  {
   "cell_type": "code",
   "execution_count": null,
   "metadata": {},
   "outputs": [],
   "source": [
    "plot1 = m.plot(forecast)\n"
   ]
  },
  {
   "cell_type": "markdown",
   "metadata": {},
   "source": [
    "## <span style=\"color:#2656a3;\">🧬 Modeling</span>"
   ]
  },
  {
   "cell_type": "code",
   "execution_count": null,
   "metadata": {},
   "outputs": [],
   "source": [
    "# import pandas as pd\n",
    "# import numpy as np\n",
    "# import xgboost as xgb\n",
    "# from sklearn.metrics import mean_squared_error\n",
    "# import os"
   ]
  },
  {
   "cell_type": "code",
   "execution_count": null,
   "metadata": {},
   "outputs": [],
   "source": [
    "# # Initialize the XGBoost regressor\n",
    "# model = xgb.XGBRegressor()\n",
    "# model_val = xgb.XGBRegressor()"
   ]
  },
  {
   "cell_type": "code",
   "execution_count": null,
   "metadata": {},
   "outputs": [],
   "source": [
    "# # Train the model on the training data\n",
    "# model.fit(X_train, y_train)"
   ]
  },
  {
   "cell_type": "code",
   "execution_count": null,
   "metadata": {},
   "outputs": [],
   "source": [
    "# # Make predictions on the validation set\n",
    "# y_test_pred = model.predict(X_test)"
   ]
  },
  {
   "cell_type": "code",
   "execution_count": null,
   "metadata": {},
   "outputs": [],
   "source": [
    "# # Calculate RMSE on the validation set\n",
    "# mse = mean_squared_error(y_test, y_test_pred, squared=False)\n",
    "# print(f\"Mean Squared Error (MSE): {mse}\")"
   ]
  },
  {
   "cell_type": "markdown",
   "metadata": {},
   "source": [
    "## <span style='color:#2656a3'>🗄 Model Registry</span>"
   ]
  },
  {
   "cell_type": "code",
   "execution_count": null,
   "metadata": {},
   "outputs": [],
   "source": [
    "# Exporting the trained model to a directory\n",
    "model_dir = \"electricity_price_model\"\n",
    "print('Exporting trained model to: {}'.format(model_dir))\n",
    "\n",
    "# Saving the model using TensorFlow's saved_model.save function\n",
    "tf.saved_model.save(model, model_dir)"
   ]
  },
  {
   "cell_type": "code",
   "execution_count": null,
   "metadata": {},
   "outputs": [],
   "source": [
    "# Retrieving the Model Registry\n",
    "mr = project.get_model_registry()\n",
    "\n",
    "# Extracting loss value from the training history\n",
    "metrics = {'loss': history_dict['val_loss'][0]} \n",
    "\n",
    "# Creating a TensorFlow model in the Model Registry\n",
    "tf_model = mr.tensorflow.create_model(\n",
    "    name=\"DK_electricity_price_prediction_model\",\n",
    "    metrics=metrics,\n",
    "    description=\"Hourly electricity price prediction model.\",\n",
    "    input_example=n_step_window.example[0].numpy(),\n",
    ")\n",
    "\n",
    "# Saving the model to the specified directory\n",
    "tf_model.save(model_dir)"
   ]
  },
  {
   "cell_type": "markdown",
   "metadata": {},
   "source": [
    "---\n",
    "\n",
    "## <span style=\"color:#2656a3;\">⏭️ **Next:** Part 04: Batch Inference </span>\n",
    "\n",
    "In the next notebook you will use your registered model to predict batch data."
   ]
  }
 ],
 "metadata": {
  "kernelspec": {
   "display_name": "bds-mlops",
   "language": "python",
   "name": "python3"
  },
  "language_info": {
   "codemirror_mode": {
    "name": "ipython",
    "version": 3
   },
   "file_extension": ".py",
   "mimetype": "text/x-python",
   "name": "python",
   "nbconvert_exporter": "python",
   "pygments_lexer": "ipython3",
   "version": "3.11.9"
  },
  "orig_nbformat": 4
 },
 "nbformat": 4,
 "nbformat_minor": 2
}
