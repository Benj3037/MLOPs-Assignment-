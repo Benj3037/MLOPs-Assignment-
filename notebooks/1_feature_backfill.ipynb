{
 "cells": [
  {
   "cell_type": "markdown",
   "metadata": {},
   "source": [
    "# <span style=\"font-width:bold; font-size: 3rem; color:#2656a3;\">**Data Engineering and Machine Learning Operations in Business** </span> <span style=\"font-width:bold; font-size: 3rem; color:#333;\">- Part 01: Feature Backfill</span>"
   ]
  },
  {
   "cell_type": "markdown",
   "metadata": {},
   "source": [
    "## 🗒️ This notebook is divided into the following sections:\n",
    "1. Load the data and process features\n",
    "2. Connect to the Hopsworks feature store\n",
    "3. Create feature groups and upload them to the feature store"
   ]
  },
  {
   "cell_type": "markdown",
   "metadata": {},
   "source": [
    "## <span style='color:#2656a3'> ⚙️ Import of libraries and packages\n",
    "\n",
    "First, we'll install the Python packages required for this notebook. We'll use the --quiet command after specifying the names of the libraries to ensure a silent installation process. Then, we'll proceed to import all the necessary libraries."
   ]
  },
  {
   "cell_type": "code",
   "execution_count": 1,
   "metadata": {},
   "outputs": [],
   "source": [
    "# Install of the packages for hopsworks\n",
    "# !pip install -U hopsworks --quiet"
   ]
  },
  {
   "cell_type": "code",
   "execution_count": 2,
   "metadata": {},
   "outputs": [
    {
     "name": "stdout",
     "output_type": "stream",
     "text": [
      "/Users/tobiasmjensen/Documents/aau_bds/m5_data-engineering-and-mlops/exam_assigment/MLOPs-Assignment-\n",
      "/Users/tobiasmjensen/Documents/aau_bds/m5_data-engineering-and-mlops/exam_assigment/MLOPs-Assignment-/notebooks\n"
     ]
    }
   ],
   "source": [
    "# First we have to go one back in out directory so we can find the folder with our functions\n",
    "%cd ..\n",
    "\n",
    "# Now you can import the functions from the features folder. \n",
    "from features import electricity_prices, weater_measures # own function# This is functions we have created \n",
    "\n",
    "# Go back into the notebooks folder\n",
    "%cd notebooks"
   ]
  },
  {
   "cell_type": "code",
   "execution_count": 3,
   "metadata": {},
   "outputs": [],
   "source": [
    "# Importing of the packages for the needed libraries for the Jupyter notebook\n",
    "import pandas as pd\n",
    "import requests\n",
    "from datetime import datetime, timedelta\n",
    "\n",
    "# Ignore warnings\n",
    "import warnings \n",
    "warnings.filterwarnings('ignore')"
   ]
  },
  {
   "cell_type": "markdown",
   "metadata": {},
   "source": [
    "## <span style=\"color:#2656a3;\"> 💽 Load the historical data\n",
    "\n",
    "The data you will use comes from three different sources:\n",
    "\n",
    "- Electricity prices in Denmark per day from [Energinet](https://www.energidataservice.dk).\n",
    "- Different meteorological observations from [Open meteo](https://www.open-meteo.com).\n",
    "- Danish Calendar with the type if the date is a national holiday or not. This files is made manually by the group and is located in the \"*data*\" folder inside this repository."
   ]
  },
  {
   "cell_type": "markdown",
   "metadata": {},
   "source": [
    "### <span style=\"color:#2656a3;\">💸 Electricity prices per day from Energinet\n",
    "This first dataset is Electricity prices per day from Energinet/Dataservice. Here we use "
   ]
  },
  {
   "cell_type": "code",
   "execution_count": 42,
   "metadata": {},
   "outputs": [],
   "source": [
    "# Fetching historical electricity prices data from '2022-01-01' to today. \n",
    "# But then historical is set to True, today is not included in the data as it is not historical data\n",
    "electricity_df = electricity_prices.electricity_prices(\n",
    "    historical=True, \n",
    "    area=[\"DK1\"], \n",
    "    start='2022-01-01', \n",
    "    #end='2023-12-31'\n",
    ")"
   ]
  },
  {
   "cell_type": "code",
   "execution_count": 43,
   "metadata": {},
   "outputs": [
    {
     "data": {
      "text/html": [
       "<div>\n",
       "<style scoped>\n",
       "    .dataframe tbody tr th:only-of-type {\n",
       "        vertical-align: middle;\n",
       "    }\n",
       "\n",
       "    .dataframe tbody tr th {\n",
       "        vertical-align: top;\n",
       "    }\n",
       "\n",
       "    .dataframe thead th {\n",
       "        text-align: right;\n",
       "    }\n",
       "</style>\n",
       "<table border=\"1\" class=\"dataframe\">\n",
       "  <thead>\n",
       "    <tr style=\"text-align: right;\">\n",
       "      <th></th>\n",
       "      <th>timestamp</th>\n",
       "      <th>time</th>\n",
       "      <th>date</th>\n",
       "      <th>dk1_spotpricedkk_kwh</th>\n",
       "      <th>dk2_spotpricedkk_kwh</th>\n",
       "    </tr>\n",
       "  </thead>\n",
       "  <tbody>\n",
       "    <tr>\n",
       "      <th>0</th>\n",
       "      <td>1640995200000000</td>\n",
       "      <td>2022-01-01 00:00:00</td>\n",
       "      <td>2022-01-01</td>\n",
       "      <td>0.37220</td>\n",
       "      <td>0.34654</td>\n",
       "    </tr>\n",
       "    <tr>\n",
       "      <th>1</th>\n",
       "      <td>1640998800000000</td>\n",
       "      <td>2022-01-01 01:00:00</td>\n",
       "      <td>2022-01-01</td>\n",
       "      <td>0.30735</td>\n",
       "      <td>0.30735</td>\n",
       "    </tr>\n",
       "    <tr>\n",
       "      <th>2</th>\n",
       "      <td>1641002400000000</td>\n",
       "      <td>2022-01-01 02:00:00</td>\n",
       "      <td>2022-01-01</td>\n",
       "      <td>0.32141</td>\n",
       "      <td>0.31367</td>\n",
       "    </tr>\n",
       "    <tr>\n",
       "      <th>3</th>\n",
       "      <td>1641006000000000</td>\n",
       "      <td>2022-01-01 03:00:00</td>\n",
       "      <td>2022-01-01</td>\n",
       "      <td>0.33806</td>\n",
       "      <td>0.32996</td>\n",
       "    </tr>\n",
       "    <tr>\n",
       "      <th>4</th>\n",
       "      <td>1641009600000000</td>\n",
       "      <td>2022-01-01 04:00:00</td>\n",
       "      <td>2022-01-01</td>\n",
       "      <td>0.28013</td>\n",
       "      <td>0.28013</td>\n",
       "    </tr>\n",
       "  </tbody>\n",
       "</table>\n",
       "</div>"
      ],
      "text/plain": [
       "          timestamp                time        date  dk1_spotpricedkk_kwh  \\\n",
       "0  1640995200000000 2022-01-01 00:00:00  2022-01-01               0.37220   \n",
       "1  1640998800000000 2022-01-01 01:00:00  2022-01-01               0.30735   \n",
       "2  1641002400000000 2022-01-01 02:00:00  2022-01-01               0.32141   \n",
       "3  1641006000000000 2022-01-01 03:00:00  2022-01-01               0.33806   \n",
       "4  1641009600000000 2022-01-01 04:00:00  2022-01-01               0.28013   \n",
       "\n",
       "   dk2_spotpricedkk_kwh  \n",
       "0               0.34654  \n",
       "1               0.30735  \n",
       "2               0.31367  \n",
       "3               0.32996  \n",
       "4               0.28013  "
      ]
     },
     "execution_count": 43,
     "metadata": {},
     "output_type": "execute_result"
    }
   ],
   "source": [
    "# Display the first 5 rows of the dataframe\n",
    "electricity_df.head(5)"
   ]
  },
  {
   "cell_type": "code",
   "execution_count": 6,
   "metadata": {},
   "outputs": [
    {
     "data": {
      "text/html": [
       "<div>\n",
       "<style scoped>\n",
       "    .dataframe tbody tr th:only-of-type {\n",
       "        vertical-align: middle;\n",
       "    }\n",
       "\n",
       "    .dataframe tbody tr th {\n",
       "        vertical-align: top;\n",
       "    }\n",
       "\n",
       "    .dataframe thead th {\n",
       "        text-align: right;\n",
       "    }\n",
       "</style>\n",
       "<table border=\"1\" class=\"dataframe\">\n",
       "  <thead>\n",
       "    <tr style=\"text-align: right;\">\n",
       "      <th></th>\n",
       "      <th>timestamp</th>\n",
       "      <th>time</th>\n",
       "      <th>date</th>\n",
       "      <th>dk1_spotpricedkk_kwh</th>\n",
       "    </tr>\n",
       "  </thead>\n",
       "  <tbody>\n",
       "    <tr>\n",
       "      <th>20200</th>\n",
       "      <td>1713726000000000</td>\n",
       "      <td>2024-04-21 19:00:00</td>\n",
       "      <td>2024-04-21</td>\n",
       "      <td>0.66671</td>\n",
       "    </tr>\n",
       "    <tr>\n",
       "      <th>20201</th>\n",
       "      <td>1713729600000000</td>\n",
       "      <td>2024-04-21 20:00:00</td>\n",
       "      <td>2024-04-21</td>\n",
       "      <td>0.71073</td>\n",
       "    </tr>\n",
       "    <tr>\n",
       "      <th>20202</th>\n",
       "      <td>1713733200000000</td>\n",
       "      <td>2024-04-21 21:00:00</td>\n",
       "      <td>2024-04-21</td>\n",
       "      <td>0.67947</td>\n",
       "    </tr>\n",
       "    <tr>\n",
       "      <th>20203</th>\n",
       "      <td>1713736800000000</td>\n",
       "      <td>2024-04-21 22:00:00</td>\n",
       "      <td>2024-04-21</td>\n",
       "      <td>0.66708</td>\n",
       "    </tr>\n",
       "    <tr>\n",
       "      <th>20204</th>\n",
       "      <td>1713740400000000</td>\n",
       "      <td>2024-04-21 23:00:00</td>\n",
       "      <td>2024-04-21</td>\n",
       "      <td>0.66000</td>\n",
       "    </tr>\n",
       "  </tbody>\n",
       "</table>\n",
       "</div>"
      ],
      "text/plain": [
       "              timestamp                time        date  dk1_spotpricedkk_kwh\n",
       "20200  1713726000000000 2024-04-21 19:00:00  2024-04-21               0.66671\n",
       "20201  1713729600000000 2024-04-21 20:00:00  2024-04-21               0.71073\n",
       "20202  1713733200000000 2024-04-21 21:00:00  2024-04-21               0.67947\n",
       "20203  1713736800000000 2024-04-21 22:00:00  2024-04-21               0.66708\n",
       "20204  1713740400000000 2024-04-21 23:00:00  2024-04-21               0.66000"
      ]
     },
     "execution_count": 6,
     "metadata": {},
     "output_type": "execute_result"
    }
   ],
   "source": [
    "# Display the last 5 rows of the dataframe\n",
    "electricity_df.tail(5)"
   ]
  },
  {
   "cell_type": "code",
   "execution_count": 7,
   "metadata": {},
   "outputs": [
    {
     "name": "stdout",
     "output_type": "stream",
     "text": [
      "<class 'pandas.core.frame.DataFrame'>\n",
      "RangeIndex: 20205 entries, 0 to 20204\n",
      "Data columns (total 4 columns):\n",
      " #   Column                Non-Null Count  Dtype         \n",
      "---  ------                --------------  -----         \n",
      " 0   timestamp             20205 non-null  int64         \n",
      " 1   time                  20205 non-null  datetime64[ns]\n",
      " 2   date                  20205 non-null  object        \n",
      " 3   dk1_spotpricedkk_kwh  20205 non-null  float64       \n",
      "dtypes: datetime64[ns](1), float64(1), int64(1), object(1)\n",
      "memory usage: 631.5+ KB\n"
     ]
    }
   ],
   "source": [
    "# Showing the information for the electricity dataframe\n",
    "electricity_df.info()"
   ]
  },
  {
   "cell_type": "markdown",
   "metadata": {},
   "source": [
    "### <span style=\"color:#2656a3;\">☀️💨 Forecast Renewable Energy next day from Energinet"
   ]
  },
  {
   "cell_type": "code",
   "execution_count": 8,
   "metadata": {},
   "outputs": [],
   "source": [
    "# Fetching historical forecast of renewable energy data from '2022-01-01' to today\n",
    "# But then historical is set to True, today is not included in the data as it is not historical data\n",
    "forecast_renewable_energy_df = electricity_prices.forecast_renewable_energy(\n",
    "    historical=True, \n",
    "    area = [\"DK1\"],\n",
    "    start= '2022-01-01', \n",
    "    #end='2023-12-31'\n",
    ")"
   ]
  },
  {
   "cell_type": "code",
   "execution_count": 9,
   "metadata": {},
   "outputs": [
    {
     "data": {
      "text/html": [
       "<div>\n",
       "<style scoped>\n",
       "    .dataframe tbody tr th:only-of-type {\n",
       "        vertical-align: middle;\n",
       "    }\n",
       "\n",
       "    .dataframe tbody tr th {\n",
       "        vertical-align: top;\n",
       "    }\n",
       "\n",
       "    .dataframe thead th {\n",
       "        text-align: right;\n",
       "    }\n",
       "</style>\n",
       "<table border=\"1\" class=\"dataframe\">\n",
       "  <thead>\n",
       "    <tr style=\"text-align: right;\">\n",
       "      <th></th>\n",
       "      <th>timestamp</th>\n",
       "      <th>time</th>\n",
       "      <th>date</th>\n",
       "      <th>dk1_offshore_wind_forecastcurrent_kwh</th>\n",
       "      <th>dk1_offshore_wind_forecastdayahead_kwh</th>\n",
       "      <th>dk1_offshore_wind_forecastintraday_kwh</th>\n",
       "      <th>dk1_onshore_wind_forecastcurrent_kwh</th>\n",
       "      <th>dk1_onshore_wind_forecastdayahead_kwh</th>\n",
       "      <th>dk1_onshore_wind_forecastintraday_kwh</th>\n",
       "      <th>dk1_solar_forecastcurrent_kwh</th>\n",
       "      <th>dk1_solar_forecastdayahead_kwh</th>\n",
       "      <th>dk1_solar_forecastintraday_kwh</th>\n",
       "    </tr>\n",
       "  </thead>\n",
       "  <tbody>\n",
       "    <tr>\n",
       "      <th>0</th>\n",
       "      <td>1640995200000000</td>\n",
       "      <td>2022-01-01 00:00:00</td>\n",
       "      <td>2022-01-01</td>\n",
       "      <td>1.000417</td>\n",
       "      <td>0.830167</td>\n",
       "      <td>NaN</td>\n",
       "      <td>0.863000</td>\n",
       "      <td>0.793083</td>\n",
       "      <td>NaN</td>\n",
       "      <td>0.000022</td>\n",
       "      <td>0.0</td>\n",
       "      <td>NaN</td>\n",
       "    </tr>\n",
       "    <tr>\n",
       "      <th>1</th>\n",
       "      <td>1640998800000000</td>\n",
       "      <td>2022-01-01 01:00:00</td>\n",
       "      <td>2022-01-01</td>\n",
       "      <td>0.956583</td>\n",
       "      <td>0.870917</td>\n",
       "      <td>NaN</td>\n",
       "      <td>0.927167</td>\n",
       "      <td>0.798792</td>\n",
       "      <td>NaN</td>\n",
       "      <td>0.000002</td>\n",
       "      <td>0.0</td>\n",
       "      <td>NaN</td>\n",
       "    </tr>\n",
       "    <tr>\n",
       "      <th>2</th>\n",
       "      <td>1641002400000000</td>\n",
       "      <td>2022-01-01 02:00:00</td>\n",
       "      <td>2022-01-01</td>\n",
       "      <td>0.849500</td>\n",
       "      <td>0.832542</td>\n",
       "      <td>NaN</td>\n",
       "      <td>0.920333</td>\n",
       "      <td>0.790167</td>\n",
       "      <td>NaN</td>\n",
       "      <td>0.000000</td>\n",
       "      <td>0.0</td>\n",
       "      <td>NaN</td>\n",
       "    </tr>\n",
       "    <tr>\n",
       "      <th>3</th>\n",
       "      <td>1641006000000000</td>\n",
       "      <td>2022-01-01 03:00:00</td>\n",
       "      <td>2022-01-01</td>\n",
       "      <td>0.889542</td>\n",
       "      <td>0.646667</td>\n",
       "      <td>NaN</td>\n",
       "      <td>0.729125</td>\n",
       "      <td>0.716333</td>\n",
       "      <td>NaN</td>\n",
       "      <td>0.000000</td>\n",
       "      <td>0.0</td>\n",
       "      <td>NaN</td>\n",
       "    </tr>\n",
       "    <tr>\n",
       "      <th>4</th>\n",
       "      <td>1641009600000000</td>\n",
       "      <td>2022-01-01 04:00:00</td>\n",
       "      <td>2022-01-01</td>\n",
       "      <td>0.791667</td>\n",
       "      <td>0.569333</td>\n",
       "      <td>NaN</td>\n",
       "      <td>0.727667</td>\n",
       "      <td>0.593667</td>\n",
       "      <td>NaN</td>\n",
       "      <td>0.000000</td>\n",
       "      <td>0.0</td>\n",
       "      <td>NaN</td>\n",
       "    </tr>\n",
       "  </tbody>\n",
       "</table>\n",
       "</div>"
      ],
      "text/plain": [
       "          timestamp                time        date  \\\n",
       "0  1640995200000000 2022-01-01 00:00:00  2022-01-01   \n",
       "1  1640998800000000 2022-01-01 01:00:00  2022-01-01   \n",
       "2  1641002400000000 2022-01-01 02:00:00  2022-01-01   \n",
       "3  1641006000000000 2022-01-01 03:00:00  2022-01-01   \n",
       "4  1641009600000000 2022-01-01 04:00:00  2022-01-01   \n",
       "\n",
       "   dk1_offshore_wind_forecastcurrent_kwh  \\\n",
       "0                               1.000417   \n",
       "1                               0.956583   \n",
       "2                               0.849500   \n",
       "3                               0.889542   \n",
       "4                               0.791667   \n",
       "\n",
       "   dk1_offshore_wind_forecastdayahead_kwh  \\\n",
       "0                                0.830167   \n",
       "1                                0.870917   \n",
       "2                                0.832542   \n",
       "3                                0.646667   \n",
       "4                                0.569333   \n",
       "\n",
       "   dk1_offshore_wind_forecastintraday_kwh  \\\n",
       "0                                     NaN   \n",
       "1                                     NaN   \n",
       "2                                     NaN   \n",
       "3                                     NaN   \n",
       "4                                     NaN   \n",
       "\n",
       "   dk1_onshore_wind_forecastcurrent_kwh  \\\n",
       "0                              0.863000   \n",
       "1                              0.927167   \n",
       "2                              0.920333   \n",
       "3                              0.729125   \n",
       "4                              0.727667   \n",
       "\n",
       "   dk1_onshore_wind_forecastdayahead_kwh  \\\n",
       "0                               0.793083   \n",
       "1                               0.798792   \n",
       "2                               0.790167   \n",
       "3                               0.716333   \n",
       "4                               0.593667   \n",
       "\n",
       "   dk1_onshore_wind_forecastintraday_kwh  dk1_solar_forecastcurrent_kwh  \\\n",
       "0                                    NaN                       0.000022   \n",
       "1                                    NaN                       0.000002   \n",
       "2                                    NaN                       0.000000   \n",
       "3                                    NaN                       0.000000   \n",
       "4                                    NaN                       0.000000   \n",
       "\n",
       "   dk1_solar_forecastdayahead_kwh  dk1_solar_forecastintraday_kwh  \n",
       "0                             0.0                             NaN  \n",
       "1                             0.0                             NaN  \n",
       "2                             0.0                             NaN  \n",
       "3                             0.0                             NaN  \n",
       "4                             0.0                             NaN  "
      ]
     },
     "execution_count": 9,
     "metadata": {},
     "output_type": "execute_result"
    }
   ],
   "source": [
    "# Display the first 5 rows of the dataframe\n",
    "forecast_renewable_energy_df.head(5)"
   ]
  },
  {
   "cell_type": "code",
   "execution_count": 10,
   "metadata": {},
   "outputs": [
    {
     "data": {
      "text/html": [
       "<div>\n",
       "<style scoped>\n",
       "    .dataframe tbody tr th:only-of-type {\n",
       "        vertical-align: middle;\n",
       "    }\n",
       "\n",
       "    .dataframe tbody tr th {\n",
       "        vertical-align: top;\n",
       "    }\n",
       "\n",
       "    .dataframe thead th {\n",
       "        text-align: right;\n",
       "    }\n",
       "</style>\n",
       "<table border=\"1\" class=\"dataframe\">\n",
       "  <thead>\n",
       "    <tr style=\"text-align: right;\">\n",
       "      <th></th>\n",
       "      <th>timestamp</th>\n",
       "      <th>time</th>\n",
       "      <th>date</th>\n",
       "      <th>dk1_offshore_wind_forecastcurrent_kwh</th>\n",
       "      <th>dk1_offshore_wind_forecastdayahead_kwh</th>\n",
       "      <th>dk1_offshore_wind_forecastintraday_kwh</th>\n",
       "      <th>dk1_onshore_wind_forecastcurrent_kwh</th>\n",
       "      <th>dk1_onshore_wind_forecastdayahead_kwh</th>\n",
       "      <th>dk1_onshore_wind_forecastintraday_kwh</th>\n",
       "      <th>dk1_solar_forecastcurrent_kwh</th>\n",
       "      <th>dk1_solar_forecastdayahead_kwh</th>\n",
       "      <th>dk1_solar_forecastintraday_kwh</th>\n",
       "    </tr>\n",
       "  </thead>\n",
       "  <tbody>\n",
       "    <tr>\n",
       "      <th>20152</th>\n",
       "      <td>1713726000000000</td>\n",
       "      <td>2024-04-21 19:00:00</td>\n",
       "      <td>2024-04-21</td>\n",
       "      <td>0.993583</td>\n",
       "      <td>0.735417</td>\n",
       "      <td>0.770083</td>\n",
       "      <td>0.668417</td>\n",
       "      <td>0.474958</td>\n",
       "      <td>0.508625</td>\n",
       "      <td>0.228984</td>\n",
       "      <td>1.839621e-01</td>\n",
       "      <td>0.180932</td>\n",
       "    </tr>\n",
       "    <tr>\n",
       "      <th>20153</th>\n",
       "      <td>1713729600000000</td>\n",
       "      <td>2024-04-21 20:00:00</td>\n",
       "      <td>2024-04-21</td>\n",
       "      <td>0.997375</td>\n",
       "      <td>0.734583</td>\n",
       "      <td>0.769458</td>\n",
       "      <td>0.632792</td>\n",
       "      <td>0.407750</td>\n",
       "      <td>0.424458</td>\n",
       "      <td>0.041345</td>\n",
       "      <td>1.689833e-02</td>\n",
       "      <td>0.016666</td>\n",
       "    </tr>\n",
       "    <tr>\n",
       "      <th>20154</th>\n",
       "      <td>1713733200000000</td>\n",
       "      <td>2024-04-21 21:00:00</td>\n",
       "      <td>2024-04-21</td>\n",
       "      <td>0.702958</td>\n",
       "      <td>0.725542</td>\n",
       "      <td>0.746792</td>\n",
       "      <td>0.480250</td>\n",
       "      <td>0.396708</td>\n",
       "      <td>0.399042</td>\n",
       "      <td>0.001805</td>\n",
       "      <td>5.045830e-04</td>\n",
       "      <td>0.000485</td>\n",
       "    </tr>\n",
       "    <tr>\n",
       "      <th>20155</th>\n",
       "      <td>1713736800000000</td>\n",
       "      <td>2024-04-21 22:00:00</td>\n",
       "      <td>2024-04-21</td>\n",
       "      <td>0.734458</td>\n",
       "      <td>0.713042</td>\n",
       "      <td>0.714167</td>\n",
       "      <td>0.430000</td>\n",
       "      <td>0.389750</td>\n",
       "      <td>0.362917</td>\n",
       "      <td>0.000000</td>\n",
       "      <td>4.170000e-07</td>\n",
       "      <td>0.000000</td>\n",
       "    </tr>\n",
       "    <tr>\n",
       "      <th>20156</th>\n",
       "      <td>1713740400000000</td>\n",
       "      <td>2024-04-21 23:00:00</td>\n",
       "      <td>2024-04-21</td>\n",
       "      <td>0.782167</td>\n",
       "      <td>0.695208</td>\n",
       "      <td>0.675625</td>\n",
       "      <td>0.424917</td>\n",
       "      <td>0.360583</td>\n",
       "      <td>0.319542</td>\n",
       "      <td>0.000000</td>\n",
       "      <td>0.000000e+00</td>\n",
       "      <td>0.000000</td>\n",
       "    </tr>\n",
       "  </tbody>\n",
       "</table>\n",
       "</div>"
      ],
      "text/plain": [
       "              timestamp                time        date  \\\n",
       "20152  1713726000000000 2024-04-21 19:00:00  2024-04-21   \n",
       "20153  1713729600000000 2024-04-21 20:00:00  2024-04-21   \n",
       "20154  1713733200000000 2024-04-21 21:00:00  2024-04-21   \n",
       "20155  1713736800000000 2024-04-21 22:00:00  2024-04-21   \n",
       "20156  1713740400000000 2024-04-21 23:00:00  2024-04-21   \n",
       "\n",
       "       dk1_offshore_wind_forecastcurrent_kwh  \\\n",
       "20152                               0.993583   \n",
       "20153                               0.997375   \n",
       "20154                               0.702958   \n",
       "20155                               0.734458   \n",
       "20156                               0.782167   \n",
       "\n",
       "       dk1_offshore_wind_forecastdayahead_kwh  \\\n",
       "20152                                0.735417   \n",
       "20153                                0.734583   \n",
       "20154                                0.725542   \n",
       "20155                                0.713042   \n",
       "20156                                0.695208   \n",
       "\n",
       "       dk1_offshore_wind_forecastintraday_kwh  \\\n",
       "20152                                0.770083   \n",
       "20153                                0.769458   \n",
       "20154                                0.746792   \n",
       "20155                                0.714167   \n",
       "20156                                0.675625   \n",
       "\n",
       "       dk1_onshore_wind_forecastcurrent_kwh  \\\n",
       "20152                              0.668417   \n",
       "20153                              0.632792   \n",
       "20154                              0.480250   \n",
       "20155                              0.430000   \n",
       "20156                              0.424917   \n",
       "\n",
       "       dk1_onshore_wind_forecastdayahead_kwh  \\\n",
       "20152                               0.474958   \n",
       "20153                               0.407750   \n",
       "20154                               0.396708   \n",
       "20155                               0.389750   \n",
       "20156                               0.360583   \n",
       "\n",
       "       dk1_onshore_wind_forecastintraday_kwh  dk1_solar_forecastcurrent_kwh  \\\n",
       "20152                               0.508625                       0.228984   \n",
       "20153                               0.424458                       0.041345   \n",
       "20154                               0.399042                       0.001805   \n",
       "20155                               0.362917                       0.000000   \n",
       "20156                               0.319542                       0.000000   \n",
       "\n",
       "       dk1_solar_forecastdayahead_kwh  dk1_solar_forecastintraday_kwh  \n",
       "20152                    1.839621e-01                        0.180932  \n",
       "20153                    1.689833e-02                        0.016666  \n",
       "20154                    5.045830e-04                        0.000485  \n",
       "20155                    4.170000e-07                        0.000000  \n",
       "20156                    0.000000e+00                        0.000000  "
      ]
     },
     "execution_count": 10,
     "metadata": {},
     "output_type": "execute_result"
    }
   ],
   "source": [
    "# Display the last 5 rows of the dataframe\n",
    "forecast_renewable_energy_df.tail(5)"
   ]
  },
  {
   "cell_type": "code",
   "execution_count": 11,
   "metadata": {},
   "outputs": [
    {
     "name": "stdout",
     "output_type": "stream",
     "text": [
      "<class 'pandas.core.frame.DataFrame'>\n",
      "RangeIndex: 20157 entries, 0 to 20156\n",
      "Data columns (total 12 columns):\n",
      " #   Column                                  Non-Null Count  Dtype         \n",
      "---  ------                                  --------------  -----         \n",
      " 0   timestamp                               20157 non-null  int64         \n",
      " 1   time                                    20157 non-null  datetime64[ns]\n",
      " 2   date                                    20157 non-null  object        \n",
      " 3   dk1_offshore_wind_forecastcurrent_kwh   20148 non-null  float64       \n",
      " 4   dk1_offshore_wind_forecastdayahead_kwh  20085 non-null  float64       \n",
      " 5   dk1_offshore_wind_forecastintraday_kwh  14175 non-null  float64       \n",
      " 6   dk1_onshore_wind_forecastcurrent_kwh    20148 non-null  float64       \n",
      " 7   dk1_onshore_wind_forecastdayahead_kwh   20109 non-null  float64       \n",
      " 8   dk1_onshore_wind_forecastintraday_kwh   14175 non-null  float64       \n",
      " 9   dk1_solar_forecastcurrent_kwh           20157 non-null  float64       \n",
      " 10  dk1_solar_forecastdayahead_kwh          20109 non-null  float64       \n",
      " 11  dk1_solar_forecastintraday_kwh          14175 non-null  float64       \n",
      "dtypes: datetime64[ns](1), float64(9), int64(1), object(1)\n",
      "memory usage: 1.8+ MB\n"
     ]
    }
   ],
   "source": [
    "# Showing the information for the forecast_renewable_energy dataframe\n",
    "forecast_renewable_energy_df.info()"
   ]
  },
  {
   "cell_type": "markdown",
   "metadata": {},
   "source": [
    "### <span style=\"color:#2656a3;\"> 🌤 Weather measurements from Open Meteo\n",
    "\n",
    "Burde have enddate 2023-12-31. url = (\"https://archive-api.open-meteo.com/v1/archive?latitude=57.048&longitude=9.9187&start_date=2022-01-01&end_date=2023-12-31&hourly=temperature_2m,relative_humidity_2m,precipitation,rain,snowfall,weather_code,cloud_cover,wind_speed_10m,wind_gusts_10m\")"
   ]
  },
  {
   "cell_type": "markdown",
   "metadata": {},
   "source": [
    "#### <span style=\"color:#2656a3;\"> 🕰️ Historical Weater Measures"
   ]
  },
  {
   "cell_type": "code",
   "execution_count": 12,
   "metadata": {},
   "outputs": [],
   "source": [
    "# Fetching historical electricity prices data\n",
    "historical_weather_df = weater_measures.historical_weater_measures(\n",
    "    historical=True, \n",
    "    start = '2022-01-01', \n",
    "    #end = '2023-12-31'\n",
    ")"
   ]
  },
  {
   "cell_type": "code",
   "execution_count": 13,
   "metadata": {},
   "outputs": [
    {
     "data": {
      "text/html": [
       "<div>\n",
       "<style scoped>\n",
       "    .dataframe tbody tr th:only-of-type {\n",
       "        vertical-align: middle;\n",
       "    }\n",
       "\n",
       "    .dataframe tbody tr th {\n",
       "        vertical-align: top;\n",
       "    }\n",
       "\n",
       "    .dataframe thead th {\n",
       "        text-align: right;\n",
       "    }\n",
       "</style>\n",
       "<table border=\"1\" class=\"dataframe\">\n",
       "  <thead>\n",
       "    <tr style=\"text-align: right;\">\n",
       "      <th></th>\n",
       "      <th>timestamp</th>\n",
       "      <th>date</th>\n",
       "      <th>time</th>\n",
       "      <th>temperature_2m</th>\n",
       "      <th>relative_humidity_2m</th>\n",
       "      <th>precipitation</th>\n",
       "      <th>rain</th>\n",
       "      <th>snowfall</th>\n",
       "      <th>weather_code</th>\n",
       "      <th>cloud_cover</th>\n",
       "      <th>wind_speed_10m</th>\n",
       "      <th>wind_gusts_10m</th>\n",
       "    </tr>\n",
       "  </thead>\n",
       "  <tbody>\n",
       "    <tr>\n",
       "      <th>0</th>\n",
       "      <td>1640995200000000</td>\n",
       "      <td>2022-01-01</td>\n",
       "      <td>2022-01-01 00:00:00</td>\n",
       "      <td>6.7</td>\n",
       "      <td>100.0</td>\n",
       "      <td>0.0</td>\n",
       "      <td>0.0</td>\n",
       "      <td>0.0</td>\n",
       "      <td>3.0</td>\n",
       "      <td>100.0</td>\n",
       "      <td>16.2</td>\n",
       "      <td>36.0</td>\n",
       "    </tr>\n",
       "    <tr>\n",
       "      <th>1</th>\n",
       "      <td>1640998800000000</td>\n",
       "      <td>2022-01-01</td>\n",
       "      <td>2022-01-01 01:00:00</td>\n",
       "      <td>6.6</td>\n",
       "      <td>100.0</td>\n",
       "      <td>0.0</td>\n",
       "      <td>0.0</td>\n",
       "      <td>0.0</td>\n",
       "      <td>3.0</td>\n",
       "      <td>100.0</td>\n",
       "      <td>16.2</td>\n",
       "      <td>30.2</td>\n",
       "    </tr>\n",
       "    <tr>\n",
       "      <th>2</th>\n",
       "      <td>1641002400000000</td>\n",
       "      <td>2022-01-01</td>\n",
       "      <td>2022-01-01 02:00:00</td>\n",
       "      <td>6.7</td>\n",
       "      <td>99.0</td>\n",
       "      <td>0.0</td>\n",
       "      <td>0.0</td>\n",
       "      <td>0.0</td>\n",
       "      <td>3.0</td>\n",
       "      <td>100.0</td>\n",
       "      <td>15.5</td>\n",
       "      <td>30.6</td>\n",
       "    </tr>\n",
       "    <tr>\n",
       "      <th>3</th>\n",
       "      <td>1641006000000000</td>\n",
       "      <td>2022-01-01</td>\n",
       "      <td>2022-01-01 03:00:00</td>\n",
       "      <td>6.7</td>\n",
       "      <td>100.0</td>\n",
       "      <td>0.0</td>\n",
       "      <td>0.0</td>\n",
       "      <td>0.0</td>\n",
       "      <td>3.0</td>\n",
       "      <td>100.0</td>\n",
       "      <td>12.7</td>\n",
       "      <td>28.8</td>\n",
       "    </tr>\n",
       "    <tr>\n",
       "      <th>4</th>\n",
       "      <td>1641009600000000</td>\n",
       "      <td>2022-01-01</td>\n",
       "      <td>2022-01-01 04:00:00</td>\n",
       "      <td>6.7</td>\n",
       "      <td>99.0</td>\n",
       "      <td>0.0</td>\n",
       "      <td>0.0</td>\n",
       "      <td>0.0</td>\n",
       "      <td>3.0</td>\n",
       "      <td>100.0</td>\n",
       "      <td>10.6</td>\n",
       "      <td>23.8</td>\n",
       "    </tr>\n",
       "  </tbody>\n",
       "</table>\n",
       "</div>"
      ],
      "text/plain": [
       "          timestamp        date                time  temperature_2m  \\\n",
       "0  1640995200000000  2022-01-01 2022-01-01 00:00:00             6.7   \n",
       "1  1640998800000000  2022-01-01 2022-01-01 01:00:00             6.6   \n",
       "2  1641002400000000  2022-01-01 2022-01-01 02:00:00             6.7   \n",
       "3  1641006000000000  2022-01-01 2022-01-01 03:00:00             6.7   \n",
       "4  1641009600000000  2022-01-01 2022-01-01 04:00:00             6.7   \n",
       "\n",
       "   relative_humidity_2m  precipitation  rain  snowfall  weather_code  \\\n",
       "0                 100.0            0.0   0.0       0.0           3.0   \n",
       "1                 100.0            0.0   0.0       0.0           3.0   \n",
       "2                  99.0            0.0   0.0       0.0           3.0   \n",
       "3                 100.0            0.0   0.0       0.0           3.0   \n",
       "4                  99.0            0.0   0.0       0.0           3.0   \n",
       "\n",
       "   cloud_cover  wind_speed_10m  wind_gusts_10m  \n",
       "0        100.0            16.2            36.0  \n",
       "1        100.0            16.2            30.2  \n",
       "2        100.0            15.5            30.6  \n",
       "3        100.0            12.7            28.8  \n",
       "4        100.0            10.6            23.8  "
      ]
     },
     "execution_count": 13,
     "metadata": {},
     "output_type": "execute_result"
    }
   ],
   "source": [
    "# Display the first 5 rows of the dataframe\n",
    "historical_weather_df.head(5)"
   ]
  },
  {
   "cell_type": "code",
   "execution_count": 46,
   "metadata": {},
   "outputs": [
    {
     "data": {
      "text/html": [
       "<div>\n",
       "<style scoped>\n",
       "    .dataframe tbody tr th:only-of-type {\n",
       "        vertical-align: middle;\n",
       "    }\n",
       "\n",
       "    .dataframe tbody tr th {\n",
       "        vertical-align: top;\n",
       "    }\n",
       "\n",
       "    .dataframe thead th {\n",
       "        text-align: right;\n",
       "    }\n",
       "</style>\n",
       "<table border=\"1\" class=\"dataframe\">\n",
       "  <thead>\n",
       "    <tr style=\"text-align: right;\">\n",
       "      <th></th>\n",
       "      <th>timestamp</th>\n",
       "      <th>date</th>\n",
       "      <th>time</th>\n",
       "      <th>temperature_2m</th>\n",
       "      <th>relative_humidity_2m</th>\n",
       "      <th>precipitation</th>\n",
       "      <th>rain</th>\n",
       "      <th>snowfall</th>\n",
       "      <th>weather_code</th>\n",
       "      <th>cloud_cover</th>\n",
       "      <th>wind_speed_10m</th>\n",
       "      <th>wind_gusts_10m</th>\n",
       "    </tr>\n",
       "  </thead>\n",
       "  <tbody>\n",
       "    <tr>\n",
       "      <th>20203</th>\n",
       "      <td>1713726000000000</td>\n",
       "      <td>2024-04-21</td>\n",
       "      <td>2024-04-21 19:00:00</td>\n",
       "      <td>NaN</td>\n",
       "      <td>NaN</td>\n",
       "      <td>NaN</td>\n",
       "      <td>NaN</td>\n",
       "      <td>NaN</td>\n",
       "      <td>NaN</td>\n",
       "      <td>NaN</td>\n",
       "      <td>NaN</td>\n",
       "      <td>NaN</td>\n",
       "    </tr>\n",
       "    <tr>\n",
       "      <th>20204</th>\n",
       "      <td>1713729600000000</td>\n",
       "      <td>2024-04-21</td>\n",
       "      <td>2024-04-21 20:00:00</td>\n",
       "      <td>NaN</td>\n",
       "      <td>NaN</td>\n",
       "      <td>NaN</td>\n",
       "      <td>NaN</td>\n",
       "      <td>NaN</td>\n",
       "      <td>NaN</td>\n",
       "      <td>NaN</td>\n",
       "      <td>NaN</td>\n",
       "      <td>NaN</td>\n",
       "    </tr>\n",
       "    <tr>\n",
       "      <th>20205</th>\n",
       "      <td>1713733200000000</td>\n",
       "      <td>2024-04-21</td>\n",
       "      <td>2024-04-21 21:00:00</td>\n",
       "      <td>NaN</td>\n",
       "      <td>NaN</td>\n",
       "      <td>NaN</td>\n",
       "      <td>NaN</td>\n",
       "      <td>NaN</td>\n",
       "      <td>NaN</td>\n",
       "      <td>NaN</td>\n",
       "      <td>NaN</td>\n",
       "      <td>NaN</td>\n",
       "    </tr>\n",
       "    <tr>\n",
       "      <th>20206</th>\n",
       "      <td>1713736800000000</td>\n",
       "      <td>2024-04-21</td>\n",
       "      <td>2024-04-21 22:00:00</td>\n",
       "      <td>NaN</td>\n",
       "      <td>NaN</td>\n",
       "      <td>NaN</td>\n",
       "      <td>NaN</td>\n",
       "      <td>NaN</td>\n",
       "      <td>NaN</td>\n",
       "      <td>NaN</td>\n",
       "      <td>NaN</td>\n",
       "      <td>NaN</td>\n",
       "    </tr>\n",
       "    <tr>\n",
       "      <th>20207</th>\n",
       "      <td>1713740400000000</td>\n",
       "      <td>2024-04-21</td>\n",
       "      <td>2024-04-21 23:00:00</td>\n",
       "      <td>NaN</td>\n",
       "      <td>NaN</td>\n",
       "      <td>NaN</td>\n",
       "      <td>NaN</td>\n",
       "      <td>NaN</td>\n",
       "      <td>NaN</td>\n",
       "      <td>NaN</td>\n",
       "      <td>NaN</td>\n",
       "      <td>NaN</td>\n",
       "    </tr>\n",
       "  </tbody>\n",
       "</table>\n",
       "</div>"
      ],
      "text/plain": [
       "              timestamp        date                time  temperature_2m  \\\n",
       "20203  1713726000000000  2024-04-21 2024-04-21 19:00:00             NaN   \n",
       "20204  1713729600000000  2024-04-21 2024-04-21 20:00:00             NaN   \n",
       "20205  1713733200000000  2024-04-21 2024-04-21 21:00:00             NaN   \n",
       "20206  1713736800000000  2024-04-21 2024-04-21 22:00:00             NaN   \n",
       "20207  1713740400000000  2024-04-21 2024-04-21 23:00:00             NaN   \n",
       "\n",
       "       relative_humidity_2m  precipitation  rain  snowfall  weather_code  \\\n",
       "20203                   NaN            NaN   NaN       NaN           NaN   \n",
       "20204                   NaN            NaN   NaN       NaN           NaN   \n",
       "20205                   NaN            NaN   NaN       NaN           NaN   \n",
       "20206                   NaN            NaN   NaN       NaN           NaN   \n",
       "20207                   NaN            NaN   NaN       NaN           NaN   \n",
       "\n",
       "       cloud_cover  wind_speed_10m  wind_gusts_10m  \n",
       "20203          NaN             NaN             NaN  \n",
       "20204          NaN             NaN             NaN  \n",
       "20205          NaN             NaN             NaN  \n",
       "20206          NaN             NaN             NaN  \n",
       "20207          NaN             NaN             NaN  "
      ]
     },
     "execution_count": 46,
     "metadata": {},
     "output_type": "execute_result"
    }
   ],
   "source": [
    "# Display the last 5 rows of the dataframe\n",
    "historical_weather_df.tail(5)"
   ]
  },
  {
   "cell_type": "code",
   "execution_count": 15,
   "metadata": {},
   "outputs": [
    {
     "name": "stdout",
     "output_type": "stream",
     "text": [
      "<class 'pandas.core.frame.DataFrame'>\n",
      "Int64Index: 20208 entries, 0 to 20207\n",
      "Data columns (total 12 columns):\n",
      " #   Column                Non-Null Count  Dtype         \n",
      "---  ------                --------------  -----         \n",
      " 0   timestamp             20208 non-null  int64         \n",
      " 1   date                  20208 non-null  object        \n",
      " 2   time                  20208 non-null  datetime64[ns]\n",
      " 3   temperature_2m        20184 non-null  float64       \n",
      " 4   relative_humidity_2m  20184 non-null  float64       \n",
      " 5   precipitation         20184 non-null  float64       \n",
      " 6   rain                  20184 non-null  float64       \n",
      " 7   snowfall              20184 non-null  float64       \n",
      " 8   weather_code          20184 non-null  float64       \n",
      " 9   cloud_cover           20184 non-null  float64       \n",
      " 10  wind_speed_10m        20184 non-null  float64       \n",
      " 11  wind_gusts_10m        20184 non-null  float64       \n",
      "dtypes: datetime64[ns](1), float64(9), int64(1), object(1)\n",
      "memory usage: 2.0+ MB\n"
     ]
    }
   ],
   "source": [
    "# Showing the information for the weather dataframe\n",
    "historical_weather_df.info()"
   ]
  },
  {
   "cell_type": "markdown",
   "metadata": {},
   "source": [
    "#### <span style=\"color:#2656a3;\"> 🌈 Weater Forecast"
   ]
  },
  {
   "cell_type": "code",
   "execution_count": 16,
   "metadata": {},
   "outputs": [],
   "source": [
    "# Fetching historical electricity prices data\n",
    "weather_forecast_df = weater_measures.forecast_weater_measures(\n",
    "    forecast_length=5\n",
    ")"
   ]
  },
  {
   "cell_type": "code",
   "execution_count": 17,
   "metadata": {},
   "outputs": [
    {
     "data": {
      "text/html": [
       "<div>\n",
       "<style scoped>\n",
       "    .dataframe tbody tr th:only-of-type {\n",
       "        vertical-align: middle;\n",
       "    }\n",
       "\n",
       "    .dataframe tbody tr th {\n",
       "        vertical-align: top;\n",
       "    }\n",
       "\n",
       "    .dataframe thead th {\n",
       "        text-align: right;\n",
       "    }\n",
       "</style>\n",
       "<table border=\"1\" class=\"dataframe\">\n",
       "  <thead>\n",
       "    <tr style=\"text-align: right;\">\n",
       "      <th></th>\n",
       "      <th>timestamp</th>\n",
       "      <th>date</th>\n",
       "      <th>time</th>\n",
       "      <th>temperature_2m</th>\n",
       "      <th>relative_humidity_2m</th>\n",
       "      <th>precipitation</th>\n",
       "      <th>rain</th>\n",
       "      <th>snowfall</th>\n",
       "      <th>weather_code</th>\n",
       "      <th>cloud_cover</th>\n",
       "      <th>wind_speed_10m</th>\n",
       "      <th>wind_gusts_10m</th>\n",
       "    </tr>\n",
       "  </thead>\n",
       "  <tbody>\n",
       "    <tr>\n",
       "      <th>0</th>\n",
       "      <td>1713744000000000</td>\n",
       "      <td>2024-04-22</td>\n",
       "      <td>2024-04-22 00:00:00</td>\n",
       "      <td>3.5</td>\n",
       "      <td>60</td>\n",
       "      <td>0.0</td>\n",
       "      <td>0.0</td>\n",
       "      <td>0.0</td>\n",
       "      <td>3</td>\n",
       "      <td>98</td>\n",
       "      <td>6.8</td>\n",
       "      <td>14.0</td>\n",
       "    </tr>\n",
       "    <tr>\n",
       "      <th>1</th>\n",
       "      <td>1713747600000000</td>\n",
       "      <td>2024-04-22</td>\n",
       "      <td>2024-04-22 01:00:00</td>\n",
       "      <td>3.3</td>\n",
       "      <td>63</td>\n",
       "      <td>0.0</td>\n",
       "      <td>0.0</td>\n",
       "      <td>0.0</td>\n",
       "      <td>3</td>\n",
       "      <td>100</td>\n",
       "      <td>6.5</td>\n",
       "      <td>10.4</td>\n",
       "    </tr>\n",
       "    <tr>\n",
       "      <th>2</th>\n",
       "      <td>1713751200000000</td>\n",
       "      <td>2024-04-22</td>\n",
       "      <td>2024-04-22 02:00:00</td>\n",
       "      <td>3.0</td>\n",
       "      <td>61</td>\n",
       "      <td>0.0</td>\n",
       "      <td>0.0</td>\n",
       "      <td>0.0</td>\n",
       "      <td>3</td>\n",
       "      <td>100</td>\n",
       "      <td>7.6</td>\n",
       "      <td>13.0</td>\n",
       "    </tr>\n",
       "    <tr>\n",
       "      <th>3</th>\n",
       "      <td>1713754800000000</td>\n",
       "      <td>2024-04-22</td>\n",
       "      <td>2024-04-22 03:00:00</td>\n",
       "      <td>2.6</td>\n",
       "      <td>61</td>\n",
       "      <td>0.0</td>\n",
       "      <td>0.0</td>\n",
       "      <td>0.0</td>\n",
       "      <td>2</td>\n",
       "      <td>75</td>\n",
       "      <td>7.9</td>\n",
       "      <td>14.8</td>\n",
       "    </tr>\n",
       "    <tr>\n",
       "      <th>4</th>\n",
       "      <td>1713758400000000</td>\n",
       "      <td>2024-04-22</td>\n",
       "      <td>2024-04-22 04:00:00</td>\n",
       "      <td>2.1</td>\n",
       "      <td>60</td>\n",
       "      <td>0.0</td>\n",
       "      <td>0.0</td>\n",
       "      <td>0.0</td>\n",
       "      <td>2</td>\n",
       "      <td>53</td>\n",
       "      <td>9.0</td>\n",
       "      <td>14.4</td>\n",
       "    </tr>\n",
       "  </tbody>\n",
       "</table>\n",
       "</div>"
      ],
      "text/plain": [
       "          timestamp        date                time  temperature_2m  \\\n",
       "0  1713744000000000  2024-04-22 2024-04-22 00:00:00             3.5   \n",
       "1  1713747600000000  2024-04-22 2024-04-22 01:00:00             3.3   \n",
       "2  1713751200000000  2024-04-22 2024-04-22 02:00:00             3.0   \n",
       "3  1713754800000000  2024-04-22 2024-04-22 03:00:00             2.6   \n",
       "4  1713758400000000  2024-04-22 2024-04-22 04:00:00             2.1   \n",
       "\n",
       "   relative_humidity_2m  precipitation  rain  snowfall  weather_code  \\\n",
       "0                    60            0.0   0.0       0.0             3   \n",
       "1                    63            0.0   0.0       0.0             3   \n",
       "2                    61            0.0   0.0       0.0             3   \n",
       "3                    61            0.0   0.0       0.0             2   \n",
       "4                    60            0.0   0.0       0.0             2   \n",
       "\n",
       "   cloud_cover  wind_speed_10m  wind_gusts_10m  \n",
       "0           98             6.8            14.0  \n",
       "1          100             6.5            10.4  \n",
       "2          100             7.6            13.0  \n",
       "3           75             7.9            14.8  \n",
       "4           53             9.0            14.4  "
      ]
     },
     "execution_count": 17,
     "metadata": {},
     "output_type": "execute_result"
    }
   ],
   "source": [
    "# Display the first 5 rows of the dataframe\n",
    "weather_forecast_df.head(5)"
   ]
  },
  {
   "cell_type": "code",
   "execution_count": 18,
   "metadata": {},
   "outputs": [
    {
     "data": {
      "text/html": [
       "<div>\n",
       "<style scoped>\n",
       "    .dataframe tbody tr th:only-of-type {\n",
       "        vertical-align: middle;\n",
       "    }\n",
       "\n",
       "    .dataframe tbody tr th {\n",
       "        vertical-align: top;\n",
       "    }\n",
       "\n",
       "    .dataframe thead th {\n",
       "        text-align: right;\n",
       "    }\n",
       "</style>\n",
       "<table border=\"1\" class=\"dataframe\">\n",
       "  <thead>\n",
       "    <tr style=\"text-align: right;\">\n",
       "      <th></th>\n",
       "      <th>timestamp</th>\n",
       "      <th>date</th>\n",
       "      <th>time</th>\n",
       "      <th>temperature_2m</th>\n",
       "      <th>relative_humidity_2m</th>\n",
       "      <th>precipitation</th>\n",
       "      <th>rain</th>\n",
       "      <th>snowfall</th>\n",
       "      <th>weather_code</th>\n",
       "      <th>cloud_cover</th>\n",
       "      <th>wind_speed_10m</th>\n",
       "      <th>wind_gusts_10m</th>\n",
       "    </tr>\n",
       "  </thead>\n",
       "  <tbody>\n",
       "    <tr>\n",
       "      <th>163</th>\n",
       "      <td>1714330800000000</td>\n",
       "      <td>2024-04-28</td>\n",
       "      <td>2024-04-28 19:00:00</td>\n",
       "      <td>11.6</td>\n",
       "      <td>72</td>\n",
       "      <td>0.0</td>\n",
       "      <td>0.0</td>\n",
       "      <td>0.0</td>\n",
       "      <td>1</td>\n",
       "      <td>78</td>\n",
       "      <td>12.1</td>\n",
       "      <td>24.1</td>\n",
       "    </tr>\n",
       "    <tr>\n",
       "      <th>164</th>\n",
       "      <td>1714334400000000</td>\n",
       "      <td>2024-04-28</td>\n",
       "      <td>2024-04-28 20:00:00</td>\n",
       "      <td>10.7</td>\n",
       "      <td>74</td>\n",
       "      <td>0.0</td>\n",
       "      <td>0.0</td>\n",
       "      <td>0.0</td>\n",
       "      <td>1</td>\n",
       "      <td>57</td>\n",
       "      <td>11.6</td>\n",
       "      <td>23.4</td>\n",
       "    </tr>\n",
       "    <tr>\n",
       "      <th>165</th>\n",
       "      <td>1714338000000000</td>\n",
       "      <td>2024-04-28</td>\n",
       "      <td>2024-04-28 21:00:00</td>\n",
       "      <td>10.0</td>\n",
       "      <td>77</td>\n",
       "      <td>0.0</td>\n",
       "      <td>0.0</td>\n",
       "      <td>0.0</td>\n",
       "      <td>1</td>\n",
       "      <td>35</td>\n",
       "      <td>11.0</td>\n",
       "      <td>22.3</td>\n",
       "    </tr>\n",
       "    <tr>\n",
       "      <th>166</th>\n",
       "      <td>1714341600000000</td>\n",
       "      <td>2024-04-28</td>\n",
       "      <td>2024-04-28 22:00:00</td>\n",
       "      <td>9.8</td>\n",
       "      <td>80</td>\n",
       "      <td>0.0</td>\n",
       "      <td>0.0</td>\n",
       "      <td>0.0</td>\n",
       "      <td>3</td>\n",
       "      <td>57</td>\n",
       "      <td>10.7</td>\n",
       "      <td>21.6</td>\n",
       "    </tr>\n",
       "    <tr>\n",
       "      <th>167</th>\n",
       "      <td>1714345200000000</td>\n",
       "      <td>2024-04-28</td>\n",
       "      <td>2024-04-28 23:00:00</td>\n",
       "      <td>9.8</td>\n",
       "      <td>83</td>\n",
       "      <td>0.0</td>\n",
       "      <td>0.0</td>\n",
       "      <td>0.0</td>\n",
       "      <td>3</td>\n",
       "      <td>78</td>\n",
       "      <td>11.2</td>\n",
       "      <td>21.2</td>\n",
       "    </tr>\n",
       "  </tbody>\n",
       "</table>\n",
       "</div>"
      ],
      "text/plain": [
       "            timestamp        date                time  temperature_2m  \\\n",
       "163  1714330800000000  2024-04-28 2024-04-28 19:00:00            11.6   \n",
       "164  1714334400000000  2024-04-28 2024-04-28 20:00:00            10.7   \n",
       "165  1714338000000000  2024-04-28 2024-04-28 21:00:00            10.0   \n",
       "166  1714341600000000  2024-04-28 2024-04-28 22:00:00             9.8   \n",
       "167  1714345200000000  2024-04-28 2024-04-28 23:00:00             9.8   \n",
       "\n",
       "     relative_humidity_2m  precipitation  rain  snowfall  weather_code  \\\n",
       "163                    72            0.0   0.0       0.0             1   \n",
       "164                    74            0.0   0.0       0.0             1   \n",
       "165                    77            0.0   0.0       0.0             1   \n",
       "166                    80            0.0   0.0       0.0             3   \n",
       "167                    83            0.0   0.0       0.0             3   \n",
       "\n",
       "     cloud_cover  wind_speed_10m  wind_gusts_10m  \n",
       "163           78            12.1            24.1  \n",
       "164           57            11.6            23.4  \n",
       "165           35            11.0            22.3  \n",
       "166           57            10.7            21.6  \n",
       "167           78            11.2            21.2  "
      ]
     },
     "execution_count": 18,
     "metadata": {},
     "output_type": "execute_result"
    }
   ],
   "source": [
    "# Display the last 5 rows of the dataframe\n",
    "weather_forecast_df.tail(5)"
   ]
  },
  {
   "cell_type": "code",
   "execution_count": 19,
   "metadata": {},
   "outputs": [
    {
     "name": "stdout",
     "output_type": "stream",
     "text": [
      "<class 'pandas.core.frame.DataFrame'>\n",
      "RangeIndex: 168 entries, 0 to 167\n",
      "Data columns (total 12 columns):\n",
      " #   Column                Non-Null Count  Dtype         \n",
      "---  ------                --------------  -----         \n",
      " 0   timestamp             168 non-null    int64         \n",
      " 1   date                  168 non-null    object        \n",
      " 2   time                  168 non-null    datetime64[ns]\n",
      " 3   temperature_2m        168 non-null    float64       \n",
      " 4   relative_humidity_2m  168 non-null    int64         \n",
      " 5   precipitation         168 non-null    float64       \n",
      " 6   rain                  168 non-null    float64       \n",
      " 7   snowfall              168 non-null    float64       \n",
      " 8   weather_code          168 non-null    int64         \n",
      " 9   cloud_cover           168 non-null    int64         \n",
      " 10  wind_speed_10m        168 non-null    float64       \n",
      " 11  wind_gusts_10m        168 non-null    float64       \n",
      "dtypes: datetime64[ns](1), float64(6), int64(4), object(1)\n",
      "memory usage: 15.9+ KB\n"
     ]
    }
   ],
   "source": [
    "# Showing the information for the weather dataframe\n",
    "weather_forecast_df.info()"
   ]
  },
  {
   "cell_type": "markdown",
   "metadata": {},
   "source": [
    "### <span style=\"color:#2656a3;\"> 🗓️ Calendar of Danish workdays and holidays "
   ]
  },
  {
   "cell_type": "code",
   "execution_count": 20,
   "metadata": {},
   "outputs": [
    {
     "data": {
      "text/html": [
       "<div>\n",
       "<style scoped>\n",
       "    .dataframe tbody tr th:only-of-type {\n",
       "        vertical-align: middle;\n",
       "    }\n",
       "\n",
       "    .dataframe tbody tr th {\n",
       "        vertical-align: top;\n",
       "    }\n",
       "\n",
       "    .dataframe thead th {\n",
       "        text-align: right;\n",
       "    }\n",
       "</style>\n",
       "<table border=\"1\" class=\"dataframe\">\n",
       "  <thead>\n",
       "    <tr style=\"text-align: right;\">\n",
       "      <th></th>\n",
       "      <th>date</th>\n",
       "      <th>type</th>\n",
       "    </tr>\n",
       "  </thead>\n",
       "  <tbody>\n",
       "    <tr>\n",
       "      <th>0</th>\n",
       "      <td>01/01/2022</td>\n",
       "      <td>Not a Workday</td>\n",
       "    </tr>\n",
       "    <tr>\n",
       "      <th>1</th>\n",
       "      <td>02/01/2022</td>\n",
       "      <td>Not a Workday</td>\n",
       "    </tr>\n",
       "    <tr>\n",
       "      <th>2</th>\n",
       "      <td>03/01/2022</td>\n",
       "      <td>Workday</td>\n",
       "    </tr>\n",
       "    <tr>\n",
       "      <th>3</th>\n",
       "      <td>04/01/2022</td>\n",
       "      <td>Workday</td>\n",
       "    </tr>\n",
       "    <tr>\n",
       "      <th>4</th>\n",
       "      <td>05/01/2022</td>\n",
       "      <td>Workday</td>\n",
       "    </tr>\n",
       "  </tbody>\n",
       "</table>\n",
       "</div>"
      ],
      "text/plain": [
       "         date           type\n",
       "0  01/01/2022  Not a Workday\n",
       "1  02/01/2022  Not a Workday\n",
       "2  03/01/2022        Workday\n",
       "3  04/01/2022        Workday\n",
       "4  05/01/2022        Workday"
      ]
     },
     "execution_count": 20,
     "metadata": {},
     "output_type": "execute_result"
    }
   ],
   "source": [
    "# Read csv file with calender\n",
    "calender_df = pd.read_csv('https://raw.githubusercontent.com/Camillahannesbo/MLOPs-Assignment-/main/data/calendar_incl_holiday.csv', delimiter=';', usecols=['date', 'type'])\n",
    " \n",
    "# Display the DataFrame\n",
    "calender_df.head()"
   ]
  },
  {
   "cell_type": "code",
   "execution_count": 21,
   "metadata": {},
   "outputs": [],
   "source": [
    "# Formatting the date column to 'YYYY-MM-DD' dateformat\n",
    "calender_df[\"date\"] = calender_df[\"date\"].map(lambda x: datetime.strptime(x, '%d/%m/%Y').strftime(\"%Y-%m-%d\"))"
   ]
  },
  {
   "cell_type": "code",
   "execution_count": 22,
   "metadata": {},
   "outputs": [
    {
     "data": {
      "text/html": [
       "<div>\n",
       "<style scoped>\n",
       "    .dataframe tbody tr th:only-of-type {\n",
       "        vertical-align: middle;\n",
       "    }\n",
       "\n",
       "    .dataframe tbody tr th {\n",
       "        vertical-align: top;\n",
       "    }\n",
       "\n",
       "    .dataframe thead th {\n",
       "        text-align: right;\n",
       "    }\n",
       "</style>\n",
       "<table border=\"1\" class=\"dataframe\">\n",
       "  <thead>\n",
       "    <tr style=\"text-align: right;\">\n",
       "      <th></th>\n",
       "      <th>date</th>\n",
       "      <th>type</th>\n",
       "    </tr>\n",
       "  </thead>\n",
       "  <tbody>\n",
       "    <tr>\n",
       "      <th>0</th>\n",
       "      <td>2022-01-01</td>\n",
       "      <td>Not a Workday</td>\n",
       "    </tr>\n",
       "    <tr>\n",
       "      <th>1</th>\n",
       "      <td>2022-01-02</td>\n",
       "      <td>Not a Workday</td>\n",
       "    </tr>\n",
       "    <tr>\n",
       "      <th>2</th>\n",
       "      <td>2022-01-03</td>\n",
       "      <td>Workday</td>\n",
       "    </tr>\n",
       "    <tr>\n",
       "      <th>3</th>\n",
       "      <td>2022-01-04</td>\n",
       "      <td>Workday</td>\n",
       "    </tr>\n",
       "    <tr>\n",
       "      <th>4</th>\n",
       "      <td>2022-01-05</td>\n",
       "      <td>Workday</td>\n",
       "    </tr>\n",
       "  </tbody>\n",
       "</table>\n",
       "</div>"
      ],
      "text/plain": [
       "         date           type\n",
       "0  2022-01-01  Not a Workday\n",
       "1  2022-01-02  Not a Workday\n",
       "2  2022-01-03        Workday\n",
       "3  2022-01-04        Workday\n",
       "4  2022-01-05        Workday"
      ]
     },
     "execution_count": 22,
     "metadata": {},
     "output_type": "execute_result"
    }
   ],
   "source": [
    "# Display the first 5 rows of the dataframe\n",
    "calender_df.head(5)"
   ]
  },
  {
   "cell_type": "code",
   "execution_count": 23,
   "metadata": {},
   "outputs": [
    {
     "data": {
      "text/html": [
       "<div>\n",
       "<style scoped>\n",
       "    .dataframe tbody tr th:only-of-type {\n",
       "        vertical-align: middle;\n",
       "    }\n",
       "\n",
       "    .dataframe tbody tr th {\n",
       "        vertical-align: top;\n",
       "    }\n",
       "\n",
       "    .dataframe thead th {\n",
       "        text-align: right;\n",
       "    }\n",
       "</style>\n",
       "<table border=\"1\" class=\"dataframe\">\n",
       "  <thead>\n",
       "    <tr style=\"text-align: right;\">\n",
       "      <th></th>\n",
       "      <th>date</th>\n",
       "      <th>type</th>\n",
       "    </tr>\n",
       "  </thead>\n",
       "  <tbody>\n",
       "    <tr>\n",
       "      <th>1091</th>\n",
       "      <td>2024-12-27</td>\n",
       "      <td>Workday</td>\n",
       "    </tr>\n",
       "    <tr>\n",
       "      <th>1092</th>\n",
       "      <td>2024-12-28</td>\n",
       "      <td>Not a Workday</td>\n",
       "    </tr>\n",
       "    <tr>\n",
       "      <th>1093</th>\n",
       "      <td>2024-12-29</td>\n",
       "      <td>Not a Workday</td>\n",
       "    </tr>\n",
       "    <tr>\n",
       "      <th>1094</th>\n",
       "      <td>2024-12-30</td>\n",
       "      <td>Workday</td>\n",
       "    </tr>\n",
       "    <tr>\n",
       "      <th>1095</th>\n",
       "      <td>2024-12-31</td>\n",
       "      <td>Workday</td>\n",
       "    </tr>\n",
       "  </tbody>\n",
       "</table>\n",
       "</div>"
      ],
      "text/plain": [
       "            date           type\n",
       "1091  2024-12-27        Workday\n",
       "1092  2024-12-28  Not a Workday\n",
       "1093  2024-12-29  Not a Workday\n",
       "1094  2024-12-30        Workday\n",
       "1095  2024-12-31        Workday"
      ]
     },
     "execution_count": 23,
     "metadata": {},
     "output_type": "execute_result"
    }
   ],
   "source": [
    "# Display the last 5 rows of the dataframe\n",
    "calender_df.tail(5)"
   ]
  },
  {
   "cell_type": "code",
   "execution_count": 24,
   "metadata": {},
   "outputs": [
    {
     "name": "stdout",
     "output_type": "stream",
     "text": [
      "<class 'pandas.core.frame.DataFrame'>\n",
      "RangeIndex: 1096 entries, 0 to 1095\n",
      "Data columns (total 2 columns):\n",
      " #   Column  Non-Null Count  Dtype \n",
      "---  ------  --------------  ----- \n",
      " 0   date    1096 non-null   object\n",
      " 1   type    1096 non-null   object\n",
      "dtypes: object(2)\n",
      "memory usage: 17.3+ KB\n"
     ]
    }
   ],
   "source": [
    "# Showing the information for the calender dataframe\n",
    "calender_df.info()"
   ]
  },
  {
   "cell_type": "markdown",
   "metadata": {},
   "source": [
    "## <span style=\"color:#2656a3;\"> 📡 Connecting to Hopsworks Feature Store\n",
    "\n",
    "First we will connect to Hopsworks Feature Store so we can access and create Feature Groups.\n",
    "Feature groups can also be used to define a namespace for features. For instance, in a real-life setting you would likely want to experiment with different window lengths. In that case, you can create feature groups with identical schema for each window length. \n",
    "\n",
    "Before you can create a feature group you need to connect to our feature store."
   ]
  },
  {
   "cell_type": "code",
   "execution_count": 25,
   "metadata": {},
   "outputs": [
    {
     "name": "stdout",
     "output_type": "stream",
     "text": [
      "Connected. Call `.close()` to terminate connection gracefully.\n"
     ]
    },
    {
     "name": "stderr",
     "output_type": "stream",
     "text": [
      "\n",
      "\n"
     ]
    },
    {
     "name": "stdout",
     "output_type": "stream",
     "text": [
      "\n",
      "Logged in to project, explore it here https://c.app.hopsworks.ai:443/p/554133\n",
      "Connected. Call `.close()` to terminate connection gracefully.\n"
     ]
    }
   ],
   "source": [
    "import hopsworks\n",
    "\n",
    "project = hopsworks.login()\n",
    "\n",
    "fs = project.get_feature_store()"
   ]
  },
  {
   "cell_type": "markdown",
   "metadata": {},
   "source": [
    "### <span style=\"color:#2656a3;\"> 🪄 Creating Feature Groups\n",
    "\n",
    "When creating a feature group, you must name it and designate a primary key. Additionally, it's helpful to include a description of the feature group's contents and a version number; if not defined, it will default to `1`. \n",
    "\n",
    "We've configured `online_enabled` as `True` to enable the feature group to be read via the Online API for a Feature View."
   ]
  },
  {
   "cell_type": "code",
   "execution_count": 26,
   "metadata": {},
   "outputs": [],
   "source": [
    "# Creating the feature group for the weater data\n",
    "weather_fg = fs.get_or_create_feature_group(\n",
    "    name=\"weather_measurements\",\n",
    "    version=1,\n",
    "    description=\"Weather measurements from Open Meteo API\",\n",
    "    primary_key=[\"date\"],\n",
    "    event_time=\"timestamp\",\n",
    "    online_enabled=True,\n",
    ")"
   ]
  },
  {
   "cell_type": "markdown",
   "metadata": {},
   "source": [
    "By now, you've only outlined metadata for the feature group. There's no data stored, nor is there a defined schema for it. To establish persistence for the feature group, you'll need to populate it with its associated data using the `insert` function"
   ]
  },
  {
   "cell_type": "code",
   "execution_count": 27,
   "metadata": {},
   "outputs": [
    {
     "name": "stdout",
     "output_type": "stream",
     "text": [
      "Feature Group created successfully, explore it at \n",
      "https://c.app.hopsworks.ai:443/p/554133/fs/549956/fg/743765\n"
     ]
    },
    {
     "name": "stderr",
     "output_type": "stream",
     "text": [
      "Uploading Dataframe: 100.00% |██████████| Rows 20208/20208 | Elapsed Time: 00:08 | Remaining Time: 00:00\n"
     ]
    },
    {
     "name": "stdout",
     "output_type": "stream",
     "text": [
      "Launching job: weather_measurements_1_offline_fg_materialization\n",
      "Job started successfully, you can follow the progress at \n",
      "https://c.app.hopsworks.ai/p/554133/jobs/named/weather_measurements_1_offline_fg_materialization/executions\n"
     ]
    },
    {
     "data": {
      "text/plain": [
       "(<hsfs.core.job.Job at 0x1769922d0>, None)"
      ]
     },
     "execution_count": 27,
     "metadata": {},
     "output_type": "execute_result"
    }
   ],
   "source": [
    "# Inserting the weather_df into the feature group named weather_fg\n",
    "weather_fg.insert(historical_weather_df)"
   ]
  },
  {
   "cell_type": "markdown",
   "metadata": {},
   "source": [
    "We make a descriptions for each feature we put into the feature group. In this way we are adding more information and documentation to the user"
   ]
  },
  {
   "cell_type": "code",
   "execution_count": 28,
   "metadata": {},
   "outputs": [],
   "source": [
    "weather_feature_descriptions = [\n",
    "    {\"name\": \"timestamp\", \"description\": \"Timestamp for the event_time\"},\n",
    "    {\"name\": \"date\", \"description\": \"Date of the weather measurement\"},\n",
    "    {\"name\": \"time\", \"description\": \"Time of the weather measurement\"},\n",
    "    {\"name\": \"temperature_2m\", \"description\": \"Temperature at 2m above ground\"},\n",
    "    {\"name\": \"relative_humidity_2m\", \"description\": \"Relative humidity at 2m above ground\"},\n",
    "    {\"name\": \"precipitation\", \"description\": \"Precipitation\"},\n",
    "    {\"name\": \"rain\", \"description\": \"Rain\"},\n",
    "    {\"name\": \"snowfall\", \"description\": \"Snowfall\"},   \n",
    "    {\"name\": \"weather_code\", \"description\": \"Weather code\"},   \n",
    "    {\"name\": \"cloud_cover\", \"description\": \"Cloud cover\"},   \n",
    "    {\"name\": \"wind_speed_10m\", \"description\": \"Wind speed at 10m above ground\"},   \n",
    "    {\"name\": \"wind_gusts_10m\", \"description\": \"Wind gusts at 10m above ground\"},   \n",
    "]\n",
    "\n",
    "for desc in weather_feature_descriptions: \n",
    "    weather_fg.update_feature_description(desc[\"name\"], desc[\"description\"])"
   ]
  },
  {
   "cell_type": "markdown",
   "metadata": {},
   "source": [
    "We replicate the process for both the `electricity_fg`, `forecast_renewable_energy_fg` and `danish_holidays_fg` by establishing feature groups and inserting the dataframes into their respective feature groups."
   ]
  },
  {
   "cell_type": "code",
   "execution_count": 29,
   "metadata": {},
   "outputs": [],
   "source": [
    "# Creating the feature group for the electricity prices\n",
    "electricity_fg = fs.get_or_create_feature_group(\n",
    "    name=\"electricity_prices\",\n",
    "    version=1,\n",
    "    description=\"Electricity prices from Energidata API\",\n",
    "    primary_key=[\"date\"],\n",
    "    online_enabled=True,\n",
    "    event_time=\"timestamp\",\n",
    ")"
   ]
  },
  {
   "cell_type": "code",
   "execution_count": 30,
   "metadata": {},
   "outputs": [
    {
     "name": "stdout",
     "output_type": "stream",
     "text": [
      "Feature Group created successfully, explore it at \n",
      "https://c.app.hopsworks.ai:443/p/554133/fs/549956/fg/744778\n"
     ]
    },
    {
     "name": "stderr",
     "output_type": "stream",
     "text": [
      "Uploading Dataframe: 100.00% |██████████| Rows 20205/20205 | Elapsed Time: 00:08 | Remaining Time: 00:00\n"
     ]
    },
    {
     "name": "stdout",
     "output_type": "stream",
     "text": [
      "Launching job: electricity_prices_1_offline_fg_materialization\n",
      "Job started successfully, you can follow the progress at \n",
      "https://c.app.hopsworks.ai/p/554133/jobs/named/electricity_prices_1_offline_fg_materialization/executions\n"
     ]
    },
    {
     "data": {
      "text/plain": [
       "(<hsfs.core.job.Job at 0x17692a0d0>, None)"
      ]
     },
     "execution_count": 30,
     "metadata": {},
     "output_type": "execute_result"
    }
   ],
   "source": [
    "# Inserting the electricity_df into the feature group named electricity_fg\n",
    "electricity_fg.insert(electricity_df)"
   ]
  },
  {
   "cell_type": "code",
   "execution_count": 31,
   "metadata": {},
   "outputs": [],
   "source": [
    "electricity_feature_descriptions = [\n",
    "    {\"name\": \"timestamp\", \"description\": \"Timestamp for the event_time\"},\n",
    "    {\"name\": \"date\", \"description\": \"Date of the electricity measurement\"},\n",
    "    {\"name\": \"time\", \"description\": \"Time of the electricity measurement\"},\n",
    "    {\"name\": \"dk1_spotpricedkk_kwh\", \"description\": \"Spot price in DKK per KWH\"}, \n",
    "]\n",
    "\n",
    "for desc in electricity_feature_descriptions: \n",
    "    electricity_fg.update_feature_description(desc[\"name\"], desc[\"description\"])"
   ]
  },
  {
   "cell_type": "code",
   "execution_count": 32,
   "metadata": {},
   "outputs": [],
   "source": [
    "# Creating the feature group for the electricity prices\n",
    "forecast_renewable_energy_fg = fs.get_or_create_feature_group(\n",
    "    name=\"forecast_renewable_energy\",\n",
    "    version=1,\n",
    "    description=\"Forecast on Renewable Energy on ForecastType from Energidata API\",\n",
    "    primary_key=[\"date\"],\n",
    "    online_enabled=True,\n",
    "    event_time=\"timestamp\",\n",
    ")"
   ]
  },
  {
   "cell_type": "code",
   "execution_count": 33,
   "metadata": {},
   "outputs": [
    {
     "name": "stdout",
     "output_type": "stream",
     "text": [
      "Feature Group created successfully, explore it at \n",
      "https://c.app.hopsworks.ai:443/p/554133/fs/549956/fg/744779\n"
     ]
    },
    {
     "name": "stderr",
     "output_type": "stream",
     "text": [
      "Uploading Dataframe: 100.00% |██████████| Rows 20157/20157 | Elapsed Time: 00:09 | Remaining Time: 00:00\n"
     ]
    },
    {
     "name": "stdout",
     "output_type": "stream",
     "text": [
      "Launching job: forecast_renewable_energy_1_offline_fg_materialization\n",
      "Job started successfully, you can follow the progress at \n",
      "https://c.app.hopsworks.ai/p/554133/jobs/named/forecast_renewable_energy_1_offline_fg_materialization/executions\n"
     ]
    },
    {
     "data": {
      "text/plain": [
       "(<hsfs.core.job.Job at 0x17693bcd0>, None)"
      ]
     },
     "execution_count": 33,
     "metadata": {},
     "output_type": "execute_result"
    }
   ],
   "source": [
    "# Inserting the electricity_df into the feature group named electricity_fg\n",
    "forecast_renewable_energy_fg.insert(forecast_renewable_energy_df)"
   ]
  },
  {
   "cell_type": "code",
   "execution_count": 36,
   "metadata": {},
   "outputs": [],
   "source": [
    "forecast_renewable_energy_feature_descriptions = [\n",
    "    {\"name\": \"timestamp\", \"description\": \"Timestamp for the event_time\"},\n",
    "    {\"name\": \"date\", \"description\": \"Date\"},\n",
    "    {\"name\": \"time\", \"description\": \"Time for the event_time\"},\n",
    "    {\"name\": \"dk1_offshore_wind_forecastdayahead_kwh\", \"description\": \"Forecast for the next day is published at 18:00 Danish time zone.\"},\n",
    "    {\"name\": \"dk1_offshore_wind_forecastintraday_kwh\", \"description\": \"The forecast for the coming day at 6am Danish time zone\"},\n",
    "    {\"name\": \"dk1_offshore_wind_forecastcurrent_kwh\", \"description\": \"The forecast valid for the current time\"},\n",
    "]\n",
    "\n",
    "for desc in forecast_renewable_energy_feature_descriptions: \n",
    "    forecast_renewable_energy_fg.update_feature_description(desc[\"name\"], desc[\"description\"])"
   ]
  },
  {
   "cell_type": "code",
   "execution_count": 37,
   "metadata": {},
   "outputs": [],
   "source": [
    "# Creating the feature group for the danish holidays\n",
    "danish_holidays_fg = fs.get_or_create_feature_group(\n",
    "    name=\"danish_holidays\",\n",
    "    version=1,\n",
    "    description=\"Danish holidays calendar.\",\n",
    "    online_enabled=True,\n",
    "    primary_key=[\"date\"],\n",
    ")"
   ]
  },
  {
   "cell_type": "code",
   "execution_count": 38,
   "metadata": {},
   "outputs": [
    {
     "name": "stdout",
     "output_type": "stream",
     "text": [
      "Feature Group created successfully, explore it at \n",
      "https://c.app.hopsworks.ai:443/p/554133/fs/549956/fg/742740\n"
     ]
    },
    {
     "name": "stderr",
     "output_type": "stream",
     "text": [
      "Uploading Dataframe: 100.00% |██████████| Rows 1096/1096 | Elapsed Time: 00:08 | Remaining Time: 00:00\n"
     ]
    },
    {
     "name": "stdout",
     "output_type": "stream",
     "text": [
      "Launching job: danish_holidays_1_offline_fg_materialization\n",
      "Job started successfully, you can follow the progress at \n",
      "https://c.app.hopsworks.ai/p/554133/jobs/named/danish_holidays_1_offline_fg_materialization/executions\n"
     ]
    },
    {
     "data": {
      "text/plain": [
       "(<hsfs.core.job.Job at 0x17693a950>, None)"
      ]
     },
     "execution_count": 38,
     "metadata": {},
     "output_type": "execute_result"
    }
   ],
   "source": [
    "# Inserting the calender_df into the feature group named danish_holidays_fg\n",
    "danish_holidays_fg.insert(calender_df)"
   ]
  },
  {
   "cell_type": "code",
   "execution_count": 39,
   "metadata": {},
   "outputs": [],
   "source": [
    "danish_holidays_feature_descriptions = [\n",
    "    {\"name\": \"date\", \"description\": \"Date in the calendar\"},\n",
    "    {\"name\": \"type\", \"description\": \"Holyday or not holyday\"},\n",
    "]\n",
    "\n",
    "for desc in danish_holidays_feature_descriptions: \n",
    "    danish_holidays_fg.update_feature_description(desc[\"name\"], desc[\"description\"])"
   ]
  },
  {
   "cell_type": "markdown",
   "metadata": {},
   "source": [
    "---\n",
    "## <span style=\"color:#2656a3;\">⏭️ **Next:** Part 02: Feature Pipeline </span>\n",
    "\n",
    "In the next notebook, you will be generating new data for the Feature Groups."
   ]
  }
 ],
 "metadata": {
  "kernelspec": {
   "display_name": "bds-streamlit",
   "language": "python",
   "name": "python3"
  },
  "language_info": {
   "codemirror_mode": {
    "name": "ipython",
    "version": 3
   },
   "file_extension": ".py",
   "mimetype": "text/x-python",
   "name": "python",
   "nbconvert_exporter": "python",
   "pygments_lexer": "ipython3",
   "version": "3.11.8"
  }
 },
 "nbformat": 4,
 "nbformat_minor": 2
}
