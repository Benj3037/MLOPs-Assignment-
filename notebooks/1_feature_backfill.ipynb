{
 "cells": [
  {
   "cell_type": "markdown",
   "metadata": {},
   "source": [
    "# <span style=\"font-width:bold; font-size: 3rem; color:#2656a3;\">**Data Engineering and Machine Learning Operations in Business** </span> <span style=\"font-width:bold; font-size: 3rem; color:#333;\">- Part 01: Feature Backfill</span>"
   ]
  },
  {
   "cell_type": "markdown",
   "metadata": {},
   "source": [
    "## <span style='color:#2656a3'> 🗒️ The notebook is divided into the following sections:\n",
    "1. Loading data and process features\n",
    "2. Connecting to Hopsworks Feature Store\n",
    "3. Creating feature groups and uploading them to the feature store"
   ]
  },
  {
   "cell_type": "markdown",
   "metadata": {},
   "source": [
    "## <span style='color:#2656a3'> ⚙️ Import of Libraries and Packages\n",
    "\n",
    "First, we install the Python packages required for this notebook. We'll use the --quiet command after specifying the names of the libraries to ensure a silent installation process. Then, we proceed to import all the necessary libraries."
   ]
  },
  {
   "cell_type": "code",
   "execution_count": 1,
   "metadata": {},
   "outputs": [],
   "source": [
    "# Install of the packages for hopsworks\n",
    "# !pip install -U hopsworks --quiet"
   ]
  },
  {
   "cell_type": "code",
   "execution_count": 2,
   "metadata": {},
   "outputs": [
    {
     "name": "stdout",
     "output_type": "stream",
     "text": [
      "/Users/tobiasmjensen/Documents/aau_bds/m5_data-engineering-and-mlops/exam_assigment/MLOPs-Assignment-\n",
      "/Users/tobiasmjensen/Documents/aau_bds/m5_data-engineering-and-mlops/exam_assigment/MLOPs-Assignment-/notebooks\n"
     ]
    }
   ],
   "source": [
    "# First we go one back in our directory to access the folder with our functions\n",
    "%cd ..\n",
    "\n",
    "# Now we import the functions from the features folder\n",
    "# This is the functions we have created to generate features for electricity prices and weather measures\n",
    "from features import electricity_prices, weather_measures, calendar\n",
    "\n",
    "# We go back into the notebooks folder\n",
    "%cd notebooks"
   ]
  },
  {
   "cell_type": "code",
   "execution_count": 3,
   "metadata": {},
   "outputs": [],
   "source": [
    "# Importing the packages for the needed libraries for the Jupyter notebook\n",
    "import pandas as pd\n",
    "import numpy as np\n",
    "import requests\n",
    "from datetime import datetime, timedelta\n",
    "\n",
    "# Ignore warnings\n",
    "import warnings \n",
    "warnings.filterwarnings('ignore')\n",
    "warnings.filterwarnings('ignore', category=DeprecationWarning)"
   ]
  },
  {
   "cell_type": "markdown",
   "metadata": {},
   "source": [
    "## <span style=\"color:#2656a3;\"> 💽 Load the Historical Data\n",
    "\n",
    "The data used comes from different sources:\n",
    "\n",
    "- Electricity prices in Denmark on hourly basis per day from [Energinet](https://www.energidataservice.dk). Loacated in the *featuresfolder* under electricity_prices.\n",
    "- Different meteorological observations based on Aalborg Denmark from [Open Meteo](https://www.open-meteo.com). Loacated in the *featuresfolder* under weather_measures.\n",
    "- Danish calendar that categorizes dates into types based on whether it is a weekday or not. This files is made manually by the group and is located in the *datafolder* inside this repository.\n",
    "- Forecast Renewable Energy next day from [Energinet](https://www.energidataservice.dk). Loacated in the *featuresfolder* under electricity_prices.\n",
    "- Weather Forecast based on Aalborg Denmark from [Open Meteo](https://www.open-meteo.com). Loacated in the *featuresfolder* under weather_measures. (This data is used later to parse in new real-time weather data)\n"
   ]
  },
  {
   "cell_type": "markdown",
   "metadata": {},
   "source": [
    "### <span style=\"color:#2656a3;\">💸 Electricity prices per day from Energinet\n",
    "This first dataset is Electricity prices on hourly basis per day from Energinet/Dataservice."
   ]
  },
  {
   "cell_type": "code",
   "execution_count": 4,
   "metadata": {},
   "outputs": [],
   "source": [
    "# Fetching historical electricity prices for area DK1 from January 1, 2022\n",
    "# Note: The end date is currently left out to retrieve data up to the present date of yesterday \n",
    "# Today is not included in the data as it is not historical data\n",
    "electricity_df = electricity_prices.electricity_prices(\n",
    "    historical=True, \n",
    "    area=[\"DK1\"], \n",
    "    start='2022-01-01', \n",
    "    #end='2023-12-31'\n",
    ")"
   ]
  },
  {
   "cell_type": "code",
   "execution_count": 5,
   "metadata": {},
   "outputs": [
    {
     "data": {
      "text/html": [
       "<div>\n",
       "<style scoped>\n",
       "    .dataframe tbody tr th:only-of-type {\n",
       "        vertical-align: middle;\n",
       "    }\n",
       "\n",
       "    .dataframe tbody tr th {\n",
       "        vertical-align: top;\n",
       "    }\n",
       "\n",
       "    .dataframe thead th {\n",
       "        text-align: right;\n",
       "    }\n",
       "</style>\n",
       "<table border=\"1\" class=\"dataframe\">\n",
       "  <thead>\n",
       "    <tr style=\"text-align: right;\">\n",
       "      <th></th>\n",
       "      <th>timestamp</th>\n",
       "      <th>datetime</th>\n",
       "      <th>date</th>\n",
       "      <th>hour</th>\n",
       "      <th>dk1_spotpricedkk_kwh</th>\n",
       "    </tr>\n",
       "  </thead>\n",
       "  <tbody>\n",
       "    <tr>\n",
       "      <th>0</th>\n",
       "      <td>1640995200000</td>\n",
       "      <td>2022-01-01 00:00:00</td>\n",
       "      <td>2022-01-01</td>\n",
       "      <td>0</td>\n",
       "      <td>0.37220</td>\n",
       "    </tr>\n",
       "    <tr>\n",
       "      <th>1</th>\n",
       "      <td>1640998800000</td>\n",
       "      <td>2022-01-01 01:00:00</td>\n",
       "      <td>2022-01-01</td>\n",
       "      <td>1</td>\n",
       "      <td>0.30735</td>\n",
       "    </tr>\n",
       "    <tr>\n",
       "      <th>2</th>\n",
       "      <td>1641002400000</td>\n",
       "      <td>2022-01-01 02:00:00</td>\n",
       "      <td>2022-01-01</td>\n",
       "      <td>2</td>\n",
       "      <td>0.32141</td>\n",
       "    </tr>\n",
       "    <tr>\n",
       "      <th>3</th>\n",
       "      <td>1641006000000</td>\n",
       "      <td>2022-01-01 03:00:00</td>\n",
       "      <td>2022-01-01</td>\n",
       "      <td>3</td>\n",
       "      <td>0.33806</td>\n",
       "    </tr>\n",
       "    <tr>\n",
       "      <th>4</th>\n",
       "      <td>1641009600000</td>\n",
       "      <td>2022-01-01 04:00:00</td>\n",
       "      <td>2022-01-01</td>\n",
       "      <td>4</td>\n",
       "      <td>0.28013</td>\n",
       "    </tr>\n",
       "  </tbody>\n",
       "</table>\n",
       "</div>"
      ],
      "text/plain": [
       "       timestamp            datetime        date  hour  dk1_spotpricedkk_kwh\n",
       "0  1640995200000 2022-01-01 00:00:00  2022-01-01     0               0.37220\n",
       "1  1640998800000 2022-01-01 01:00:00  2022-01-01     1               0.30735\n",
       "2  1641002400000 2022-01-01 02:00:00  2022-01-01     2               0.32141\n",
       "3  1641006000000 2022-01-01 03:00:00  2022-01-01     3               0.33806\n",
       "4  1641009600000 2022-01-01 04:00:00  2022-01-01     4               0.28013"
      ]
     },
     "execution_count": 5,
     "metadata": {},
     "output_type": "execute_result"
    }
   ],
   "source": [
    "# Display the first 5 rows of the electricity dataframe\n",
    "electricity_df.head(5)"
   ]
  },
  {
   "cell_type": "code",
   "execution_count": 6,
   "metadata": {},
   "outputs": [
    {
     "data": {
      "text/html": [
       "<div>\n",
       "<style scoped>\n",
       "    .dataframe tbody tr th:only-of-type {\n",
       "        vertical-align: middle;\n",
       "    }\n",
       "\n",
       "    .dataframe tbody tr th {\n",
       "        vertical-align: top;\n",
       "    }\n",
       "\n",
       "    .dataframe thead th {\n",
       "        text-align: right;\n",
       "    }\n",
       "</style>\n",
       "<table border=\"1\" class=\"dataframe\">\n",
       "  <thead>\n",
       "    <tr style=\"text-align: right;\">\n",
       "      <th></th>\n",
       "      <th>timestamp</th>\n",
       "      <th>datetime</th>\n",
       "      <th>date</th>\n",
       "      <th>hour</th>\n",
       "      <th>dk1_spotpricedkk_kwh</th>\n",
       "    </tr>\n",
       "  </thead>\n",
       "  <tbody>\n",
       "    <tr>\n",
       "      <th>20440</th>\n",
       "      <td>1714590000000</td>\n",
       "      <td>2024-05-01 19:00:00</td>\n",
       "      <td>2024-05-01</td>\n",
       "      <td>19</td>\n",
       "      <td>0.37590</td>\n",
       "    </tr>\n",
       "    <tr>\n",
       "      <th>20441</th>\n",
       "      <td>1714593600000</td>\n",
       "      <td>2024-05-01 20:00:00</td>\n",
       "      <td>2024-05-01</td>\n",
       "      <td>20</td>\n",
       "      <td>0.37292</td>\n",
       "    </tr>\n",
       "    <tr>\n",
       "      <th>20442</th>\n",
       "      <td>1714597200000</td>\n",
       "      <td>2024-05-01 21:00:00</td>\n",
       "      <td>2024-05-01</td>\n",
       "      <td>21</td>\n",
       "      <td>0.25366</td>\n",
       "    </tr>\n",
       "    <tr>\n",
       "      <th>20443</th>\n",
       "      <td>1714600800000</td>\n",
       "      <td>2024-05-01 22:00:00</td>\n",
       "      <td>2024-05-01</td>\n",
       "      <td>22</td>\n",
       "      <td>0.22315</td>\n",
       "    </tr>\n",
       "    <tr>\n",
       "      <th>20444</th>\n",
       "      <td>1714604400000</td>\n",
       "      <td>2024-05-01 23:00:00</td>\n",
       "      <td>2024-05-01</td>\n",
       "      <td>23</td>\n",
       "      <td>0.16408</td>\n",
       "    </tr>\n",
       "  </tbody>\n",
       "</table>\n",
       "</div>"
      ],
      "text/plain": [
       "           timestamp            datetime        date  hour  \\\n",
       "20440  1714590000000 2024-05-01 19:00:00  2024-05-01    19   \n",
       "20441  1714593600000 2024-05-01 20:00:00  2024-05-01    20   \n",
       "20442  1714597200000 2024-05-01 21:00:00  2024-05-01    21   \n",
       "20443  1714600800000 2024-05-01 22:00:00  2024-05-01    22   \n",
       "20444  1714604400000 2024-05-01 23:00:00  2024-05-01    23   \n",
       "\n",
       "       dk1_spotpricedkk_kwh  \n",
       "20440               0.37590  \n",
       "20441               0.37292  \n",
       "20442               0.25366  \n",
       "20443               0.22315  \n",
       "20444               0.16408  "
      ]
     },
     "execution_count": 6,
     "metadata": {},
     "output_type": "execute_result"
    }
   ],
   "source": [
    "# Display the last 5 rows of the electricity dataframe\n",
    "electricity_df.tail(5)"
   ]
  },
  {
   "cell_type": "code",
   "execution_count": 7,
   "metadata": {},
   "outputs": [
    {
     "name": "stdout",
     "output_type": "stream",
     "text": [
      "<class 'pandas.core.frame.DataFrame'>\n",
      "RangeIndex: 20445 entries, 0 to 20444\n",
      "Data columns (total 5 columns):\n",
      " #   Column                Non-Null Count  Dtype         \n",
      "---  ------                --------------  -----         \n",
      " 0   timestamp             20445 non-null  int64         \n",
      " 1   datetime              20445 non-null  datetime64[ns]\n",
      " 2   date                  20445 non-null  object        \n",
      " 3   hour                  20445 non-null  int64         \n",
      " 4   dk1_spotpricedkk_kwh  20445 non-null  float64       \n",
      "dtypes: datetime64[ns](1), float64(1), int64(2), object(1)\n",
      "memory usage: 798.8+ KB\n"
     ]
    }
   ],
   "source": [
    "# Showing the information for the electricity dataframe\n",
    "electricity_df.info()"
   ]
  },
  {
   "cell_type": "markdown",
   "metadata": {},
   "source": [
    "### <span style=\"color:#2656a3;\">☀️💨 Forecast Renewable Energy next day from Energinet\n",
    "Second dataset is Forecast Renewable Energy next day also on hourly basis from Energinet"
   ]
  },
  {
   "cell_type": "code",
   "execution_count": 8,
   "metadata": {},
   "outputs": [],
   "source": [
    "# Fetching historical forecast of renewable energy data for area DK1 from January 1, 2022\n",
    "# Note: The end date is currently left out to retrieve data up to the present date of yesterday \n",
    "# Today is not included in the data as it is not historical data\n",
    "forecast_renewable_energy_df = electricity_prices.forecast_renewable_energy(\n",
    "    historical=True, \n",
    "    area = [\"DK1\"],\n",
    "    start= '2022-01-01', \n",
    "    #end='2023-12-31'\n",
    ")"
   ]
  },
  {
   "cell_type": "code",
   "execution_count": 9,
   "metadata": {},
   "outputs": [
    {
     "data": {
      "text/html": [
       "<div>\n",
       "<style scoped>\n",
       "    .dataframe tbody tr th:only-of-type {\n",
       "        vertical-align: middle;\n",
       "    }\n",
       "\n",
       "    .dataframe tbody tr th {\n",
       "        vertical-align: top;\n",
       "    }\n",
       "\n",
       "    .dataframe thead th {\n",
       "        text-align: right;\n",
       "    }\n",
       "</style>\n",
       "<table border=\"1\" class=\"dataframe\">\n",
       "  <thead>\n",
       "    <tr style=\"text-align: right;\">\n",
       "      <th></th>\n",
       "      <th>timestamp</th>\n",
       "      <th>datetime</th>\n",
       "      <th>date</th>\n",
       "      <th>hour</th>\n",
       "      <th>dk1_offshore_wind_forecastintraday_kwh</th>\n",
       "      <th>dk1_onshore_wind_forecastintraday_kwh</th>\n",
       "      <th>dk1_solar_forecastintraday_kwh</th>\n",
       "    </tr>\n",
       "  </thead>\n",
       "  <tbody>\n",
       "    <tr>\n",
       "      <th>0</th>\n",
       "      <td>1641024000000</td>\n",
       "      <td>2022-01-01 08:00:00</td>\n",
       "      <td>2022-01-01</td>\n",
       "      <td>8</td>\n",
       "      <td>611708.313</td>\n",
       "      <td>236791.672</td>\n",
       "      <td>49.583</td>\n",
       "    </tr>\n",
       "    <tr>\n",
       "      <th>1</th>\n",
       "      <td>1641027600000</td>\n",
       "      <td>2022-01-01 09:00:00</td>\n",
       "      <td>2022-01-01</td>\n",
       "      <td>9</td>\n",
       "      <td>459708.344</td>\n",
       "      <td>196666.672</td>\n",
       "      <td>4841.250</td>\n",
       "    </tr>\n",
       "    <tr>\n",
       "      <th>2</th>\n",
       "      <td>1641031200000</td>\n",
       "      <td>2022-01-01 10:00:00</td>\n",
       "      <td>2022-01-01</td>\n",
       "      <td>10</td>\n",
       "      <td>310375.000</td>\n",
       "      <td>178500.000</td>\n",
       "      <td>20352.501</td>\n",
       "    </tr>\n",
       "    <tr>\n",
       "      <th>3</th>\n",
       "      <td>1641034800000</td>\n",
       "      <td>2022-01-01 11:00:00</td>\n",
       "      <td>2022-01-01</td>\n",
       "      <td>11</td>\n",
       "      <td>320750.000</td>\n",
       "      <td>201125.000</td>\n",
       "      <td>35718.750</td>\n",
       "    </tr>\n",
       "    <tr>\n",
       "      <th>4</th>\n",
       "      <td>1641038400000</td>\n",
       "      <td>2022-01-01 12:00:00</td>\n",
       "      <td>2022-01-01</td>\n",
       "      <td>12</td>\n",
       "      <td>355666.656</td>\n",
       "      <td>277666.656</td>\n",
       "      <td>38026.669</td>\n",
       "    </tr>\n",
       "  </tbody>\n",
       "</table>\n",
       "</div>"
      ],
      "text/plain": [
       "       timestamp            datetime        date  hour  \\\n",
       "0  1641024000000 2022-01-01 08:00:00  2022-01-01     8   \n",
       "1  1641027600000 2022-01-01 09:00:00  2022-01-01     9   \n",
       "2  1641031200000 2022-01-01 10:00:00  2022-01-01    10   \n",
       "3  1641034800000 2022-01-01 11:00:00  2022-01-01    11   \n",
       "4  1641038400000 2022-01-01 12:00:00  2022-01-01    12   \n",
       "\n",
       "   dk1_offshore_wind_forecastintraday_kwh  \\\n",
       "0                              611708.313   \n",
       "1                              459708.344   \n",
       "2                              310375.000   \n",
       "3                              320750.000   \n",
       "4                              355666.656   \n",
       "\n",
       "   dk1_onshore_wind_forecastintraday_kwh  dk1_solar_forecastintraday_kwh  \n",
       "0                             236791.672                          49.583  \n",
       "1                             196666.672                        4841.250  \n",
       "2                             178500.000                       20352.501  \n",
       "3                             201125.000                       35718.750  \n",
       "4                             277666.656                       38026.669  "
      ]
     },
     "execution_count": 9,
     "metadata": {},
     "output_type": "execute_result"
    }
   ],
   "source": [
    "# Display the first 5 rows of the forecast_renewable_energy dataframe\n",
    "forecast_renewable_energy_df.head(5)"
   ]
  },
  {
   "cell_type": "code",
   "execution_count": 10,
   "metadata": {},
   "outputs": [
    {
     "data": {
      "text/html": [
       "<div>\n",
       "<style scoped>\n",
       "    .dataframe tbody tr th:only-of-type {\n",
       "        vertical-align: middle;\n",
       "    }\n",
       "\n",
       "    .dataframe tbody tr th {\n",
       "        vertical-align: top;\n",
       "    }\n",
       "\n",
       "    .dataframe thead th {\n",
       "        text-align: right;\n",
       "    }\n",
       "</style>\n",
       "<table border=\"1\" class=\"dataframe\">\n",
       "  <thead>\n",
       "    <tr style=\"text-align: right;\">\n",
       "      <th></th>\n",
       "      <th>timestamp</th>\n",
       "      <th>datetime</th>\n",
       "      <th>date</th>\n",
       "      <th>hour</th>\n",
       "      <th>dk1_offshore_wind_forecastintraday_kwh</th>\n",
       "      <th>dk1_onshore_wind_forecastintraday_kwh</th>\n",
       "      <th>dk1_solar_forecastintraday_kwh</th>\n",
       "    </tr>\n",
       "  </thead>\n",
       "  <tbody>\n",
       "    <tr>\n",
       "      <th>14426</th>\n",
       "      <td>1714590000000</td>\n",
       "      <td>2024-05-01 19:00:00</td>\n",
       "      <td>2024-05-01</td>\n",
       "      <td>19</td>\n",
       "      <td>816250.000</td>\n",
       "      <td>1382208.374</td>\n",
       "      <td>272910.828</td>\n",
       "    </tr>\n",
       "    <tr>\n",
       "      <th>14427</th>\n",
       "      <td>1714593600000</td>\n",
       "      <td>2024-05-01 20:00:00</td>\n",
       "      <td>2024-05-01</td>\n",
       "      <td>20</td>\n",
       "      <td>848500.000</td>\n",
       "      <td>1388583.374</td>\n",
       "      <td>46086.666</td>\n",
       "    </tr>\n",
       "    <tr>\n",
       "      <th>14428</th>\n",
       "      <td>1714597200000</td>\n",
       "      <td>2024-05-01 21:00:00</td>\n",
       "      <td>2024-05-01</td>\n",
       "      <td>21</td>\n",
       "      <td>886041.687</td>\n",
       "      <td>1554791.626</td>\n",
       "      <td>1338.750</td>\n",
       "    </tr>\n",
       "    <tr>\n",
       "      <th>14429</th>\n",
       "      <td>1714600800000</td>\n",
       "      <td>2024-05-01 22:00:00</td>\n",
       "      <td>2024-05-01</td>\n",
       "      <td>22</td>\n",
       "      <td>919416.687</td>\n",
       "      <td>1698875.000</td>\n",
       "      <td>0.000</td>\n",
       "    </tr>\n",
       "    <tr>\n",
       "      <th>14430</th>\n",
       "      <td>1714604400000</td>\n",
       "      <td>2024-05-01 23:00:00</td>\n",
       "      <td>2024-05-01</td>\n",
       "      <td>23</td>\n",
       "      <td>934708.313</td>\n",
       "      <td>1739375.000</td>\n",
       "      <td>0.000</td>\n",
       "    </tr>\n",
       "  </tbody>\n",
       "</table>\n",
       "</div>"
      ],
      "text/plain": [
       "           timestamp            datetime        date  hour  \\\n",
       "14426  1714590000000 2024-05-01 19:00:00  2024-05-01    19   \n",
       "14427  1714593600000 2024-05-01 20:00:00  2024-05-01    20   \n",
       "14428  1714597200000 2024-05-01 21:00:00  2024-05-01    21   \n",
       "14429  1714600800000 2024-05-01 22:00:00  2024-05-01    22   \n",
       "14430  1714604400000 2024-05-01 23:00:00  2024-05-01    23   \n",
       "\n",
       "       dk1_offshore_wind_forecastintraday_kwh  \\\n",
       "14426                              816250.000   \n",
       "14427                              848500.000   \n",
       "14428                              886041.687   \n",
       "14429                              919416.687   \n",
       "14430                              934708.313   \n",
       "\n",
       "       dk1_onshore_wind_forecastintraday_kwh  dk1_solar_forecastintraday_kwh  \n",
       "14426                            1382208.374                      272910.828  \n",
       "14427                            1388583.374                       46086.666  \n",
       "14428                            1554791.626                        1338.750  \n",
       "14429                            1698875.000                           0.000  \n",
       "14430                            1739375.000                           0.000  "
      ]
     },
     "execution_count": 10,
     "metadata": {},
     "output_type": "execute_result"
    }
   ],
   "source": [
    "# Display the last 5 rows of the forecast_renewable_energy dataframe\n",
    "forecast_renewable_energy_df.tail(5)"
   ]
  },
  {
   "cell_type": "code",
   "execution_count": 11,
   "metadata": {},
   "outputs": [
    {
     "name": "stdout",
     "output_type": "stream",
     "text": [
      "<class 'pandas.core.frame.DataFrame'>\n",
      "RangeIndex: 14431 entries, 0 to 14430\n",
      "Data columns (total 7 columns):\n",
      " #   Column                                  Non-Null Count  Dtype         \n",
      "---  ------                                  --------------  -----         \n",
      " 0   timestamp                               14431 non-null  int64         \n",
      " 1   datetime                                14431 non-null  datetime64[ns]\n",
      " 2   date                                    14431 non-null  object        \n",
      " 3   hour                                    14431 non-null  int64         \n",
      " 4   dk1_offshore_wind_forecastintraday_kwh  14415 non-null  float64       \n",
      " 5   dk1_onshore_wind_forecastintraday_kwh   14415 non-null  float64       \n",
      " 6   dk1_solar_forecastintraday_kwh          14415 non-null  float64       \n",
      "dtypes: datetime64[ns](1), float64(3), int64(2), object(1)\n",
      "memory usage: 789.3+ KB\n"
     ]
    }
   ],
   "source": [
    "# Showing the information for the forecast_renewable_energy dataframe\n",
    "forecast_renewable_energy_df.info()"
   ]
  },
  {
   "cell_type": "markdown",
   "metadata": {},
   "source": [
    "### <span style=\"color:#2656a3;\"> 🌤 Weather measurements from Open Meteo\n",
    "Next weather measurements from Open Meteo is fetched."
   ]
  },
  {
   "cell_type": "markdown",
   "metadata": {},
   "source": [
    "#### <span style=\"color:#2656a3;\"> 🕰️ Historical Weather Measures"
   ]
  },
  {
   "cell_type": "code",
   "execution_count": 12,
   "metadata": {},
   "outputs": [],
   "source": [
    "# Fetching historical weather measurements from January 1, 2022\n",
    "# Note: The end date is currently left out to retrieve data up to the present date of yesterday \n",
    "# Today is not included in the data as it is not historical data\n",
    "historical_weather_df = weather_measures.historical_weather_measures(\n",
    "    historical=True, \n",
    "    start = '2022-01-01', \n",
    "    #end = '2023-12-31'\n",
    ")"
   ]
  },
  {
   "cell_type": "code",
   "execution_count": 13,
   "metadata": {},
   "outputs": [
    {
     "data": {
      "text/html": [
       "<div>\n",
       "<style scoped>\n",
       "    .dataframe tbody tr th:only-of-type {\n",
       "        vertical-align: middle;\n",
       "    }\n",
       "\n",
       "    .dataframe tbody tr th {\n",
       "        vertical-align: top;\n",
       "    }\n",
       "\n",
       "    .dataframe thead th {\n",
       "        text-align: right;\n",
       "    }\n",
       "</style>\n",
       "<table border=\"1\" class=\"dataframe\">\n",
       "  <thead>\n",
       "    <tr style=\"text-align: right;\">\n",
       "      <th></th>\n",
       "      <th>timestamp</th>\n",
       "      <th>datetime</th>\n",
       "      <th>date</th>\n",
       "      <th>hour</th>\n",
       "      <th>temperature_2m</th>\n",
       "      <th>relative_humidity_2m</th>\n",
       "      <th>precipitation</th>\n",
       "      <th>rain</th>\n",
       "      <th>snowfall</th>\n",
       "      <th>weather_code</th>\n",
       "      <th>cloud_cover</th>\n",
       "      <th>wind_speed_10m</th>\n",
       "      <th>wind_gusts_10m</th>\n",
       "    </tr>\n",
       "  </thead>\n",
       "  <tbody>\n",
       "    <tr>\n",
       "      <th>0</th>\n",
       "      <td>1640995200000</td>\n",
       "      <td>2022-01-01 00:00:00</td>\n",
       "      <td>2022-01-01</td>\n",
       "      <td>0</td>\n",
       "      <td>6.7</td>\n",
       "      <td>100.0</td>\n",
       "      <td>0.0</td>\n",
       "      <td>0.0</td>\n",
       "      <td>0.0</td>\n",
       "      <td>3.0</td>\n",
       "      <td>100.0</td>\n",
       "      <td>16.2</td>\n",
       "      <td>36.0</td>\n",
       "    </tr>\n",
       "    <tr>\n",
       "      <th>1</th>\n",
       "      <td>1640998800000</td>\n",
       "      <td>2022-01-01 01:00:00</td>\n",
       "      <td>2022-01-01</td>\n",
       "      <td>1</td>\n",
       "      <td>6.6</td>\n",
       "      <td>100.0</td>\n",
       "      <td>0.0</td>\n",
       "      <td>0.0</td>\n",
       "      <td>0.0</td>\n",
       "      <td>3.0</td>\n",
       "      <td>100.0</td>\n",
       "      <td>16.2</td>\n",
       "      <td>30.2</td>\n",
       "    </tr>\n",
       "    <tr>\n",
       "      <th>2</th>\n",
       "      <td>1641002400000</td>\n",
       "      <td>2022-01-01 02:00:00</td>\n",
       "      <td>2022-01-01</td>\n",
       "      <td>2</td>\n",
       "      <td>6.7</td>\n",
       "      <td>99.0</td>\n",
       "      <td>0.0</td>\n",
       "      <td>0.0</td>\n",
       "      <td>0.0</td>\n",
       "      <td>3.0</td>\n",
       "      <td>100.0</td>\n",
       "      <td>15.5</td>\n",
       "      <td>30.6</td>\n",
       "    </tr>\n",
       "    <tr>\n",
       "      <th>3</th>\n",
       "      <td>1641006000000</td>\n",
       "      <td>2022-01-01 03:00:00</td>\n",
       "      <td>2022-01-01</td>\n",
       "      <td>3</td>\n",
       "      <td>6.7</td>\n",
       "      <td>100.0</td>\n",
       "      <td>0.0</td>\n",
       "      <td>0.0</td>\n",
       "      <td>0.0</td>\n",
       "      <td>3.0</td>\n",
       "      <td>100.0</td>\n",
       "      <td>12.7</td>\n",
       "      <td>28.8</td>\n",
       "    </tr>\n",
       "    <tr>\n",
       "      <th>4</th>\n",
       "      <td>1641009600000</td>\n",
       "      <td>2022-01-01 04:00:00</td>\n",
       "      <td>2022-01-01</td>\n",
       "      <td>4</td>\n",
       "      <td>6.7</td>\n",
       "      <td>99.0</td>\n",
       "      <td>0.0</td>\n",
       "      <td>0.0</td>\n",
       "      <td>0.0</td>\n",
       "      <td>3.0</td>\n",
       "      <td>100.0</td>\n",
       "      <td>10.6</td>\n",
       "      <td>23.8</td>\n",
       "    </tr>\n",
       "  </tbody>\n",
       "</table>\n",
       "</div>"
      ],
      "text/plain": [
       "       timestamp            datetime        date  hour  temperature_2m  \\\n",
       "0  1640995200000 2022-01-01 00:00:00  2022-01-01     0             6.7   \n",
       "1  1640998800000 2022-01-01 01:00:00  2022-01-01     1             6.6   \n",
       "2  1641002400000 2022-01-01 02:00:00  2022-01-01     2             6.7   \n",
       "3  1641006000000 2022-01-01 03:00:00  2022-01-01     3             6.7   \n",
       "4  1641009600000 2022-01-01 04:00:00  2022-01-01     4             6.7   \n",
       "\n",
       "   relative_humidity_2m  precipitation  rain  snowfall  weather_code  \\\n",
       "0                 100.0            0.0   0.0       0.0           3.0   \n",
       "1                 100.0            0.0   0.0       0.0           3.0   \n",
       "2                  99.0            0.0   0.0       0.0           3.0   \n",
       "3                 100.0            0.0   0.0       0.0           3.0   \n",
       "4                  99.0            0.0   0.0       0.0           3.0   \n",
       "\n",
       "   cloud_cover  wind_speed_10m  wind_gusts_10m  \n",
       "0        100.0            16.2            36.0  \n",
       "1        100.0            16.2            30.2  \n",
       "2        100.0            15.5            30.6  \n",
       "3        100.0            12.7            28.8  \n",
       "4        100.0            10.6            23.8  "
      ]
     },
     "execution_count": 13,
     "metadata": {},
     "output_type": "execute_result"
    }
   ],
   "source": [
    "# Display the first 5 rows of the weather dataframe\n",
    "historical_weather_df.head(5)"
   ]
  },
  {
   "cell_type": "code",
   "execution_count": 14,
   "metadata": {},
   "outputs": [
    {
     "data": {
      "text/html": [
       "<div>\n",
       "<style scoped>\n",
       "    .dataframe tbody tr th:only-of-type {\n",
       "        vertical-align: middle;\n",
       "    }\n",
       "\n",
       "    .dataframe tbody tr th {\n",
       "        vertical-align: top;\n",
       "    }\n",
       "\n",
       "    .dataframe thead th {\n",
       "        text-align: right;\n",
       "    }\n",
       "</style>\n",
       "<table border=\"1\" class=\"dataframe\">\n",
       "  <thead>\n",
       "    <tr style=\"text-align: right;\">\n",
       "      <th></th>\n",
       "      <th>timestamp</th>\n",
       "      <th>datetime</th>\n",
       "      <th>date</th>\n",
       "      <th>hour</th>\n",
       "      <th>temperature_2m</th>\n",
       "      <th>relative_humidity_2m</th>\n",
       "      <th>precipitation</th>\n",
       "      <th>rain</th>\n",
       "      <th>snowfall</th>\n",
       "      <th>weather_code</th>\n",
       "      <th>cloud_cover</th>\n",
       "      <th>wind_speed_10m</th>\n",
       "      <th>wind_gusts_10m</th>\n",
       "    </tr>\n",
       "  </thead>\n",
       "  <tbody>\n",
       "    <tr>\n",
       "      <th>20419</th>\n",
       "      <td>1714503600000</td>\n",
       "      <td>2024-04-30 19:00:00</td>\n",
       "      <td>2024-04-30</td>\n",
       "      <td>19</td>\n",
       "      <td>13.8</td>\n",
       "      <td>64.0</td>\n",
       "      <td>0.0</td>\n",
       "      <td>0.0</td>\n",
       "      <td>0.0</td>\n",
       "      <td>0.0</td>\n",
       "      <td>6.0</td>\n",
       "      <td>15.3</td>\n",
       "      <td>26.3</td>\n",
       "    </tr>\n",
       "    <tr>\n",
       "      <th>20420</th>\n",
       "      <td>1714507200000</td>\n",
       "      <td>2024-04-30 20:00:00</td>\n",
       "      <td>2024-04-30</td>\n",
       "      <td>20</td>\n",
       "      <td>13.5</td>\n",
       "      <td>66.0</td>\n",
       "      <td>0.0</td>\n",
       "      <td>0.0</td>\n",
       "      <td>0.0</td>\n",
       "      <td>0.0</td>\n",
       "      <td>2.0</td>\n",
       "      <td>18.7</td>\n",
       "      <td>32.8</td>\n",
       "    </tr>\n",
       "    <tr>\n",
       "      <th>20421</th>\n",
       "      <td>1714510800000</td>\n",
       "      <td>2024-04-30 21:00:00</td>\n",
       "      <td>2024-04-30</td>\n",
       "      <td>21</td>\n",
       "      <td>13.4</td>\n",
       "      <td>67.0</td>\n",
       "      <td>0.0</td>\n",
       "      <td>0.0</td>\n",
       "      <td>0.0</td>\n",
       "      <td>0.0</td>\n",
       "      <td>13.0</td>\n",
       "      <td>21.1</td>\n",
       "      <td>38.2</td>\n",
       "    </tr>\n",
       "    <tr>\n",
       "      <th>20422</th>\n",
       "      <td>1714514400000</td>\n",
       "      <td>2024-04-30 22:00:00</td>\n",
       "      <td>2024-04-30</td>\n",
       "      <td>22</td>\n",
       "      <td>12.8</td>\n",
       "      <td>67.0</td>\n",
       "      <td>0.0</td>\n",
       "      <td>0.0</td>\n",
       "      <td>0.0</td>\n",
       "      <td>0.0</td>\n",
       "      <td>9.0</td>\n",
       "      <td>21.0</td>\n",
       "      <td>38.5</td>\n",
       "    </tr>\n",
       "    <tr>\n",
       "      <th>20423</th>\n",
       "      <td>1714518000000</td>\n",
       "      <td>2024-04-30 23:00:00</td>\n",
       "      <td>2024-04-30</td>\n",
       "      <td>23</td>\n",
       "      <td>12.0</td>\n",
       "      <td>70.0</td>\n",
       "      <td>0.0</td>\n",
       "      <td>0.0</td>\n",
       "      <td>0.0</td>\n",
       "      <td>0.0</td>\n",
       "      <td>18.0</td>\n",
       "      <td>20.7</td>\n",
       "      <td>38.5</td>\n",
       "    </tr>\n",
       "  </tbody>\n",
       "</table>\n",
       "</div>"
      ],
      "text/plain": [
       "           timestamp            datetime        date  hour  temperature_2m  \\\n",
       "20419  1714503600000 2024-04-30 19:00:00  2024-04-30    19            13.8   \n",
       "20420  1714507200000 2024-04-30 20:00:00  2024-04-30    20            13.5   \n",
       "20421  1714510800000 2024-04-30 21:00:00  2024-04-30    21            13.4   \n",
       "20422  1714514400000 2024-04-30 22:00:00  2024-04-30    22            12.8   \n",
       "20423  1714518000000 2024-04-30 23:00:00  2024-04-30    23            12.0   \n",
       "\n",
       "       relative_humidity_2m  precipitation  rain  snowfall  weather_code  \\\n",
       "20419                  64.0            0.0   0.0       0.0           0.0   \n",
       "20420                  66.0            0.0   0.0       0.0           0.0   \n",
       "20421                  67.0            0.0   0.0       0.0           0.0   \n",
       "20422                  67.0            0.0   0.0       0.0           0.0   \n",
       "20423                  70.0            0.0   0.0       0.0           0.0   \n",
       "\n",
       "       cloud_cover  wind_speed_10m  wind_gusts_10m  \n",
       "20419          6.0            15.3            26.3  \n",
       "20420          2.0            18.7            32.8  \n",
       "20421         13.0            21.1            38.2  \n",
       "20422          9.0            21.0            38.5  \n",
       "20423         18.0            20.7            38.5  "
      ]
     },
     "execution_count": 14,
     "metadata": {},
     "output_type": "execute_result"
    }
   ],
   "source": [
    "# Display the last 5 rows of the weather dataframe\n",
    "historical_weather_df.tail(5)"
   ]
  },
  {
   "cell_type": "code",
   "execution_count": 15,
   "metadata": {},
   "outputs": [
    {
     "name": "stdout",
     "output_type": "stream",
     "text": [
      "<class 'pandas.core.frame.DataFrame'>\n",
      "Int64Index: 20424 entries, 0 to 20423\n",
      "Data columns (total 13 columns):\n",
      " #   Column                Non-Null Count  Dtype         \n",
      "---  ------                --------------  -----         \n",
      " 0   timestamp             20424 non-null  int64         \n",
      " 1   datetime              20424 non-null  datetime64[ns]\n",
      " 2   date                  20424 non-null  object        \n",
      " 3   hour                  20424 non-null  int64         \n",
      " 4   temperature_2m        20424 non-null  float64       \n",
      " 5   relative_humidity_2m  20424 non-null  float64       \n",
      " 6   precipitation         20424 non-null  float64       \n",
      " 7   rain                  20424 non-null  float64       \n",
      " 8   snowfall              20424 non-null  float64       \n",
      " 9   weather_code          20424 non-null  float64       \n",
      " 10  cloud_cover           20424 non-null  float64       \n",
      " 11  wind_speed_10m        20424 non-null  float64       \n",
      " 12  wind_gusts_10m        20424 non-null  float64       \n",
      "dtypes: datetime64[ns](1), float64(9), int64(2), object(1)\n",
      "memory usage: 2.2+ MB\n"
     ]
    }
   ],
   "source": [
    "# Showing the information for the weather dataframe\n",
    "historical_weather_df.info()"
   ]
  },
  {
   "cell_type": "markdown",
   "metadata": {},
   "source": [
    "#### <span style=\"color:#2656a3;\"> 🌈 Weather Forecast\n",
    "Weather Forecast from Open Meteo is now being fetched. This data is used in part 02 the feature_pipeline to parse in new real-time weather data."
   ]
  },
  {
   "cell_type": "code",
   "execution_count": 16,
   "metadata": {},
   "outputs": [],
   "source": [
    "# Fetching weather forecast measures for the next 5 days\n",
    "weather_forecast_df = weather_measures.forecast_weather_measures(\n",
    "    forecast_length=5\n",
    ")"
   ]
  },
  {
   "cell_type": "code",
   "execution_count": 17,
   "metadata": {},
   "outputs": [
    {
     "data": {
      "text/html": [
       "<div>\n",
       "<style scoped>\n",
       "    .dataframe tbody tr th:only-of-type {\n",
       "        vertical-align: middle;\n",
       "    }\n",
       "\n",
       "    .dataframe tbody tr th {\n",
       "        vertical-align: top;\n",
       "    }\n",
       "\n",
       "    .dataframe thead th {\n",
       "        text-align: right;\n",
       "    }\n",
       "</style>\n",
       "<table border=\"1\" class=\"dataframe\">\n",
       "  <thead>\n",
       "    <tr style=\"text-align: right;\">\n",
       "      <th></th>\n",
       "      <th>timestamp</th>\n",
       "      <th>datetime</th>\n",
       "      <th>date</th>\n",
       "      <th>hour</th>\n",
       "      <th>temperature_2m</th>\n",
       "      <th>relative_humidity_2m</th>\n",
       "      <th>precipitation</th>\n",
       "      <th>rain</th>\n",
       "      <th>snowfall</th>\n",
       "      <th>weather_code</th>\n",
       "      <th>cloud_cover</th>\n",
       "      <th>wind_speed_10m</th>\n",
       "      <th>wind_gusts_10m</th>\n",
       "    </tr>\n",
       "  </thead>\n",
       "  <tbody>\n",
       "    <tr>\n",
       "      <th>0</th>\n",
       "      <td>1714608000000</td>\n",
       "      <td>2024-05-02 00:00:00</td>\n",
       "      <td>2024-05-02</td>\n",
       "      <td>0</td>\n",
       "      <td>14.9</td>\n",
       "      <td>66.0</td>\n",
       "      <td>0.0</td>\n",
       "      <td>0.0</td>\n",
       "      <td>0.0</td>\n",
       "      <td>0.0</td>\n",
       "      <td>13.0</td>\n",
       "      <td>21.6</td>\n",
       "      <td>41.4</td>\n",
       "    </tr>\n",
       "    <tr>\n",
       "      <th>1</th>\n",
       "      <td>1714611600000</td>\n",
       "      <td>2024-05-02 01:00:00</td>\n",
       "      <td>2024-05-02</td>\n",
       "      <td>1</td>\n",
       "      <td>14.2</td>\n",
       "      <td>71.0</td>\n",
       "      <td>0.0</td>\n",
       "      <td>0.0</td>\n",
       "      <td>0.0</td>\n",
       "      <td>0.0</td>\n",
       "      <td>4.0</td>\n",
       "      <td>20.5</td>\n",
       "      <td>37.1</td>\n",
       "    </tr>\n",
       "    <tr>\n",
       "      <th>2</th>\n",
       "      <td>1714615200000</td>\n",
       "      <td>2024-05-02 02:00:00</td>\n",
       "      <td>2024-05-02</td>\n",
       "      <td>2</td>\n",
       "      <td>13.4</td>\n",
       "      <td>73.0</td>\n",
       "      <td>0.0</td>\n",
       "      <td>0.0</td>\n",
       "      <td>0.0</td>\n",
       "      <td>2.0</td>\n",
       "      <td>70.0</td>\n",
       "      <td>21.2</td>\n",
       "      <td>36.7</td>\n",
       "    </tr>\n",
       "    <tr>\n",
       "      <th>3</th>\n",
       "      <td>1714618800000</td>\n",
       "      <td>2024-05-02 03:00:00</td>\n",
       "      <td>2024-05-02</td>\n",
       "      <td>3</td>\n",
       "      <td>13.2</td>\n",
       "      <td>72.0</td>\n",
       "      <td>0.1</td>\n",
       "      <td>0.1</td>\n",
       "      <td>0.0</td>\n",
       "      <td>51.0</td>\n",
       "      <td>51.0</td>\n",
       "      <td>22.3</td>\n",
       "      <td>39.2</td>\n",
       "    </tr>\n",
       "    <tr>\n",
       "      <th>4</th>\n",
       "      <td>1714622400000</td>\n",
       "      <td>2024-05-02 04:00:00</td>\n",
       "      <td>2024-05-02</td>\n",
       "      <td>4</td>\n",
       "      <td>12.7</td>\n",
       "      <td>73.0</td>\n",
       "      <td>0.0</td>\n",
       "      <td>0.0</td>\n",
       "      <td>0.0</td>\n",
       "      <td>2.0</td>\n",
       "      <td>78.0</td>\n",
       "      <td>21.6</td>\n",
       "      <td>38.9</td>\n",
       "    </tr>\n",
       "  </tbody>\n",
       "</table>\n",
       "</div>"
      ],
      "text/plain": [
       "       timestamp            datetime        date  hour  temperature_2m  \\\n",
       "0  1714608000000 2024-05-02 00:00:00  2024-05-02     0            14.9   \n",
       "1  1714611600000 2024-05-02 01:00:00  2024-05-02     1            14.2   \n",
       "2  1714615200000 2024-05-02 02:00:00  2024-05-02     2            13.4   \n",
       "3  1714618800000 2024-05-02 03:00:00  2024-05-02     3            13.2   \n",
       "4  1714622400000 2024-05-02 04:00:00  2024-05-02     4            12.7   \n",
       "\n",
       "   relative_humidity_2m  precipitation  rain  snowfall  weather_code  \\\n",
       "0                  66.0            0.0   0.0       0.0           0.0   \n",
       "1                  71.0            0.0   0.0       0.0           0.0   \n",
       "2                  73.0            0.0   0.0       0.0           2.0   \n",
       "3                  72.0            0.1   0.1       0.0          51.0   \n",
       "4                  73.0            0.0   0.0       0.0           2.0   \n",
       "\n",
       "   cloud_cover  wind_speed_10m  wind_gusts_10m  \n",
       "0         13.0            21.6            41.4  \n",
       "1          4.0            20.5            37.1  \n",
       "2         70.0            21.2            36.7  \n",
       "3         51.0            22.3            39.2  \n",
       "4         78.0            21.6            38.9  "
      ]
     },
     "execution_count": 17,
     "metadata": {},
     "output_type": "execute_result"
    }
   ],
   "source": [
    "# Display the first 5 rows of the weather_forecast dataframe\n",
    "weather_forecast_df.head(5)"
   ]
  },
  {
   "cell_type": "code",
   "execution_count": 18,
   "metadata": {},
   "outputs": [
    {
     "data": {
      "text/html": [
       "<div>\n",
       "<style scoped>\n",
       "    .dataframe tbody tr th:only-of-type {\n",
       "        vertical-align: middle;\n",
       "    }\n",
       "\n",
       "    .dataframe tbody tr th {\n",
       "        vertical-align: top;\n",
       "    }\n",
       "\n",
       "    .dataframe thead th {\n",
       "        text-align: right;\n",
       "    }\n",
       "</style>\n",
       "<table border=\"1\" class=\"dataframe\">\n",
       "  <thead>\n",
       "    <tr style=\"text-align: right;\">\n",
       "      <th></th>\n",
       "      <th>timestamp</th>\n",
       "      <th>datetime</th>\n",
       "      <th>date</th>\n",
       "      <th>hour</th>\n",
       "      <th>temperature_2m</th>\n",
       "      <th>relative_humidity_2m</th>\n",
       "      <th>precipitation</th>\n",
       "      <th>rain</th>\n",
       "      <th>snowfall</th>\n",
       "      <th>weather_code</th>\n",
       "      <th>cloud_cover</th>\n",
       "      <th>wind_speed_10m</th>\n",
       "      <th>wind_gusts_10m</th>\n",
       "    </tr>\n",
       "  </thead>\n",
       "  <tbody>\n",
       "    <tr>\n",
       "      <th>115</th>\n",
       "      <td>1715022000000</td>\n",
       "      <td>2024-05-06 19:00:00</td>\n",
       "      <td>2024-05-06</td>\n",
       "      <td>19</td>\n",
       "      <td>10.7</td>\n",
       "      <td>91.0</td>\n",
       "      <td>1.4</td>\n",
       "      <td>1.4</td>\n",
       "      <td>0.0</td>\n",
       "      <td>61.0</td>\n",
       "      <td>100.0</td>\n",
       "      <td>16.6</td>\n",
       "      <td>32.0</td>\n",
       "    </tr>\n",
       "    <tr>\n",
       "      <th>116</th>\n",
       "      <td>1715025600000</td>\n",
       "      <td>2024-05-06 20:00:00</td>\n",
       "      <td>2024-05-06</td>\n",
       "      <td>20</td>\n",
       "      <td>10.1</td>\n",
       "      <td>90.0</td>\n",
       "      <td>1.4</td>\n",
       "      <td>1.4</td>\n",
       "      <td>0.0</td>\n",
       "      <td>61.0</td>\n",
       "      <td>100.0</td>\n",
       "      <td>19.5</td>\n",
       "      <td>37.1</td>\n",
       "    </tr>\n",
       "    <tr>\n",
       "      <th>117</th>\n",
       "      <td>1715029200000</td>\n",
       "      <td>2024-05-06 21:00:00</td>\n",
       "      <td>2024-05-06</td>\n",
       "      <td>21</td>\n",
       "      <td>9.5</td>\n",
       "      <td>88.0</td>\n",
       "      <td>1.4</td>\n",
       "      <td>1.4</td>\n",
       "      <td>0.0</td>\n",
       "      <td>61.0</td>\n",
       "      <td>100.0</td>\n",
       "      <td>21.6</td>\n",
       "      <td>42.1</td>\n",
       "    </tr>\n",
       "    <tr>\n",
       "      <th>118</th>\n",
       "      <td>1715032800000</td>\n",
       "      <td>2024-05-06 22:00:00</td>\n",
       "      <td>2024-05-06</td>\n",
       "      <td>22</td>\n",
       "      <td>9.3</td>\n",
       "      <td>86.0</td>\n",
       "      <td>0.6</td>\n",
       "      <td>0.6</td>\n",
       "      <td>0.0</td>\n",
       "      <td>3.0</td>\n",
       "      <td>100.0</td>\n",
       "      <td>22.0</td>\n",
       "      <td>41.0</td>\n",
       "    </tr>\n",
       "    <tr>\n",
       "      <th>119</th>\n",
       "      <td>1715036400000</td>\n",
       "      <td>2024-05-06 23:00:00</td>\n",
       "      <td>2024-05-06</td>\n",
       "      <td>23</td>\n",
       "      <td>9.1</td>\n",
       "      <td>84.0</td>\n",
       "      <td>0.6</td>\n",
       "      <td>0.6</td>\n",
       "      <td>0.0</td>\n",
       "      <td>3.0</td>\n",
       "      <td>100.0</td>\n",
       "      <td>21.3</td>\n",
       "      <td>40.3</td>\n",
       "    </tr>\n",
       "  </tbody>\n",
       "</table>\n",
       "</div>"
      ],
      "text/plain": [
       "         timestamp            datetime        date  hour  temperature_2m  \\\n",
       "115  1715022000000 2024-05-06 19:00:00  2024-05-06    19            10.7   \n",
       "116  1715025600000 2024-05-06 20:00:00  2024-05-06    20            10.1   \n",
       "117  1715029200000 2024-05-06 21:00:00  2024-05-06    21             9.5   \n",
       "118  1715032800000 2024-05-06 22:00:00  2024-05-06    22             9.3   \n",
       "119  1715036400000 2024-05-06 23:00:00  2024-05-06    23             9.1   \n",
       "\n",
       "     relative_humidity_2m  precipitation  rain  snowfall  weather_code  \\\n",
       "115                  91.0            1.4   1.4       0.0          61.0   \n",
       "116                  90.0            1.4   1.4       0.0          61.0   \n",
       "117                  88.0            1.4   1.4       0.0          61.0   \n",
       "118                  86.0            0.6   0.6       0.0           3.0   \n",
       "119                  84.0            0.6   0.6       0.0           3.0   \n",
       "\n",
       "     cloud_cover  wind_speed_10m  wind_gusts_10m  \n",
       "115        100.0            16.6            32.0  \n",
       "116        100.0            19.5            37.1  \n",
       "117        100.0            21.6            42.1  \n",
       "118        100.0            22.0            41.0  \n",
       "119        100.0            21.3            40.3  "
      ]
     },
     "execution_count": 18,
     "metadata": {},
     "output_type": "execute_result"
    }
   ],
   "source": [
    "# Display the last 5 rows of the weather_forecast dataframe\n",
    "weather_forecast_df.tail(5)"
   ]
  },
  {
   "cell_type": "code",
   "execution_count": 19,
   "metadata": {},
   "outputs": [
    {
     "name": "stdout",
     "output_type": "stream",
     "text": [
      "<class 'pandas.core.frame.DataFrame'>\n",
      "RangeIndex: 120 entries, 0 to 119\n",
      "Data columns (total 13 columns):\n",
      " #   Column                Non-Null Count  Dtype         \n",
      "---  ------                --------------  -----         \n",
      " 0   timestamp             120 non-null    int64         \n",
      " 1   datetime              120 non-null    datetime64[ns]\n",
      " 2   date                  120 non-null    object        \n",
      " 3   hour                  120 non-null    int64         \n",
      " 4   temperature_2m        120 non-null    float64       \n",
      " 5   relative_humidity_2m  120 non-null    float64       \n",
      " 6   precipitation         120 non-null    float64       \n",
      " 7   rain                  120 non-null    float64       \n",
      " 8   snowfall              120 non-null    float64       \n",
      " 9   weather_code          120 non-null    float64       \n",
      " 10  cloud_cover           120 non-null    float64       \n",
      " 11  wind_speed_10m        120 non-null    float64       \n",
      " 12  wind_gusts_10m        120 non-null    float64       \n",
      "dtypes: datetime64[ns](1), float64(9), int64(2), object(1)\n",
      "memory usage: 12.3+ KB\n"
     ]
    }
   ],
   "source": [
    "# Showing the information for the weather weather_forecast dataframe\n",
    "weather_forecast_df.info()"
   ]
  },
  {
   "cell_type": "markdown",
   "metadata": {},
   "source": [
    "### <span style=\"color:#2656a3;\"> 🗓️ Calendar of Danish workdays and holidays \n",
    "Lastly the calender data is being loaded in. The calendar data includes a 'type' attribute indicating whether the date is a holiday or not"
   ]
  },
  {
   "cell_type": "code",
   "execution_count": 20,
   "metadata": {},
   "outputs": [],
   "source": [
    "calender_df = calendar.calendar()"
   ]
  },
  {
   "cell_type": "code",
   "execution_count": 21,
   "metadata": {},
   "outputs": [
    {
     "data": {
      "text/html": [
       "<div>\n",
       "<style scoped>\n",
       "    .dataframe tbody tr th:only-of-type {\n",
       "        vertical-align: middle;\n",
       "    }\n",
       "\n",
       "    .dataframe tbody tr th {\n",
       "        vertical-align: top;\n",
       "    }\n",
       "\n",
       "    .dataframe thead th {\n",
       "        text-align: right;\n",
       "    }\n",
       "</style>\n",
       "<table border=\"1\" class=\"dataframe\">\n",
       "  <thead>\n",
       "    <tr style=\"text-align: right;\">\n",
       "      <th></th>\n",
       "      <th>date</th>\n",
       "      <th>dayofweek</th>\n",
       "      <th>day</th>\n",
       "      <th>month</th>\n",
       "      <th>year</th>\n",
       "      <th>holiday</th>\n",
       "    </tr>\n",
       "  </thead>\n",
       "  <tbody>\n",
       "    <tr>\n",
       "      <th>0</th>\n",
       "      <td>2022-01-01</td>\n",
       "      <td>5</td>\n",
       "      <td>1</td>\n",
       "      <td>1</td>\n",
       "      <td>2022</td>\n",
       "      <td>1</td>\n",
       "    </tr>\n",
       "    <tr>\n",
       "      <th>1</th>\n",
       "      <td>2022-01-02</td>\n",
       "      <td>6</td>\n",
       "      <td>2</td>\n",
       "      <td>1</td>\n",
       "      <td>2022</td>\n",
       "      <td>1</td>\n",
       "    </tr>\n",
       "    <tr>\n",
       "      <th>2</th>\n",
       "      <td>2022-01-03</td>\n",
       "      <td>0</td>\n",
       "      <td>3</td>\n",
       "      <td>1</td>\n",
       "      <td>2022</td>\n",
       "      <td>0</td>\n",
       "    </tr>\n",
       "    <tr>\n",
       "      <th>3</th>\n",
       "      <td>2022-01-04</td>\n",
       "      <td>1</td>\n",
       "      <td>4</td>\n",
       "      <td>1</td>\n",
       "      <td>2022</td>\n",
       "      <td>0</td>\n",
       "    </tr>\n",
       "    <tr>\n",
       "      <th>4</th>\n",
       "      <td>2022-01-05</td>\n",
       "      <td>2</td>\n",
       "      <td>5</td>\n",
       "      <td>1</td>\n",
       "      <td>2022</td>\n",
       "      <td>0</td>\n",
       "    </tr>\n",
       "  </tbody>\n",
       "</table>\n",
       "</div>"
      ],
      "text/plain": [
       "         date  dayofweek  day  month  year  holiday\n",
       "0  2022-01-01          5    1      1  2022        1\n",
       "1  2022-01-02          6    2      1  2022        1\n",
       "2  2022-01-03          0    3      1  2022        0\n",
       "3  2022-01-04          1    4      1  2022        0\n",
       "4  2022-01-05          2    5      1  2022        0"
      ]
     },
     "execution_count": 21,
     "metadata": {},
     "output_type": "execute_result"
    }
   ],
   "source": [
    "# Display the first 5 rows of the calender dataframe\n",
    "calender_df.head(5)"
   ]
  },
  {
   "cell_type": "code",
   "execution_count": 22,
   "metadata": {},
   "outputs": [
    {
     "data": {
      "text/html": [
       "<div>\n",
       "<style scoped>\n",
       "    .dataframe tbody tr th:only-of-type {\n",
       "        vertical-align: middle;\n",
       "    }\n",
       "\n",
       "    .dataframe tbody tr th {\n",
       "        vertical-align: top;\n",
       "    }\n",
       "\n",
       "    .dataframe thead th {\n",
       "        text-align: right;\n",
       "    }\n",
       "</style>\n",
       "<table border=\"1\" class=\"dataframe\">\n",
       "  <thead>\n",
       "    <tr style=\"text-align: right;\">\n",
       "      <th></th>\n",
       "      <th>date</th>\n",
       "      <th>dayofweek</th>\n",
       "      <th>day</th>\n",
       "      <th>month</th>\n",
       "      <th>year</th>\n",
       "      <th>holiday</th>\n",
       "    </tr>\n",
       "  </thead>\n",
       "  <tbody>\n",
       "    <tr>\n",
       "      <th>1091</th>\n",
       "      <td>2024-12-27</td>\n",
       "      <td>4</td>\n",
       "      <td>27</td>\n",
       "      <td>12</td>\n",
       "      <td>2024</td>\n",
       "      <td>0</td>\n",
       "    </tr>\n",
       "    <tr>\n",
       "      <th>1092</th>\n",
       "      <td>2024-12-28</td>\n",
       "      <td>5</td>\n",
       "      <td>28</td>\n",
       "      <td>12</td>\n",
       "      <td>2024</td>\n",
       "      <td>1</td>\n",
       "    </tr>\n",
       "    <tr>\n",
       "      <th>1093</th>\n",
       "      <td>2024-12-29</td>\n",
       "      <td>6</td>\n",
       "      <td>29</td>\n",
       "      <td>12</td>\n",
       "      <td>2024</td>\n",
       "      <td>1</td>\n",
       "    </tr>\n",
       "    <tr>\n",
       "      <th>1094</th>\n",
       "      <td>2024-12-30</td>\n",
       "      <td>0</td>\n",
       "      <td>30</td>\n",
       "      <td>12</td>\n",
       "      <td>2024</td>\n",
       "      <td>0</td>\n",
       "    </tr>\n",
       "    <tr>\n",
       "      <th>1095</th>\n",
       "      <td>2024-12-31</td>\n",
       "      <td>1</td>\n",
       "      <td>31</td>\n",
       "      <td>12</td>\n",
       "      <td>2024</td>\n",
       "      <td>0</td>\n",
       "    </tr>\n",
       "  </tbody>\n",
       "</table>\n",
       "</div>"
      ],
      "text/plain": [
       "            date  dayofweek  day  month  year  holiday\n",
       "1091  2024-12-27          4   27     12  2024        0\n",
       "1092  2024-12-28          5   28     12  2024        1\n",
       "1093  2024-12-29          6   29     12  2024        1\n",
       "1094  2024-12-30          0   30     12  2024        0\n",
       "1095  2024-12-31          1   31     12  2024        0"
      ]
     },
     "execution_count": 22,
     "metadata": {},
     "output_type": "execute_result"
    }
   ],
   "source": [
    "# Display the last 5 rows of the calender dataframe\n",
    "calender_df.tail(5)"
   ]
  },
  {
   "cell_type": "code",
   "execution_count": 23,
   "metadata": {},
   "outputs": [
    {
     "name": "stdout",
     "output_type": "stream",
     "text": [
      "<class 'pandas.core.frame.DataFrame'>\n",
      "RangeIndex: 1096 entries, 0 to 1095\n",
      "Data columns (total 6 columns):\n",
      " #   Column     Non-Null Count  Dtype \n",
      "---  ------     --------------  ----- \n",
      " 0   date       1096 non-null   object\n",
      " 1   dayofweek  1096 non-null   int64 \n",
      " 2   day        1096 non-null   int64 \n",
      " 3   month      1096 non-null   int64 \n",
      " 4   year       1096 non-null   int64 \n",
      " 5   holiday    1096 non-null   int64 \n",
      "dtypes: int64(5), object(1)\n",
      "memory usage: 51.5+ KB\n"
     ]
    }
   ],
   "source": [
    "# Showing the information for the calender dataframe\n",
    "calender_df.info()"
   ]
  },
  {
   "cell_type": "code",
   "execution_count": 24,
   "metadata": {},
   "outputs": [
    {
     "name": "stdout",
     "output_type": "stream",
     "text": [
      "<class 'pandas.core.frame.DataFrame'>\n",
      "RangeIndex: 1096 entries, 0 to 1095\n",
      "Data columns (total 6 columns):\n",
      " #   Column     Non-Null Count  Dtype \n",
      "---  ------     --------------  ----- \n",
      " 0   date       1096 non-null   object\n",
      " 1   dayofweek  1096 non-null   int64 \n",
      " 2   day        1096 non-null   int64 \n",
      " 3   month      1096 non-null   int64 \n",
      " 4   year       1096 non-null   int64 \n",
      " 5   holiday    1096 non-null   int64 \n",
      "dtypes: int64(5), object(1)\n",
      "memory usage: 51.5+ KB\n"
     ]
    }
   ],
   "source": [
    "# Showing the information for the calender dataframe\n",
    "calender_df.info()"
   ]
  },
  {
   "cell_type": "markdown",
   "metadata": {},
   "source": [
    "## <span style=\"color:#2656a3;\"> 📡 Connecting to Hopsworks Feature Store\n",
    "\n",
    "We connect to Hopsworks Feature Store so we can access and create feature groups."
   ]
  },
  {
   "cell_type": "code",
   "execution_count": 25,
   "metadata": {},
   "outputs": [
    {
     "name": "stdout",
     "output_type": "stream",
     "text": [
      "Connected. Call `.close()` to terminate connection gracefully.\n",
      "\n",
      "Logged in to project, explore it here https://c.app.hopsworks.ai:443/p/554133\n",
      "Connected. Call `.close()` to terminate connection gracefully.\n"
     ]
    }
   ],
   "source": [
    "# Importing the hopsworks module\n",
    "import hopsworks\n",
    "\n",
    "# Logging in to the Hopsworks project\n",
    "project = hopsworks.login()\n",
    "\n",
    "# Getting the feature store from the project\n",
    "fs = project.get_feature_store()"
   ]
  },
  {
   "cell_type": "markdown",
   "metadata": {},
   "source": [
    "### <span style=\"color:#2656a3;\"> 🪄 Creating Feature Groups\n",
    "A feature group can be seen as a collection of conceptually related features. In this case we create feature groups for the \n",
    "- eletricity price data,\n",
    "- forecast_renewable_energy,\n",
    "- weather data,\n",
    "- calender data.\n",
    "\n",
    "We specify a `primary_key` as `date`, so we are able to join them when we create a dataset for training later in part 03 the training_pipeline.\n",
    "We define a name and a short describtion of the feature group's contents and a version number. \n",
    "\n",
    "`event_time` is specifyed as `timestamp`.\n",
    "\n",
    "We've set `online_enabled` to `True` to enable accessing the feature group through the Online API for a Feature View."
   ]
  },
  {
   "cell_type": "code",
   "execution_count": 26,
   "metadata": {},
   "outputs": [],
   "source": [
    "# Creating the feature group for the electricity prices\n",
    "electricity_fg = fs.get_or_create_feature_group(\n",
    "    name=\"electricity_prices\",\n",
    "    version=1,\n",
    "    description=\"Electricity prices from Energidata API\",\n",
    "    primary_key=[\"date\",\"timestamp\"], \n",
    "    online_enabled=True,\n",
    "    event_time=\"timestamp\",\n",
    ")"
   ]
  },
  {
   "cell_type": "markdown",
   "metadata": {},
   "source": [
    "We have now outlined metadata for the feature group. Data hasn't been stored yet, and there's no schema defined. To store data persistently for the feature group, we populate it with its associated data using the `insert` function."
   ]
  },
  {
   "cell_type": "code",
   "execution_count": 27,
   "metadata": {},
   "outputs": [
    {
     "name": "stdout",
     "output_type": "stream",
     "text": [
      "Feature Group created successfully, explore it at \n",
      "https://c.app.hopsworks.ai:443/p/554133/fs/549956/fg/775526\n"
     ]
    },
    {
     "data": {
      "application/vnd.jupyter.widget-view+json": {
       "model_id": "9c55803333ae4f15936a911a400df1ac",
       "version_major": 2,
       "version_minor": 0
      },
      "text/plain": [
       "Uploading Dataframe: 0.00% |          | Rows 0/20445 | Elapsed Time: 00:00 | Remaining Time: ?"
      ]
     },
     "metadata": {},
     "output_type": "display_data"
    },
    {
     "name": "stdout",
     "output_type": "stream",
     "text": [
      "Launching job: electricity_prices_1_offline_fg_materialization\n",
      "Job started successfully, you can follow the progress at \n",
      "https://c.app.hopsworks.ai/p/554133/jobs/named/electricity_prices_1_offline_fg_materialization/executions\n"
     ]
    },
    {
     "data": {
      "text/plain": [
       "(<hsfs.core.job.Job at 0x30cffdcd0>, None)"
      ]
     },
     "execution_count": 27,
     "metadata": {},
     "output_type": "execute_result"
    }
   ],
   "source": [
    "# Inserting the electricity_df into the feature group named electricity_fg\n",
    "electricity_fg.insert(electricity_df)"
   ]
  },
  {
   "cell_type": "markdown",
   "metadata": {},
   "source": [
    "We make a descriptions for each feature we put into the feature group. In this way we are adding more information and documentation to the user."
   ]
  },
  {
   "cell_type": "code",
   "execution_count": 28,
   "metadata": {},
   "outputs": [],
   "source": [
    "# List of descriptions for electricity features\n",
    "electricity_feature_descriptions = [\n",
    "    {\"name\": \"timestamp\", \"description\": \"Timestamp for the event_time\"},\n",
    "    {\"name\": \"date\", \"description\": \"Date of the electricity measurement\"},\n",
    "    {\"name\": \"datetime\", \"description\": \"Date and time of the electricity measurement\"},\n",
    "    {\"name\": \"hour\", \"description\": \"Hour of day\"},\n",
    "    {\"name\": \"dk1_spotpricedkk_kwh\", \"description\": \"Spot price in DKK per KWH\"}, \n",
    "]\n",
    "\n",
    "# Updating feature descriptions\n",
    "for desc in electricity_feature_descriptions: \n",
    "    electricity_fg.update_feature_description(desc[\"name\"], desc[\"description\"])"
   ]
  },
  {
   "cell_type": "markdown",
   "metadata": {},
   "source": [
    "We replicate the process for both the `forecast_renewable_energy_fg`, `weather_fg` and `danish_holidays_fg` by establishing feature groups and inserting the dataframes into their respective feature groups."
   ]
  },
  {
   "cell_type": "code",
   "execution_count": 29,
   "metadata": {},
   "outputs": [],
   "source": [
    "# # Creating the feature group for the electricity prices\n",
    "# forecast_renewable_energy_fg = fs.get_or_create_feature_group(\n",
    "#     name=\"forecast_renewable_energy\",\n",
    "#     version=1,\n",
    "#     description=\"Forecast on Renewable Energy on ForecastType from Energidata API\",\n",
    "#     primary_key=[\"date\",\"timestamp\"], \n",
    "#     online_enabled=True,\n",
    "#     event_time=\"timestamp\",\n",
    "# )"
   ]
  },
  {
   "cell_type": "code",
   "execution_count": 30,
   "metadata": {},
   "outputs": [],
   "source": [
    "# # Inserting the electricity_df into the feature group named electricity_fg\n",
    "# forecast_renewable_energy_fg.insert(forecast_renewable_energy_df)"
   ]
  },
  {
   "cell_type": "code",
   "execution_count": 31,
   "metadata": {},
   "outputs": [],
   "source": [
    "# # List of descriptions for forecast_renewable_energy features\n",
    "# forecast_renewable_energy_feature_descriptions = [\n",
    "#     {\"name\": \"timestamp\", \"description\": \"Timestamp for the event_time\"},\n",
    "#     {\"name\": \"date\", \"description\": \"Date of the forecast\"},\n",
    "#     {\"name\": \"datetime\", \"description\": \"Date and time for the forecast\"},\n",
    "#     {\"name\": \"hour\", \"description\": \"Hour of day\"},\n",
    "#     {\"name\": \"dk1_offshore_wind_forecastintraday_kwh\", \"description\": \"The forecast for the coming day at 6am Danish time zone\"},\n",
    "# ]\n",
    "\n",
    "# # Updating feature descriptions\n",
    "# for desc in forecast_renewable_energy_feature_descriptions: \n",
    "#     forecast_renewable_energy_fg.update_feature_description(desc[\"name\"], desc[\"description\"])"
   ]
  },
  {
   "cell_type": "code",
   "execution_count": 32,
   "metadata": {},
   "outputs": [],
   "source": [
    "# Creating the feature group for the weather data\n",
    "weather_fg = fs.get_or_create_feature_group(\n",
    "    name=\"weather_measurements\",\n",
    "    version=1,\n",
    "    description=\"Weather measurements from Open Meteo API\",\n",
    "    primary_key=[\"date\", \"timestamp\"], \n",
    "    event_time=\"timestamp\",\n",
    "    online_enabled=True,\n",
    ")"
   ]
  },
  {
   "cell_type": "code",
   "execution_count": 33,
   "metadata": {},
   "outputs": [
    {
     "name": "stdout",
     "output_type": "stream",
     "text": [
      "Feature Group created successfully, explore it at \n",
      "https://c.app.hopsworks.ai:443/p/554133/fs/549956/fg/775527\n"
     ]
    },
    {
     "data": {
      "application/vnd.jupyter.widget-view+json": {
       "model_id": "13f92f34259c4cf4968b060ed5963664",
       "version_major": 2,
       "version_minor": 0
      },
      "text/plain": [
       "Uploading Dataframe: 0.00% |          | Rows 0/20424 | Elapsed Time: 00:00 | Remaining Time: ?"
      ]
     },
     "metadata": {},
     "output_type": "display_data"
    },
    {
     "name": "stdout",
     "output_type": "stream",
     "text": [
      "Launching job: weather_measurements_1_offline_fg_materialization\n",
      "Job started successfully, you can follow the progress at \n",
      "https://c.app.hopsworks.ai/p/554133/jobs/named/weather_measurements_1_offline_fg_materialization/executions\n"
     ]
    },
    {
     "data": {
      "text/plain": [
       "(<hsfs.core.job.Job at 0x30cb87a10>, None)"
      ]
     },
     "execution_count": 33,
     "metadata": {},
     "output_type": "execute_result"
    }
   ],
   "source": [
    "# Inserting the weather_df into the feature group named weather_fg\n",
    "weather_fg.insert(historical_weather_df)"
   ]
  },
  {
   "cell_type": "code",
   "execution_count": 34,
   "metadata": {},
   "outputs": [],
   "source": [
    "# List of descriptions for weather features\n",
    "weather_feature_descriptions = [\n",
    "    {\"name\": \"timestamp\", \"description\": \"Timestamp for the weather measurement\"},\n",
    "    {\"name\": \"date\", \"description\": \"Date of the weather measurement\"},\n",
    "    {\"name\": \"datetime\", \"description\": \"Date and time of the weather measurement\"},\n",
    "    {\"name\": \"hour\", \"description\": \"Hour of day\"},\n",
    "    {\"name\": \"temperature_2m\", \"description\": \"Temperature at 2m above ground\"},\n",
    "    {\"name\": \"relative_humidity_2m\", \"description\": \"Relative humidity at 2m above ground\"},\n",
    "    {\"name\": \"precipitation\", \"description\": \"Precipitation\"},\n",
    "    {\"name\": \"rain\", \"description\": \"Rain\"},\n",
    "    {\"name\": \"snowfall\", \"description\": \"Snowfall\"},   \n",
    "    {\"name\": \"weather_code\", \"description\": \"Weather code\"},   \n",
    "    {\"name\": \"cloud_cover\", \"description\": \"Cloud cover\"},   \n",
    "    {\"name\": \"wind_speed_10m\", \"description\": \"Wind speed at 10m above ground\"},   \n",
    "    {\"name\": \"wind_gusts_10m\", \"description\": \"Wind gusts at 10m above ground\"},   \n",
    "]\n",
    "\n",
    "# Updating feature descriptions\n",
    "for desc in weather_feature_descriptions: \n",
    "    weather_fg.update_feature_description(desc[\"name\"], desc[\"description\"])"
   ]
  },
  {
   "cell_type": "code",
   "execution_count": 35,
   "metadata": {},
   "outputs": [],
   "source": [
    "# Creating the feature group for the danish calendar\n",
    "danish_calendar_fg = fs.get_or_create_feature_group(\n",
    "    name=\"dk_calendar\",\n",
    "    version=1,\n",
    "    description=\"Danish calendar\",\n",
    "    online_enabled=True,\n",
    "    primary_key=[\"date\"],\n",
    ")"
   ]
  },
  {
   "cell_type": "code",
   "execution_count": 36,
   "metadata": {},
   "outputs": [
    {
     "name": "stdout",
     "output_type": "stream",
     "text": [
      "Feature Group created successfully, explore it at \n",
      "https://c.app.hopsworks.ai:443/p/554133/fs/549956/fg/774514\n"
     ]
    },
    {
     "data": {
      "application/vnd.jupyter.widget-view+json": {
       "model_id": "e71513b4d9174448850f3eaa2e1bcc67",
       "version_major": 2,
       "version_minor": 0
      },
      "text/plain": [
       "Uploading Dataframe: 0.00% |          | Rows 0/1096 | Elapsed Time: 00:00 | Remaining Time: ?"
      ]
     },
     "metadata": {},
     "output_type": "display_data"
    },
    {
     "name": "stdout",
     "output_type": "stream",
     "text": [
      "Launching job: dk_calendar_1_offline_fg_materialization\n",
      "Job started successfully, you can follow the progress at \n",
      "https://c.app.hopsworks.ai/p/554133/jobs/named/dk_calendar_1_offline_fg_materialization/executions\n"
     ]
    },
    {
     "data": {
      "text/plain": [
       "(<hsfs.core.job.Job at 0x30d03a710>, None)"
      ]
     },
     "execution_count": 36,
     "metadata": {},
     "output_type": "execute_result"
    }
   ],
   "source": [
    "# Inserting the calender_df into the feature group named danish_calendar_fg\n",
    "danish_calendar_fg.insert(calender_df)"
   ]
  },
  {
   "cell_type": "code",
   "execution_count": 37,
   "metadata": {},
   "outputs": [],
   "source": [
    "# List of descriptions for danish_calendar features\n",
    "danish_calendar_feature_descriptions = [\n",
    "    {\"name\": \"date\", \"description\": \"Date in the calendar\"},\n",
    "    {\"name\": \"day\", \"description\": \"Day number of the week. Monday is 0 and Sunday is 6\"},\n",
    "    {\"name\": \"month\", \"description\": \"Month number of the year\"},\n",
    "    {\"name\": \"holiday\", \"description\": \"Holiday or not holiday\"},\n",
    "]\n",
    "\n",
    "# Updating feature descriptions\n",
    "for desc in danish_calendar_feature_descriptions: \n",
    "    danish_calendar_fg.update_feature_description(desc[\"name\"], desc[\"description\"])"
   ]
  },
  {
   "cell_type": "markdown",
   "metadata": {},
   "source": [
    "---\n",
    "## <span style=\"color:#2656a3;\">⏭️ **Next:** Part 02: Feature Pipeline </span>\n",
    "\n",
    "Next we will generate new data for the Feature Groups."
   ]
  }
 ],
 "metadata": {
  "kernelspec": {
   "display_name": "bds-streamlit",
   "language": "python",
   "name": "python3"
  },
  "language_info": {
   "codemirror_mode": {
    "name": "ipython",
    "version": 3
   },
   "file_extension": ".py",
   "mimetype": "text/x-python",
   "name": "python",
   "nbconvert_exporter": "python",
   "pygments_lexer": "ipython3",
   "version": "3.11.8"
  }
 },
 "nbformat": 4,
 "nbformat_minor": 2
}
