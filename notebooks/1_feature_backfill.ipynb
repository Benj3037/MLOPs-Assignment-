{
 "cells": [
  {
   "cell_type": "markdown",
   "metadata": {},
   "source": [
    "# <span style=\"font-width:bold; font-size: 3rem; color:#2656a3;\">**Data Engineering and Machine Learning Operations in Business** </span> <span style=\"font-width:bold; font-size: 3rem; color:#333;\">- Part 01: Feature Backfill</span>"
   ]
  },
  {
   "cell_type": "markdown",
   "metadata": {},
   "source": [
    "## 🗒️ The notebook is divided into the following sections:\n",
    "1. Loading data and process features\n",
    "2. Connecting to Hopsworks Feature Store\n",
    "3. Creating feature groups and uploading them to the feature store"
   ]
  },
  {
   "cell_type": "markdown",
   "metadata": {},
   "source": [
    "## <span style='color:#2656a3'> ⚙️ Import of Libraries and Packages\n",
    "\n",
    "First, we install the Python packages required for this notebook. We'll use the --quiet command after specifying the names of the libraries to ensure a silent installation process. Then, we proceed to import all the necessary libraries."
   ]
  },
  {
   "cell_type": "code",
   "execution_count": 25,
   "metadata": {},
   "outputs": [],
   "source": [
    "# Install of the packages for hopsworks\n",
    "# !pip install -U hopsworks --quiet"
   ]
  },
  {
   "cell_type": "code",
   "execution_count": 26,
   "metadata": {},
   "outputs": [
    {
     "name": "stdout",
     "output_type": "stream",
     "text": [
      "/Users/camillahannesbo/Documents/AAU/Master - BDS/2. semester/Data Engineering and Machine learning operations in Business/MLOPs-Assignment-\n",
      "/Users/camillahannesbo/Documents/AAU/Master - BDS/2. semester/Data Engineering and Machine learning operations in Business/MLOPs-Assignment-/notebooks\n"
     ]
    }
   ],
   "source": [
    "# First we go one back in our directory to access the folder with our functions\n",
    "%cd ..\n",
    "\n",
    "# Now we import the functions from the features folder\n",
    "from features import electricity_prices, weather_measures # Own functions. This is functions we have created \n",
    "\n",
    "# We go back into the notebooks folder\n",
    "%cd notebooks"
   ]
  },
  {
   "cell_type": "code",
   "execution_count": 27,
   "metadata": {},
   "outputs": [],
   "source": [
    "# Importing the packages for the needed libraries for the Jupyter notebook\n",
    "import pandas as pd\n",
    "import requests\n",
    "from datetime import datetime, timedelta\n",
    "\n",
    "# Ignore warnings\n",
    "import warnings \n",
    "warnings.filterwarnings('ignore')"
   ]
  },
  {
   "cell_type": "markdown",
   "metadata": {},
   "source": [
    "## <span style=\"color:#2656a3;\"> 💽 Load the Historical Data\n",
    "\n",
    "The data used comes from different sources:\n",
    "\n",
    "- Electricity prices in Denmark on hourly basis per day from [Energinet](https://www.energidataservice.dk). Loacated in the *featuresfolder* under electricity_prices.\n",
    "- Different meteorological observations based on Aalborg Denmark from [Open Meteo](https://www.open-meteo.com). Loacated in the *featuresfolder* under weather_measures.\n",
    "- Danish calendar that categorizes dates into types based on whether it is a weekday or not. This files is made manually by the group and is located in the *datafolder* inside this repository.\n",
    "- Forecast Renewable Energy next day from [Energinet](https://www.energidataservice.dk). Loacated in the *featuresfolder* under electricity_prices.\n",
    "- Weather Forecast based on Aalborg Denmark from [Open Meteo](https://www.open-meteo.com). Loacated in the *featuresfolder* under weather_measures. (This data is used later to parse in new real-time weather data)\n"
   ]
  },
  {
   "cell_type": "markdown",
   "metadata": {},
   "source": [
    "### <span style=\"color:#2656a3;\">💸 Electricity prices per day from Energinet\n",
    "This first dataset is Electricity prices on hourly basis per day from Energinet/Dataservice."
   ]
  },
  {
   "cell_type": "code",
   "execution_count": 64,
   "metadata": {},
   "outputs": [
    {
     "name": "stderr",
     "output_type": "stream",
     "text": [
      "DeprecationWarning: np.find_common_type is deprecated.  Please use `np.result_type` or `np.promote_types`.\n",
      "See https://numpy.org/devdocs/release/1.25.0-notes.html and the docs for more information.  (Deprecated NumPy 1.25)\n"
     ]
    }
   ],
   "source": [
    "# Fetching historical electricity prices for area DK1 from January 1, 2022\n",
    "# Note: The end date is currently left out to retrieve data up to the present date of yesterday \n",
    "# Today is not included in the data as it is not historical data\n",
    "electricity_df = electricity_prices.electricity_prices(\n",
    "    historical=True, \n",
    "    area=[\"DK1\"], \n",
    "    start='2022-01-01', \n",
    "    #end='2023-12-31'\n",
    ")"
   ]
  },
  {
   "cell_type": "code",
   "execution_count": 29,
   "metadata": {},
   "outputs": [
    {
     "data": {
      "text/html": [
       "<div>\n",
       "<style scoped>\n",
       "    .dataframe tbody tr th:only-of-type {\n",
       "        vertical-align: middle;\n",
       "    }\n",
       "\n",
       "    .dataframe tbody tr th {\n",
       "        vertical-align: top;\n",
       "    }\n",
       "\n",
       "    .dataframe thead th {\n",
       "        text-align: right;\n",
       "    }\n",
       "</style>\n",
       "<table border=\"1\" class=\"dataframe\">\n",
       "  <thead>\n",
       "    <tr style=\"text-align: right;\">\n",
       "      <th></th>\n",
       "      <th>timestamp</th>\n",
       "      <th>time</th>\n",
       "      <th>date</th>\n",
       "      <th>dk1_spotpricedkk_kwh</th>\n",
       "    </tr>\n",
       "  </thead>\n",
       "  <tbody>\n",
       "    <tr>\n",
       "      <th>0</th>\n",
       "      <td>1640995200000</td>\n",
       "      <td>2022-01-01 00:00:00</td>\n",
       "      <td>2022-01-01</td>\n",
       "      <td>0.37220</td>\n",
       "    </tr>\n",
       "    <tr>\n",
       "      <th>1</th>\n",
       "      <td>1640998800000</td>\n",
       "      <td>2022-01-01 01:00:00</td>\n",
       "      <td>2022-01-01</td>\n",
       "      <td>0.30735</td>\n",
       "    </tr>\n",
       "    <tr>\n",
       "      <th>2</th>\n",
       "      <td>1641002400000</td>\n",
       "      <td>2022-01-01 02:00:00</td>\n",
       "      <td>2022-01-01</td>\n",
       "      <td>0.32141</td>\n",
       "    </tr>\n",
       "    <tr>\n",
       "      <th>3</th>\n",
       "      <td>1641006000000</td>\n",
       "      <td>2022-01-01 03:00:00</td>\n",
       "      <td>2022-01-01</td>\n",
       "      <td>0.33806</td>\n",
       "    </tr>\n",
       "    <tr>\n",
       "      <th>4</th>\n",
       "      <td>1641009600000</td>\n",
       "      <td>2022-01-01 04:00:00</td>\n",
       "      <td>2022-01-01</td>\n",
       "      <td>0.28013</td>\n",
       "    </tr>\n",
       "  </tbody>\n",
       "</table>\n",
       "</div>"
      ],
      "text/plain": [
       "       timestamp                time        date  dk1_spotpricedkk_kwh\n",
       "0  1640995200000 2022-01-01 00:00:00  2022-01-01               0.37220\n",
       "1  1640998800000 2022-01-01 01:00:00  2022-01-01               0.30735\n",
       "2  1641002400000 2022-01-01 02:00:00  2022-01-01               0.32141\n",
       "3  1641006000000 2022-01-01 03:00:00  2022-01-01               0.33806\n",
       "4  1641009600000 2022-01-01 04:00:00  2022-01-01               0.28013"
      ]
     },
     "execution_count": 29,
     "metadata": {},
     "output_type": "execute_result"
    }
   ],
   "source": [
    "# Display the first 5 rows of the electricity dataframe\n",
    "electricity_df.head(5)"
   ]
  },
  {
   "cell_type": "code",
   "execution_count": 30,
   "metadata": {},
   "outputs": [
    {
     "data": {
      "text/html": [
       "<div>\n",
       "<style scoped>\n",
       "    .dataframe tbody tr th:only-of-type {\n",
       "        vertical-align: middle;\n",
       "    }\n",
       "\n",
       "    .dataframe tbody tr th {\n",
       "        vertical-align: top;\n",
       "    }\n",
       "\n",
       "    .dataframe thead th {\n",
       "        text-align: right;\n",
       "    }\n",
       "</style>\n",
       "<table border=\"1\" class=\"dataframe\">\n",
       "  <thead>\n",
       "    <tr style=\"text-align: right;\">\n",
       "      <th></th>\n",
       "      <th>timestamp</th>\n",
       "      <th>time</th>\n",
       "      <th>date</th>\n",
       "      <th>dk1_spotpricedkk_kwh</th>\n",
       "    </tr>\n",
       "  </thead>\n",
       "  <tbody>\n",
       "    <tr>\n",
       "      <th>20296</th>\n",
       "      <td>1714071600000</td>\n",
       "      <td>2024-04-25 19:00:00</td>\n",
       "      <td>2024-04-25</td>\n",
       "      <td>1.05217</td>\n",
       "    </tr>\n",
       "    <tr>\n",
       "      <th>20297</th>\n",
       "      <td>1714075200000</td>\n",
       "      <td>2024-04-25 20:00:00</td>\n",
       "      <td>2024-04-25</td>\n",
       "      <td>1.13570</td>\n",
       "    </tr>\n",
       "    <tr>\n",
       "      <th>20298</th>\n",
       "      <td>1714078800000</td>\n",
       "      <td>2024-04-25 21:00:00</td>\n",
       "      <td>2024-04-25</td>\n",
       "      <td>0.84799</td>\n",
       "    </tr>\n",
       "    <tr>\n",
       "      <th>20299</th>\n",
       "      <td>1714082400000</td>\n",
       "      <td>2024-04-25 22:00:00</td>\n",
       "      <td>2024-04-25</td>\n",
       "      <td>0.68124</td>\n",
       "    </tr>\n",
       "    <tr>\n",
       "      <th>20300</th>\n",
       "      <td>1714086000000</td>\n",
       "      <td>2024-04-25 23:00:00</td>\n",
       "      <td>2024-04-25</td>\n",
       "      <td>0.59466</td>\n",
       "    </tr>\n",
       "  </tbody>\n",
       "</table>\n",
       "</div>"
      ],
      "text/plain": [
       "           timestamp                time        date  dk1_spotpricedkk_kwh\n",
       "20296  1714071600000 2024-04-25 19:00:00  2024-04-25               1.05217\n",
       "20297  1714075200000 2024-04-25 20:00:00  2024-04-25               1.13570\n",
       "20298  1714078800000 2024-04-25 21:00:00  2024-04-25               0.84799\n",
       "20299  1714082400000 2024-04-25 22:00:00  2024-04-25               0.68124\n",
       "20300  1714086000000 2024-04-25 23:00:00  2024-04-25               0.59466"
      ]
     },
     "execution_count": 30,
     "metadata": {},
     "output_type": "execute_result"
    }
   ],
   "source": [
    "# Display the last 5 rows of the electricity dataframe\n",
    "electricity_df.tail(5)"
   ]
  },
  {
   "cell_type": "code",
   "execution_count": 31,
   "metadata": {},
   "outputs": [
    {
     "name": "stdout",
     "output_type": "stream",
     "text": [
      "<class 'pandas.core.frame.DataFrame'>\n",
      "RangeIndex: 20301 entries, 0 to 20300\n",
      "Data columns (total 4 columns):\n",
      " #   Column                Non-Null Count  Dtype         \n",
      "---  ------                --------------  -----         \n",
      " 0   timestamp             20301 non-null  int64         \n",
      " 1   time                  20301 non-null  datetime64[ns]\n",
      " 2   date                  20301 non-null  object        \n",
      " 3   dk1_spotpricedkk_kwh  20301 non-null  float64       \n",
      "dtypes: datetime64[ns](1), float64(1), int64(1), object(1)\n",
      "memory usage: 634.5+ KB\n"
     ]
    }
   ],
   "source": [
    "# Showing the information for the electricity dataframe\n",
    "electricity_df.info()"
   ]
  },
  {
   "cell_type": "markdown",
   "metadata": {},
   "source": [
    "### <span style=\"color:#2656a3;\">☀️💨 Forecast Renewable Energy next day from Energinet\n",
    "Second dataset is Forecast Renewable Energy next day also on hourly basis from Energinet"
   ]
  },
  {
   "cell_type": "code",
   "execution_count": 32,
   "metadata": {},
   "outputs": [],
   "source": [
    "# Fetching historical forecast of renewable energy data for area DK1 from January 1, 2022\n",
    "# Note: The end date is currently left out to retrieve data up to the present date of yesterday \n",
    "# Today is not included in the data as it is not historical data\n",
    "forecast_renewable_energy_df = electricity_prices.forecast_renewable_energy(\n",
    "    historical=True, \n",
    "    area = [\"DK1\"],\n",
    "    start= '2022-01-01', \n",
    "    #end='2023-12-31'\n",
    ")"
   ]
  },
  {
   "cell_type": "code",
   "execution_count": 33,
   "metadata": {},
   "outputs": [
    {
     "data": {
      "text/html": [
       "<div>\n",
       "<style scoped>\n",
       "    .dataframe tbody tr th:only-of-type {\n",
       "        vertical-align: middle;\n",
       "    }\n",
       "\n",
       "    .dataframe tbody tr th {\n",
       "        vertical-align: top;\n",
       "    }\n",
       "\n",
       "    .dataframe thead th {\n",
       "        text-align: right;\n",
       "    }\n",
       "</style>\n",
       "<table border=\"1\" class=\"dataframe\">\n",
       "  <thead>\n",
       "    <tr style=\"text-align: right;\">\n",
       "      <th></th>\n",
       "      <th>timestamp</th>\n",
       "      <th>time</th>\n",
       "      <th>date</th>\n",
       "      <th>dk1_offshore_wind_forecastintraday_kwh</th>\n",
       "      <th>dk1_onshore_wind_forecastintraday_kwh</th>\n",
       "      <th>dk1_solar_forecastintraday_kwh</th>\n",
       "    </tr>\n",
       "  </thead>\n",
       "  <tbody>\n",
       "    <tr>\n",
       "      <th>0</th>\n",
       "      <td>1641024000000</td>\n",
       "      <td>2022-01-01 08:00:00</td>\n",
       "      <td>2022-01-01</td>\n",
       "      <td>0.611708</td>\n",
       "      <td>0.236792</td>\n",
       "      <td>0.000050</td>\n",
       "    </tr>\n",
       "    <tr>\n",
       "      <th>1</th>\n",
       "      <td>1641027600000</td>\n",
       "      <td>2022-01-01 09:00:00</td>\n",
       "      <td>2022-01-01</td>\n",
       "      <td>0.459708</td>\n",
       "      <td>0.196667</td>\n",
       "      <td>0.004841</td>\n",
       "    </tr>\n",
       "    <tr>\n",
       "      <th>2</th>\n",
       "      <td>1641031200000</td>\n",
       "      <td>2022-01-01 10:00:00</td>\n",
       "      <td>2022-01-01</td>\n",
       "      <td>0.310375</td>\n",
       "      <td>0.178500</td>\n",
       "      <td>0.020353</td>\n",
       "    </tr>\n",
       "    <tr>\n",
       "      <th>3</th>\n",
       "      <td>1641034800000</td>\n",
       "      <td>2022-01-01 11:00:00</td>\n",
       "      <td>2022-01-01</td>\n",
       "      <td>0.320750</td>\n",
       "      <td>0.201125</td>\n",
       "      <td>0.035719</td>\n",
       "    </tr>\n",
       "    <tr>\n",
       "      <th>4</th>\n",
       "      <td>1641038400000</td>\n",
       "      <td>2022-01-01 12:00:00</td>\n",
       "      <td>2022-01-01</td>\n",
       "      <td>0.355667</td>\n",
       "      <td>0.277667</td>\n",
       "      <td>0.038027</td>\n",
       "    </tr>\n",
       "  </tbody>\n",
       "</table>\n",
       "</div>"
      ],
      "text/plain": [
       "       timestamp                time        date  \\\n",
       "0  1641024000000 2022-01-01 08:00:00  2022-01-01   \n",
       "1  1641027600000 2022-01-01 09:00:00  2022-01-01   \n",
       "2  1641031200000 2022-01-01 10:00:00  2022-01-01   \n",
       "3  1641034800000 2022-01-01 11:00:00  2022-01-01   \n",
       "4  1641038400000 2022-01-01 12:00:00  2022-01-01   \n",
       "\n",
       "   dk1_offshore_wind_forecastintraday_kwh  \\\n",
       "0                                0.611708   \n",
       "1                                0.459708   \n",
       "2                                0.310375   \n",
       "3                                0.320750   \n",
       "4                                0.355667   \n",
       "\n",
       "   dk1_onshore_wind_forecastintraday_kwh  dk1_solar_forecastintraday_kwh  \n",
       "0                               0.236792                        0.000050  \n",
       "1                               0.196667                        0.004841  \n",
       "2                               0.178500                        0.020353  \n",
       "3                               0.201125                        0.035719  \n",
       "4                               0.277667                        0.038027  "
      ]
     },
     "execution_count": 33,
     "metadata": {},
     "output_type": "execute_result"
    }
   ],
   "source": [
    "# Display the first 5 rows of the forecast_renewable_energy dataframe\n",
    "forecast_renewable_energy_df.head(5)"
   ]
  },
  {
   "cell_type": "code",
   "execution_count": 34,
   "metadata": {},
   "outputs": [
    {
     "data": {
      "text/html": [
       "<div>\n",
       "<style scoped>\n",
       "    .dataframe tbody tr th:only-of-type {\n",
       "        vertical-align: middle;\n",
       "    }\n",
       "\n",
       "    .dataframe tbody tr th {\n",
       "        vertical-align: top;\n",
       "    }\n",
       "\n",
       "    .dataframe thead th {\n",
       "        text-align: right;\n",
       "    }\n",
       "</style>\n",
       "<table border=\"1\" class=\"dataframe\">\n",
       "  <thead>\n",
       "    <tr style=\"text-align: right;\">\n",
       "      <th></th>\n",
       "      <th>timestamp</th>\n",
       "      <th>time</th>\n",
       "      <th>date</th>\n",
       "      <th>dk1_offshore_wind_forecastintraday_kwh</th>\n",
       "      <th>dk1_onshore_wind_forecastintraday_kwh</th>\n",
       "      <th>dk1_solar_forecastintraday_kwh</th>\n",
       "    </tr>\n",
       "  </thead>\n",
       "  <tbody>\n",
       "    <tr>\n",
       "      <th>14282</th>\n",
       "      <td>1714071600000</td>\n",
       "      <td>2024-04-25 19:00:00</td>\n",
       "      <td>2024-04-25</td>\n",
       "      <td>0.062917</td>\n",
       "      <td>0.277500</td>\n",
       "      <td>0.115812</td>\n",
       "    </tr>\n",
       "    <tr>\n",
       "      <th>14283</th>\n",
       "      <td>1714075200000</td>\n",
       "      <td>2024-04-25 20:00:00</td>\n",
       "      <td>2024-04-25</td>\n",
       "      <td>0.089208</td>\n",
       "      <td>0.266250</td>\n",
       "      <td>0.013700</td>\n",
       "    </tr>\n",
       "    <tr>\n",
       "      <th>14284</th>\n",
       "      <td>1714078800000</td>\n",
       "      <td>2024-04-25 21:00:00</td>\n",
       "      <td>2024-04-25</td>\n",
       "      <td>0.110000</td>\n",
       "      <td>0.299208</td>\n",
       "      <td>0.000467</td>\n",
       "    </tr>\n",
       "    <tr>\n",
       "      <th>14285</th>\n",
       "      <td>1714082400000</td>\n",
       "      <td>2024-04-25 22:00:00</td>\n",
       "      <td>2024-04-25</td>\n",
       "      <td>0.131417</td>\n",
       "      <td>0.357833</td>\n",
       "      <td>0.000000</td>\n",
       "    </tr>\n",
       "    <tr>\n",
       "      <th>14286</th>\n",
       "      <td>1714086000000</td>\n",
       "      <td>2024-04-25 23:00:00</td>\n",
       "      <td>2024-04-25</td>\n",
       "      <td>0.185875</td>\n",
       "      <td>0.372000</td>\n",
       "      <td>0.000000</td>\n",
       "    </tr>\n",
       "  </tbody>\n",
       "</table>\n",
       "</div>"
      ],
      "text/plain": [
       "           timestamp                time        date  \\\n",
       "14282  1714071600000 2024-04-25 19:00:00  2024-04-25   \n",
       "14283  1714075200000 2024-04-25 20:00:00  2024-04-25   \n",
       "14284  1714078800000 2024-04-25 21:00:00  2024-04-25   \n",
       "14285  1714082400000 2024-04-25 22:00:00  2024-04-25   \n",
       "14286  1714086000000 2024-04-25 23:00:00  2024-04-25   \n",
       "\n",
       "       dk1_offshore_wind_forecastintraday_kwh  \\\n",
       "14282                                0.062917   \n",
       "14283                                0.089208   \n",
       "14284                                0.110000   \n",
       "14285                                0.131417   \n",
       "14286                                0.185875   \n",
       "\n",
       "       dk1_onshore_wind_forecastintraday_kwh  dk1_solar_forecastintraday_kwh  \n",
       "14282                               0.277500                        0.115812  \n",
       "14283                               0.266250                        0.013700  \n",
       "14284                               0.299208                        0.000467  \n",
       "14285                               0.357833                        0.000000  \n",
       "14286                               0.372000                        0.000000  "
      ]
     },
     "execution_count": 34,
     "metadata": {},
     "output_type": "execute_result"
    }
   ],
   "source": [
    "# Display the last 5 rows of the forecast_renewable_energy dataframe\n",
    "forecast_renewable_energy_df.tail(5)"
   ]
  },
  {
   "cell_type": "code",
   "execution_count": 35,
   "metadata": {},
   "outputs": [
    {
     "name": "stdout",
     "output_type": "stream",
     "text": [
      "<class 'pandas.core.frame.DataFrame'>\n",
      "RangeIndex: 14287 entries, 0 to 14286\n",
      "Data columns (total 6 columns):\n",
      " #   Column                                  Non-Null Count  Dtype         \n",
      "---  ------                                  --------------  -----         \n",
      " 0   timestamp                               14287 non-null  int64         \n",
      " 1   time                                    14287 non-null  datetime64[ns]\n",
      " 2   date                                    14287 non-null  object        \n",
      " 3   dk1_offshore_wind_forecastintraday_kwh  14271 non-null  float64       \n",
      " 4   dk1_onshore_wind_forecastintraday_kwh   14271 non-null  float64       \n",
      " 5   dk1_solar_forecastintraday_kwh          14271 non-null  float64       \n",
      "dtypes: datetime64[ns](1), float64(3), int64(1), object(1)\n",
      "memory usage: 669.8+ KB\n"
     ]
    }
   ],
   "source": [
    "# Showing the information for the forecast_renewable_energy dataframe\n",
    "forecast_renewable_energy_df.info()"
   ]
  },
  {
   "cell_type": "markdown",
   "metadata": {},
   "source": [
    "### <span style=\"color:#2656a3;\"> 🌤 Weather measurements from Open Meteo\n",
    "Next weather measurements from Open Meteo is fetched."
   ]
  },
  {
   "cell_type": "markdown",
   "metadata": {},
   "source": [
    "#### <span style=\"color:#2656a3;\"> 🕰️ Historical Weather Measures"
   ]
  },
  {
   "cell_type": "code",
   "execution_count": 36,
   "metadata": {},
   "outputs": [],
   "source": [
    "# Fetching historical weather measurements from January 1, 2022\n",
    "# Note: The end date is currently left out to retrieve data up to the present date of yesterday \n",
    "# Today is not included in the data as it is not historical data\n",
    "historical_weather_df = weather_measures.historical_weather_measures(\n",
    "    historical=True, \n",
    "    start = '2022-01-01', \n",
    "    #end = '2023-12-31'\n",
    ")"
   ]
  },
  {
   "cell_type": "code",
   "execution_count": 37,
   "metadata": {},
   "outputs": [
    {
     "data": {
      "text/html": [
       "<div>\n",
       "<style scoped>\n",
       "    .dataframe tbody tr th:only-of-type {\n",
       "        vertical-align: middle;\n",
       "    }\n",
       "\n",
       "    .dataframe tbody tr th {\n",
       "        vertical-align: top;\n",
       "    }\n",
       "\n",
       "    .dataframe thead th {\n",
       "        text-align: right;\n",
       "    }\n",
       "</style>\n",
       "<table border=\"1\" class=\"dataframe\">\n",
       "  <thead>\n",
       "    <tr style=\"text-align: right;\">\n",
       "      <th></th>\n",
       "      <th>timestamp</th>\n",
       "      <th>date</th>\n",
       "      <th>time</th>\n",
       "      <th>temperature_2m</th>\n",
       "      <th>relative_humidity_2m</th>\n",
       "      <th>precipitation</th>\n",
       "      <th>rain</th>\n",
       "      <th>snowfall</th>\n",
       "      <th>weather_code</th>\n",
       "      <th>cloud_cover</th>\n",
       "      <th>wind_speed_10m</th>\n",
       "      <th>wind_gusts_10m</th>\n",
       "    </tr>\n",
       "  </thead>\n",
       "  <tbody>\n",
       "    <tr>\n",
       "      <th>0</th>\n",
       "      <td>1640995200000</td>\n",
       "      <td>2022-01-01</td>\n",
       "      <td>2022-01-01 00:00:00</td>\n",
       "      <td>6.7</td>\n",
       "      <td>100.0</td>\n",
       "      <td>0.0</td>\n",
       "      <td>0.0</td>\n",
       "      <td>0.0</td>\n",
       "      <td>3.0</td>\n",
       "      <td>100.0</td>\n",
       "      <td>16.2</td>\n",
       "      <td>36.0</td>\n",
       "    </tr>\n",
       "    <tr>\n",
       "      <th>1</th>\n",
       "      <td>1640998800000</td>\n",
       "      <td>2022-01-01</td>\n",
       "      <td>2022-01-01 01:00:00</td>\n",
       "      <td>6.6</td>\n",
       "      <td>100.0</td>\n",
       "      <td>0.0</td>\n",
       "      <td>0.0</td>\n",
       "      <td>0.0</td>\n",
       "      <td>3.0</td>\n",
       "      <td>100.0</td>\n",
       "      <td>16.2</td>\n",
       "      <td>30.2</td>\n",
       "    </tr>\n",
       "    <tr>\n",
       "      <th>2</th>\n",
       "      <td>1641002400000</td>\n",
       "      <td>2022-01-01</td>\n",
       "      <td>2022-01-01 02:00:00</td>\n",
       "      <td>6.7</td>\n",
       "      <td>99.0</td>\n",
       "      <td>0.0</td>\n",
       "      <td>0.0</td>\n",
       "      <td>0.0</td>\n",
       "      <td>3.0</td>\n",
       "      <td>100.0</td>\n",
       "      <td>15.5</td>\n",
       "      <td>30.6</td>\n",
       "    </tr>\n",
       "    <tr>\n",
       "      <th>3</th>\n",
       "      <td>1641006000000</td>\n",
       "      <td>2022-01-01</td>\n",
       "      <td>2022-01-01 03:00:00</td>\n",
       "      <td>6.7</td>\n",
       "      <td>100.0</td>\n",
       "      <td>0.0</td>\n",
       "      <td>0.0</td>\n",
       "      <td>0.0</td>\n",
       "      <td>3.0</td>\n",
       "      <td>100.0</td>\n",
       "      <td>12.7</td>\n",
       "      <td>28.8</td>\n",
       "    </tr>\n",
       "    <tr>\n",
       "      <th>4</th>\n",
       "      <td>1641009600000</td>\n",
       "      <td>2022-01-01</td>\n",
       "      <td>2022-01-01 04:00:00</td>\n",
       "      <td>6.7</td>\n",
       "      <td>99.0</td>\n",
       "      <td>0.0</td>\n",
       "      <td>0.0</td>\n",
       "      <td>0.0</td>\n",
       "      <td>3.0</td>\n",
       "      <td>100.0</td>\n",
       "      <td>10.6</td>\n",
       "      <td>23.8</td>\n",
       "    </tr>\n",
       "  </tbody>\n",
       "</table>\n",
       "</div>"
      ],
      "text/plain": [
       "       timestamp        date                time  temperature_2m  \\\n",
       "0  1640995200000  2022-01-01 2022-01-01 00:00:00             6.7   \n",
       "1  1640998800000  2022-01-01 2022-01-01 01:00:00             6.6   \n",
       "2  1641002400000  2022-01-01 2022-01-01 02:00:00             6.7   \n",
       "3  1641006000000  2022-01-01 2022-01-01 03:00:00             6.7   \n",
       "4  1641009600000  2022-01-01 2022-01-01 04:00:00             6.7   \n",
       "\n",
       "   relative_humidity_2m  precipitation  rain  snowfall  weather_code  \\\n",
       "0                 100.0            0.0   0.0       0.0           3.0   \n",
       "1                 100.0            0.0   0.0       0.0           3.0   \n",
       "2                  99.0            0.0   0.0       0.0           3.0   \n",
       "3                 100.0            0.0   0.0       0.0           3.0   \n",
       "4                  99.0            0.0   0.0       0.0           3.0   \n",
       "\n",
       "   cloud_cover  wind_speed_10m  wind_gusts_10m  \n",
       "0        100.0            16.2            36.0  \n",
       "1        100.0            16.2            30.2  \n",
       "2        100.0            15.5            30.6  \n",
       "3        100.0            12.7            28.8  \n",
       "4        100.0            10.6            23.8  "
      ]
     },
     "execution_count": 37,
     "metadata": {},
     "output_type": "execute_result"
    }
   ],
   "source": [
    "# Display the first 5 rows of the weather dataframe\n",
    "historical_weather_df.head(5)"
   ]
  },
  {
   "cell_type": "code",
   "execution_count": 38,
   "metadata": {},
   "outputs": [
    {
     "data": {
      "text/html": [
       "<div>\n",
       "<style scoped>\n",
       "    .dataframe tbody tr th:only-of-type {\n",
       "        vertical-align: middle;\n",
       "    }\n",
       "\n",
       "    .dataframe tbody tr th {\n",
       "        vertical-align: top;\n",
       "    }\n",
       "\n",
       "    .dataframe thead th {\n",
       "        text-align: right;\n",
       "    }\n",
       "</style>\n",
       "<table border=\"1\" class=\"dataframe\">\n",
       "  <thead>\n",
       "    <tr style=\"text-align: right;\">\n",
       "      <th></th>\n",
       "      <th>timestamp</th>\n",
       "      <th>date</th>\n",
       "      <th>time</th>\n",
       "      <th>temperature_2m</th>\n",
       "      <th>relative_humidity_2m</th>\n",
       "      <th>precipitation</th>\n",
       "      <th>rain</th>\n",
       "      <th>snowfall</th>\n",
       "      <th>weather_code</th>\n",
       "      <th>cloud_cover</th>\n",
       "      <th>wind_speed_10m</th>\n",
       "      <th>wind_gusts_10m</th>\n",
       "    </tr>\n",
       "  </thead>\n",
       "  <tbody>\n",
       "    <tr>\n",
       "      <th>20275</th>\n",
       "      <td>1713985200000</td>\n",
       "      <td>2024-04-24</td>\n",
       "      <td>2024-04-24 19:00:00</td>\n",
       "      <td>3.9</td>\n",
       "      <td>88.0</td>\n",
       "      <td>0.0</td>\n",
       "      <td>0.0</td>\n",
       "      <td>0.0</td>\n",
       "      <td>3.0</td>\n",
       "      <td>87.0</td>\n",
       "      <td>7.1</td>\n",
       "      <td>11.9</td>\n",
       "    </tr>\n",
       "    <tr>\n",
       "      <th>20276</th>\n",
       "      <td>1713988800000</td>\n",
       "      <td>2024-04-24</td>\n",
       "      <td>2024-04-24 20:00:00</td>\n",
       "      <td>3.4</td>\n",
       "      <td>91.0</td>\n",
       "      <td>0.0</td>\n",
       "      <td>0.0</td>\n",
       "      <td>0.0</td>\n",
       "      <td>3.0</td>\n",
       "      <td>100.0</td>\n",
       "      <td>6.0</td>\n",
       "      <td>9.4</td>\n",
       "    </tr>\n",
       "    <tr>\n",
       "      <th>20277</th>\n",
       "      <td>1713992400000</td>\n",
       "      <td>2024-04-24</td>\n",
       "      <td>2024-04-24 21:00:00</td>\n",
       "      <td>4.2</td>\n",
       "      <td>89.0</td>\n",
       "      <td>0.0</td>\n",
       "      <td>0.0</td>\n",
       "      <td>0.0</td>\n",
       "      <td>3.0</td>\n",
       "      <td>99.0</td>\n",
       "      <td>5.6</td>\n",
       "      <td>10.4</td>\n",
       "    </tr>\n",
       "    <tr>\n",
       "      <th>20278</th>\n",
       "      <td>1713996000000</td>\n",
       "      <td>2024-04-24</td>\n",
       "      <td>2024-04-24 22:00:00</td>\n",
       "      <td>4.0</td>\n",
       "      <td>88.0</td>\n",
       "      <td>0.0</td>\n",
       "      <td>0.0</td>\n",
       "      <td>0.0</td>\n",
       "      <td>3.0</td>\n",
       "      <td>100.0</td>\n",
       "      <td>5.4</td>\n",
       "      <td>10.4</td>\n",
       "    </tr>\n",
       "    <tr>\n",
       "      <th>20279</th>\n",
       "      <td>1713999600000</td>\n",
       "      <td>2024-04-24</td>\n",
       "      <td>2024-04-24 23:00:00</td>\n",
       "      <td>3.9</td>\n",
       "      <td>88.0</td>\n",
       "      <td>0.0</td>\n",
       "      <td>0.0</td>\n",
       "      <td>0.0</td>\n",
       "      <td>3.0</td>\n",
       "      <td>100.0</td>\n",
       "      <td>7.5</td>\n",
       "      <td>12.6</td>\n",
       "    </tr>\n",
       "  </tbody>\n",
       "</table>\n",
       "</div>"
      ],
      "text/plain": [
       "           timestamp        date                time  temperature_2m  \\\n",
       "20275  1713985200000  2024-04-24 2024-04-24 19:00:00             3.9   \n",
       "20276  1713988800000  2024-04-24 2024-04-24 20:00:00             3.4   \n",
       "20277  1713992400000  2024-04-24 2024-04-24 21:00:00             4.2   \n",
       "20278  1713996000000  2024-04-24 2024-04-24 22:00:00             4.0   \n",
       "20279  1713999600000  2024-04-24 2024-04-24 23:00:00             3.9   \n",
       "\n",
       "       relative_humidity_2m  precipitation  rain  snowfall  weather_code  \\\n",
       "20275                  88.0            0.0   0.0       0.0           3.0   \n",
       "20276                  91.0            0.0   0.0       0.0           3.0   \n",
       "20277                  89.0            0.0   0.0       0.0           3.0   \n",
       "20278                  88.0            0.0   0.0       0.0           3.0   \n",
       "20279                  88.0            0.0   0.0       0.0           3.0   \n",
       "\n",
       "       cloud_cover  wind_speed_10m  wind_gusts_10m  \n",
       "20275         87.0             7.1            11.9  \n",
       "20276        100.0             6.0             9.4  \n",
       "20277         99.0             5.6            10.4  \n",
       "20278        100.0             5.4            10.4  \n",
       "20279        100.0             7.5            12.6  "
      ]
     },
     "execution_count": 38,
     "metadata": {},
     "output_type": "execute_result"
    }
   ],
   "source": [
    "# Display the last 5 rows of the weather dataframe\n",
    "historical_weather_df.tail(5)"
   ]
  },
  {
   "cell_type": "code",
   "execution_count": 39,
   "metadata": {},
   "outputs": [
    {
     "name": "stdout",
     "output_type": "stream",
     "text": [
      "<class 'pandas.core.frame.DataFrame'>\n",
      "Int64Index: 20280 entries, 0 to 20279\n",
      "Data columns (total 12 columns):\n",
      " #   Column                Non-Null Count  Dtype         \n",
      "---  ------                --------------  -----         \n",
      " 0   timestamp             20280 non-null  int64         \n",
      " 1   date                  20280 non-null  object        \n",
      " 2   time                  20280 non-null  datetime64[ns]\n",
      " 3   temperature_2m        20280 non-null  float64       \n",
      " 4   relative_humidity_2m  20280 non-null  float64       \n",
      " 5   precipitation         20280 non-null  float64       \n",
      " 6   rain                  20280 non-null  float64       \n",
      " 7   snowfall              20280 non-null  float64       \n",
      " 8   weather_code          20280 non-null  float64       \n",
      " 9   cloud_cover           20280 non-null  float64       \n",
      " 10  wind_speed_10m        20280 non-null  float64       \n",
      " 11  wind_gusts_10m        20280 non-null  float64       \n",
      "dtypes: datetime64[ns](1), float64(9), int64(1), object(1)\n",
      "memory usage: 2.0+ MB\n"
     ]
    }
   ],
   "source": [
    "# Showing the information for the weather dataframe\n",
    "historical_weather_df.info()"
   ]
  },
  {
   "cell_type": "code",
   "execution_count": 40,
   "metadata": {},
   "outputs": [],
   "source": [
    "# deleting rows with missing values\n",
    "# historical_weather_df.dropna()"
   ]
  },
  {
   "cell_type": "code",
   "execution_count": 41,
   "metadata": {},
   "outputs": [],
   "source": [
    "# historical_weather_df.tail(5)"
   ]
  },
  {
   "cell_type": "markdown",
   "metadata": {},
   "source": [
    "#### <span style=\"color:#2656a3;\"> 🌈 Weather Forecast\n",
    "Weather Forecast from Open Meteo is now being fetched. This data is used in part 02 the feature_pipeline to parse in new real-time weather data."
   ]
  },
  {
   "cell_type": "code",
   "execution_count": 42,
   "metadata": {},
   "outputs": [],
   "source": [
    "# Fetching weather forecast measures for the next 5 days\n",
    "weather_forecast_df = weather_measures.forecast_weather_measures(\n",
    "    forecast_length=5\n",
    ")"
   ]
  },
  {
   "cell_type": "code",
   "execution_count": 43,
   "metadata": {},
   "outputs": [
    {
     "data": {
      "text/html": [
       "<div>\n",
       "<style scoped>\n",
       "    .dataframe tbody tr th:only-of-type {\n",
       "        vertical-align: middle;\n",
       "    }\n",
       "\n",
       "    .dataframe tbody tr th {\n",
       "        vertical-align: top;\n",
       "    }\n",
       "\n",
       "    .dataframe thead th {\n",
       "        text-align: right;\n",
       "    }\n",
       "</style>\n",
       "<table border=\"1\" class=\"dataframe\">\n",
       "  <thead>\n",
       "    <tr style=\"text-align: right;\">\n",
       "      <th></th>\n",
       "      <th>timestamp</th>\n",
       "      <th>date</th>\n",
       "      <th>time</th>\n",
       "      <th>temperature_2m</th>\n",
       "      <th>relative_humidity_2m</th>\n",
       "      <th>precipitation</th>\n",
       "      <th>rain</th>\n",
       "      <th>snowfall</th>\n",
       "      <th>weather_code</th>\n",
       "      <th>cloud_cover</th>\n",
       "      <th>wind_speed_10m</th>\n",
       "      <th>wind_gusts_10m</th>\n",
       "    </tr>\n",
       "  </thead>\n",
       "  <tbody>\n",
       "    <tr>\n",
       "      <th>0</th>\n",
       "      <td>1714089600000</td>\n",
       "      <td>2024-04-26</td>\n",
       "      <td>2024-04-26 00:00:00</td>\n",
       "      <td>6.4</td>\n",
       "      <td>85</td>\n",
       "      <td>0.1</td>\n",
       "      <td>0.1</td>\n",
       "      <td>0.0</td>\n",
       "      <td>51</td>\n",
       "      <td>49</td>\n",
       "      <td>10.8</td>\n",
       "      <td>21.6</td>\n",
       "    </tr>\n",
       "    <tr>\n",
       "      <th>1</th>\n",
       "      <td>1714093200000</td>\n",
       "      <td>2024-04-26</td>\n",
       "      <td>2024-04-26 01:00:00</td>\n",
       "      <td>5.8</td>\n",
       "      <td>87</td>\n",
       "      <td>0.0</td>\n",
       "      <td>0.0</td>\n",
       "      <td>0.0</td>\n",
       "      <td>2</td>\n",
       "      <td>71</td>\n",
       "      <td>10.8</td>\n",
       "      <td>18.4</td>\n",
       "    </tr>\n",
       "    <tr>\n",
       "      <th>2</th>\n",
       "      <td>1714096800000</td>\n",
       "      <td>2024-04-26</td>\n",
       "      <td>2024-04-26 02:00:00</td>\n",
       "      <td>5.4</td>\n",
       "      <td>90</td>\n",
       "      <td>0.0</td>\n",
       "      <td>0.0</td>\n",
       "      <td>0.0</td>\n",
       "      <td>3</td>\n",
       "      <td>100</td>\n",
       "      <td>14.8</td>\n",
       "      <td>25.6</td>\n",
       "    </tr>\n",
       "    <tr>\n",
       "      <th>3</th>\n",
       "      <td>1714100400000</td>\n",
       "      <td>2024-04-26</td>\n",
       "      <td>2024-04-26 03:00:00</td>\n",
       "      <td>4.9</td>\n",
       "      <td>92</td>\n",
       "      <td>0.0</td>\n",
       "      <td>0.0</td>\n",
       "      <td>0.0</td>\n",
       "      <td>2</td>\n",
       "      <td>74</td>\n",
       "      <td>11.5</td>\n",
       "      <td>19.8</td>\n",
       "    </tr>\n",
       "    <tr>\n",
       "      <th>4</th>\n",
       "      <td>1714104000000</td>\n",
       "      <td>2024-04-26</td>\n",
       "      <td>2024-04-26 04:00:00</td>\n",
       "      <td>4.6</td>\n",
       "      <td>92</td>\n",
       "      <td>0.0</td>\n",
       "      <td>0.0</td>\n",
       "      <td>0.0</td>\n",
       "      <td>2</td>\n",
       "      <td>55</td>\n",
       "      <td>13.3</td>\n",
       "      <td>23.8</td>\n",
       "    </tr>\n",
       "  </tbody>\n",
       "</table>\n",
       "</div>"
      ],
      "text/plain": [
       "       timestamp        date                time  temperature_2m  \\\n",
       "0  1714089600000  2024-04-26 2024-04-26 00:00:00             6.4   \n",
       "1  1714093200000  2024-04-26 2024-04-26 01:00:00             5.8   \n",
       "2  1714096800000  2024-04-26 2024-04-26 02:00:00             5.4   \n",
       "3  1714100400000  2024-04-26 2024-04-26 03:00:00             4.9   \n",
       "4  1714104000000  2024-04-26 2024-04-26 04:00:00             4.6   \n",
       "\n",
       "   relative_humidity_2m  precipitation  rain  snowfall  weather_code  \\\n",
       "0                    85            0.1   0.1       0.0            51   \n",
       "1                    87            0.0   0.0       0.0             2   \n",
       "2                    90            0.0   0.0       0.0             3   \n",
       "3                    92            0.0   0.0       0.0             2   \n",
       "4                    92            0.0   0.0       0.0             2   \n",
       "\n",
       "   cloud_cover  wind_speed_10m  wind_gusts_10m  \n",
       "0           49            10.8            21.6  \n",
       "1           71            10.8            18.4  \n",
       "2          100            14.8            25.6  \n",
       "3           74            11.5            19.8  \n",
       "4           55            13.3            23.8  "
      ]
     },
     "execution_count": 43,
     "metadata": {},
     "output_type": "execute_result"
    }
   ],
   "source": [
    "# Display the first 5 rows of the weather_forecast dataframe\n",
    "weather_forecast_df.head(5)"
   ]
  },
  {
   "cell_type": "code",
   "execution_count": 44,
   "metadata": {},
   "outputs": [
    {
     "data": {
      "text/html": [
       "<div>\n",
       "<style scoped>\n",
       "    .dataframe tbody tr th:only-of-type {\n",
       "        vertical-align: middle;\n",
       "    }\n",
       "\n",
       "    .dataframe tbody tr th {\n",
       "        vertical-align: top;\n",
       "    }\n",
       "\n",
       "    .dataframe thead th {\n",
       "        text-align: right;\n",
       "    }\n",
       "</style>\n",
       "<table border=\"1\" class=\"dataframe\">\n",
       "  <thead>\n",
       "    <tr style=\"text-align: right;\">\n",
       "      <th></th>\n",
       "      <th>timestamp</th>\n",
       "      <th>date</th>\n",
       "      <th>time</th>\n",
       "      <th>temperature_2m</th>\n",
       "      <th>relative_humidity_2m</th>\n",
       "      <th>precipitation</th>\n",
       "      <th>rain</th>\n",
       "      <th>snowfall</th>\n",
       "      <th>weather_code</th>\n",
       "      <th>cloud_cover</th>\n",
       "      <th>wind_speed_10m</th>\n",
       "      <th>wind_gusts_10m</th>\n",
       "    </tr>\n",
       "  </thead>\n",
       "  <tbody>\n",
       "    <tr>\n",
       "      <th>115</th>\n",
       "      <td>1714503600000</td>\n",
       "      <td>2024-04-30</td>\n",
       "      <td>2024-04-30 19:00:00</td>\n",
       "      <td>12.4</td>\n",
       "      <td>69</td>\n",
       "      <td>0.0</td>\n",
       "      <td>0.0</td>\n",
       "      <td>0.0</td>\n",
       "      <td>1</td>\n",
       "      <td>67</td>\n",
       "      <td>10.3</td>\n",
       "      <td>24.5</td>\n",
       "    </tr>\n",
       "    <tr>\n",
       "      <th>116</th>\n",
       "      <td>1714507200000</td>\n",
       "      <td>2024-04-30</td>\n",
       "      <td>2024-04-30 20:00:00</td>\n",
       "      <td>11.4</td>\n",
       "      <td>74</td>\n",
       "      <td>0.0</td>\n",
       "      <td>0.0</td>\n",
       "      <td>0.0</td>\n",
       "      <td>1</td>\n",
       "      <td>45</td>\n",
       "      <td>9.5</td>\n",
       "      <td>22.0</td>\n",
       "    </tr>\n",
       "    <tr>\n",
       "      <th>117</th>\n",
       "      <td>1714510800000</td>\n",
       "      <td>2024-04-30</td>\n",
       "      <td>2024-04-30 21:00:00</td>\n",
       "      <td>10.7</td>\n",
       "      <td>79</td>\n",
       "      <td>0.0</td>\n",
       "      <td>0.0</td>\n",
       "      <td>0.0</td>\n",
       "      <td>1</td>\n",
       "      <td>24</td>\n",
       "      <td>9.2</td>\n",
       "      <td>19.8</td>\n",
       "    </tr>\n",
       "    <tr>\n",
       "      <th>118</th>\n",
       "      <td>1714514400000</td>\n",
       "      <td>2024-04-30</td>\n",
       "      <td>2024-04-30 22:00:00</td>\n",
       "      <td>10.4</td>\n",
       "      <td>83</td>\n",
       "      <td>0.0</td>\n",
       "      <td>0.0</td>\n",
       "      <td>0.0</td>\n",
       "      <td>1</td>\n",
       "      <td>23</td>\n",
       "      <td>9.6</td>\n",
       "      <td>20.5</td>\n",
       "    </tr>\n",
       "    <tr>\n",
       "      <th>119</th>\n",
       "      <td>1714518000000</td>\n",
       "      <td>2024-04-30</td>\n",
       "      <td>2024-04-30 23:00:00</td>\n",
       "      <td>10.4</td>\n",
       "      <td>87</td>\n",
       "      <td>0.0</td>\n",
       "      <td>0.0</td>\n",
       "      <td>0.0</td>\n",
       "      <td>1</td>\n",
       "      <td>23</td>\n",
       "      <td>10.4</td>\n",
       "      <td>21.2</td>\n",
       "    </tr>\n",
       "  </tbody>\n",
       "</table>\n",
       "</div>"
      ],
      "text/plain": [
       "         timestamp        date                time  temperature_2m  \\\n",
       "115  1714503600000  2024-04-30 2024-04-30 19:00:00            12.4   \n",
       "116  1714507200000  2024-04-30 2024-04-30 20:00:00            11.4   \n",
       "117  1714510800000  2024-04-30 2024-04-30 21:00:00            10.7   \n",
       "118  1714514400000  2024-04-30 2024-04-30 22:00:00            10.4   \n",
       "119  1714518000000  2024-04-30 2024-04-30 23:00:00            10.4   \n",
       "\n",
       "     relative_humidity_2m  precipitation  rain  snowfall  weather_code  \\\n",
       "115                    69            0.0   0.0       0.0             1   \n",
       "116                    74            0.0   0.0       0.0             1   \n",
       "117                    79            0.0   0.0       0.0             1   \n",
       "118                    83            0.0   0.0       0.0             1   \n",
       "119                    87            0.0   0.0       0.0             1   \n",
       "\n",
       "     cloud_cover  wind_speed_10m  wind_gusts_10m  \n",
       "115           67            10.3            24.5  \n",
       "116           45             9.5            22.0  \n",
       "117           24             9.2            19.8  \n",
       "118           23             9.6            20.5  \n",
       "119           23            10.4            21.2  "
      ]
     },
     "execution_count": 44,
     "metadata": {},
     "output_type": "execute_result"
    }
   ],
   "source": [
    "# Display the last 5 rows of the weather_forecast dataframe\n",
    "weather_forecast_df.tail(5)"
   ]
  },
  {
   "cell_type": "code",
   "execution_count": 45,
   "metadata": {},
   "outputs": [
    {
     "name": "stdout",
     "output_type": "stream",
     "text": [
      "<class 'pandas.core.frame.DataFrame'>\n",
      "RangeIndex: 120 entries, 0 to 119\n",
      "Data columns (total 12 columns):\n",
      " #   Column                Non-Null Count  Dtype         \n",
      "---  ------                --------------  -----         \n",
      " 0   timestamp             120 non-null    int64         \n",
      " 1   date                  120 non-null    object        \n",
      " 2   time                  120 non-null    datetime64[ns]\n",
      " 3   temperature_2m        120 non-null    float64       \n",
      " 4   relative_humidity_2m  120 non-null    int64         \n",
      " 5   precipitation         120 non-null    float64       \n",
      " 6   rain                  120 non-null    float64       \n",
      " 7   snowfall              120 non-null    float64       \n",
      " 8   weather_code          120 non-null    int64         \n",
      " 9   cloud_cover           120 non-null    int64         \n",
      " 10  wind_speed_10m        120 non-null    float64       \n",
      " 11  wind_gusts_10m        120 non-null    float64       \n",
      "dtypes: datetime64[ns](1), float64(6), int64(4), object(1)\n",
      "memory usage: 11.4+ KB\n"
     ]
    }
   ],
   "source": [
    "# Showing the information for the weather weather_forecast dataframe\n",
    "weather_forecast_df.info()"
   ]
  },
  {
   "cell_type": "markdown",
   "metadata": {},
   "source": [
    "### <span style=\"color:#2656a3;\"> 🗓️ Calendar of Danish workdays and holidays \n",
    "Lastly the calender data is being loaded in."
   ]
  },
  {
   "cell_type": "code",
   "execution_count": 46,
   "metadata": {},
   "outputs": [
    {
     "data": {
      "text/html": [
       "<div>\n",
       "<style scoped>\n",
       "    .dataframe tbody tr th:only-of-type {\n",
       "        vertical-align: middle;\n",
       "    }\n",
       "\n",
       "    .dataframe tbody tr th {\n",
       "        vertical-align: top;\n",
       "    }\n",
       "\n",
       "    .dataframe thead th {\n",
       "        text-align: right;\n",
       "    }\n",
       "</style>\n",
       "<table border=\"1\" class=\"dataframe\">\n",
       "  <thead>\n",
       "    <tr style=\"text-align: right;\">\n",
       "      <th></th>\n",
       "      <th>date</th>\n",
       "      <th>type</th>\n",
       "    </tr>\n",
       "  </thead>\n",
       "  <tbody>\n",
       "    <tr>\n",
       "      <th>0</th>\n",
       "      <td>01/01/2022</td>\n",
       "      <td>Not a Workday</td>\n",
       "    </tr>\n",
       "    <tr>\n",
       "      <th>1</th>\n",
       "      <td>02/01/2022</td>\n",
       "      <td>Not a Workday</td>\n",
       "    </tr>\n",
       "    <tr>\n",
       "      <th>2</th>\n",
       "      <td>03/01/2022</td>\n",
       "      <td>Workday</td>\n",
       "    </tr>\n",
       "    <tr>\n",
       "      <th>3</th>\n",
       "      <td>04/01/2022</td>\n",
       "      <td>Workday</td>\n",
       "    </tr>\n",
       "    <tr>\n",
       "      <th>4</th>\n",
       "      <td>05/01/2022</td>\n",
       "      <td>Workday</td>\n",
       "    </tr>\n",
       "  </tbody>\n",
       "</table>\n",
       "</div>"
      ],
      "text/plain": [
       "         date           type\n",
       "0  01/01/2022  Not a Workday\n",
       "1  02/01/2022  Not a Workday\n",
       "2  03/01/2022        Workday\n",
       "3  04/01/2022        Workday\n",
       "4  05/01/2022        Workday"
      ]
     },
     "execution_count": 46,
     "metadata": {},
     "output_type": "execute_result"
    }
   ],
   "source": [
    "# Read csv file with calender\n",
    "calender_df = pd.read_csv('https://raw.githubusercontent.com/Camillahannesbo/MLOPs-Assignment-/main/data/calendar_incl_holiday.csv', delimiter=';', usecols=['date', 'type'])\n",
    " \n",
    "# Display the DataFrame\n",
    "calender_df.head()"
   ]
  },
  {
   "cell_type": "code",
   "execution_count": 47,
   "metadata": {},
   "outputs": [],
   "source": [
    "# Formatting the date column to 'YYYY-MM-DD' dateformat\n",
    "calender_df[\"date\"] = calender_df[\"date\"].map(lambda x: datetime.strptime(x, '%d/%m/%Y').strftime(\"%Y-%m-%d\"))"
   ]
  },
  {
   "cell_type": "code",
   "execution_count": 48,
   "metadata": {},
   "outputs": [
    {
     "data": {
      "text/html": [
       "<div>\n",
       "<style scoped>\n",
       "    .dataframe tbody tr th:only-of-type {\n",
       "        vertical-align: middle;\n",
       "    }\n",
       "\n",
       "    .dataframe tbody tr th {\n",
       "        vertical-align: top;\n",
       "    }\n",
       "\n",
       "    .dataframe thead th {\n",
       "        text-align: right;\n",
       "    }\n",
       "</style>\n",
       "<table border=\"1\" class=\"dataframe\">\n",
       "  <thead>\n",
       "    <tr style=\"text-align: right;\">\n",
       "      <th></th>\n",
       "      <th>date</th>\n",
       "      <th>type</th>\n",
       "    </tr>\n",
       "  </thead>\n",
       "  <tbody>\n",
       "    <tr>\n",
       "      <th>0</th>\n",
       "      <td>2022-01-01</td>\n",
       "      <td>Not a Workday</td>\n",
       "    </tr>\n",
       "    <tr>\n",
       "      <th>1</th>\n",
       "      <td>2022-01-02</td>\n",
       "      <td>Not a Workday</td>\n",
       "    </tr>\n",
       "    <tr>\n",
       "      <th>2</th>\n",
       "      <td>2022-01-03</td>\n",
       "      <td>Workday</td>\n",
       "    </tr>\n",
       "    <tr>\n",
       "      <th>3</th>\n",
       "      <td>2022-01-04</td>\n",
       "      <td>Workday</td>\n",
       "    </tr>\n",
       "    <tr>\n",
       "      <th>4</th>\n",
       "      <td>2022-01-05</td>\n",
       "      <td>Workday</td>\n",
       "    </tr>\n",
       "  </tbody>\n",
       "</table>\n",
       "</div>"
      ],
      "text/plain": [
       "         date           type\n",
       "0  2022-01-01  Not a Workday\n",
       "1  2022-01-02  Not a Workday\n",
       "2  2022-01-03        Workday\n",
       "3  2022-01-04        Workday\n",
       "4  2022-01-05        Workday"
      ]
     },
     "execution_count": 48,
     "metadata": {},
     "output_type": "execute_result"
    }
   ],
   "source": [
    "# Display the first 5 rows of the calender dataframe\n",
    "calender_df.head(5)"
   ]
  },
  {
   "cell_type": "code",
   "execution_count": 49,
   "metadata": {},
   "outputs": [
    {
     "data": {
      "text/html": [
       "<div>\n",
       "<style scoped>\n",
       "    .dataframe tbody tr th:only-of-type {\n",
       "        vertical-align: middle;\n",
       "    }\n",
       "\n",
       "    .dataframe tbody tr th {\n",
       "        vertical-align: top;\n",
       "    }\n",
       "\n",
       "    .dataframe thead th {\n",
       "        text-align: right;\n",
       "    }\n",
       "</style>\n",
       "<table border=\"1\" class=\"dataframe\">\n",
       "  <thead>\n",
       "    <tr style=\"text-align: right;\">\n",
       "      <th></th>\n",
       "      <th>date</th>\n",
       "      <th>type</th>\n",
       "    </tr>\n",
       "  </thead>\n",
       "  <tbody>\n",
       "    <tr>\n",
       "      <th>1091</th>\n",
       "      <td>2024-12-27</td>\n",
       "      <td>Workday</td>\n",
       "    </tr>\n",
       "    <tr>\n",
       "      <th>1092</th>\n",
       "      <td>2024-12-28</td>\n",
       "      <td>Not a Workday</td>\n",
       "    </tr>\n",
       "    <tr>\n",
       "      <th>1093</th>\n",
       "      <td>2024-12-29</td>\n",
       "      <td>Not a Workday</td>\n",
       "    </tr>\n",
       "    <tr>\n",
       "      <th>1094</th>\n",
       "      <td>2024-12-30</td>\n",
       "      <td>Workday</td>\n",
       "    </tr>\n",
       "    <tr>\n",
       "      <th>1095</th>\n",
       "      <td>2024-12-31</td>\n",
       "      <td>Workday</td>\n",
       "    </tr>\n",
       "  </tbody>\n",
       "</table>\n",
       "</div>"
      ],
      "text/plain": [
       "            date           type\n",
       "1091  2024-12-27        Workday\n",
       "1092  2024-12-28  Not a Workday\n",
       "1093  2024-12-29  Not a Workday\n",
       "1094  2024-12-30        Workday\n",
       "1095  2024-12-31        Workday"
      ]
     },
     "execution_count": 49,
     "metadata": {},
     "output_type": "execute_result"
    }
   ],
   "source": [
    "# Display the last 5 rows of the calender dataframe\n",
    "calender_df.tail(5)"
   ]
  },
  {
   "cell_type": "code",
   "execution_count": 50,
   "metadata": {},
   "outputs": [
    {
     "name": "stdout",
     "output_type": "stream",
     "text": [
      "<class 'pandas.core.frame.DataFrame'>\n",
      "RangeIndex: 1096 entries, 0 to 1095\n",
      "Data columns (total 2 columns):\n",
      " #   Column  Non-Null Count  Dtype \n",
      "---  ------  --------------  ----- \n",
      " 0   date    1096 non-null   object\n",
      " 1   type    1096 non-null   object\n",
      "dtypes: object(2)\n",
      "memory usage: 17.3+ KB\n"
     ]
    }
   ],
   "source": [
    "# Showing the information for the calender dataframe\n",
    "calender_df.info()"
   ]
  },
  {
   "cell_type": "markdown",
   "metadata": {},
   "source": [
    "## <span style=\"color:#2656a3;\"> 📡 Connecting to Hopsworks Feature Store\n",
    "\n",
    "We connect to Hopsworks Feature Store so we can access and create feature groups."
   ]
  },
  {
   "cell_type": "code",
   "execution_count": 51,
   "metadata": {},
   "outputs": [
    {
     "name": "stdout",
     "output_type": "stream",
     "text": [
      "Connected. Call `.close()` to terminate connection gracefully.\n",
      "\n",
      "Logged in to project, explore it here https://c.app.hopsworks.ai:443/p/550040\n",
      "Connected. Call `.close()` to terminate connection gracefully.\n"
     ]
    }
   ],
   "source": [
    "# Importing the hopsworks module\n",
    "import hopsworks\n",
    "\n",
    "# Logging in to the Hopsworks project\n",
    "project = hopsworks.login()\n",
    "\n",
    "# Getting the feature store from the project\n",
    "fs = project.get_feature_store()"
   ]
  },
  {
   "cell_type": "markdown",
   "metadata": {},
   "source": [
    "### <span style=\"color:#2656a3;\"> 🪄 Creating Feature Groups\n",
    "A feature group can be seen as a collection of conceptually related features. In this case we create feature groups for the \n",
    "- eletricity price data,\n",
    "- weather data,\n",
    "- calender data, and\n",
    "- forecast_renewable_energy.\n",
    "\n",
    "We specify a `primary_key` as `date`, so we are able to join them when we create a dataset for training later in part 03 the training_pipeline.\n",
    "We define a name and a short describtion of the feature group's contents and a version number. \n",
    "\n",
    "`event_time` is specifyed as `timestamp`.\n",
    "\n",
    "We've set `online_enabled` to `True` to enable accessing the feature group through the Online API for a Feature View."
   ]
  },
  {
   "cell_type": "code",
   "execution_count": 52,
   "metadata": {},
   "outputs": [],
   "source": [
    "# Creating the feature group for the weather data\n",
    "weather_fg = fs.get_or_create_feature_group(\n",
    "    name=\"weather_measurements\",\n",
    "    version=1,\n",
    "    description=\"Weather measurements from Open Meteo API\",\n",
    "    primary_key=[\"date\"],\n",
    "    event_time=\"timestamp\",\n",
    "    online_enabled=True,\n",
    ")"
   ]
  },
  {
   "cell_type": "markdown",
   "metadata": {},
   "source": [
    "We have now outlined metadata for the feature group. Data hasn't been stored yet, and there's no schema defined. To store data persistently for the feature group, we populate it with its associated data using the `insert` function."
   ]
  },
  {
   "cell_type": "code",
   "execution_count": 53,
   "metadata": {},
   "outputs": [
    {
     "name": "stderr",
     "output_type": "stream",
     "text": [
      "Uploading Dataframe: 100.00% |██████████| Rows 20280/20280 | Elapsed Time: 00:08 | Remaining Time: 00:00\n"
     ]
    },
    {
     "name": "stdout",
     "output_type": "stream",
     "text": [
      "Launching job: weather_measurements_1_offline_fg_materialization\n",
      "Job started successfully, you can follow the progress at \n",
      "https://c.app.hopsworks.ai/p/550040/jobs/named/weather_measurements_1_offline_fg_materialization/executions\n"
     ]
    },
    {
     "data": {
      "text/plain": [
       "(<hsfs.core.job.Job at 0x129748450>, None)"
      ]
     },
     "execution_count": 53,
     "metadata": {},
     "output_type": "execute_result"
    }
   ],
   "source": [
    "# Inserting the weather_df into the feature group named weather_fg\n",
    "weather_fg.insert(historical_weather_df)"
   ]
  },
  {
   "cell_type": "markdown",
   "metadata": {},
   "source": [
    "We make a descriptions for each feature we put into the feature group. In this way we are adding more information and documentation to the user."
   ]
  },
  {
   "cell_type": "code",
   "execution_count": 54,
   "metadata": {},
   "outputs": [],
   "source": [
    "# List of descriptions for weather features\n",
    "weather_feature_descriptions = [\n",
    "    {\"name\": \"timestamp\", \"description\": \"Timestamp for the event_time\"},\n",
    "    {\"name\": \"date\", \"description\": \"Date of the weather measurement\"},\n",
    "    {\"name\": \"time\", \"description\": \"Time of the weather measurement\"},\n",
    "    {\"name\": \"temperature_2m\", \"description\": \"Temperature at 2m above ground\"},\n",
    "    {\"name\": \"relative_humidity_2m\", \"description\": \"Relative humidity at 2m above ground\"},\n",
    "    {\"name\": \"precipitation\", \"description\": \"Precipitation\"},\n",
    "    {\"name\": \"rain\", \"description\": \"Rain\"},\n",
    "    {\"name\": \"snowfall\", \"description\": \"Snowfall\"},   \n",
    "    {\"name\": \"weather_code\", \"description\": \"Weather code\"},   \n",
    "    {\"name\": \"cloud_cover\", \"description\": \"Cloud cover\"},   \n",
    "    {\"name\": \"wind_speed_10m\", \"description\": \"Wind speed at 10m above ground\"},   \n",
    "    {\"name\": \"wind_gusts_10m\", \"description\": \"Wind gusts at 10m above ground\"},   \n",
    "]\n",
    "\n",
    "# Updating feature descriptions\n",
    "for desc in weather_feature_descriptions: \n",
    "    weather_fg.update_feature_description(desc[\"name\"], desc[\"description\"])"
   ]
  },
  {
   "cell_type": "markdown",
   "metadata": {},
   "source": [
    "We replicate the process for both the `electricity_fg`, `forecast_renewable_energy_fg` and `danish_holidays_fg` by establishing feature groups and inserting the dataframes into their respective feature groups."
   ]
  },
  {
   "cell_type": "code",
   "execution_count": 55,
   "metadata": {},
   "outputs": [],
   "source": [
    "# Creating the feature group for the electricity prices\n",
    "electricity_fg = fs.get_or_create_feature_group(\n",
    "    name=\"electricity_prices\",\n",
    "    version=1,\n",
    "    description=\"Electricity prices from Energidata API\",\n",
    "    primary_key=[\"date\"],\n",
    "    online_enabled=True,\n",
    "    event_time=\"timestamp\",\n",
    ")"
   ]
  },
  {
   "cell_type": "code",
   "execution_count": 56,
   "metadata": {},
   "outputs": [
    {
     "name": "stderr",
     "output_type": "stream",
     "text": [
      "Uploading Dataframe: 100.00% |██████████| Rows 20301/20301 | Elapsed Time: 00:07 | Remaining Time: 00:00\n"
     ]
    },
    {
     "name": "stdout",
     "output_type": "stream",
     "text": [
      "Launching job: electricity_prices_1_offline_fg_materialization\n",
      "Job started successfully, you can follow the progress at \n",
      "https://c.app.hopsworks.ai/p/550040/jobs/named/electricity_prices_1_offline_fg_materialization/executions\n"
     ]
    },
    {
     "data": {
      "text/plain": [
       "(<hsfs.core.job.Job at 0x1296159d0>, None)"
      ]
     },
     "execution_count": 56,
     "metadata": {},
     "output_type": "execute_result"
    }
   ],
   "source": [
    "# Inserting the electricity_df into the feature group named electricity_fg\n",
    "electricity_fg.insert(electricity_df)"
   ]
  },
  {
   "cell_type": "code",
   "execution_count": 57,
   "metadata": {},
   "outputs": [],
   "source": [
    "# List of descriptions for electricity features\n",
    "electricity_feature_descriptions = [\n",
    "    {\"name\": \"timestamp\", \"description\": \"Timestamp for the event_time\"},\n",
    "    {\"name\": \"date\", \"description\": \"Date of the electricity measurement\"},\n",
    "    {\"name\": \"time\", \"description\": \"Time of the electricity measurement\"},\n",
    "    {\"name\": \"dk1_spotpricedkk_kwh\", \"description\": \"Spot price in DKK per KWH\"}, \n",
    "]\n",
    "\n",
    "# Updating feature descriptions\n",
    "for desc in electricity_feature_descriptions: \n",
    "    electricity_fg.update_feature_description(desc[\"name\"], desc[\"description\"])"
   ]
  },
  {
   "cell_type": "code",
   "execution_count": 58,
   "metadata": {},
   "outputs": [],
   "source": [
    "# Creating the feature group for the electricity prices\n",
    "forecast_renewable_energy_fg = fs.get_or_create_feature_group(\n",
    "    name=\"forecast_renewable_energy\",\n",
    "    version=1,\n",
    "    description=\"Forecast on Renewable Energy on ForecastType from Energidata API\",\n",
    "    primary_key=[\"date\"],\n",
    "    online_enabled=True,\n",
    "    event_time=\"timestamp\",\n",
    ")"
   ]
  },
  {
   "cell_type": "code",
   "execution_count": 59,
   "metadata": {},
   "outputs": [
    {
     "name": "stderr",
     "output_type": "stream",
     "text": [
      "Uploading Dataframe: 100.00% |██████████| Rows 14287/14287 | Elapsed Time: 00:07 | Remaining Time: 00:00\n"
     ]
    },
    {
     "name": "stdout",
     "output_type": "stream",
     "text": [
      "Launching job: forecast_renewable_energy_1_offline_fg_materialization\n",
      "Job started successfully, you can follow the progress at \n",
      "https://c.app.hopsworks.ai/p/550040/jobs/named/forecast_renewable_energy_1_offline_fg_materialization/executions\n"
     ]
    },
    {
     "data": {
      "text/plain": [
       "(<hsfs.core.job.Job at 0x129227610>, None)"
      ]
     },
     "execution_count": 59,
     "metadata": {},
     "output_type": "execute_result"
    }
   ],
   "source": [
    "# Inserting the electricity_df into the feature group named electricity_fg\n",
    "forecast_renewable_energy_fg.insert(forecast_renewable_energy_df)"
   ]
  },
  {
   "cell_type": "code",
   "execution_count": 60,
   "metadata": {},
   "outputs": [],
   "source": [
    "# List of descriptions for forecast_renewable_energy features\n",
    "forecast_renewable_energy_feature_descriptions = [\n",
    "    {\"name\": \"timestamp\", \"description\": \"Timestamp for the event_time\"},\n",
    "    {\"name\": \"date\", \"description\": \"Date\"},\n",
    "    {\"name\": \"time\", \"description\": \"Time for the event_time\"},\n",
    "    {\"name\": \"dk1_offshore_wind_forecastintraday_kwh\", \"description\": \"The forecast for the coming day at 6am Danish time zone\"},\n",
    "]\n",
    "\n",
    "# Updating feature descriptions\n",
    "for desc in forecast_renewable_energy_feature_descriptions: \n",
    "    forecast_renewable_energy_fg.update_feature_description(desc[\"name\"], desc[\"description\"])"
   ]
  },
  {
   "cell_type": "code",
   "execution_count": 61,
   "metadata": {},
   "outputs": [],
   "source": [
    "# Creating the feature group for the danish holidays\n",
    "danish_holidays_fg = fs.get_or_create_feature_group(\n",
    "    name=\"danish_holidays\",\n",
    "    version=1,\n",
    "    description=\"Danish holidays calendar.\",\n",
    "    online_enabled=True,\n",
    "    primary_key=[\"date\"],\n",
    ")"
   ]
  },
  {
   "cell_type": "code",
   "execution_count": 62,
   "metadata": {},
   "outputs": [
    {
     "name": "stderr",
     "output_type": "stream",
     "text": [
      "Uploading Dataframe: 100.00% |██████████| Rows 1096/1096 | Elapsed Time: 00:06 | Remaining Time: 00:00\n"
     ]
    },
    {
     "name": "stdout",
     "output_type": "stream",
     "text": [
      "Launching job: danish_holidays_1_offline_fg_materialization\n",
      "Job started successfully, you can follow the progress at \n",
      "https://c.app.hopsworks.ai/p/550040/jobs/named/danish_holidays_1_offline_fg_materialization/executions\n"
     ]
    },
    {
     "data": {
      "text/plain": [
       "(<hsfs.core.job.Job at 0x1295fd690>, None)"
      ]
     },
     "execution_count": 62,
     "metadata": {},
     "output_type": "execute_result"
    }
   ],
   "source": [
    "# Inserting the calender_df into the feature group named danish_holidays_fg\n",
    "danish_holidays_fg.insert(calender_df)"
   ]
  },
  {
   "cell_type": "code",
   "execution_count": 63,
   "metadata": {},
   "outputs": [],
   "source": [
    "# List of descriptions for danish_holidays features\n",
    "danish_holidays_feature_descriptions = [\n",
    "    {\"name\": \"date\", \"description\": \"Date in the calendar\"},\n",
    "    {\"name\": \"type\", \"description\": \"Holyday or not holyday\"},\n",
    "]\n",
    "\n",
    "# Updating feature descriptions\n",
    "for desc in danish_holidays_feature_descriptions: \n",
    "    danish_holidays_fg.update_feature_description(desc[\"name\"], desc[\"description\"])"
   ]
  },
  {
   "cell_type": "markdown",
   "metadata": {},
   "source": [
    "---\n",
    "## <span style=\"color:#2656a3;\">⏭️ **Next:** Part 02: Feature Pipeline </span>\n",
    "\n",
    "Next we will generate new data for the Feature Groups."
   ]
  }
 ],
 "metadata": {
  "kernelspec": {
   "display_name": "bds-streamlit",
   "language": "python",
   "name": "python3"
  },
  "language_info": {
   "codemirror_mode": {
    "name": "ipython",
    "version": 3
   },
   "file_extension": ".py",
   "mimetype": "text/x-python",
   "name": "python",
   "nbconvert_exporter": "python",
   "pygments_lexer": "ipython3",
   "version": "3.11.9"
  }
 },
 "nbformat": 4,
 "nbformat_minor": 2
}
