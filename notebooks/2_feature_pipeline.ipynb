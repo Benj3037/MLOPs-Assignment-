{
 "cells": [
  {
   "cell_type": "markdown",
   "metadata": {},
   "source": [
    "# Feature Pipeline"
   ]
  },
  {
   "cell_type": "markdown",
   "metadata": {},
   "source": [
    "### Imports"
   ]
  },
  {
   "cell_type": "code",
   "execution_count": 1,
   "metadata": {},
   "outputs": [],
   "source": [
    "import requests\n",
    "import pandas as pd\n",
    "\n",
    "#ignore warnings\n",
    "import warnings\n",
    "warnings.filterwarnings('ignore')"
   ]
  },
  {
   "cell_type": "markdown",
   "metadata": {},
   "source": [
    "### Parsing new data"
   ]
  },
  {
   "cell_type": "markdown",
   "metadata": {},
   "source": [
    "#### Weather measurements from Open Meteo"
   ]
  },
  {
   "cell_type": "code",
   "execution_count": 2,
   "metadata": {},
   "outputs": [],
   "source": [
    "#url = (\"https://archive-api.open-meteo.com/v1/archive?latitude=57.048&longitude=9.9187&start_date=2022-01-01&end_date=2023-12-31&hourly=temperature_2m,relative_humidity_2m,precipitation,rain,snowfall,weather_code,cloud_cover,wind_speed_10m,wind_gusts_10m\")\n"
   ]
  },
  {
   "cell_type": "code",
   "execution_count": 3,
   "metadata": {},
   "outputs": [],
   "source": [
    "url = ('https://archive-api.open-meteo.com/v1/archive?latitude=57.048&longitude=9.9187&start_date=2024-01-01&end_date=2024-04-08&hourly=temperature_2m,relative_humidity_2m,precipitation,rain,snowfall,weather_code,cloud_cover,wind_speed_10m,wind_gusts_10m&timezone=auto')"
   ]
  },
  {
   "cell_type": "code",
   "execution_count": 4,
   "metadata": {},
   "outputs": [
    {
     "name": "stdout",
     "output_type": "stream",
     "text": [
      "<Response [200]>\n"
     ]
    }
   ],
   "source": [
    "response = requests.get(url)\n",
    "print(response)\n",
    "\n",
    "data = response.json()\n",
    "\n",
    "weather_df = pd.DataFrame(data['hourly'])"
   ]
  },
  {
   "cell_type": "code",
   "execution_count": 5,
   "metadata": {},
   "outputs": [],
   "source": [
    "weather_df['date'] = weather_df['time'].str[:10]\n",
    "\n",
    "new_column = weather_df.pop('date')\n",
    "weather_df.insert(0, 'date', new_column)\n",
    "\n",
    "# Convert string 'date' column to DATE type\n",
    "weather_df['date'] = pd.to_datetime(weather_df['date'], format='%Y-%m-%d').dt.date\n",
    "\n",
    "weather_df['time'] = pd.to_datetime(weather_df['time'])"
   ]
  },
  {
   "cell_type": "code",
   "execution_count": 6,
   "metadata": {},
   "outputs": [
    {
     "data": {
      "text/html": [
       "<div>\n",
       "<style scoped>\n",
       "    .dataframe tbody tr th:only-of-type {\n",
       "        vertical-align: middle;\n",
       "    }\n",
       "\n",
       "    .dataframe tbody tr th {\n",
       "        vertical-align: top;\n",
       "    }\n",
       "\n",
       "    .dataframe thead th {\n",
       "        text-align: right;\n",
       "    }\n",
       "</style>\n",
       "<table border=\"1\" class=\"dataframe\">\n",
       "  <thead>\n",
       "    <tr style=\"text-align: right;\">\n",
       "      <th></th>\n",
       "      <th>date</th>\n",
       "      <th>time</th>\n",
       "      <th>temperature_2m</th>\n",
       "      <th>relative_humidity_2m</th>\n",
       "      <th>precipitation</th>\n",
       "      <th>rain</th>\n",
       "      <th>snowfall</th>\n",
       "      <th>weather_code</th>\n",
       "      <th>cloud_cover</th>\n",
       "      <th>wind_speed_10m</th>\n",
       "      <th>wind_gusts_10m</th>\n",
       "    </tr>\n",
       "  </thead>\n",
       "  <tbody>\n",
       "    <tr>\n",
       "      <th>0</th>\n",
       "      <td>2024-01-01</td>\n",
       "      <td>2024-01-01 00:00:00</td>\n",
       "      <td>4.8</td>\n",
       "      <td>95</td>\n",
       "      <td>1.8</td>\n",
       "      <td>1.8</td>\n",
       "      <td>0.0</td>\n",
       "      <td>61</td>\n",
       "      <td>100</td>\n",
       "      <td>23.6</td>\n",
       "      <td>49.0</td>\n",
       "    </tr>\n",
       "    <tr>\n",
       "      <th>1</th>\n",
       "      <td>2024-01-01</td>\n",
       "      <td>2024-01-01 01:00:00</td>\n",
       "      <td>4.9</td>\n",
       "      <td>95</td>\n",
       "      <td>1.2</td>\n",
       "      <td>1.2</td>\n",
       "      <td>0.0</td>\n",
       "      <td>55</td>\n",
       "      <td>100</td>\n",
       "      <td>21.6</td>\n",
       "      <td>43.2</td>\n",
       "    </tr>\n",
       "    <tr>\n",
       "      <th>2</th>\n",
       "      <td>2024-01-01</td>\n",
       "      <td>2024-01-01 02:00:00</td>\n",
       "      <td>4.8</td>\n",
       "      <td>96</td>\n",
       "      <td>0.6</td>\n",
       "      <td>0.6</td>\n",
       "      <td>0.0</td>\n",
       "      <td>53</td>\n",
       "      <td>100</td>\n",
       "      <td>18.4</td>\n",
       "      <td>39.2</td>\n",
       "    </tr>\n",
       "    <tr>\n",
       "      <th>3</th>\n",
       "      <td>2024-01-01</td>\n",
       "      <td>2024-01-01 03:00:00</td>\n",
       "      <td>4.3</td>\n",
       "      <td>96</td>\n",
       "      <td>0.8</td>\n",
       "      <td>0.8</td>\n",
       "      <td>0.0</td>\n",
       "      <td>53</td>\n",
       "      <td>100</td>\n",
       "      <td>16.7</td>\n",
       "      <td>33.8</td>\n",
       "    </tr>\n",
       "    <tr>\n",
       "      <th>4</th>\n",
       "      <td>2024-01-01</td>\n",
       "      <td>2024-01-01 04:00:00</td>\n",
       "      <td>4.4</td>\n",
       "      <td>97</td>\n",
       "      <td>0.3</td>\n",
       "      <td>0.3</td>\n",
       "      <td>0.0</td>\n",
       "      <td>51</td>\n",
       "      <td>100</td>\n",
       "      <td>15.4</td>\n",
       "      <td>30.2</td>\n",
       "    </tr>\n",
       "    <tr>\n",
       "      <th>...</th>\n",
       "      <td>...</td>\n",
       "      <td>...</td>\n",
       "      <td>...</td>\n",
       "      <td>...</td>\n",
       "      <td>...</td>\n",
       "      <td>...</td>\n",
       "      <td>...</td>\n",
       "      <td>...</td>\n",
       "      <td>...</td>\n",
       "      <td>...</td>\n",
       "      <td>...</td>\n",
       "    </tr>\n",
       "    <tr>\n",
       "      <th>2371</th>\n",
       "      <td>2024-04-08</td>\n",
       "      <td>2024-04-08 19:00:00</td>\n",
       "      <td>14.9</td>\n",
       "      <td>70</td>\n",
       "      <td>0.0</td>\n",
       "      <td>0.0</td>\n",
       "      <td>0.0</td>\n",
       "      <td>3</td>\n",
       "      <td>100</td>\n",
       "      <td>1.3</td>\n",
       "      <td>15.1</td>\n",
       "    </tr>\n",
       "    <tr>\n",
       "      <th>2372</th>\n",
       "      <td>2024-04-08</td>\n",
       "      <td>2024-04-08 20:00:00</td>\n",
       "      <td>13.6</td>\n",
       "      <td>72</td>\n",
       "      <td>0.0</td>\n",
       "      <td>0.0</td>\n",
       "      <td>0.0</td>\n",
       "      <td>3</td>\n",
       "      <td>100</td>\n",
       "      <td>4.1</td>\n",
       "      <td>5.8</td>\n",
       "    </tr>\n",
       "    <tr>\n",
       "      <th>2373</th>\n",
       "      <td>2024-04-08</td>\n",
       "      <td>2024-04-08 21:00:00</td>\n",
       "      <td>12.6</td>\n",
       "      <td>77</td>\n",
       "      <td>0.0</td>\n",
       "      <td>0.0</td>\n",
       "      <td>0.0</td>\n",
       "      <td>3</td>\n",
       "      <td>100</td>\n",
       "      <td>4.0</td>\n",
       "      <td>6.1</td>\n",
       "    </tr>\n",
       "    <tr>\n",
       "      <th>2374</th>\n",
       "      <td>2024-04-08</td>\n",
       "      <td>2024-04-08 22:00:00</td>\n",
       "      <td>11.2</td>\n",
       "      <td>85</td>\n",
       "      <td>0.0</td>\n",
       "      <td>0.0</td>\n",
       "      <td>0.0</td>\n",
       "      <td>1</td>\n",
       "      <td>29</td>\n",
       "      <td>6.2</td>\n",
       "      <td>7.2</td>\n",
       "    </tr>\n",
       "    <tr>\n",
       "      <th>2375</th>\n",
       "      <td>2024-04-08</td>\n",
       "      <td>2024-04-08 23:00:00</td>\n",
       "      <td>11.3</td>\n",
       "      <td>82</td>\n",
       "      <td>0.0</td>\n",
       "      <td>0.0</td>\n",
       "      <td>0.0</td>\n",
       "      <td>1</td>\n",
       "      <td>31</td>\n",
       "      <td>3.1</td>\n",
       "      <td>6.8</td>\n",
       "    </tr>\n",
       "  </tbody>\n",
       "</table>\n",
       "<p>2376 rows × 11 columns</p>\n",
       "</div>"
      ],
      "text/plain": [
       "            date                time  temperature_2m  relative_humidity_2m  \\\n",
       "0     2024-01-01 2024-01-01 00:00:00             4.8                    95   \n",
       "1     2024-01-01 2024-01-01 01:00:00             4.9                    95   \n",
       "2     2024-01-01 2024-01-01 02:00:00             4.8                    96   \n",
       "3     2024-01-01 2024-01-01 03:00:00             4.3                    96   \n",
       "4     2024-01-01 2024-01-01 04:00:00             4.4                    97   \n",
       "...          ...                 ...             ...                   ...   \n",
       "2371  2024-04-08 2024-04-08 19:00:00            14.9                    70   \n",
       "2372  2024-04-08 2024-04-08 20:00:00            13.6                    72   \n",
       "2373  2024-04-08 2024-04-08 21:00:00            12.6                    77   \n",
       "2374  2024-04-08 2024-04-08 22:00:00            11.2                    85   \n",
       "2375  2024-04-08 2024-04-08 23:00:00            11.3                    82   \n",
       "\n",
       "      precipitation  rain  snowfall  weather_code  cloud_cover  \\\n",
       "0               1.8   1.8       0.0            61          100   \n",
       "1               1.2   1.2       0.0            55          100   \n",
       "2               0.6   0.6       0.0            53          100   \n",
       "3               0.8   0.8       0.0            53          100   \n",
       "4               0.3   0.3       0.0            51          100   \n",
       "...             ...   ...       ...           ...          ...   \n",
       "2371            0.0   0.0       0.0             3          100   \n",
       "2372            0.0   0.0       0.0             3          100   \n",
       "2373            0.0   0.0       0.0             3          100   \n",
       "2374            0.0   0.0       0.0             1           29   \n",
       "2375            0.0   0.0       0.0             1           31   \n",
       "\n",
       "      wind_speed_10m  wind_gusts_10m  \n",
       "0               23.6            49.0  \n",
       "1               21.6            43.2  \n",
       "2               18.4            39.2  \n",
       "3               16.7            33.8  \n",
       "4               15.4            30.2  \n",
       "...              ...             ...  \n",
       "2371             1.3            15.1  \n",
       "2372             4.1             5.8  \n",
       "2373             4.0             6.1  \n",
       "2374             6.2             7.2  \n",
       "2375             3.1             6.8  \n",
       "\n",
       "[2376 rows x 11 columns]"
      ]
     },
     "execution_count": 6,
     "metadata": {},
     "output_type": "execute_result"
    }
   ],
   "source": [
    "weather_df"
   ]
  },
  {
   "cell_type": "markdown",
   "metadata": {},
   "source": [
    "#### Electricity prices per day per hour from Energidata"
   ]
  },
  {
   "cell_type": "markdown",
   "metadata": {},
   "source": []
  },
  {
   "cell_type": "code",
   "execution_count": 7,
   "metadata": {},
   "outputs": [],
   "source": [
    "url = ('https://api.energidataservice.dk/dataset/Elspotprices?offset=0&start=2024-01-01T00:00&end=2024-04-08T00:00&filter=%7B%22PriceArea%22:[%22DK1%22]%7D&sort=HourUTC%20DESC')"
   ]
  },
  {
   "cell_type": "code",
   "execution_count": 8,
   "metadata": {},
   "outputs": [],
   "source": [
    "data = requests.get(url).json()\n",
    "electricity_df = pd.DataFrame(data['records'])"
   ]
  },
  {
   "cell_type": "code",
   "execution_count": 9,
   "metadata": {},
   "outputs": [
    {
     "data": {
      "text/html": [
       "<div>\n",
       "<style scoped>\n",
       "    .dataframe tbody tr th:only-of-type {\n",
       "        vertical-align: middle;\n",
       "    }\n",
       "\n",
       "    .dataframe tbody tr th {\n",
       "        vertical-align: top;\n",
       "    }\n",
       "\n",
       "    .dataframe thead th {\n",
       "        text-align: right;\n",
       "    }\n",
       "</style>\n",
       "<table border=\"1\" class=\"dataframe\">\n",
       "  <thead>\n",
       "    <tr style=\"text-align: right;\">\n",
       "      <th></th>\n",
       "      <th>time</th>\n",
       "      <th>PriceArea</th>\n",
       "      <th>SpotPriceDKK_KWH</th>\n",
       "    </tr>\n",
       "  </thead>\n",
       "  <tbody>\n",
       "    <tr>\n",
       "      <th>0</th>\n",
       "      <td>2024-04-07T23:00</td>\n",
       "      <td>DK1</td>\n",
       "      <td>0.31886</td>\n",
       "    </tr>\n",
       "    <tr>\n",
       "      <th>1</th>\n",
       "      <td>2024-04-07T22:00</td>\n",
       "      <td>DK1</td>\n",
       "      <td>0.34078</td>\n",
       "    </tr>\n",
       "    <tr>\n",
       "      <th>2</th>\n",
       "      <td>2024-04-07T21:00</td>\n",
       "      <td>DK1</td>\n",
       "      <td>0.35958</td>\n",
       "    </tr>\n",
       "    <tr>\n",
       "      <th>3</th>\n",
       "      <td>2024-04-07T20:00</td>\n",
       "      <td>DK1</td>\n",
       "      <td>0.35645</td>\n",
       "    </tr>\n",
       "    <tr>\n",
       "      <th>4</th>\n",
       "      <td>2024-04-07T19:00</td>\n",
       "      <td>DK1</td>\n",
       "      <td>0.34399</td>\n",
       "    </tr>\n",
       "    <tr>\n",
       "      <th>...</th>\n",
       "      <td>...</td>\n",
       "      <td>...</td>\n",
       "      <td>...</td>\n",
       "    </tr>\n",
       "    <tr>\n",
       "      <th>2346</th>\n",
       "      <td>2024-01-01T04:00</td>\n",
       "      <td>DK1</td>\n",
       "      <td>-0.00022</td>\n",
       "    </tr>\n",
       "    <tr>\n",
       "      <th>2347</th>\n",
       "      <td>2024-01-01T03:00</td>\n",
       "      <td>DK1</td>\n",
       "      <td>0.03086</td>\n",
       "    </tr>\n",
       "    <tr>\n",
       "      <th>2348</th>\n",
       "      <td>2024-01-01T02:00</td>\n",
       "      <td>DK1</td>\n",
       "      <td>0.19874</td>\n",
       "    </tr>\n",
       "    <tr>\n",
       "      <th>2349</th>\n",
       "      <td>2024-01-01T01:00</td>\n",
       "      <td>DK1</td>\n",
       "      <td>0.20978</td>\n",
       "    </tr>\n",
       "    <tr>\n",
       "      <th>2350</th>\n",
       "      <td>2024-01-01T00:00</td>\n",
       "      <td>DK1</td>\n",
       "      <td>0.12666</td>\n",
       "    </tr>\n",
       "  </tbody>\n",
       "</table>\n",
       "<p>2351 rows × 3 columns</p>\n",
       "</div>"
      ],
      "text/plain": [
       "                  time PriceArea  SpotPriceDKK_KWH\n",
       "0     2024-04-07T23:00       DK1           0.31886\n",
       "1     2024-04-07T22:00       DK1           0.34078\n",
       "2     2024-04-07T21:00       DK1           0.35958\n",
       "3     2024-04-07T20:00       DK1           0.35645\n",
       "4     2024-04-07T19:00       DK1           0.34399\n",
       "...                ...       ...               ...\n",
       "2346  2024-01-01T04:00       DK1          -0.00022\n",
       "2347  2024-01-01T03:00       DK1           0.03086\n",
       "2348  2024-01-01T02:00       DK1           0.19874\n",
       "2349  2024-01-01T01:00       DK1           0.20978\n",
       "2350  2024-01-01T00:00       DK1           0.12666\n",
       "\n",
       "[2351 rows x 3 columns]"
      ]
     },
     "execution_count": 9,
     "metadata": {},
     "output_type": "execute_result"
    }
   ],
   "source": [
    "electricity_df.drop('SpotPriceEUR', axis=1, inplace=True)\n",
    "electricity_df['SpotPriceDKK_KWH'] = electricity_df['SpotPriceDKK'] / 1000\n",
    "electricity_df.drop('HourUTC', axis=1, inplace=True)\n",
    "electricity_df.drop('SpotPriceDKK', axis=1, inplace=True)\n",
    "electricity_df.rename(columns={'HourDK': 'time'}, inplace=True)\n",
    "electricity_df['time'] = electricity_df['time'].astype(str).str[:-3]\n",
    "electricity_df"
   ]
  },
  {
   "cell_type": "code",
   "execution_count": 10,
   "metadata": {},
   "outputs": [
    {
     "data": {
      "text/html": [
       "<div>\n",
       "<style scoped>\n",
       "    .dataframe tbody tr th:only-of-type {\n",
       "        vertical-align: middle;\n",
       "    }\n",
       "\n",
       "    .dataframe tbody tr th {\n",
       "        vertical-align: top;\n",
       "    }\n",
       "\n",
       "    .dataframe thead th {\n",
       "        text-align: right;\n",
       "    }\n",
       "</style>\n",
       "<table border=\"1\" class=\"dataframe\">\n",
       "  <thead>\n",
       "    <tr style=\"text-align: right;\">\n",
       "      <th></th>\n",
       "      <th>date</th>\n",
       "      <th>time</th>\n",
       "      <th>PriceArea</th>\n",
       "      <th>SpotPriceDKK_KWH</th>\n",
       "    </tr>\n",
       "  </thead>\n",
       "  <tbody>\n",
       "    <tr>\n",
       "      <th>0</th>\n",
       "      <td>2024-04-07</td>\n",
       "      <td>2024-04-07 23:00:00</td>\n",
       "      <td>DK1</td>\n",
       "      <td>0.31886</td>\n",
       "    </tr>\n",
       "    <tr>\n",
       "      <th>1</th>\n",
       "      <td>2024-04-07</td>\n",
       "      <td>2024-04-07 22:00:00</td>\n",
       "      <td>DK1</td>\n",
       "      <td>0.34078</td>\n",
       "    </tr>\n",
       "    <tr>\n",
       "      <th>2</th>\n",
       "      <td>2024-04-07</td>\n",
       "      <td>2024-04-07 21:00:00</td>\n",
       "      <td>DK1</td>\n",
       "      <td>0.35958</td>\n",
       "    </tr>\n",
       "    <tr>\n",
       "      <th>3</th>\n",
       "      <td>2024-04-07</td>\n",
       "      <td>2024-04-07 20:00:00</td>\n",
       "      <td>DK1</td>\n",
       "      <td>0.35645</td>\n",
       "    </tr>\n",
       "    <tr>\n",
       "      <th>4</th>\n",
       "      <td>2024-04-07</td>\n",
       "      <td>2024-04-07 19:00:00</td>\n",
       "      <td>DK1</td>\n",
       "      <td>0.34399</td>\n",
       "    </tr>\n",
       "    <tr>\n",
       "      <th>...</th>\n",
       "      <td>...</td>\n",
       "      <td>...</td>\n",
       "      <td>...</td>\n",
       "      <td>...</td>\n",
       "    </tr>\n",
       "    <tr>\n",
       "      <th>2346</th>\n",
       "      <td>2024-01-01</td>\n",
       "      <td>2024-01-01 04:00:00</td>\n",
       "      <td>DK1</td>\n",
       "      <td>-0.00022</td>\n",
       "    </tr>\n",
       "    <tr>\n",
       "      <th>2347</th>\n",
       "      <td>2024-01-01</td>\n",
       "      <td>2024-01-01 03:00:00</td>\n",
       "      <td>DK1</td>\n",
       "      <td>0.03086</td>\n",
       "    </tr>\n",
       "    <tr>\n",
       "      <th>2348</th>\n",
       "      <td>2024-01-01</td>\n",
       "      <td>2024-01-01 02:00:00</td>\n",
       "      <td>DK1</td>\n",
       "      <td>0.19874</td>\n",
       "    </tr>\n",
       "    <tr>\n",
       "      <th>2349</th>\n",
       "      <td>2024-01-01</td>\n",
       "      <td>2024-01-01 01:00:00</td>\n",
       "      <td>DK1</td>\n",
       "      <td>0.20978</td>\n",
       "    </tr>\n",
       "    <tr>\n",
       "      <th>2350</th>\n",
       "      <td>2024-01-01</td>\n",
       "      <td>2024-01-01 00:00:00</td>\n",
       "      <td>DK1</td>\n",
       "      <td>0.12666</td>\n",
       "    </tr>\n",
       "  </tbody>\n",
       "</table>\n",
       "<p>2351 rows × 4 columns</p>\n",
       "</div>"
      ],
      "text/plain": [
       "            date                time PriceArea  SpotPriceDKK_KWH\n",
       "0     2024-04-07 2024-04-07 23:00:00       DK1           0.31886\n",
       "1     2024-04-07 2024-04-07 22:00:00       DK1           0.34078\n",
       "2     2024-04-07 2024-04-07 21:00:00       DK1           0.35958\n",
       "3     2024-04-07 2024-04-07 20:00:00       DK1           0.35645\n",
       "4     2024-04-07 2024-04-07 19:00:00       DK1           0.34399\n",
       "...          ...                 ...       ...               ...\n",
       "2346  2024-01-01 2024-01-01 04:00:00       DK1          -0.00022\n",
       "2347  2024-01-01 2024-01-01 03:00:00       DK1           0.03086\n",
       "2348  2024-01-01 2024-01-01 02:00:00       DK1           0.19874\n",
       "2349  2024-01-01 2024-01-01 01:00:00       DK1           0.20978\n",
       "2350  2024-01-01 2024-01-01 00:00:00       DK1           0.12666\n",
       "\n",
       "[2351 rows x 4 columns]"
      ]
     },
     "execution_count": 10,
     "metadata": {},
     "output_type": "execute_result"
    }
   ],
   "source": [
    "electricity_df['date'] = electricity_df['time'].str[:10]\n",
    "\n",
    "new_column = electricity_df.pop('date')\n",
    "electricity_df.insert(0, 'date', new_column)\n",
    "\n",
    "# Convert string 'date' column to DATE type\n",
    "electricity_df['date'] = pd.to_datetime(electricity_df['date'], format='%Y-%m-%d').dt.date\n",
    "\n",
    "electricity_df['time'] = pd.to_datetime(electricity_df['time'])\n",
    "electricity_df"
   ]
  },
  {
   "cell_type": "markdown",
   "metadata": {},
   "source": [
    "### Connecting to Hopsworks Feature Store"
   ]
  },
  {
   "cell_type": "code",
   "execution_count": 11,
   "metadata": {},
   "outputs": [
    {
     "name": "stdout",
     "output_type": "stream",
     "text": [
      "Connected. Call `.close()` to terminate connection gracefully.\n"
     ]
    },
    {
     "name": "stderr",
     "output_type": "stream",
     "text": [
      "\n",
      "\n"
     ]
    },
    {
     "name": "stdout",
     "output_type": "stream",
     "text": [
      "\n",
      "Logged in to project, explore it here https://c.app.hopsworks.ai:443/p/550040\n",
      "Connected. Call `.close()` to terminate connection gracefully.\n"
     ]
    }
   ],
   "source": [
    "import hopsworks\n",
    "\n",
    "project = hopsworks.login()\n",
    "\n",
    "fs = project.get_feature_store()"
   ]
  },
  {
   "cell_type": "code",
   "execution_count": 12,
   "metadata": {},
   "outputs": [],
   "source": [
    "# Retrieve feature groups\n",
    "weather_fg = fs.get_feature_group(\n",
    "    name=\"weather_measurements\",\n",
    "    version=1,\n",
    ")\n",
    "\n",
    "electricity_fg = fs.get_feature_group(\n",
    "    name=\"electricity_prices\",\n",
    "    version=1,\n",
    ")"
   ]
  },
  {
   "cell_type": "markdown",
   "metadata": {},
   "source": [
    "### Uploading new data to the Feature Store"
   ]
  },
  {
   "cell_type": "code",
   "execution_count": 13,
   "metadata": {},
   "outputs": [
    {
     "name": "stderr",
     "output_type": "stream",
     "text": [
      "Uploading Dataframe: 100.00% |██████████| Rows 2376/2376 | Elapsed Time: 00:07 | Remaining Time: 00:00\n"
     ]
    },
    {
     "name": "stdout",
     "output_type": "stream",
     "text": [
      "Launching job: weather_measurements_1_offline_fg_materialization\n",
      "Job started successfully, you can follow the progress at \n",
      "https://c.app.hopsworks.ai/p/550040/jobs/named/weather_measurements_1_offline_fg_materialization/executions\n"
     ]
    },
    {
     "data": {
      "text/plain": [
       "(<hsfs.core.job.Job at 0x13478ded0>, None)"
      ]
     },
     "execution_count": 13,
     "metadata": {},
     "output_type": "execute_result"
    }
   ],
   "source": [
    "# Insert data\n",
    "weather_fg.insert(weather_df)"
   ]
  },
  {
   "cell_type": "code",
   "execution_count": 14,
   "metadata": {},
   "outputs": [
    {
     "name": "stderr",
     "output_type": "stream",
     "text": [
      "Uploading Dataframe: 100.00% |██████████| Rows 2351/2351 | Elapsed Time: 00:06 | Remaining Time: 00:00\n"
     ]
    },
    {
     "name": "stdout",
     "output_type": "stream",
     "text": [
      "Launching job: electricity_prices_1_offline_fg_materialization\n",
      "Job started successfully, you can follow the progress at \n",
      "https://c.app.hopsworks.ai/p/550040/jobs/named/electricity_prices_1_offline_fg_materialization/executions\n"
     ]
    },
    {
     "data": {
      "text/plain": [
       "(<hsfs.core.job.Job at 0x134728210>, None)"
      ]
     },
     "execution_count": 14,
     "metadata": {},
     "output_type": "execute_result"
    }
   ],
   "source": [
    "# Insert data\n",
    "electricity_fg.insert(electricity_df)"
   ]
  },
  {
   "cell_type": "markdown",
   "metadata": {},
   "source": []
  }
 ],
 "metadata": {
  "kernelspec": {
   "display_name": "bds-mlops",
   "language": "python",
   "name": "python3"
  },
  "language_info": {
   "codemirror_mode": {
    "name": "ipython",
    "version": 3
   },
   "file_extension": ".py",
   "mimetype": "text/x-python",
   "name": "python",
   "nbconvert_exporter": "python",
   "pygments_lexer": "ipython3",
   "version": "3.11.8"
  },
  "orig_nbformat": 4
 },
 "nbformat": 4,
 "nbformat_minor": 2
}
