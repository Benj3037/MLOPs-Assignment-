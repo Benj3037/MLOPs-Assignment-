{
 "cells": [
  {
   "cell_type": "markdown",
   "metadata": {},
   "source": [
    "# <span style=\"font-width:bold; font-size: 3rem; color:#2656a3;\">**Data Engineering and Machine Learning Operations in Business** </span> <span style=\"font-width:bold; font-size: 3rem; color:#333;\">- Part 04: Batch Inference</span>"
   ]
  },
  {
   "cell_type": "markdown",
   "metadata": {},
   "source": [
    "## <span style='color:#2656a3'> 🗒️ This notebook is divided into the following sections:\n",
    "\n",
    "1. Load batch data.\n",
    "2. Predict using model from Model Registry."
   ]
  },
  {
   "cell_type": "markdown",
   "metadata": {},
   "source": [
    "## <span style='color:#2656a3'> ⚙️ Import of libraries and packages\n",
    "\n",
    "First, we'll install the Python packages required for this notebook. We'll use the --quiet command after specifying the names of the libraries to ensure a silent installation process. Then, we'll proceed to import all the necessary libraries."
   ]
  },
  {
   "cell_type": "code",
   "execution_count": null,
   "metadata": {},
   "outputs": [],
   "source": [
    "# Importing the packages for the needed libraries for the Jupyter notebook\n",
    "import joblib\n",
    "import inspect \n",
    "import pandas as pd\n",
    "import tensorflow as tf\n",
    "import matplotlib.pyplot as plt\n",
    "from matplotlib.ticker import FuncFormatter\n",
    "\n",
    "#%config InlineBackend.figure_format='retina'\n",
    "#%matplotlib inline"
   ]
  },
  {
   "cell_type": "markdown",
   "metadata": {},
   "source": [
    "## <span style=\"color:#2656a3;\"> 📡 Connecting to Hopsworks Feature Store"
   ]
  },
  {
   "cell_type": "code",
   "execution_count": null,
   "metadata": {},
   "outputs": [],
   "source": [
    "# Importing the hopsworks module\n",
    "import hopsworks\n",
    "\n",
    "# Logging in to the Hopsworks project\n",
    "project = hopsworks.login()\n",
    "\n",
    "# Getting the feature store from the project\n",
    "fs = project.get_feature_store() "
   ]
  },
  {
   "cell_type": "markdown",
   "metadata": {},
   "source": [
    "### <span style='color:#2656a3'> ⚙️ Feature View Retrieval"
   ]
  },
  {
   "cell_type": "code",
   "execution_count": null,
   "metadata": {},
   "outputs": [],
   "source": [
    "# Retrieve the 'electricity_feature_view' feature view\n",
    "feature_view = fs.get_feature_view(\n",
    "    name='electricity_feature_view',\n",
    "    version=1,\n",
    ")"
   ]
  },
  {
   "cell_type": "markdown",
   "metadata": {},
   "source": [
    "### <span style='color:#2656a3'> 🗄 Model Registry"
   ]
  },
  {
   "cell_type": "code",
   "execution_count": null,
   "metadata": {},
   "outputs": [],
   "source": [
    "# Retrieve the model registry\n",
    "mr = project.get_model_registry()"
   ]
  },
  {
   "cell_type": "markdown",
   "metadata": {},
   "source": [
    "## <span style='color:#2656a3'> 📮 Retrieving model from Model Registry"
   ]
  },
  {
   "cell_type": "code",
   "execution_count": null,
   "metadata": {},
   "outputs": [],
   "source": [
    "# Retrieving the TensorFlow model from the Model Registry\n",
    "model = mr.get_model(\n",
    "    name=\"electricity_price_prediction_model\", \n",
    "    version=1,\n",
    ")\n",
    "\n",
    "# Downloading the model to a local directory\n",
    "model_dir = model.download()\n",
    "\n",
    "# Loading the saved TensorFlow model\n",
    "loaded_model = tf.saved_model.load(model_dir)\n",
    "\n",
    "# Accessing the serving function of the loaded model\n",
    "serving_function = loaded_model.signatures[\"serving_default\"]"
   ]
  },
  {
   "cell_type": "markdown",
   "metadata": {},
   "source": [
    "## <span style='color:#2656a3'> ✨ Load Batch Data"
   ]
  },
  {
   "cell_type": "code",
   "execution_count": null,
   "metadata": {},
   "outputs": [],
   "source": [
    "import datetime\n",
    "\n",
    "# Calculating the start date as 5 days ago from the current date\n",
    "start_date = datetime.datetime.now() - datetime.timedelta(days=5)\n",
    "\n",
    "# Converting the start date to a timestamp in milliseconds\n",
    "start_time = int(start_date.timestamp()) * 1000"
   ]
  },
  {
   "cell_type": "code",
   "execution_count": null,
   "metadata": {},
   "outputs": [],
   "source": [
    "# Initializing batch scoring\n",
    "feature_view.init_batch_scoring(1)\n",
    "\n",
    "# Retrieving batch data from the feature view starting from the specified start time\n",
    "df = feature_view.get_batch_data(\n",
    "    start_time=start_time,\n",
    ")"
   ]
  },
  {
   "cell_type": "code",
   "execution_count": null,
   "metadata": {},
   "outputs": [],
   "source": [
    "# Sorting the DataFrame based on the 'timestamp' column\n",
    "df.sort_values([\"timestamp\"], inplace=True)\n",
    "\n",
    "# Dropping the 'day' and 'timestamp' columns from the DataFrame\n",
    "df = df.drop([\"day\", \"timestamp\"], axis=1)\n",
    "\n",
    "# Displaying the first 3 rows of the modified DataFrame\n",
    "df.head(3)"
   ]
  },
  {
   "cell_type": "markdown",
   "metadata": {},
   "source": [
    "## <span style='color:#2656a3'> 🤖 Making the predictions"
   ]
  },
  {
   "cell_type": "code",
   "execution_count": null,
   "metadata": {},
   "outputs": [],
   "source": [
    "# Using the serving function to make predictions for the given DataFrame\n",
    "x = serving_function(\n",
    "    tf.constant(\n",
    "        df.values.reshape(-1, df.shape[0], df.shape[1]), tf.float32)\n",
    ")\n",
    "\n",
    "# Extracting and converting the predictions to a NumPy array\n",
    "prediction = x[list(x.keys())[0]].numpy() #.flatten().tolist()\n",
    "prediction"
   ]
  },
  {
   "cell_type": "code",
   "execution_count": null,
   "metadata": {},
   "outputs": [],
   "source": [
    "# Extracting and organizing the predicted prices for different regions from the batch predictions\n",
    "price_dk1_pred = []\n",
    "\n",
    "for batch_n in range(len(prediction)):\n",
    "    batch = prediction[batch_n]\n",
    "    for window_n in range(df.shape[0]):\n",
    "        price_dk1_pred.append(batch[window_n][0])"
   ]
  },
  {
   "cell_type": "code",
   "execution_count": null,
   "metadata": {},
   "outputs": [],
   "source": [
    "# Initializing serving\n",
    "feature_view.init_serving(1)\n",
    "\n",
    "# Accessing the transformation functions used in the serving configuration\n",
    "td_transformation_functions = feature_view._batch_scoring_server._transformation_functions"
   ]
  },
  {
   "cell_type": "code",
   "execution_count": null,
   "metadata": {},
   "outputs": [],
   "source": [
    "# Decoding the features from the predicted prices\n",
    "preds = pd.DataFrame(data={'price_dk1': price_dk1_pred,})\n",
    "\n",
    "# Extracting and decoding the transformation functions used in serving\n",
    "res = {}\n",
    "for feature_name in td_transformation_functions:\n",
    "    if feature_name in [\"price_dk1\"]:\n",
    "        td_transformation_function = td_transformation_functions[feature_name]\n",
    "        sig, foobar_locals = inspect.signature(td_transformation_function.transformation_fn), locals()\n",
    "        param_dict = dict([(param.name, param.default) for param in sig.parameters.values() if param.default != inspect._empty])\n",
    "        if td_transformation_function.name == \"min_max_scaler\":\n",
    "            preds[feature_name] = preds[feature_name].map(\n",
    "                lambda x: x * (param_dict[\"max_value\"] - param_dict[\"min_value\"]) + param_dict[\"min_value\"]\n",
    "                )\n",
    "\n",
    "# Applying a transformation to reverse the sign of the decoded features\n",
    "preds = preds.apply(lambda x: -x)\n",
    "preds"
   ]
  },
  {
   "cell_type": "code",
   "execution_count": null,
   "metadata": {},
   "outputs": [],
   "source": [
    "# Plotting the predicted electricity prices for different regions\n",
    "plt.plot(preds[\"price_dk1\"],color='red', label='DK1 price prediction')\n",
    "plt.xlabel('Time')\n",
    "plt.ylabel('Price')\n",
    "plt.legend(loc='upper left')\n",
    "\n",
    "# Adjusting the size of the plot\n",
    "fig = plt.gcf()\n",
    "fig.set_size_inches(15, 5)"
   ]
  },
  {
   "cell_type": "markdown",
   "metadata": {},
   "source": [
    "---\n",
    "\n",
    "### <span style=\"color:#ff5f27;\">🥳 <b> Next Steps  </b> </span>\n",
    "Congratulations you've now completed the Electricity price tutorial for Managed Hopsworks.\n",
    "\n",
    "Check out our other tutorials on ➡ https://github.com/logicalclocks/hopsworks-tutorials\n",
    "\n",
    "Or documentation at ➡ https://docs.hopsworks.ai"
   ]
  }
 ],
 "metadata": {
  "kernelspec": {
   "display_name": "bds-mlops",
   "language": "python",
   "name": "python3"
  },
  "language_info": {
   "name": "python",
   "version": "3.11.8"
  },
  "orig_nbformat": 4
 },
 "nbformat": 4,
 "nbformat_minor": 2
}
