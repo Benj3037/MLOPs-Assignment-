{
 "cells": [
  {
   "cell_type": "markdown",
   "metadata": {},
   "source": [
    "# <span style=\"font-width:bold; font-size: 3rem; color:#2656a3;\">**Data Engineering and Machine Learning Operations in Business** </span> <span style=\"font-width:bold; font-size: 3rem; color:#333;\">- Part 01: Feature Backfill</span>"
   ]
  },
  {
   "cell_type": "markdown",
   "metadata": {},
   "source": [
    "## 🗒️ This notebook is divided into the following sections:\n",
    "1. Load the data and process features\n",
    "2. Connect to the Hopsworks feature store\n",
    "3. Create feature groups and upload them to the feature store"
   ]
  },
  {
   "cell_type": "markdown",
   "metadata": {},
   "source": [
    "## <span style='color:#2656a3'> ⚙️ Import of libraries and packages\n",
    "\n",
    "First, we'll install the Python packages required for this notebook. We'll use the --quiet command after specifying the names of the libraries to ensure a silent installation process. Then, we'll proceed to import all the necessary libraries."
   ]
  },
  {
   "cell_type": "code",
   "execution_count": 1,
   "metadata": {},
   "outputs": [],
   "source": [
    "# Install of the packages for hopsworks\n",
    "# !pip install -U hopsworks --quiet"
   ]
  },
  {
   "cell_type": "code",
   "execution_count": 2,
   "metadata": {},
   "outputs": [
    {
     "name": "stdout",
     "output_type": "stream",
     "text": [
      "/Users/tobiasmjensen/Documents/aau_bds/m5_data-engineering-and-mlops/exam_assigment/MLOPs-Assignment-\n"
     ]
    }
   ],
   "source": [
    "# First we have to go one back in out dictionary so we can find the folder with our functions\n",
    "%cd ..\n",
    "\n",
    "# Now you can import the functions from the features folder. \n",
    "from features import electricity_prices, weater_measures # own function# This is functions we have created "
   ]
  },
  {
   "cell_type": "code",
   "execution_count": 3,
   "metadata": {},
   "outputs": [],
   "source": [
    "# Importing of the packages for the needed libraries for the Jupyter notebook\n",
    "import pandas as pd\n",
    "import requests\n",
    "from datetime import datetime\n",
    "\n",
    "# Ignore warnings\n",
    "import warnings \n",
    "warnings.filterwarnings('ignore')"
   ]
  },
  {
   "cell_type": "markdown",
   "metadata": {},
   "source": [
    "## <span style=\"color:#2656a3;\"> 💽 Load the historical data\n",
    "\n",
    "The data you will use comes from three different sources:\n",
    "\n",
    "- Electricity prices in Denmark per day from [Energinet](https://www.energidataservice.dk).\n",
    "- Different meteorological observations from [Open meteo](https://www.open-meteo.com).\n",
    "- Danish Calendar with the type if the date is a national holiday or not. This files is made manually by the group and is located in the \"*data*\" folder inside this repository."
   ]
  },
  {
   "cell_type": "markdown",
   "metadata": {},
   "source": [
    "### <span style=\"color:#2656a3;\">💸 Electricity prices per day from Energinet\n",
    "*Hvis vi skal have tariffer med i modellen, anbefales det at vi sætter en faktor på 0.2 i tidsrummet 22 - 16 og en faktor på 0.6 eller 0.7 i tidsrummet 17 - 21.*\n",
    "\n",
    "This first dataset is Electricity prices per day from Energinet/Dataservice. Here we use "
   ]
  },
  {
   "cell_type": "code",
   "execution_count": 4,
   "metadata": {},
   "outputs": [],
   "source": [
    "# Fetching historical electricity prices data from '2022-01-01' to '2023-12-31'\n",
    "electricity_df = electricity_prices.electricity_prices(\n",
    "    historical=True, \n",
    "    area=[\"DK1\"], \n",
    "    start='2022-01-01', \n",
    "    end='2023-12-31'\n",
    ")"
   ]
  },
  {
   "cell_type": "code",
   "execution_count": 5,
   "metadata": {},
   "outputs": [
    {
     "data": {
      "text/html": [
       "<div>\n",
       "<style scoped>\n",
       "    .dataframe tbody tr th:only-of-type {\n",
       "        vertical-align: middle;\n",
       "    }\n",
       "\n",
       "    .dataframe tbody tr th {\n",
       "        vertical-align: top;\n",
       "    }\n",
       "\n",
       "    .dataframe thead th {\n",
       "        text-align: right;\n",
       "    }\n",
       "</style>\n",
       "<table border=\"1\" class=\"dataframe\">\n",
       "  <thead>\n",
       "    <tr style=\"text-align: right;\">\n",
       "      <th></th>\n",
       "      <th>timestamp</th>\n",
       "      <th>date</th>\n",
       "      <th>time</th>\n",
       "      <th>PriceArea</th>\n",
       "      <th>SpotPriceDKK_KWH</th>\n",
       "    </tr>\n",
       "  </thead>\n",
       "  <tbody>\n",
       "    <tr>\n",
       "      <th>0</th>\n",
       "      <td>1704063600000000</td>\n",
       "      <td>2023-12-31</td>\n",
       "      <td>2023-12-31 23:00:00</td>\n",
       "      <td>DK1</td>\n",
       "      <td>0.20031</td>\n",
       "    </tr>\n",
       "    <tr>\n",
       "      <th>2</th>\n",
       "      <td>1704060000000000</td>\n",
       "      <td>2023-12-31</td>\n",
       "      <td>2023-12-31 22:00:00</td>\n",
       "      <td>DK1</td>\n",
       "      <td>0.21373</td>\n",
       "    </tr>\n",
       "    <tr>\n",
       "      <th>4</th>\n",
       "      <td>1704056400000000</td>\n",
       "      <td>2023-12-31</td>\n",
       "      <td>2023-12-31 21:00:00</td>\n",
       "      <td>DK1</td>\n",
       "      <td>0.22066</td>\n",
       "    </tr>\n",
       "    <tr>\n",
       "      <th>6</th>\n",
       "      <td>1704052800000000</td>\n",
       "      <td>2023-12-31</td>\n",
       "      <td>2023-12-31 20:00:00</td>\n",
       "      <td>DK1</td>\n",
       "      <td>0.26010</td>\n",
       "    </tr>\n",
       "    <tr>\n",
       "      <th>8</th>\n",
       "      <td>1704049200000000</td>\n",
       "      <td>2023-12-31</td>\n",
       "      <td>2023-12-31 19:00:00</td>\n",
       "      <td>DK1</td>\n",
       "      <td>0.29551</td>\n",
       "    </tr>\n",
       "  </tbody>\n",
       "</table>\n",
       "</div>"
      ],
      "text/plain": [
       "          timestamp        date                time PriceArea  \\\n",
       "0  1704063600000000  2023-12-31 2023-12-31 23:00:00       DK1   \n",
       "2  1704060000000000  2023-12-31 2023-12-31 22:00:00       DK1   \n",
       "4  1704056400000000  2023-12-31 2023-12-31 21:00:00       DK1   \n",
       "6  1704052800000000  2023-12-31 2023-12-31 20:00:00       DK1   \n",
       "8  1704049200000000  2023-12-31 2023-12-31 19:00:00       DK1   \n",
       "\n",
       "   SpotPriceDKK_KWH  \n",
       "0           0.20031  \n",
       "2           0.21373  \n",
       "4           0.22066  \n",
       "6           0.26010  \n",
       "8           0.29551  "
      ]
     },
     "execution_count": 5,
     "metadata": {},
     "output_type": "execute_result"
    }
   ],
   "source": [
    "# Display the first 5 rows of the dataframe\n",
    "electricity_df.head()"
   ]
  },
  {
   "cell_type": "code",
   "execution_count": 6,
   "metadata": {},
   "outputs": [
    {
     "name": "stdout",
     "output_type": "stream",
     "text": [
      "<class 'pandas.core.frame.DataFrame'>\n",
      "Int64Index: 17520 entries, 0 to 35039\n",
      "Data columns (total 5 columns):\n",
      " #   Column            Non-Null Count  Dtype         \n",
      "---  ------            --------------  -----         \n",
      " 0   timestamp         17520 non-null  int64         \n",
      " 1   date              17520 non-null  object        \n",
      " 2   time              17520 non-null  datetime64[ns]\n",
      " 3   PriceArea         17520 non-null  object        \n",
      " 4   SpotPriceDKK_KWH  17520 non-null  float64       \n",
      "dtypes: datetime64[ns](1), float64(1), int64(1), object(2)\n",
      "memory usage: 821.2+ KB\n"
     ]
    }
   ],
   "source": [
    "# Showing the information for the electricity dataframe\n",
    "electricity_df.info()"
   ]
  },
  {
   "cell_type": "markdown",
   "metadata": {},
   "source": [
    "### <span style=\"color:#2656a3;\">☀️💨 Forecast Renewable Energy next day from Energinet"
   ]
  },
  {
   "cell_type": "code",
   "execution_count": 7,
   "metadata": {},
   "outputs": [],
   "source": [
    "# Fetching historical electricity prices data from '2022-01-01' to '2023-12-31'\n",
    "forecast_renewable_energy_df = electricity_prices.forecast_renewable_energy(\n",
    "    historical=True, \n",
    "    area = [\"DK1\"],\n",
    "    start='2022-01-01', \n",
    "    end='2023-12-31'\n",
    ")"
   ]
  },
  {
   "cell_type": "code",
   "execution_count": 8,
   "metadata": {},
   "outputs": [
    {
     "data": {
      "text/html": [
       "<div>\n",
       "<style scoped>\n",
       "    .dataframe tbody tr th:only-of-type {\n",
       "        vertical-align: middle;\n",
       "    }\n",
       "\n",
       "    .dataframe tbody tr th {\n",
       "        vertical-align: top;\n",
       "    }\n",
       "\n",
       "    .dataframe thead th {\n",
       "        text-align: right;\n",
       "    }\n",
       "</style>\n",
       "<table border=\"1\" class=\"dataframe\">\n",
       "  <thead>\n",
       "    <tr style=\"text-align: right;\">\n",
       "      <th></th>\n",
       "      <th>timestamp</th>\n",
       "      <th>date</th>\n",
       "      <th>time</th>\n",
       "      <th>PriceArea</th>\n",
       "      <th>ForecastType</th>\n",
       "      <th>ForecastDayAhead</th>\n",
       "      <th>ForecastIntraday</th>\n",
       "      <th>ForecastCurrent</th>\n",
       "    </tr>\n",
       "  </thead>\n",
       "  <tbody>\n",
       "    <tr>\n",
       "      <th>0</th>\n",
       "      <td>1704063600000000</td>\n",
       "      <td>2023-12-31</td>\n",
       "      <td>2023-12-31 23:00:00</td>\n",
       "      <td>DK1</td>\n",
       "      <td>Offshore Wind</td>\n",
       "      <td>947.750000</td>\n",
       "      <td>983.000000</td>\n",
       "      <td>1000.291687</td>\n",
       "    </tr>\n",
       "    <tr>\n",
       "      <th>1</th>\n",
       "      <td>1704063600000000</td>\n",
       "      <td>2023-12-31</td>\n",
       "      <td>2023-12-31 23:00:00</td>\n",
       "      <td>DK1</td>\n",
       "      <td>Onshore Wind</td>\n",
       "      <td>1210.375000</td>\n",
       "      <td>1271.458374</td>\n",
       "      <td>1501.000000</td>\n",
       "    </tr>\n",
       "    <tr>\n",
       "      <th>2</th>\n",
       "      <td>1704063600000000</td>\n",
       "      <td>2023-12-31</td>\n",
       "      <td>2023-12-31 23:00:00</td>\n",
       "      <td>DK1</td>\n",
       "      <td>Solar</td>\n",
       "      <td>0.000000</td>\n",
       "      <td>0.000000</td>\n",
       "      <td>0.000000</td>\n",
       "    </tr>\n",
       "    <tr>\n",
       "      <th>6</th>\n",
       "      <td>1704060000000000</td>\n",
       "      <td>2023-12-31</td>\n",
       "      <td>2023-12-31 22:00:00</td>\n",
       "      <td>DK1</td>\n",
       "      <td>Offshore Wind</td>\n",
       "      <td>951.250000</td>\n",
       "      <td>991.791687</td>\n",
       "      <td>1032.333374</td>\n",
       "    </tr>\n",
       "    <tr>\n",
       "      <th>7</th>\n",
       "      <td>1704060000000000</td>\n",
       "      <td>2023-12-31</td>\n",
       "      <td>2023-12-31 22:00:00</td>\n",
       "      <td>DK1</td>\n",
       "      <td>Onshore Wind</td>\n",
       "      <td>1298.083374</td>\n",
       "      <td>1367.416626</td>\n",
       "      <td>1502.541626</td>\n",
       "    </tr>\n",
       "  </tbody>\n",
       "</table>\n",
       "</div>"
      ],
      "text/plain": [
       "          timestamp        date                time PriceArea   ForecastType  \\\n",
       "0  1704063600000000  2023-12-31 2023-12-31 23:00:00       DK1  Offshore Wind   \n",
       "1  1704063600000000  2023-12-31 2023-12-31 23:00:00       DK1   Onshore Wind   \n",
       "2  1704063600000000  2023-12-31 2023-12-31 23:00:00       DK1          Solar   \n",
       "6  1704060000000000  2023-12-31 2023-12-31 22:00:00       DK1  Offshore Wind   \n",
       "7  1704060000000000  2023-12-31 2023-12-31 22:00:00       DK1   Onshore Wind   \n",
       "\n",
       "   ForecastDayAhead  ForecastIntraday  ForecastCurrent  \n",
       "0        947.750000        983.000000      1000.291687  \n",
       "1       1210.375000       1271.458374      1501.000000  \n",
       "2          0.000000          0.000000         0.000000  \n",
       "6        951.250000        991.791687      1032.333374  \n",
       "7       1298.083374       1367.416626      1502.541626  "
      ]
     },
     "execution_count": 8,
     "metadata": {},
     "output_type": "execute_result"
    }
   ],
   "source": [
    "# Display the first 5 rows of the dataframe\n",
    "forecast_renewable_energy_df.head()"
   ]
  },
  {
   "cell_type": "code",
   "execution_count": 9,
   "metadata": {},
   "outputs": [
    {
     "name": "stdout",
     "output_type": "stream",
     "text": [
      "<class 'pandas.core.frame.DataFrame'>\n",
      "Int64Index: 52560 entries, 0 to 105116\n",
      "Data columns (total 8 columns):\n",
      " #   Column            Non-Null Count  Dtype         \n",
      "---  ------            --------------  -----         \n",
      " 0   timestamp         52560 non-null  int64         \n",
      " 1   date              52560 non-null  object        \n",
      " 2   time              52560 non-null  datetime64[ns]\n",
      " 3   PriceArea         52560 non-null  object        \n",
      " 4   ForecastType      52560 non-null  object        \n",
      " 5   ForecastDayAhead  52464 non-null  float64       \n",
      " 6   ForecastIntraday  34944 non-null  float64       \n",
      " 7   ForecastCurrent   52560 non-null  float64       \n",
      "dtypes: datetime64[ns](1), float64(3), int64(1), object(3)\n",
      "memory usage: 3.6+ MB\n"
     ]
    }
   ],
   "source": [
    "# Showing the information for the electricity dataframe\n",
    "forecast_renewable_energy_df.info()"
   ]
  },
  {
   "cell_type": "markdown",
   "metadata": {},
   "source": [
    "### <span style=\"color:#2656a3;\"> 🌤 Weather measurements from Open Meteo\n",
    "\n",
    "Burde have enddate 2023-12-31. url = (\"https://archive-api.open-meteo.com/v1/archive?latitude=57.048&longitude=9.9187&start_date=2022-01-01&end_date=2023-12-31&hourly=temperature_2m,relative_humidity_2m,precipitation,rain,snowfall,weather_code,cloud_cover,wind_speed_10m,wind_gusts_10m\")"
   ]
  },
  {
   "cell_type": "markdown",
   "metadata": {},
   "source": [
    "#### <span style=\"color:#2656a3;\"> 🕰️ Historical Weater Measures"
   ]
  },
  {
   "cell_type": "code",
   "execution_count": 10,
   "metadata": {},
   "outputs": [],
   "source": [
    "# Fetching historical electricity prices data\n",
    "historical_weather_df = weater_measures.historical_weater_measures(\n",
    "    historical=True, \n",
    "    start = '2022-01-01', \n",
    "    end = '2023-12-31'\n",
    ")"
   ]
  },
  {
   "cell_type": "code",
   "execution_count": 11,
   "metadata": {},
   "outputs": [
    {
     "data": {
      "text/html": [
       "<div>\n",
       "<style scoped>\n",
       "    .dataframe tbody tr th:only-of-type {\n",
       "        vertical-align: middle;\n",
       "    }\n",
       "\n",
       "    .dataframe tbody tr th {\n",
       "        vertical-align: top;\n",
       "    }\n",
       "\n",
       "    .dataframe thead th {\n",
       "        text-align: right;\n",
       "    }\n",
       "</style>\n",
       "<table border=\"1\" class=\"dataframe\">\n",
       "  <thead>\n",
       "    <tr style=\"text-align: right;\">\n",
       "      <th></th>\n",
       "      <th>timestamp</th>\n",
       "      <th>date</th>\n",
       "      <th>time</th>\n",
       "      <th>temperature_2m</th>\n",
       "      <th>relative_humidity_2m</th>\n",
       "      <th>precipitation</th>\n",
       "      <th>rain</th>\n",
       "      <th>snowfall</th>\n",
       "      <th>weather_code</th>\n",
       "      <th>cloud_cover</th>\n",
       "      <th>wind_speed_10m</th>\n",
       "      <th>wind_gusts_10m</th>\n",
       "    </tr>\n",
       "  </thead>\n",
       "  <tbody>\n",
       "    <tr>\n",
       "      <th>0</th>\n",
       "      <td>1640995200000000</td>\n",
       "      <td>2022-01-01</td>\n",
       "      <td>2022-01-01 00:00:00</td>\n",
       "      <td>6.7</td>\n",
       "      <td>100</td>\n",
       "      <td>0.0</td>\n",
       "      <td>0.0</td>\n",
       "      <td>0.0</td>\n",
       "      <td>3</td>\n",
       "      <td>100</td>\n",
       "      <td>16.2</td>\n",
       "      <td>36.0</td>\n",
       "    </tr>\n",
       "    <tr>\n",
       "      <th>1</th>\n",
       "      <td>1640998800000000</td>\n",
       "      <td>2022-01-01</td>\n",
       "      <td>2022-01-01 01:00:00</td>\n",
       "      <td>6.6</td>\n",
       "      <td>100</td>\n",
       "      <td>0.0</td>\n",
       "      <td>0.0</td>\n",
       "      <td>0.0</td>\n",
       "      <td>3</td>\n",
       "      <td>100</td>\n",
       "      <td>16.2</td>\n",
       "      <td>30.2</td>\n",
       "    </tr>\n",
       "    <tr>\n",
       "      <th>2</th>\n",
       "      <td>1641002400000000</td>\n",
       "      <td>2022-01-01</td>\n",
       "      <td>2022-01-01 02:00:00</td>\n",
       "      <td>6.7</td>\n",
       "      <td>99</td>\n",
       "      <td>0.0</td>\n",
       "      <td>0.0</td>\n",
       "      <td>0.0</td>\n",
       "      <td>3</td>\n",
       "      <td>100</td>\n",
       "      <td>15.5</td>\n",
       "      <td>30.6</td>\n",
       "    </tr>\n",
       "    <tr>\n",
       "      <th>3</th>\n",
       "      <td>1641006000000000</td>\n",
       "      <td>2022-01-01</td>\n",
       "      <td>2022-01-01 03:00:00</td>\n",
       "      <td>6.7</td>\n",
       "      <td>100</td>\n",
       "      <td>0.0</td>\n",
       "      <td>0.0</td>\n",
       "      <td>0.0</td>\n",
       "      <td>3</td>\n",
       "      <td>100</td>\n",
       "      <td>12.7</td>\n",
       "      <td>28.8</td>\n",
       "    </tr>\n",
       "    <tr>\n",
       "      <th>4</th>\n",
       "      <td>1641009600000000</td>\n",
       "      <td>2022-01-01</td>\n",
       "      <td>2022-01-01 04:00:00</td>\n",
       "      <td>6.7</td>\n",
       "      <td>99</td>\n",
       "      <td>0.0</td>\n",
       "      <td>0.0</td>\n",
       "      <td>0.0</td>\n",
       "      <td>3</td>\n",
       "      <td>100</td>\n",
       "      <td>10.6</td>\n",
       "      <td>23.8</td>\n",
       "    </tr>\n",
       "  </tbody>\n",
       "</table>\n",
       "</div>"
      ],
      "text/plain": [
       "          timestamp        date                time  temperature_2m  \\\n",
       "0  1640995200000000  2022-01-01 2022-01-01 00:00:00             6.7   \n",
       "1  1640998800000000  2022-01-01 2022-01-01 01:00:00             6.6   \n",
       "2  1641002400000000  2022-01-01 2022-01-01 02:00:00             6.7   \n",
       "3  1641006000000000  2022-01-01 2022-01-01 03:00:00             6.7   \n",
       "4  1641009600000000  2022-01-01 2022-01-01 04:00:00             6.7   \n",
       "\n",
       "   relative_humidity_2m  precipitation  rain  snowfall  weather_code  \\\n",
       "0                   100            0.0   0.0       0.0             3   \n",
       "1                   100            0.0   0.0       0.0             3   \n",
       "2                    99            0.0   0.0       0.0             3   \n",
       "3                   100            0.0   0.0       0.0             3   \n",
       "4                    99            0.0   0.0       0.0             3   \n",
       "\n",
       "   cloud_cover  wind_speed_10m  wind_gusts_10m  \n",
       "0          100            16.2            36.0  \n",
       "1          100            16.2            30.2  \n",
       "2          100            15.5            30.6  \n",
       "3          100            12.7            28.8  \n",
       "4          100            10.6            23.8  "
      ]
     },
     "execution_count": 11,
     "metadata": {},
     "output_type": "execute_result"
    }
   ],
   "source": [
    "# Display the first 5 rows of the dataframe\n",
    "historical_weather_df.head()"
   ]
  },
  {
   "cell_type": "code",
   "execution_count": 12,
   "metadata": {},
   "outputs": [
    {
     "name": "stdout",
     "output_type": "stream",
     "text": [
      "<class 'pandas.core.frame.DataFrame'>\n",
      "RangeIndex: 17520 entries, 0 to 17519\n",
      "Data columns (total 12 columns):\n",
      " #   Column                Non-Null Count  Dtype         \n",
      "---  ------                --------------  -----         \n",
      " 0   timestamp             17520 non-null  int64         \n",
      " 1   date                  17520 non-null  object        \n",
      " 2   time                  17520 non-null  datetime64[ns]\n",
      " 3   temperature_2m        17520 non-null  float64       \n",
      " 4   relative_humidity_2m  17520 non-null  int64         \n",
      " 5   precipitation         17520 non-null  float64       \n",
      " 6   rain                  17520 non-null  float64       \n",
      " 7   snowfall              17520 non-null  float64       \n",
      " 8   weather_code          17520 non-null  int64         \n",
      " 9   cloud_cover           17520 non-null  int64         \n",
      " 10  wind_speed_10m        17520 non-null  float64       \n",
      " 11  wind_gusts_10m        17520 non-null  float64       \n",
      "dtypes: datetime64[ns](1), float64(6), int64(4), object(1)\n",
      "memory usage: 1.6+ MB\n"
     ]
    }
   ],
   "source": [
    "# Showing the information for the weather dataframe\n",
    "historical_weather_df.info()"
   ]
  },
  {
   "cell_type": "markdown",
   "metadata": {},
   "source": [
    "#### <span style=\"color:#2656a3;\"> 🌈 Weater Forecast"
   ]
  },
  {
   "cell_type": "code",
   "execution_count": 15,
   "metadata": {},
   "outputs": [],
   "source": [
    "# Fetching historical electricity prices data\n",
    "weather_forecast_df = weater_measures.forecast_weater_measures(\n",
    "    forecast_length=1\n",
    ")"
   ]
  },
  {
   "cell_type": "code",
   "execution_count": 18,
   "metadata": {},
   "outputs": [
    {
     "data": {
      "text/html": [
       "<div>\n",
       "<style scoped>\n",
       "    .dataframe tbody tr th:only-of-type {\n",
       "        vertical-align: middle;\n",
       "    }\n",
       "\n",
       "    .dataframe tbody tr th {\n",
       "        vertical-align: top;\n",
       "    }\n",
       "\n",
       "    .dataframe thead th {\n",
       "        text-align: right;\n",
       "    }\n",
       "</style>\n",
       "<table border=\"1\" class=\"dataframe\">\n",
       "  <thead>\n",
       "    <tr style=\"text-align: right;\">\n",
       "      <th></th>\n",
       "      <th>timestamp</th>\n",
       "      <th>date</th>\n",
       "      <th>time</th>\n",
       "      <th>temperature_2m</th>\n",
       "      <th>relative_humidity_2m</th>\n",
       "      <th>precipitation</th>\n",
       "      <th>rain</th>\n",
       "      <th>snowfall</th>\n",
       "      <th>weather_code</th>\n",
       "      <th>cloud_cover</th>\n",
       "      <th>wind_speed_10m</th>\n",
       "      <th>wind_gusts_10m</th>\n",
       "    </tr>\n",
       "  </thead>\n",
       "  <tbody>\n",
       "    <tr>\n",
       "      <th>0</th>\n",
       "      <td>1713312000000000</td>\n",
       "      <td>2024-04-17</td>\n",
       "      <td>2024-04-17 00:00:00</td>\n",
       "      <td>3.8</td>\n",
       "      <td>84</td>\n",
       "      <td>0.0</td>\n",
       "      <td>0.0</td>\n",
       "      <td>0.0</td>\n",
       "      <td>2</td>\n",
       "      <td>76</td>\n",
       "      <td>5.8</td>\n",
       "      <td>9.0</td>\n",
       "    </tr>\n",
       "    <tr>\n",
       "      <th>1</th>\n",
       "      <td>1713315600000000</td>\n",
       "      <td>2024-04-17</td>\n",
       "      <td>2024-04-17 01:00:00</td>\n",
       "      <td>3.4</td>\n",
       "      <td>85</td>\n",
       "      <td>0.0</td>\n",
       "      <td>0.0</td>\n",
       "      <td>0.0</td>\n",
       "      <td>3</td>\n",
       "      <td>93</td>\n",
       "      <td>3.2</td>\n",
       "      <td>8.3</td>\n",
       "    </tr>\n",
       "    <tr>\n",
       "      <th>2</th>\n",
       "      <td>1713319200000000</td>\n",
       "      <td>2024-04-17</td>\n",
       "      <td>2024-04-17 02:00:00</td>\n",
       "      <td>2.9</td>\n",
       "      <td>88</td>\n",
       "      <td>0.0</td>\n",
       "      <td>0.0</td>\n",
       "      <td>0.0</td>\n",
       "      <td>3</td>\n",
       "      <td>97</td>\n",
       "      <td>2.5</td>\n",
       "      <td>6.5</td>\n",
       "    </tr>\n",
       "    <tr>\n",
       "      <th>3</th>\n",
       "      <td>1713322800000000</td>\n",
       "      <td>2024-04-17</td>\n",
       "      <td>2024-04-17 03:00:00</td>\n",
       "      <td>2.5</td>\n",
       "      <td>89</td>\n",
       "      <td>0.0</td>\n",
       "      <td>0.0</td>\n",
       "      <td>0.0</td>\n",
       "      <td>3</td>\n",
       "      <td>95</td>\n",
       "      <td>2.2</td>\n",
       "      <td>4.7</td>\n",
       "    </tr>\n",
       "    <tr>\n",
       "      <th>4</th>\n",
       "      <td>1713326400000000</td>\n",
       "      <td>2024-04-17</td>\n",
       "      <td>2024-04-17 04:00:00</td>\n",
       "      <td>2.2</td>\n",
       "      <td>91</td>\n",
       "      <td>0.0</td>\n",
       "      <td>0.0</td>\n",
       "      <td>0.0</td>\n",
       "      <td>3</td>\n",
       "      <td>95</td>\n",
       "      <td>1.8</td>\n",
       "      <td>3.6</td>\n",
       "    </tr>\n",
       "  </tbody>\n",
       "</table>\n",
       "</div>"
      ],
      "text/plain": [
       "          timestamp        date                time  temperature_2m  \\\n",
       "0  1713312000000000  2024-04-17 2024-04-17 00:00:00             3.8   \n",
       "1  1713315600000000  2024-04-17 2024-04-17 01:00:00             3.4   \n",
       "2  1713319200000000  2024-04-17 2024-04-17 02:00:00             2.9   \n",
       "3  1713322800000000  2024-04-17 2024-04-17 03:00:00             2.5   \n",
       "4  1713326400000000  2024-04-17 2024-04-17 04:00:00             2.2   \n",
       "\n",
       "   relative_humidity_2m  precipitation  rain  snowfall  weather_code  \\\n",
       "0                    84            0.0   0.0       0.0             2   \n",
       "1                    85            0.0   0.0       0.0             3   \n",
       "2                    88            0.0   0.0       0.0             3   \n",
       "3                    89            0.0   0.0       0.0             3   \n",
       "4                    91            0.0   0.0       0.0             3   \n",
       "\n",
       "   cloud_cover  wind_speed_10m  wind_gusts_10m  \n",
       "0           76             5.8             9.0  \n",
       "1           93             3.2             8.3  \n",
       "2           97             2.5             6.5  \n",
       "3           95             2.2             4.7  \n",
       "4           95             1.8             3.6  "
      ]
     },
     "execution_count": 18,
     "metadata": {},
     "output_type": "execute_result"
    }
   ],
   "source": [
    "# Display the first 5 rows of the dataframe\n",
    "weather_forecast_df.head()"
   ]
  },
  {
   "cell_type": "code",
   "execution_count": null,
   "metadata": {},
   "outputs": [],
   "source": [
    "# Showing the information for the weather dataframe\n",
    "weather_forecast_df.info()"
   ]
  },
  {
   "cell_type": "markdown",
   "metadata": {},
   "source": [
    "### <span style=\"color:#2656a3;\"> 🗓️ Calendar of Danish workdays and holidays "
   ]
  },
  {
   "cell_type": "code",
   "execution_count": null,
   "metadata": {},
   "outputs": [],
   "source": [
    "# Read csv file with calender\n",
    "calender_df = pd.read_csv('https://raw.githubusercontent.com/Camillahannesbo/MLOPs-Assignment-/main/data/calendar_incl_holiday.csv', delimiter=';', usecols=['date', 'type'])\n",
    " \n",
    "# Display the DataFrame\n",
    "calender_df.head()"
   ]
  },
  {
   "cell_type": "code",
   "execution_count": null,
   "metadata": {},
   "outputs": [],
   "source": [
    "# Formatting the date column to 'YYYY-MM-DD' dateformat\n",
    "calender_df[\"date\"] = calender_df[\"date\"].map(lambda x: datetime.strptime(x, '%d/%m/%Y').strftime(\"%Y-%m-%d\"))"
   ]
  },
  {
   "cell_type": "code",
   "execution_count": null,
   "metadata": {},
   "outputs": [],
   "source": [
    "# Display the first 5 rows of the dataframe\n",
    "calender_df.head()"
   ]
  },
  {
   "cell_type": "code",
   "execution_count": null,
   "metadata": {},
   "outputs": [],
   "source": [
    "# Showing the information for the calender dataframe\n",
    "calender_df.info()"
   ]
  },
  {
   "cell_type": "markdown",
   "metadata": {},
   "source": [
    "## <span style=\"color:#2656a3;\"> 📡 Connecting to Hopsworks Feature Store\n",
    "\n",
    "First we will connect to Hopsworks Feature Store so we can access and create Feature Groups.\n",
    "Feature groups can also be used to define a namespace for features. For instance, in a real-life setting you would likely want to experiment with different window lengths. In that case, you can create feature groups with identical schema for each window length. \n",
    "\n",
    "Before you can create a feature group you need to connect to our feature store."
   ]
  },
  {
   "cell_type": "code",
   "execution_count": null,
   "metadata": {},
   "outputs": [],
   "source": [
    "import hopsworks\n",
    "\n",
    "project = hopsworks.login()\n",
    "\n",
    "fs = project.get_feature_store()"
   ]
  },
  {
   "cell_type": "markdown",
   "metadata": {},
   "source": [
    "### <span style=\"color:#2656a3;\"> 🪄 Creating Feature Groups\n",
    "\n",
    "When creating a feature group, you must name it and designate a primary key. Additionally, it's helpful to include a description of the feature group's contents and a version number; if not defined, it will default to `1`. \n",
    "\n",
    "We've configured `online_enabled` as `True` to enable the feature group to be read via the Online API for a Feature View."
   ]
  },
  {
   "cell_type": "code",
   "execution_count": null,
   "metadata": {},
   "outputs": [],
   "source": [
    "# Creating the feature group for the weater data\n",
    "weather_fg = fs.get_or_create_feature_group(\n",
    "    name=\"weather_measurements\",\n",
    "    version=1,\n",
    "    description=\"Weather measurements from Open Meteo API\",\n",
    "    primary_key=[\"date\"],\n",
    "    event_time=\"timestamp\",\n",
    "    online_enabled=True,\n",
    ")"
   ]
  },
  {
   "cell_type": "markdown",
   "metadata": {},
   "source": [
    "By now, you've only outlined metadata for the feature group. There's no data stored, nor is there a defined schema for it. To establish persistence for the feature group, you'll need to populate it with its associated data using the `insert` function"
   ]
  },
  {
   "cell_type": "code",
   "execution_count": null,
   "metadata": {},
   "outputs": [],
   "source": [
    "# Inserting the weather_df into the feature group named weather_fg\n",
    "weather_fg.insert(historical_weather_df)"
   ]
  },
  {
   "cell_type": "markdown",
   "metadata": {},
   "source": [
    "We make a descriptions for each feature we put into the feature group. In this way we are adding more information and documentation to the user"
   ]
  },
  {
   "cell_type": "code",
   "execution_count": null,
   "metadata": {},
   "outputs": [],
   "source": [
    "weather_feature_descriptions = [\n",
    "    {\"name\": \"timestamp\", \"description\": \"Timestamp for the event_time\"},\n",
    "    {\"name\": \"date\", \"description\": \"Date of the weather measurement\"},\n",
    "    {\"name\": \"time\", \"description\": \"Time of the weather measurement\"},\n",
    "    {\"name\": \"temperature_2m\", \"description\": \"Temperature at 2m above ground\"},\n",
    "    {\"name\": \"relative_humidity_2m\", \"description\": \"Relative humidity at 2m above ground\"},\n",
    "    {\"name\": \"precipitation\", \"description\": \"Precipitation\"},\n",
    "    {\"name\": \"rain\", \"description\": \"Rain\"},\n",
    "    {\"name\": \"snowfall\", \"description\": \"Snowfall\"},   \n",
    "    {\"name\": \"weather_code\", \"description\": \"Weather code\"},   \n",
    "    {\"name\": \"cloud_cover\", \"description\": \"Cloud cover\"},   \n",
    "    {\"name\": \"wind_speed_10m\", \"description\": \"Wind speed at 10m above ground\"},   \n",
    "    {\"name\": \"wind_gusts_10m\", \"description\": \"Wind gusts at 10m above ground\"},   \n",
    "]\n",
    "\n",
    "for desc in weather_feature_descriptions: \n",
    "    weather_fg.update_feature_description(desc[\"name\"], desc[\"description\"])"
   ]
  },
  {
   "cell_type": "markdown",
   "metadata": {},
   "source": [
    "We replicate the process for both the `electricity_fg`, `forecast_renewable_energy_fg` and `danish_holidays_fg` by establishing feature groups and inserting the dataframes into their respective feature groups."
   ]
  },
  {
   "cell_type": "code",
   "execution_count": null,
   "metadata": {},
   "outputs": [],
   "source": [
    "# Creating the feature group for the electricity prices\n",
    "electricity_fg = fs.get_or_create_feature_group(\n",
    "    name=\"electricity_prices\",\n",
    "    version=1,\n",
    "    description=\"Electricity prices from Energidata API\",\n",
    "    primary_key=[\"date\"],\n",
    "    online_enabled=True,\n",
    "    event_time=\"timestamp\",\n",
    ")"
   ]
  },
  {
   "cell_type": "code",
   "execution_count": null,
   "metadata": {},
   "outputs": [],
   "source": [
    "# Inserting the electricity_df into the feature group named electricity_fg\n",
    "electricity_fg.insert(electricity_df)"
   ]
  },
  {
   "cell_type": "code",
   "execution_count": null,
   "metadata": {},
   "outputs": [],
   "source": [
    "electricity_feature_descriptions = [\n",
    "    {\"name\": \"timestamp\", \"description\": \"Timestamp for the event_time\"},\n",
    "    {\"name\": \"date\", \"description\": \"Date of the electricity measurement\"},\n",
    "    {\"name\": \"time\", \"description\": \"Time of the electricity measurement\"},\n",
    "    {\"name\": \"pricearea\", \"description\": \"Price area for the electricity measurement\"},\n",
    "    {\"name\": \"spotpricedkk_kwh\", \"description\": \"Spot price in DKK per KWH\"}, \n",
    "]\n",
    "\n",
    "for desc in electricity_feature_descriptions: \n",
    "    electricity_fg.update_feature_description(desc[\"name\"], desc[\"description\"])"
   ]
  },
  {
   "cell_type": "code",
   "execution_count": null,
   "metadata": {},
   "outputs": [],
   "source": [
    "# Creating the feature group for the electricity prices\n",
    "forecast_renewable_energy_fg = fs.get_or_create_feature_group(\n",
    "    name=\"forecast_renewable_energy\",\n",
    "    version=1,\n",
    "    description=\"Forecast on Renewable Energy on ForecastType from Energidata API\",\n",
    "    primary_key=[\"date\"],\n",
    "    online_enabled=True,\n",
    "    event_time=\"timestamp\",\n",
    ")"
   ]
  },
  {
   "cell_type": "code",
   "execution_count": null,
   "metadata": {},
   "outputs": [],
   "source": [
    "# Inserting the electricity_df into the feature group named electricity_fg\n",
    "forecast_renewable_energy_fg.insert(forecast_renewable_energy_df)"
   ]
  },
  {
   "cell_type": "code",
   "execution_count": null,
   "metadata": {},
   "outputs": [],
   "source": [
    "forecast_renewable_energy_feature_descriptions = [\n",
    "    {\"name\": \"timestamp\", \"description\": \"Timestamp for the event_time\"},\n",
    "    {\"name\": \"date\", \"description\": \"Date\"},\n",
    "    {\"name\": \"time\", \"description\": \"Time for the event_time\"},\n",
    "    {\"name\": \"pricearea\", \"description\": \"PriceArea (Same as bidding zone) in Denmark\"},\n",
    "    {\"name\": \"forecasttype\", \"description\": \"Forecast Type such as Solar, Offshore Wind or Onshore wind\"},\n",
    "    {\"name\": \"forecastdayahead\", \"description\": \"Forecast for the next day is published at 18:00 Danish time zone.\"},\n",
    "    {\"name\": \"forecastintraday\", \"description\": \"The forecast for the coming day at 6am Danish time zone\"},\n",
    "    {\"name\": \"forecastcurrent\", \"description\": \"The forecast valid for the current time\"},\n",
    "]\n",
    "\n",
    "for desc in forecast_renewable_energy_feature_descriptions: \n",
    "    forecast_renewable_energy_fg.update_feature_description(desc[\"name\"], desc[\"description\"])"
   ]
  },
  {
   "cell_type": "code",
   "execution_count": null,
   "metadata": {},
   "outputs": [],
   "source": [
    "# Creating the feature group for the danish holidays\n",
    "danish_holidays_fg = fs.get_or_create_feature_group(\n",
    "    name=\"danish_holidays\",\n",
    "    version=1,\n",
    "    description=\"Danish holidays calendar.\",\n",
    "    online_enabled=True,\n",
    "    primary_key=[\"date\"],\n",
    ")"
   ]
  },
  {
   "cell_type": "code",
   "execution_count": null,
   "metadata": {},
   "outputs": [],
   "source": [
    "# Inserting the calender_df into the feature group named danish_holidays_fg\n",
    "danish_holidays_fg.insert(calender_df)"
   ]
  },
  {
   "cell_type": "code",
   "execution_count": null,
   "metadata": {},
   "outputs": [],
   "source": [
    "danish_holidays_feature_descriptions = [\n",
    "    {\"name\": \"date\", \"description\": \"Date in the calendar\"},\n",
    "    {\"name\": \"type\", \"description\": \"Holyday or not holyday\"},\n",
    "]\n",
    "\n",
    "for desc in danish_holidays_feature_descriptions: \n",
    "    danish_holidays_fg.update_feature_description(desc[\"name\"], desc[\"description\"])"
   ]
  },
  {
   "cell_type": "markdown",
   "metadata": {},
   "source": [
    "---\n",
    "## <span style=\"color:#2656a3;\">⏭️ **Next:** Part 02: Feature Pipeline </span>\n",
    "\n",
    "In the next notebook, you will be generating new data for the Feature Groups."
   ]
  }
 ],
 "metadata": {
  "kernelspec": {
   "display_name": "bds-streamlit",
   "language": "python",
   "name": "python3"
  },
  "language_info": {
   "codemirror_mode": {
    "name": "ipython",
    "version": 3
   },
   "file_extension": ".py",
   "mimetype": "text/x-python",
   "name": "python",
   "nbconvert_exporter": "python",
   "pygments_lexer": "ipython3",
   "version": "3.11.8"
  }
 },
 "nbformat": 4,
 "nbformat_minor": 2
}
