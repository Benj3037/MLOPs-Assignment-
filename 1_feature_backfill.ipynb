{
 "cells": [
  {
   "cell_type": "markdown",
   "metadata": {},
   "source": [
    "# <span style=\"font-width:bold; font-size: 3rem; color:#2656a3;\">**Data Engineering and Machine Learning Operations in Business** </span> <span style=\"font-width:bold; font-size: 3rem; color:#333;\">- Part 01: Feature Backfill</span>\n",
    "\n",
    "## 🗒️ This notebook is divided in 3 sections:\n",
    "1. Load the data and process features.\n",
    "2. Connect to the Hopsworks feature store.\n",
    "3. Create feature groups and upload them to the feature store."
   ]
  },
  {
   "cell_type": "markdown",
   "metadata": {},
   "source": [
    "## <span style='color:#2656a3'> ⚙️ Import of libraries and packages"
   ]
  },
  {
   "cell_type": "code",
   "execution_count": 1,
   "metadata": {},
   "outputs": [],
   "source": [
    "# Install of the packages for hopsworks\n",
    "# !pip install -U hopsworks --quiet"
   ]
  },
  {
   "cell_type": "code",
   "execution_count": 1,
   "metadata": {},
   "outputs": [
    {
     "name": "stderr",
     "output_type": "stream",
     "text": [
      "c:\\Users\\Benj3\\anaconda3\\envs\\bds-streamlit\\Lib\\site-packages\\tqdm\\auto.py:21: TqdmWarning: IProgress not found. Please update jupyter and ipywidgets. See https://ipywidgets.readthedocs.io/en/stable/user_install.html\n",
      "  from .autonotebook import tqdm as notebook_tqdm\n"
     ]
    }
   ],
   "source": [
    "# Importing of the packages for the needed libraries for the Jupyter notebook\n",
    "import pandas as pd\n",
    "import requests\n",
    "import hopsworks\n",
    "import os\n",
    "\n",
    "# Ignore warnings\n",
    "import warnings \n",
    "warnings.filterwarnings('ignore')"
   ]
  },
  {
   "cell_type": "markdown",
   "metadata": {},
   "source": [
    "## <span style=\"color:#2656a3;\"> 💽 Load the historical data\n",
    "\n",
    "The data you will use comes from three different sources:\n",
    "\n",
    "- Electricity prices in Denmark per day from [Energinet](https://www.energidataservice.dk).\n",
    "- Different meteorological observations from [Open meteo](https://www.open-meteo.com)."
   ]
  },
  {
   "cell_type": "markdown",
   "metadata": {},
   "source": [
    "### <span style=\"color:#2656a3;\">💸 Electricity prices per day from Energinet\n",
    "*Hvis vi skal have tariffer med i modellen, anbefales det at vi sætter en faktor på 0.2 i tidsrummet 22 - 16 og en faktor på 0.6 eller 0.7 i tidsrummet 17 - 21.*"
   ]
  },
  {
   "cell_type": "code",
   "execution_count": 2,
   "metadata": {},
   "outputs": [],
   "source": [
    "# Defining the URL for the API call to the electricity price data\n",
    "electricity_api_url = ('https://api.energidataservice.dk/dataset/Elspotprices?offset=0&start=2022-01-01T00:00&end=2023-12-31T23:59&filter=%7B%22PriceArea%22:[%22DK1%22]%7D&sort=HourUTC%20DESC')"
   ]
  },
  {
   "cell_type": "code",
   "execution_count": 3,
   "metadata": {},
   "outputs": [],
   "source": [
    "# Fetch data from the API and make the output to a pandas dataframe\n",
    "electricity_data = requests.get(electricity_api_url).json()\n",
    "electricity_df = pd.DataFrame(electricity_data['records'])"
   ]
  },
  {
   "cell_type": "code",
   "execution_count": 4,
   "metadata": {},
   "outputs": [
    {
     "data": {
      "text/html": [
       "<div>\n",
       "<style scoped>\n",
       "    .dataframe tbody tr th:only-of-type {\n",
       "        vertical-align: middle;\n",
       "    }\n",
       "\n",
       "    .dataframe tbody tr th {\n",
       "        vertical-align: top;\n",
       "    }\n",
       "\n",
       "    .dataframe thead th {\n",
       "        text-align: right;\n",
       "    }\n",
       "</style>\n",
       "<table border=\"1\" class=\"dataframe\">\n",
       "  <thead>\n",
       "    <tr style=\"text-align: right;\">\n",
       "      <th></th>\n",
       "      <th>HourUTC</th>\n",
       "      <th>HourDK</th>\n",
       "      <th>PriceArea</th>\n",
       "      <th>SpotPriceDKK</th>\n",
       "      <th>SpotPriceEUR</th>\n",
       "    </tr>\n",
       "  </thead>\n",
       "  <tbody>\n",
       "    <tr>\n",
       "      <th>0</th>\n",
       "      <td>2023-12-31T22:00:00</td>\n",
       "      <td>2023-12-31T23:00:00</td>\n",
       "      <td>DK1</td>\n",
       "      <td>200.309998</td>\n",
       "      <td>26.870001</td>\n",
       "    </tr>\n",
       "    <tr>\n",
       "      <th>1</th>\n",
       "      <td>2023-12-31T21:00:00</td>\n",
       "      <td>2023-12-31T22:00:00</td>\n",
       "      <td>DK1</td>\n",
       "      <td>213.729996</td>\n",
       "      <td>28.670000</td>\n",
       "    </tr>\n",
       "    <tr>\n",
       "      <th>2</th>\n",
       "      <td>2023-12-31T20:00:00</td>\n",
       "      <td>2023-12-31T21:00:00</td>\n",
       "      <td>DK1</td>\n",
       "      <td>220.660004</td>\n",
       "      <td>29.600000</td>\n",
       "    </tr>\n",
       "    <tr>\n",
       "      <th>3</th>\n",
       "      <td>2023-12-31T19:00:00</td>\n",
       "      <td>2023-12-31T20:00:00</td>\n",
       "      <td>DK1</td>\n",
       "      <td>260.100006</td>\n",
       "      <td>34.889999</td>\n",
       "    </tr>\n",
       "    <tr>\n",
       "      <th>4</th>\n",
       "      <td>2023-12-31T18:00:00</td>\n",
       "      <td>2023-12-31T19:00:00</td>\n",
       "      <td>DK1</td>\n",
       "      <td>295.510010</td>\n",
       "      <td>39.639999</td>\n",
       "    </tr>\n",
       "  </tbody>\n",
       "</table>\n",
       "</div>"
      ],
      "text/plain": [
       "               HourUTC               HourDK PriceArea  SpotPriceDKK  \\\n",
       "0  2023-12-31T22:00:00  2023-12-31T23:00:00       DK1    200.309998   \n",
       "1  2023-12-31T21:00:00  2023-12-31T22:00:00       DK1    213.729996   \n",
       "2  2023-12-31T20:00:00  2023-12-31T21:00:00       DK1    220.660004   \n",
       "3  2023-12-31T19:00:00  2023-12-31T20:00:00       DK1    260.100006   \n",
       "4  2023-12-31T18:00:00  2023-12-31T19:00:00       DK1    295.510010   \n",
       "\n",
       "   SpotPriceEUR  \n",
       "0     26.870001  \n",
       "1     28.670000  \n",
       "2     29.600000  \n",
       "3     34.889999  \n",
       "4     39.639999  "
      ]
     },
     "execution_count": 4,
     "metadata": {},
     "output_type": "execute_result"
    }
   ],
   "source": [
    "# Display the first 5 rows of the dataframe\n",
    "electricity_df.head()"
   ]
  },
  {
   "cell_type": "code",
   "execution_count": 5,
   "metadata": {},
   "outputs": [],
   "source": [
    "# Datapreprocessing by making the spotprice per kwh instead of mwh\n",
    "electricity_df['SpotPriceDKK_KWH'] = electricity_df['SpotPriceDKK'] / 1000"
   ]
  },
  {
   "cell_type": "code",
   "execution_count": 6,
   "metadata": {},
   "outputs": [],
   "source": [
    "# Datacleaning by removing the columns that are not needed\n",
    "electricity_df.drop('SpotPriceDKK', axis=1, inplace=True)\n",
    "electricity_df.drop('SpotPriceEUR', axis=1, inplace=True)\n",
    "electricity_df.drop('HourUTC', axis=1, inplace=True)"
   ]
  },
  {
   "cell_type": "code",
   "execution_count": 7,
   "metadata": {},
   "outputs": [],
   "source": [
    "# Renaming the columns and reformating the time column\n",
    "electricity_df.rename(columns={'HourDK': 'time'}, inplace=True)\n",
    "electricity_df['time'] = electricity_df['time'].astype(str).str[:-3]"
   ]
  },
  {
   "cell_type": "code",
   "execution_count": 8,
   "metadata": {},
   "outputs": [],
   "source": [
    "electricity_df['date'] = electricity_df['time'].str[:10]"
   ]
  },
  {
   "cell_type": "code",
   "execution_count": 9,
   "metadata": {},
   "outputs": [],
   "source": [
    "new_column = electricity_df.pop('date')\n",
    "electricity_df.insert(0, 'date', new_column)"
   ]
  },
  {
   "cell_type": "code",
   "execution_count": 15,
   "metadata": {},
   "outputs": [],
   "source": [
    "# Convert string 'date' column to DATE type\n",
    "electricity_df['date'] = pd.to_datetime(electricity_df['date'], format='%Y-%m-%d').dt.date\n",
    " "
   ]
  },
  {
   "cell_type": "code",
   "execution_count": 16,
   "metadata": {},
   "outputs": [
    {
     "data": {
      "text/html": [
       "<div>\n",
       "<style scoped>\n",
       "    .dataframe tbody tr th:only-of-type {\n",
       "        vertical-align: middle;\n",
       "    }\n",
       "\n",
       "    .dataframe tbody tr th {\n",
       "        vertical-align: top;\n",
       "    }\n",
       "\n",
       "    .dataframe thead th {\n",
       "        text-align: right;\n",
       "    }\n",
       "</style>\n",
       "<table border=\"1\" class=\"dataframe\">\n",
       "  <thead>\n",
       "    <tr style=\"text-align: right;\">\n",
       "      <th></th>\n",
       "      <th>date</th>\n",
       "      <th>time</th>\n",
       "      <th>PriceArea</th>\n",
       "      <th>SpotPriceDKK_KWH</th>\n",
       "    </tr>\n",
       "  </thead>\n",
       "  <tbody>\n",
       "    <tr>\n",
       "      <th>0</th>\n",
       "      <td>2023-12-31</td>\n",
       "      <td>2023-12-31T23:00</td>\n",
       "      <td>DK1</td>\n",
       "      <td>0.20031</td>\n",
       "    </tr>\n",
       "    <tr>\n",
       "      <th>1</th>\n",
       "      <td>2023-12-31</td>\n",
       "      <td>2023-12-31T22:00</td>\n",
       "      <td>DK1</td>\n",
       "      <td>0.21373</td>\n",
       "    </tr>\n",
       "    <tr>\n",
       "      <th>2</th>\n",
       "      <td>2023-12-31</td>\n",
       "      <td>2023-12-31T21:00</td>\n",
       "      <td>DK1</td>\n",
       "      <td>0.22066</td>\n",
       "    </tr>\n",
       "    <tr>\n",
       "      <th>3</th>\n",
       "      <td>2023-12-31</td>\n",
       "      <td>2023-12-31T20:00</td>\n",
       "      <td>DK1</td>\n",
       "      <td>0.26010</td>\n",
       "    </tr>\n",
       "    <tr>\n",
       "      <th>4</th>\n",
       "      <td>2023-12-31</td>\n",
       "      <td>2023-12-31T19:00</td>\n",
       "      <td>DK1</td>\n",
       "      <td>0.29551</td>\n",
       "    </tr>\n",
       "  </tbody>\n",
       "</table>\n",
       "</div>"
      ],
      "text/plain": [
       "         date              time PriceArea  SpotPriceDKK_KWH\n",
       "0  2023-12-31  2023-12-31T23:00       DK1           0.20031\n",
       "1  2023-12-31  2023-12-31T22:00       DK1           0.21373\n",
       "2  2023-12-31  2023-12-31T21:00       DK1           0.22066\n",
       "3  2023-12-31  2023-12-31T20:00       DK1           0.26010\n",
       "4  2023-12-31  2023-12-31T19:00       DK1           0.29551"
      ]
     },
     "execution_count": 16,
     "metadata": {},
     "output_type": "execute_result"
    }
   ],
   "source": [
    "# Display the first 5 rows of the dataframe\n",
    "electricity_df.head()"
   ]
  },
  {
   "cell_type": "code",
   "execution_count": null,
   "metadata": {},
   "outputs": [],
   "source": []
  },
  {
   "cell_type": "markdown",
   "metadata": {},
   "source": [
    "### <span style=\"color:#2656a3;\"> 🌤 Meteorological measurements from Open Meteo\n",
    "\n",
    "Burde have enddate 2023-12-31. url = (\"https://archive-api.open-meteo.com/v1/archive?latitude=57.048&longitude=9.9187&start_date=2022-01-01&end_date=2023-12-31&hourly=temperature_2m,relative_humidity_2m,precipitation,rain,snowfall,weather_code,cloud_cover,wind_speed_10m,wind_gusts_10m\")"
   ]
  },
  {
   "cell_type": "code",
   "execution_count": 17,
   "metadata": {},
   "outputs": [],
   "source": [
    "# Defining the URL for the API call to the weather data   \n",
    "weather_api_url = (\"https://archive-api.open-meteo.com/v1/archive?latitude=57.048&longitude=9.9187&start_date=2022-01-01&end_date=2023-12-31&hourly=temperature_2m,relative_humidity_2m,precipitation,rain,snowfall,weather_code,cloud_cover,wind_speed_10m,wind_gusts_10m\")"
   ]
  },
  {
   "cell_type": "code",
   "execution_count": 18,
   "metadata": {},
   "outputs": [],
   "source": [
    "# Fetch data from the API and make the output to a pandas dataframe\n",
    "weather_data = requests.get(weather_api_url).json()\n",
    "weather_df = pd.DataFrame(weather_data['hourly'])"
   ]
  },
  {
   "cell_type": "code",
   "execution_count": 19,
   "metadata": {},
   "outputs": [],
   "source": [
    "weather_df['date'] = weather_df['time'].str[:10]"
   ]
  },
  {
   "cell_type": "code",
   "execution_count": 20,
   "metadata": {},
   "outputs": [],
   "source": [
    "new_column = weather_df.pop('date')\n",
    "weather_df.insert(0, 'date', new_column)"
   ]
  },
  {
   "cell_type": "code",
   "execution_count": 21,
   "metadata": {},
   "outputs": [],
   "source": [
    "# Convert string 'date' column to DATE type\n",
    "weather_df['date'] = pd.to_datetime(weather_df['date'], format='%Y-%m-%d').dt.date"
   ]
  },
  {
   "cell_type": "code",
   "execution_count": 22,
   "metadata": {},
   "outputs": [
    {
     "data": {
      "text/html": [
       "<div>\n",
       "<style scoped>\n",
       "    .dataframe tbody tr th:only-of-type {\n",
       "        vertical-align: middle;\n",
       "    }\n",
       "\n",
       "    .dataframe tbody tr th {\n",
       "        vertical-align: top;\n",
       "    }\n",
       "\n",
       "    .dataframe thead th {\n",
       "        text-align: right;\n",
       "    }\n",
       "</style>\n",
       "<table border=\"1\" class=\"dataframe\">\n",
       "  <thead>\n",
       "    <tr style=\"text-align: right;\">\n",
       "      <th></th>\n",
       "      <th>date</th>\n",
       "      <th>time</th>\n",
       "      <th>temperature_2m</th>\n",
       "      <th>relative_humidity_2m</th>\n",
       "      <th>precipitation</th>\n",
       "      <th>rain</th>\n",
       "      <th>snowfall</th>\n",
       "      <th>weather_code</th>\n",
       "      <th>cloud_cover</th>\n",
       "      <th>wind_speed_10m</th>\n",
       "      <th>wind_gusts_10m</th>\n",
       "    </tr>\n",
       "  </thead>\n",
       "  <tbody>\n",
       "    <tr>\n",
       "      <th>0</th>\n",
       "      <td>2022-01-01</td>\n",
       "      <td>2022-01-01T00:00</td>\n",
       "      <td>6.7</td>\n",
       "      <td>100</td>\n",
       "      <td>0.0</td>\n",
       "      <td>0.0</td>\n",
       "      <td>0.0</td>\n",
       "      <td>3</td>\n",
       "      <td>100</td>\n",
       "      <td>16.2</td>\n",
       "      <td>36.0</td>\n",
       "    </tr>\n",
       "    <tr>\n",
       "      <th>1</th>\n",
       "      <td>2022-01-01</td>\n",
       "      <td>2022-01-01T01:00</td>\n",
       "      <td>6.6</td>\n",
       "      <td>100</td>\n",
       "      <td>0.0</td>\n",
       "      <td>0.0</td>\n",
       "      <td>0.0</td>\n",
       "      <td>3</td>\n",
       "      <td>100</td>\n",
       "      <td>16.2</td>\n",
       "      <td>30.2</td>\n",
       "    </tr>\n",
       "    <tr>\n",
       "      <th>2</th>\n",
       "      <td>2022-01-01</td>\n",
       "      <td>2022-01-01T02:00</td>\n",
       "      <td>6.7</td>\n",
       "      <td>99</td>\n",
       "      <td>0.0</td>\n",
       "      <td>0.0</td>\n",
       "      <td>0.0</td>\n",
       "      <td>3</td>\n",
       "      <td>100</td>\n",
       "      <td>15.5</td>\n",
       "      <td>30.6</td>\n",
       "    </tr>\n",
       "    <tr>\n",
       "      <th>3</th>\n",
       "      <td>2022-01-01</td>\n",
       "      <td>2022-01-01T03:00</td>\n",
       "      <td>6.7</td>\n",
       "      <td>100</td>\n",
       "      <td>0.0</td>\n",
       "      <td>0.0</td>\n",
       "      <td>0.0</td>\n",
       "      <td>3</td>\n",
       "      <td>100</td>\n",
       "      <td>12.7</td>\n",
       "      <td>28.8</td>\n",
       "    </tr>\n",
       "    <tr>\n",
       "      <th>4</th>\n",
       "      <td>2022-01-01</td>\n",
       "      <td>2022-01-01T04:00</td>\n",
       "      <td>6.7</td>\n",
       "      <td>99</td>\n",
       "      <td>0.0</td>\n",
       "      <td>0.0</td>\n",
       "      <td>0.0</td>\n",
       "      <td>3</td>\n",
       "      <td>100</td>\n",
       "      <td>10.6</td>\n",
       "      <td>23.8</td>\n",
       "    </tr>\n",
       "  </tbody>\n",
       "</table>\n",
       "</div>"
      ],
      "text/plain": [
       "         date              time  temperature_2m  relative_humidity_2m  \\\n",
       "0  2022-01-01  2022-01-01T00:00             6.7                   100   \n",
       "1  2022-01-01  2022-01-01T01:00             6.6                   100   \n",
       "2  2022-01-01  2022-01-01T02:00             6.7                    99   \n",
       "3  2022-01-01  2022-01-01T03:00             6.7                   100   \n",
       "4  2022-01-01  2022-01-01T04:00             6.7                    99   \n",
       "\n",
       "   precipitation  rain  snowfall  weather_code  cloud_cover  wind_speed_10m  \\\n",
       "0            0.0   0.0       0.0             3          100            16.2   \n",
       "1            0.0   0.0       0.0             3          100            16.2   \n",
       "2            0.0   0.0       0.0             3          100            15.5   \n",
       "3            0.0   0.0       0.0             3          100            12.7   \n",
       "4            0.0   0.0       0.0             3          100            10.6   \n",
       "\n",
       "   wind_gusts_10m  \n",
       "0            36.0  \n",
       "1            30.2  \n",
       "2            30.6  \n",
       "3            28.8  \n",
       "4            23.8  "
      ]
     },
     "execution_count": 22,
     "metadata": {},
     "output_type": "execute_result"
    }
   ],
   "source": [
    "# Display the first 5 rows of the dataframe\n",
    "weather_df.head()"
   ]
  },
  {
   "cell_type": "markdown",
   "metadata": {},
   "source": [
    "### Calendar of Danish workdays and holidays "
   ]
  },
  {
   "cell_type": "code",
   "execution_count": 23,
   "metadata": {},
   "outputs": [
    {
     "data": {
      "text/html": [
       "<div>\n",
       "<style scoped>\n",
       "    .dataframe tbody tr th:only-of-type {\n",
       "        vertical-align: middle;\n",
       "    }\n",
       "\n",
       "    .dataframe tbody tr th {\n",
       "        vertical-align: top;\n",
       "    }\n",
       "\n",
       "    .dataframe thead th {\n",
       "        text-align: right;\n",
       "    }\n",
       "</style>\n",
       "<table border=\"1\" class=\"dataframe\">\n",
       "  <thead>\n",
       "    <tr style=\"text-align: right;\">\n",
       "      <th></th>\n",
       "      <th>date</th>\n",
       "      <th>type</th>\n",
       "    </tr>\n",
       "  </thead>\n",
       "  <tbody>\n",
       "    <tr>\n",
       "      <th>0</th>\n",
       "      <td>01/01/2022</td>\n",
       "      <td>Not a Workday</td>\n",
       "    </tr>\n",
       "    <tr>\n",
       "      <th>1</th>\n",
       "      <td>02/01/2022</td>\n",
       "      <td>Not a Workday</td>\n",
       "    </tr>\n",
       "    <tr>\n",
       "      <th>2</th>\n",
       "      <td>03/01/2022</td>\n",
       "      <td>Workday</td>\n",
       "    </tr>\n",
       "    <tr>\n",
       "      <th>3</th>\n",
       "      <td>04/01/2022</td>\n",
       "      <td>Workday</td>\n",
       "    </tr>\n",
       "    <tr>\n",
       "      <th>4</th>\n",
       "      <td>05/01/2022</td>\n",
       "      <td>Workday</td>\n",
       "    </tr>\n",
       "    <tr>\n",
       "      <th>...</th>\n",
       "      <td>...</td>\n",
       "      <td>...</td>\n",
       "    </tr>\n",
       "    <tr>\n",
       "      <th>1091</th>\n",
       "      <td>27/12/2024</td>\n",
       "      <td>Workday</td>\n",
       "    </tr>\n",
       "    <tr>\n",
       "      <th>1092</th>\n",
       "      <td>28/12/2024</td>\n",
       "      <td>Not a Workday</td>\n",
       "    </tr>\n",
       "    <tr>\n",
       "      <th>1093</th>\n",
       "      <td>29/12/2024</td>\n",
       "      <td>Not a Workday</td>\n",
       "    </tr>\n",
       "    <tr>\n",
       "      <th>1094</th>\n",
       "      <td>30/12/2024</td>\n",
       "      <td>Workday</td>\n",
       "    </tr>\n",
       "    <tr>\n",
       "      <th>1095</th>\n",
       "      <td>31/12/2024</td>\n",
       "      <td>Workday</td>\n",
       "    </tr>\n",
       "  </tbody>\n",
       "</table>\n",
       "<p>1096 rows × 2 columns</p>\n",
       "</div>"
      ],
      "text/plain": [
       "            date           type\n",
       "0     01/01/2022  Not a Workday\n",
       "1     02/01/2022  Not a Workday\n",
       "2     03/01/2022        Workday\n",
       "3     04/01/2022        Workday\n",
       "4     05/01/2022        Workday\n",
       "...          ...            ...\n",
       "1091  27/12/2024        Workday\n",
       "1092  28/12/2024  Not a Workday\n",
       "1093  29/12/2024  Not a Workday\n",
       "1094  30/12/2024        Workday\n",
       "1095  31/12/2024        Workday\n",
       "\n",
       "[1096 rows x 2 columns]"
      ]
     },
     "execution_count": 23,
     "metadata": {},
     "output_type": "execute_result"
    }
   ],
   "source": [
    "# Read csv file with calender\n",
    "calender_df = pd.read_csv('Data/calendar_incl_holiday.csv', delimiter=';', usecols=['date', 'type'])\n",
    " \n",
    "# Display the DataFrame\n",
    "calender_df"
   ]
  },
  {
   "cell_type": "code",
   "execution_count": 24,
   "metadata": {},
   "outputs": [
    {
     "data": {
      "text/html": [
       "<div>\n",
       "<style scoped>\n",
       "    .dataframe tbody tr th:only-of-type {\n",
       "        vertical-align: middle;\n",
       "    }\n",
       "\n",
       "    .dataframe tbody tr th {\n",
       "        vertical-align: top;\n",
       "    }\n",
       "\n",
       "    .dataframe thead th {\n",
       "        text-align: right;\n",
       "    }\n",
       "</style>\n",
       "<table border=\"1\" class=\"dataframe\">\n",
       "  <thead>\n",
       "    <tr style=\"text-align: right;\">\n",
       "      <th></th>\n",
       "      <th>date</th>\n",
       "      <th>type</th>\n",
       "    </tr>\n",
       "  </thead>\n",
       "  <tbody>\n",
       "    <tr>\n",
       "      <th>0</th>\n",
       "      <td>01-01-2022</td>\n",
       "      <td>Not a Workday</td>\n",
       "    </tr>\n",
       "    <tr>\n",
       "      <th>1</th>\n",
       "      <td>02-01-2022</td>\n",
       "      <td>Not a Workday</td>\n",
       "    </tr>\n",
       "    <tr>\n",
       "      <th>2</th>\n",
       "      <td>03-01-2022</td>\n",
       "      <td>Workday</td>\n",
       "    </tr>\n",
       "    <tr>\n",
       "      <th>3</th>\n",
       "      <td>04-01-2022</td>\n",
       "      <td>Workday</td>\n",
       "    </tr>\n",
       "    <tr>\n",
       "      <th>4</th>\n",
       "      <td>05-01-2022</td>\n",
       "      <td>Workday</td>\n",
       "    </tr>\n",
       "    <tr>\n",
       "      <th>...</th>\n",
       "      <td>...</td>\n",
       "      <td>...</td>\n",
       "    </tr>\n",
       "    <tr>\n",
       "      <th>1091</th>\n",
       "      <td>27-12-2024</td>\n",
       "      <td>Workday</td>\n",
       "    </tr>\n",
       "    <tr>\n",
       "      <th>1092</th>\n",
       "      <td>28-12-2024</td>\n",
       "      <td>Not a Workday</td>\n",
       "    </tr>\n",
       "    <tr>\n",
       "      <th>1093</th>\n",
       "      <td>29-12-2024</td>\n",
       "      <td>Not a Workday</td>\n",
       "    </tr>\n",
       "    <tr>\n",
       "      <th>1094</th>\n",
       "      <td>30-12-2024</td>\n",
       "      <td>Workday</td>\n",
       "    </tr>\n",
       "    <tr>\n",
       "      <th>1095</th>\n",
       "      <td>31-12-2024</td>\n",
       "      <td>Workday</td>\n",
       "    </tr>\n",
       "  </tbody>\n",
       "</table>\n",
       "<p>1096 rows × 2 columns</p>\n",
       "</div>"
      ],
      "text/plain": [
       "            date           type\n",
       "0     01-01-2022  Not a Workday\n",
       "1     02-01-2022  Not a Workday\n",
       "2     03-01-2022        Workday\n",
       "3     04-01-2022        Workday\n",
       "4     05-01-2022        Workday\n",
       "...          ...            ...\n",
       "1091  27-12-2024        Workday\n",
       "1092  28-12-2024  Not a Workday\n",
       "1093  29-12-2024  Not a Workday\n",
       "1094  30-12-2024        Workday\n",
       "1095  31-12-2024        Workday\n",
       "\n",
       "[1096 rows x 2 columns]"
      ]
     },
     "execution_count": 24,
     "metadata": {},
     "output_type": "execute_result"
    }
   ],
   "source": [
    "calender_df['date'] = calender_df['date'].str.replace('/', '-')\n",
    "calender_df"
   ]
  },
  {
   "cell_type": "code",
   "execution_count": 33,
   "metadata": {},
   "outputs": [],
   "source": [
    "# flip the date to the left for the date column\n",
    "def flip_dates_left_in_column(column):\n",
    "    flipped_column = [flip_date_left(date) for date in column]\n",
    "    return flipped_column"
   ]
  },
  {
   "cell_type": "code",
   "execution_count": 29,
   "metadata": {},
   "outputs": [],
   "source": [
    "# flip the date to the left\n",
    "def flip_date_left(date):\n",
    "    parts = date.split(\"-\")  # Assuming the date format is \"YYYY-MM-DD\"\n",
    "    flipped_date = \"-\".join(parts[::-1])\n",
    "    return flipped_date"
   ]
  },
  {
   "cell_type": "code",
   "execution_count": 30,
   "metadata": {},
   "outputs": [],
   "source": [
    "flipped_dates_column = flip_dates_left_in_column(calender_df['date'])"
   ]
  },
  {
   "cell_type": "code",
   "execution_count": 31,
   "metadata": {},
   "outputs": [],
   "source": [
    "calender_df['date'] = flipped_dates_column"
   ]
  },
  {
   "cell_type": "code",
   "execution_count": 35,
   "metadata": {},
   "outputs": [
    {
     "data": {
      "text/html": [
       "<div>\n",
       "<style scoped>\n",
       "    .dataframe tbody tr th:only-of-type {\n",
       "        vertical-align: middle;\n",
       "    }\n",
       "\n",
       "    .dataframe tbody tr th {\n",
       "        vertical-align: top;\n",
       "    }\n",
       "\n",
       "    .dataframe thead th {\n",
       "        text-align: right;\n",
       "    }\n",
       "</style>\n",
       "<table border=\"1\" class=\"dataframe\">\n",
       "  <thead>\n",
       "    <tr style=\"text-align: right;\">\n",
       "      <th></th>\n",
       "      <th>date</th>\n",
       "      <th>type</th>\n",
       "    </tr>\n",
       "  </thead>\n",
       "  <tbody>\n",
       "    <tr>\n",
       "      <th>0</th>\n",
       "      <td>2022-01-01</td>\n",
       "      <td>Not a Workday</td>\n",
       "    </tr>\n",
       "    <tr>\n",
       "      <th>1</th>\n",
       "      <td>2022-01-02</td>\n",
       "      <td>Not a Workday</td>\n",
       "    </tr>\n",
       "    <tr>\n",
       "      <th>2</th>\n",
       "      <td>2022-01-03</td>\n",
       "      <td>Workday</td>\n",
       "    </tr>\n",
       "    <tr>\n",
       "      <th>3</th>\n",
       "      <td>2022-01-04</td>\n",
       "      <td>Workday</td>\n",
       "    </tr>\n",
       "    <tr>\n",
       "      <th>4</th>\n",
       "      <td>2022-01-05</td>\n",
       "      <td>Workday</td>\n",
       "    </tr>\n",
       "    <tr>\n",
       "      <th>...</th>\n",
       "      <td>...</td>\n",
       "      <td>...</td>\n",
       "    </tr>\n",
       "    <tr>\n",
       "      <th>1091</th>\n",
       "      <td>2024-12-27</td>\n",
       "      <td>Workday</td>\n",
       "    </tr>\n",
       "    <tr>\n",
       "      <th>1092</th>\n",
       "      <td>2024-12-28</td>\n",
       "      <td>Not a Workday</td>\n",
       "    </tr>\n",
       "    <tr>\n",
       "      <th>1093</th>\n",
       "      <td>2024-12-29</td>\n",
       "      <td>Not a Workday</td>\n",
       "    </tr>\n",
       "    <tr>\n",
       "      <th>1094</th>\n",
       "      <td>2024-12-30</td>\n",
       "      <td>Workday</td>\n",
       "    </tr>\n",
       "    <tr>\n",
       "      <th>1095</th>\n",
       "      <td>2024-12-31</td>\n",
       "      <td>Workday</td>\n",
       "    </tr>\n",
       "  </tbody>\n",
       "</table>\n",
       "<p>1096 rows × 2 columns</p>\n",
       "</div>"
      ],
      "text/plain": [
       "            date           type\n",
       "0     2022-01-01  Not a Workday\n",
       "1     2022-01-02  Not a Workday\n",
       "2     2022-01-03        Workday\n",
       "3     2022-01-04        Workday\n",
       "4     2022-01-05        Workday\n",
       "...          ...            ...\n",
       "1091  2024-12-27        Workday\n",
       "1092  2024-12-28  Not a Workday\n",
       "1093  2024-12-29  Not a Workday\n",
       "1094  2024-12-30        Workday\n",
       "1095  2024-12-31        Workday\n",
       "\n",
       "[1096 rows x 2 columns]"
      ]
     },
     "execution_count": 35,
     "metadata": {},
     "output_type": "execute_result"
    }
   ],
   "source": [
    "# Convert string 'date' column to DATE type\n",
    "calender_df['date'] = pd.to_datetime(calender_df['date'], format='%Y-%m-%d').dt.date\n",
    "calender_df"
   ]
  },
  {
   "cell_type": "markdown",
   "metadata": {},
   "source": [
    "## <span style=\"color:#2656a3;\"> 📡 Connecting to Hopsworks Feature Store"
   ]
  },
  {
   "cell_type": "code",
   "execution_count": 19,
   "metadata": {},
   "outputs": [
    {
     "name": "stdout",
     "output_type": "stream",
     "text": [
      "Connected. Call `.close()` to terminate connection gracefully.\n"
     ]
    },
    {
     "name": "stderr",
     "output_type": "stream",
     "text": [
      "\n",
      "\n"
     ]
    },
    {
     "name": "stdout",
     "output_type": "stream",
     "text": [
      "\n",
      "Logged in to project, explore it here https://c.app.hopsworks.ai:443/p/550040\n",
      "Connected. Call `.close()` to terminate connection gracefully.\n"
     ]
    }
   ],
   "source": [
    "project = hopsworks.login()\n",
    "\n",
    "fs = project.get_feature_store()"
   ]
  },
  {
   "cell_type": "markdown",
   "metadata": {},
   "source": [
    "## <span style=\"color:#2656a3;\"> 🪄 Creating Feature Groups"
   ]
  },
  {
   "cell_type": "code",
   "execution_count": 20,
   "metadata": {},
   "outputs": [],
   "source": [
    "# Creating the feature group for the weater data\n",
    "weather_fg = fs.get_or_create_feature_group(\n",
    "    name=\"weather_measurements\",\n",
    "    version=1,\n",
    "    description=\"Weather measurements from Open Meteo API\",\n",
    "    primary_key=[\"date\"],\n",
    "    online_enabled=True,\n",
    "    event_time=\"time\",\n",
    ")"
   ]
  },
  {
   "cell_type": "code",
   "execution_count": 21,
   "metadata": {},
   "outputs": [
    {
     "ename": "RestAPIError",
     "evalue": "Metadata operation error: (url: https://c.app.hopsworks.ai/hopsworks-api/api/project/550040/featurestores/545863/featuregroups). Server response: \nHTTP code: 400, HTTP reason: Bad Request, body: b'{\"errorCode\":270171,\"usrMsg\":\", the provided event time feature `time` is of type `string` but can only be one of the following types: [TIMESTAMP, DATE, BIGINT].\",\"errorMsg\":\"Illegal event time feature type\"}', error code: 270171, error msg: Illegal event time feature type, user msg: , the provided event time feature `time` is of type `string` but can only be one of the following types: [TIMESTAMP, DATE, BIGINT].",
     "output_type": "error",
     "traceback": [
      "\u001b[0;31m---------------------------------------------------------------------------\u001b[0m",
      "\u001b[0;31mRestAPIError\u001b[0m                              Traceback (most recent call last)",
      "\u001b[1;32m/Users/camillahannesbo/Documents/AAU/Master - BDS/2. semester/Data Engineering and Machine learning operations in Business/MLOPs-Assignment-/1_feature_backfill.ipynb Cell 29\u001b[0m line \u001b[0;36m2\n\u001b[1;32m      <a href='vscode-notebook-cell:/Users/camillahannesbo/Documents/AAU/Master%20-%20BDS/2.%20semester/Data%20Engineering%20and%20Machine%20learning%20operations%20in%20Business/MLOPs-Assignment-/1_feature_backfill.ipynb#X66sZmlsZQ%3D%3D?line=0'>1</a>\u001b[0m \u001b[39m# Inserting the weather_df into the feature group named weather_fg\u001b[39;00m\n\u001b[0;32m----> <a href='vscode-notebook-cell:/Users/camillahannesbo/Documents/AAU/Master%20-%20BDS/2.%20semester/Data%20Engineering%20and%20Machine%20learning%20operations%20in%20Business/MLOPs-Assignment-/1_feature_backfill.ipynb#X66sZmlsZQ%3D%3D?line=1'>2</a>\u001b[0m weather_fg\u001b[39m.\u001b[39;49minsert(weather_df)\n",
      "File \u001b[0;32m/opt/anaconda3/envs/bds-mlops/lib/python3.11/site-packages/hsfs/feature_group.py:1984\u001b[0m, in \u001b[0;36mFeatureGroup.insert\u001b[0;34m(self, features, overwrite, operation, storage, write_options, validation_options, save_code, wait)\u001b[0m\n\u001b[1;32m   1981\u001b[0m \u001b[39mif\u001b[39;00m \u001b[39m\"\u001b[39m\u001b[39mwait_for_job\u001b[39m\u001b[39m\"\u001b[39m \u001b[39mnot\u001b[39;00m \u001b[39min\u001b[39;00m write_options:\n\u001b[1;32m   1982\u001b[0m     write_options[\u001b[39m\"\u001b[39m\u001b[39mwait_for_job\u001b[39m\u001b[39m\"\u001b[39m] \u001b[39m=\u001b[39m wait\n\u001b[0;32m-> 1984\u001b[0m job, ge_report \u001b[39m=\u001b[39m \u001b[39mself\u001b[39;49m\u001b[39m.\u001b[39;49m_feature_group_engine\u001b[39m.\u001b[39;49minsert(\n\u001b[1;32m   1985\u001b[0m     \u001b[39mself\u001b[39;49m,\n\u001b[1;32m   1986\u001b[0m     feature_dataframe\u001b[39m=\u001b[39;49mfeature_dataframe,\n\u001b[1;32m   1987\u001b[0m     overwrite\u001b[39m=\u001b[39;49moverwrite,\n\u001b[1;32m   1988\u001b[0m     operation\u001b[39m=\u001b[39;49moperation,\n\u001b[1;32m   1989\u001b[0m     storage\u001b[39m=\u001b[39;49mstorage\u001b[39m.\u001b[39;49mlower() \u001b[39mif\u001b[39;49;00m storage \u001b[39mis\u001b[39;49;00m \u001b[39mnot\u001b[39;49;00m \u001b[39mNone\u001b[39;49;00m \u001b[39melse\u001b[39;49;00m \u001b[39mNone\u001b[39;49;00m,\n\u001b[1;32m   1990\u001b[0m     write_options\u001b[39m=\u001b[39;49mwrite_options,\n\u001b[1;32m   1991\u001b[0m     validation_options\u001b[39m=\u001b[39;49m{\u001b[39m\"\u001b[39;49m\u001b[39msave_report\u001b[39;49m\u001b[39m\"\u001b[39;49m: \u001b[39mTrue\u001b[39;49;00m, \u001b[39m*\u001b[39;49m\u001b[39m*\u001b[39;49mvalidation_options},\n\u001b[1;32m   1992\u001b[0m )\n\u001b[1;32m   1993\u001b[0m \u001b[39mif\u001b[39;00m save_code \u001b[39mand\u001b[39;00m (\n\u001b[1;32m   1994\u001b[0m     ge_report \u001b[39mis\u001b[39;00m \u001b[39mNone\u001b[39;00m \u001b[39mor\u001b[39;00m ge_report\u001b[39m.\u001b[39mingestion_result \u001b[39m==\u001b[39m \u001b[39m\"\u001b[39m\u001b[39mINGESTED\u001b[39m\u001b[39m\"\u001b[39m\n\u001b[1;32m   1995\u001b[0m ):\n\u001b[1;32m   1996\u001b[0m     \u001b[39mself\u001b[39m\u001b[39m.\u001b[39m_code_engine\u001b[39m.\u001b[39msave_code(\u001b[39mself\u001b[39m)\n",
      "File \u001b[0;32m/opt/anaconda3/envs/bds-mlops/lib/python3.11/site-packages/hsfs/core/feature_group_engine.py:91\u001b[0m, in \u001b[0;36mFeatureGroupEngine.insert\u001b[0;34m(self, feature_group, feature_dataframe, overwrite, operation, storage, write_options, validation_options)\u001b[0m\n\u001b[1;32m     85\u001b[0m dataframe_features \u001b[39m=\u001b[39m engine\u001b[39m.\u001b[39mget_instance()\u001b[39m.\u001b[39mparse_schema_feature_group(\n\u001b[1;32m     86\u001b[0m     feature_dataframe, feature_group\u001b[39m.\u001b[39mtime_travel_format\n\u001b[1;32m     87\u001b[0m )\n\u001b[1;32m     89\u001b[0m \u001b[39mif\u001b[39;00m \u001b[39mnot\u001b[39;00m feature_group\u001b[39m.\u001b[39m_id:\n\u001b[1;32m     90\u001b[0m     \u001b[39m# only save metadata if feature group does not exist\u001b[39;00m\n\u001b[0;32m---> 91\u001b[0m     \u001b[39mself\u001b[39;49m\u001b[39m.\u001b[39;49msave_feature_group_metadata(\n\u001b[1;32m     92\u001b[0m         feature_group, dataframe_features, write_options\n\u001b[1;32m     93\u001b[0m     )\n\u001b[1;32m     94\u001b[0m \u001b[39melse\u001b[39;00m:\n\u001b[1;32m     95\u001b[0m     \u001b[39m# else, just verify that feature group schema matches user-provided dataframe\u001b[39;00m\n\u001b[1;32m     96\u001b[0m     \u001b[39mself\u001b[39m\u001b[39m.\u001b[39m_verify_schema_compatibility(\n\u001b[1;32m     97\u001b[0m         feature_group\u001b[39m.\u001b[39mfeatures, dataframe_features\n\u001b[1;32m     98\u001b[0m     )\n",
      "File \u001b[0;32m/opt/anaconda3/envs/bds-mlops/lib/python3.11/site-packages/hsfs/core/feature_group_engine.py:342\u001b[0m, in \u001b[0;36mFeatureGroupEngine.save_feature_group_metadata\u001b[0;34m(self, feature_group, dataframe_features, write_options)\u001b[0m\n\u001b[1;32m    329\u001b[0m     _write_options \u001b[39m=\u001b[39m (\n\u001b[1;32m    330\u001b[0m         [\n\u001b[1;32m    331\u001b[0m             {\u001b[39m\"\u001b[39m\u001b[39mname\u001b[39m\u001b[39m\"\u001b[39m: k, \u001b[39m\"\u001b[39m\u001b[39mvalue\u001b[39m\u001b[39m\"\u001b[39m: v}\n\u001b[0;32m   (...)\u001b[0m\n\u001b[1;32m    336\u001b[0m         \u001b[39melse\u001b[39;00m \u001b[39mNone\u001b[39;00m\n\u001b[1;32m    337\u001b[0m     )\n\u001b[1;32m    338\u001b[0m     feature_group\u001b[39m.\u001b[39m_deltastreamer_jobconf \u001b[39m=\u001b[39m DeltaStreamerJobConf(\n\u001b[1;32m    339\u001b[0m         _write_options, _spark_options\n\u001b[1;32m    340\u001b[0m     )\n\u001b[0;32m--> 342\u001b[0m \u001b[39mself\u001b[39;49m\u001b[39m.\u001b[39;49m_feature_group_api\u001b[39m.\u001b[39;49msave(feature_group)\n\u001b[1;32m    343\u001b[0m \u001b[39mprint\u001b[39m(\n\u001b[1;32m    344\u001b[0m     \u001b[39m\"\u001b[39m\u001b[39mFeature Group created successfully, explore it at \u001b[39m\u001b[39m\\n\u001b[39;00m\u001b[39m\"\u001b[39m\n\u001b[1;32m    345\u001b[0m     \u001b[39m+\u001b[39m \u001b[39mself\u001b[39m\u001b[39m.\u001b[39m_get_feature_group_url(feature_group)\n\u001b[1;32m    346\u001b[0m )\n",
      "File \u001b[0;32m/opt/anaconda3/envs/bds-mlops/lib/python3.11/site-packages/hsfs/core/feature_group_api.py:48\u001b[0m, in \u001b[0;36mFeatureGroupApi.save\u001b[0;34m(self, feature_group_instance)\u001b[0m\n\u001b[1;32m     39\u001b[0m path_params \u001b[39m=\u001b[39m [\n\u001b[1;32m     40\u001b[0m     \u001b[39m\"\u001b[39m\u001b[39mproject\u001b[39m\u001b[39m\"\u001b[39m,\n\u001b[1;32m     41\u001b[0m     _client\u001b[39m.\u001b[39m_project_id,\n\u001b[0;32m   (...)\u001b[0m\n\u001b[1;32m     44\u001b[0m     \u001b[39m\"\u001b[39m\u001b[39mfeaturegroups\u001b[39m\u001b[39m\"\u001b[39m,\n\u001b[1;32m     45\u001b[0m ]\n\u001b[1;32m     46\u001b[0m headers \u001b[39m=\u001b[39m {\u001b[39m\"\u001b[39m\u001b[39mcontent-type\u001b[39m\u001b[39m\"\u001b[39m: \u001b[39m\"\u001b[39m\u001b[39mapplication/json\u001b[39m\u001b[39m\"\u001b[39m}\n\u001b[1;32m     47\u001b[0m feature_group_object \u001b[39m=\u001b[39m feature_group_instance\u001b[39m.\u001b[39mupdate_from_response_json(\n\u001b[0;32m---> 48\u001b[0m     _client\u001b[39m.\u001b[39;49m_send_request(\n\u001b[1;32m     49\u001b[0m         \u001b[39m\"\u001b[39;49m\u001b[39mPOST\u001b[39;49m\u001b[39m\"\u001b[39;49m,\n\u001b[1;32m     50\u001b[0m         path_params,\n\u001b[1;32m     51\u001b[0m         headers\u001b[39m=\u001b[39;49mheaders,\n\u001b[1;32m     52\u001b[0m         data\u001b[39m=\u001b[39;49mfeature_group_instance\u001b[39m.\u001b[39;49mjson(),\n\u001b[1;32m     53\u001b[0m     ),\n\u001b[1;32m     54\u001b[0m )\n\u001b[1;32m     55\u001b[0m feature_group_object\u001b[39m.\u001b[39mfeature_store \u001b[39m=\u001b[39m feature_group_instance\u001b[39m.\u001b[39mfeature_store\n\u001b[1;32m     56\u001b[0m \u001b[39mreturn\u001b[39;00m feature_group_object\n",
      "File \u001b[0;32m/opt/anaconda3/envs/bds-mlops/lib/python3.11/site-packages/hsfs/decorators.py:35\u001b[0m, in \u001b[0;36mconnected.<locals>.if_connected\u001b[0;34m(inst, *args, **kwargs)\u001b[0m\n\u001b[1;32m     33\u001b[0m \u001b[39mif\u001b[39;00m \u001b[39mnot\u001b[39;00m inst\u001b[39m.\u001b[39m_connected:\n\u001b[1;32m     34\u001b[0m     \u001b[39mraise\u001b[39;00m NoHopsworksConnectionError\n\u001b[0;32m---> 35\u001b[0m \u001b[39mreturn\u001b[39;00m fn(inst, \u001b[39m*\u001b[39;49margs, \u001b[39m*\u001b[39;49m\u001b[39m*\u001b[39;49mkwargs)\n",
      "File \u001b[0;32m/opt/anaconda3/envs/bds-mlops/lib/python3.11/site-packages/hsfs/client/base.py:179\u001b[0m, in \u001b[0;36mClient._send_request\u001b[0;34m(self, method, path_params, query_params, headers, data, stream, files)\u001b[0m\n\u001b[1;32m    176\u001b[0m     response \u001b[39m=\u001b[39m \u001b[39mself\u001b[39m\u001b[39m.\u001b[39m_session\u001b[39m.\u001b[39msend(prepped, verify\u001b[39m=\u001b[39m\u001b[39mself\u001b[39m\u001b[39m.\u001b[39m_verify, stream\u001b[39m=\u001b[39mstream)\n\u001b[1;32m    178\u001b[0m \u001b[39mif\u001b[39;00m response\u001b[39m.\u001b[39mstatus_code \u001b[39m/\u001b[39m\u001b[39m/\u001b[39m \u001b[39m100\u001b[39m \u001b[39m!=\u001b[39m \u001b[39m2\u001b[39m:\n\u001b[0;32m--> 179\u001b[0m     \u001b[39mraise\u001b[39;00m exceptions\u001b[39m.\u001b[39mRestAPIError(url, response)\n\u001b[1;32m    181\u001b[0m \u001b[39mif\u001b[39;00m stream:\n\u001b[1;32m    182\u001b[0m     \u001b[39mreturn\u001b[39;00m response\n",
      "\u001b[0;31mRestAPIError\u001b[0m: Metadata operation error: (url: https://c.app.hopsworks.ai/hopsworks-api/api/project/550040/featurestores/545863/featuregroups). Server response: \nHTTP code: 400, HTTP reason: Bad Request, body: b'{\"errorCode\":270171,\"usrMsg\":\", the provided event time feature `time` is of type `string` but can only be one of the following types: [TIMESTAMP, DATE, BIGINT].\",\"errorMsg\":\"Illegal event time feature type\"}', error code: 270171, error msg: Illegal event time feature type, user msg: , the provided event time feature `time` is of type `string` but can only be one of the following types: [TIMESTAMP, DATE, BIGINT]."
     ]
    }
   ],
   "source": [
    "# Inserting the weather_df into the feature group named weather_fg\n",
    "weather_fg.insert(weather_df)"
   ]
  },
  {
   "cell_type": "code",
   "execution_count": null,
   "metadata": {},
   "outputs": [],
   "source": [
    "# Creating the feature group for the electricity prices\n",
    "electricity_fg = fs.get_or_create_feature_group(\n",
    "    name=\"electricity_prices\",\n",
    "    version=1,\n",
    "    description=\"Electricity prices from Energidata API\",\n",
    "    primary_key=[\"date\"],\n",
    "    online_enabled=True,\n",
    "    event_time=\"time\",\n",
    ")"
   ]
  },
  {
   "cell_type": "code",
   "execution_count": null,
   "metadata": {},
   "outputs": [],
   "source": [
    "# Inserting the electricity_df into the feature group named electricity_fg\n",
    "electricity_fg.insert(electricity_df)"
   ]
  },
  {
   "cell_type": "code",
   "execution_count": null,
   "metadata": {},
   "outputs": [],
   "source": [
    "danish_holidays_fg = fs.get_or_create_feature_group(\n",
    "    name=\"danish_holidays\",\n",
    "    version=1,\n",
    "    description=\"Danish holidays calendar.\",\n",
    "    online_enabled=True,\n",
    "    primary_key=[\"date\"],\n",
    ")"
   ]
  },
  {
   "cell_type": "code",
   "execution_count": null,
   "metadata": {},
   "outputs": [],
   "source": [
    "danish_holidays_fg.insert(calender_df)"
   ]
  },
  {
   "cell_type": "markdown",
   "metadata": {},
   "source": [
    "---\n",
    "## <span style=\"color:#2656a3;\">⏭️ **Next:** Part 02: Feature Pipeline </span>\n",
    "\n",
    "In the next notebook, you will be generating new data for the Feature Groups."
   ]
  }
 ],
 "metadata": {
  "kernelspec": {
   "display_name": "bds-streamlit",
   "language": "python",
   "name": "python3"
  },
  "language_info": {
   "codemirror_mode": {
    "name": "ipython",
    "version": 3
   },
   "file_extension": ".py",
   "mimetype": "text/x-python",
   "name": "python",
   "nbconvert_exporter": "python",
   "pygments_lexer": "ipython3",
   "version": "3.11.4"
  }
 },
 "nbformat": 4,
 "nbformat_minor": 2
}
